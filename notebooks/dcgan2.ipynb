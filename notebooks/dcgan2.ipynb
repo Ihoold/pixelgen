{
  "nbformat": 4,
  "nbformat_minor": 0,
  "metadata": {
    "colab": {
      "name": "funit.ipynb",
      "version": "0.3.2",
      "provenance": [],
      "include_colab_link": true
    },
    "kernelspec": {
      "name": "python3",
      "language": "python",
      "display_name": "Python 3"
    },
    "accelerator": "TPU",
    "pycharm": {
      "stem_cell": {
        "cell_type": "raw",
        "source": [],
        "metadata": {
          "collapsed": false
        }
      }
    }
  },
  "cells": [
    {
      "cell_type": "markdown",
      "metadata": {
        "id": "view-in-github",
        "colab_type": "text"
      },
      "source": [
        "<a href=\"https://colab.research.google.com/github/Ihoold/pixelgen/blob/master/notebooks/dcgan2.ipynb\" target=\"_parent\"><img src=\"https://colab.research.google.com/assets/colab-badge.svg\" alt=\"Open In Colab\"/></a>"
      ]
    },
    {
      "cell_type": "code",
      "metadata": {
        "id": "y-KtZcaWB02O",
        "colab_type": "code",
        "colab": {}
      },
      "source": [
        "import os\n",
        "import numpy as np\n",
        "import tensorflow as tf\n",
        "import json\n",
        "import matplotlib.pyplot as plt\n",
        "from tensorflow.python.estimator import estimator\n",
        "from google.colab import drive, auth"
      ],
      "execution_count": 0,
      "outputs": []
    },
    {
      "cell_type": "code",
      "metadata": {
        "id": "Mi4fxG6GVo7D",
        "colab_type": "code",
        "colab": {}
      },
      "source": [
        "R, C = 4, 3\n",
        "EXAMPLES = R * C\n",
        "    \n",
        "CHANNELS = 4\n",
        "LATENT_DIM = 128\n",
        "ADD_NOISE_TO_EXAMPLE = False\n",
        "\n",
        "DROPOUT_PROB = 0.5\n",
        "ALPHA = 0.2\n",
        "BATCH_SIZE = 1024\n",
        "EPOCHS = 20000\n",
        "EVAL_EPOCHS = 1000\n",
        "G_LR = 0.0002\n",
        "D_LR = 0.0001\n",
        "KERNEL_SIZE = 4\n",
        "\n",
        "MODEL_NAME = 'DCGAN'\n",
        "RUN_NAME = 'DCGAN_8'\n",
        "\n",
        "data_file = 'gs://tputestingmnist/datasets/characters_front.tfrecords'\n",
        "MODEL_DIR = 'gs://tputestingmnist/{}/{}/'.format(MODEL_NAME, RUN_NAME)\n",
        "GOOGLE_DRIVE_DIR = '/content/gdrive/My Drive/Programowanie/PixelGen/{}'.format(RUN_NAME)\n",
        "TF_MASTER = 'grpc://{}'.format(os.environ['COLAB_TPU_ADDR'])"
      ],
      "execution_count": 0,
      "outputs": []
    },
    {
      "cell_type": "code",
      "metadata": {
        "id": "CCzCaKLPB02f",
        "colab_type": "code",
        "colab": {}
      },
      "source": [
        "#################################### SETUP #####################################\n",
        "\n",
        "def setup():\n",
        "    drive.mount('/content/gdrive')\n",
        "    auth.authenticate_user()\n",
        "\n",
        "\n",
        "def upload_credentials():\n",
        "    # Upload credentials to TPU.\n",
        "    with tf.Session(TF_MASTER) as sess:    \n",
        "        with open('/content/adc.json', 'r') as f:\n",
        "            auth_info = json.load(f)\n",
        "        tf.contrib.cloud.configure_gcs(sess, credentials=auth_info)"
      ],
      "execution_count": 0,
      "outputs": []
    },
    {
      "cell_type": "code",
      "metadata": {
        "id": "r2ycJsJCB02o",
        "colab_type": "code",
        "colab": {}
      },
      "source": [
        "################################# DATA INPUT ###################################\n",
        "\n",
        "def parser(serialized_example):\n",
        "        \"\"\"Parses a single example into image and label tensors.\"\"\"\n",
        "        features = tf.parse_single_example(\n",
        "            serialized_example,\n",
        "            features={\n",
        "                'image_raw': tf.FixedLenFeature([], tf.string),\n",
        "                'label': tf.FixedLenFeature([], tf.int64) \n",
        "            })\n",
        "\n",
        "        image = tf.decode_raw(features['image_raw'], tf.uint8)\n",
        "        image.set_shape([48 * 48 * 4])\n",
        "        image = tf.reshape(image, [48, 48, 4])[:,:,:CHANNELS]\n",
        "        # Normalize the values of the image from [0, 255] to [-1.0, 1.0]\n",
        "        image = tf.cast(image, dtype=tf.float32) / 127.5 - 1\n",
        "        return image\n",
        "\n",
        "    \n",
        "def make_input_fn(is_training=True):\n",
        "    def input_fn(params):\n",
        "        batch_size = params['batch_size']\n",
        "        dataset = tf.data.TFRecordDataset(data_file, buffer_size=8*1024*1024)\n",
        "        dataset = dataset.map(parser).cache().shuffle(batch_size)\n",
        "        if is_training:\n",
        "            dataset = dataset.repeat()\n",
        "            \n",
        "        images = dataset.batch(batch_size, drop_remainder=True).prefetch(8).make_one_shot_iterator().get_next()\n",
        "\n",
        "        if ADD_NOISE_TO_EXAMPLE:\n",
        "            images += tf.random_normal(shape=tf.shape(images), mean=0.0, stddev=0.1, dtype=tf.float32)\n",
        "\n",
        "        features = {\n",
        "            'images': images,\n",
        "            'noise': tf.random_uniform([params['batch_size'], LATENT_DIM], -1, 1, dtype=tf.float32)\n",
        "        }\n",
        "        return features, None\n",
        "    return input_fn\n",
        "\n",
        "\n",
        "def noise_input_fn(params):  \n",
        "    noise_dataset = tf.data.Dataset.from_tensors(tf.constant(np.random.uniform(-1, 1, (params['batch_size'], LATENT_DIM)), dtype=tf.float32))\n",
        "    return {'noise': noise_dataset.make_one_shot_iterator().get_next()}, None"
      ],
      "execution_count": 0,
      "outputs": []
    },
    {
      "cell_type": "code",
      "metadata": {
        "id": "P6i0DewZB02v",
        "colab_type": "code",
        "colab": {}
      },
      "source": [
        "############################### DATA SAVEING ###################################\n",
        " \n",
        "def images_to_zero_one(images):\n",
        "        return np.clip(np.array(images) * 0.5 + 0.5, 0., 1.)\n",
        "\n",
        "\n",
        "def save_imgs(epoch, images):\n",
        "    if not os.path.exists(GOOGLE_DRIVE_DIR):\n",
        "        os.mkdir(GOOGLE_DRIVE_DIR)\n",
        "\n",
        "    # Rescale images to 0 - 1\n",
        "    images = images_to_zero_one(images)\n",
        "    fig, axs = plt.subplots(R, C, figsize=(20,20))\n",
        "\n",
        "    for i in range(R):\n",
        "        for j in range(C):\n",
        "            axs[i,j].imshow(images[C*i + j])\n",
        "            axs[i,j].axis('off')\n",
        "\n",
        "    fig.savefig(os.path.join(GOOGLE_DRIVE_DIR, '{}.png'.format(epoch)))\n",
        "    plt.close()"
      ],
      "execution_count": 0,
      "outputs": []
    },
    {
      "cell_type": "code",
      "metadata": {
        "id": "khVvoOzKB024",
        "colab_type": "code",
        "colab": {}
      },
      "source": [
        "################################## MODEL #######################################\n",
        "\n",
        "def _relu(x):\n",
        "    return tf.nn.relu(x)\n",
        "\n",
        "\n",
        "def _leaky_relu(x):\n",
        "    return tf.nn.leaky_relu(x, alpha=ALPHA)\n",
        "\n",
        "\n",
        "def _get_batch_norm(is_training, name):\n",
        "    def batch_norm(x):\n",
        "        return tf.layers.batch_normalization(x, momentum=0.8, epsilon=1e-5, \n",
        "                                             training=is_training, name=name)\n",
        "    return batch_norm\n",
        "\n",
        "\n",
        "def _dense(x, neurons, name, activation=None):\n",
        "    return tf.layers.dense(x, neurons, name=name, activation=activation,\n",
        "                           kernel_initializer=tf.truncated_normal_initializer(stddev=0.02))\n",
        "\n",
        "\n",
        "def _conv2d(x, filters, kernel_size, stride, name, activation=None):\n",
        "    return tf.layers.conv2d(x, filters, [kernel_size, kernel_size], \n",
        "                            strides=[stride, stride], activation=activation,\n",
        "                            padding='same', name=name,\n",
        "                            kernel_initializer=tf.truncated_normal_initializer(stddev=0.02))\n",
        "\n",
        "def _pooling(x, kernel, stride, index):\n",
        "    return tf.layers.average_pooling2d(x, pool_size=kernel, strides=stride, name='pool_{}'.format(index))\n",
        "\n",
        "def _deconv2d(x, filters, stride, name, activation=None):\n",
        "    return tf.layers.conv2d_transpose(x, filters, [KERNEL_SIZE, KERNEL_SIZE],\n",
        "                                      strides=[stride, stride], activation=activation,\n",
        "                                      padding='same', name=name,\n",
        "                                      kernel_initializer=tf.truncated_normal_initializer(stddev=0.02))\n",
        "\n",
        "\n",
        "def convolution_block(x, filters, kernel_size, resize_factor, index, activation=_leaky_relu, activation_first=False, normalization=None):\n",
        "    if activation and activation_first:\n",
        "        x = activation(x)\n",
        "    x = _conv2d(x, kernel_size=kernel_size, filters=filters, stride=resize_factor, activation=None, name='conv_{}'.format(index))\n",
        "    if normalization:\n",
        "        x = normalization(x)\n",
        "    if activation and not activation_first:\n",
        "        x = activation(x)\n",
        "    return x\n",
        "\n",
        "\n",
        "def deconvolution_block(x, filters, resize_factor, index, activation=_relu, normalization=None):\n",
        "    x = _deconv2d(x, filters=filters, stride=resize_factor, activation=None, name='deconv_{}'.format(index))\n",
        "    if normalization:\n",
        "        x = normalization(x)\n",
        "    if activation:\n",
        "        x = activation(x)\n",
        "    return x\n",
        "\n",
        "\n",
        "class Funit:\n",
        "\n",
        "    @staticmethod\n",
        "    def discriminator(x, is_training=False, scope='Discriminator'):\n",
        "        with tf.variable_scope(scope, reuse=tf.AUTO_REUSE):\n",
        "            x = convolution_block(x, 64, kernel_size=KERNEL_SIZE, resize_factor=2, index='disc_11')\n",
        "            x = convolution_block(x, 128, kernel_size=KERNEL_SIZE, resize_factor=2, normalization=_get_batch_norm(is_training, 'bn11'), index='disc_12')\n",
        "            x = convolution_block(x, 256, kernel_size=KERNEL_SIZE, resize_factor=2, normalization=_get_batch_norm(is_training, 'bn12'), index='disc_13')\n",
        "            x = convolution_block(x, 512, kernel_size=KERNEL_SIZE, resize_factor=2, normalization=_get_batch_norm(is_training, 'bn13'), index='disc_14')\n",
        "            \n",
        "            output = convolution_block(x, 1, kernel_size=3, resize_factor=3, index='disc_out')\n",
        "            return output, x\n",
        "          \n",
        "    @staticmethod\n",
        "    def generator(latent_code, is_training=False, scope='Generator'):\n",
        "        with tf.variable_scope(scope, reuse=tf.AUTO_REUSE):\n",
        "            x = _dense(latent_code, 1024 * 3 * 3, activation=tf.nn.relu, name='g_dense')\n",
        "            x = tf.reshape(x, [-1, 3, 3, 1024])\n",
        "            \n",
        "            x = deconvolution_block(x, 512, 2, index='gen_11', normalization=_get_batch_norm(is_training, 'bn21'))\n",
        "            x = deconvolution_block(x, 256, 2, index='gen_12', normalization=_get_batch_norm(is_training, 'bn22'))\n",
        "            x = deconvolution_block(x, 128, 2, index='gen_13', normalization=_get_batch_norm(is_training, 'bn23'))\n",
        "            x = deconvolution_block(x, CHANNELS, 2, index='gen_14', activation=tf.tanh)\n",
        "\n",
        "            return x"
      ],
      "execution_count": 0,
      "outputs": []
    },
    {
      "cell_type": "code",
      "metadata": {
        "id": "tSBN3P9whXDn",
        "colab_type": "code",
        "colab": {}
      },
      "source": [
        "# It's not exactly the norm, but taking mean instead of sum makes the losses more comparable\n",
        "def l1_norm(x):\n",
        "    return tf.reduce_mean(tf.math.abs(x), axis=[1,2,3])\n",
        "\n",
        "\n",
        "def pgd(model, x, y, labels, index, epsilon=0.1, alpha=0.015, num_iter=10):\n",
        "    with tf.variable_scope('pgd_{}'.format(index)):\n",
        "        delta = tf.zeros_like(x, dtype=tf.float32)\n",
        "\n",
        "        false_condition = lambda d: False\n",
        "        def body(delta):\n",
        "            pred, _ = model(x + delta, labels)\n",
        "            loss = tf.losses.sigmoid_cross_entropy(y, pred)\n",
        "\n",
        "            optimizer = tf.train.GradientDescentOptimizer(learning_rate=None)\n",
        "            gradients = optimizer.compute_gradients(loss, [delta])\n",
        "            delta_grad = gradients[0][0]\n",
        "\n",
        "            delta = tf.clip_by_value(delta + tf.math.sign(delta_grad) * alpha, -epsilon, epsilon)\n",
        "            return delta\n",
        "        \n",
        "        return x + tf.while_loop(false_condition, body, (delta,), maximum_iterations=num_iter)"
      ],
      "execution_count": 0,
      "outputs": []
    },
    {
      "cell_type": "code",
      "metadata": {
        "id": "Gcr7UF8SB029",
        "colab_type": "code",
        "colab": {}
      },
      "source": [
        "################################ MODEL FUN #####################################\n",
        "def make_model_fn(model):\n",
        "\n",
        "    def model_fn(features, labels, mode, params):\n",
        "        is_training = (mode == tf.estimator.ModeKeys.TRAIN)\n",
        "        \n",
        "        with tf.variable_scope('inputs'):\n",
        "            noise = features['noise']\n",
        "            \n",
        "        generated_images = model.generator(noise, is_training)\n",
        "        \n",
        "        # PREDICT #\n",
        "        if mode == tf.estimator.ModeKeys.PREDICT:\n",
        "            predictions = {'generated_images': generated_images}\n",
        "            return tf.contrib.tpu.TPUEstimatorSpec(mode=mode, predictions=predictions)\n",
        "        \n",
        "        with tf.variable_scope('inputs'):\n",
        "            images = features['images']\n",
        "        \n",
        "        # Labels\n",
        "        d_on_data_labels = tf.ones([images.shape[0]])\n",
        "        d_on_g_labels = tf.zeros([images.shape[0]])\n",
        "        \n",
        "#         # Attacks\n",
        "#         attacked_style_images = pgd(model.discriminator, style_images, d_on_data_labels, labels, 1)\n",
        "#         attacked_generated_images = pgd(model.discriminator, generated_images, d_on_g_labels, labels, 2)\n",
        "        \n",
        "        # Discriminator loss\n",
        "        d_on_data_results, d_on_data_features = model.discriminator(images, is_training)\n",
        "        d_on_data_logits = tf.squeeze(d_on_data_results)\n",
        "       \n",
        "        d_on_g_results, d_on_g_features = model.discriminator(generated_images, is_training)\n",
        "        d_on_g_logits = tf.squeeze(d_on_g_results)\n",
        "        \n",
        "        with tf.variable_scope('losses'):\n",
        "            d_loss = tf.contrib.gan.losses.wargs.modified_discriminator_loss(\n",
        "                discriminator_real_outputs=d_on_data_logits,\n",
        "                discriminator_gen_outputs=d_on_g_logits,\n",
        "                label_smoothing=0.2,\n",
        "                reduction=tf.losses.Reduction.NONE,\n",
        "            )\n",
        "            d_loss_reduced = tf.reduce_mean(d_loss)\n",
        "\n",
        "            # Generator loss\n",
        "            g_loss = tf.contrib.gan.losses.wargs.modified_generator_loss(\n",
        "                discriminator_gen_outputs=d_on_g_logits,\n",
        "                reduction=tf.losses.Reduction.NONE\n",
        "            )\n",
        "#             g_loss_feature_matching = l1_norm(d_on_g_features - d_on_data_features)\n",
        "            g_loss_reduced = tf.reduce_mean(g_loss)\n",
        "            \n",
        "        # TRAIN #\n",
        "        if mode == tf.estimator.ModeKeys.TRAIN:\n",
        "            \n",
        "            with tf.variable_scope('optimizer'):\n",
        "                d_optimizer = tf.train.AdamOptimizer(learning_rate=D_LR, beta1=0.5)\n",
        "                d_optimizer = tf.contrib.tpu.CrossShardOptimizer(d_optimizer)\n",
        "            \n",
        "                g_optimizer = tf.train.AdamOptimizer(learning_rate=G_LR, beta1=0.5)\n",
        "                g_optimizer = tf.contrib.tpu.CrossShardOptimizer(g_optimizer)\n",
        "         \n",
        "                with tf.control_dependencies(tf.get_collection(tf.GraphKeys.UPDATE_OPS)):\n",
        "                    d_step = d_optimizer.minimize(d_loss_reduced, var_list=tf.get_collection(tf.GraphKeys.GLOBAL_VARIABLES,\n",
        "                                                                                     scope='Discriminator'))\n",
        "                    g_step = g_optimizer.minimize(g_loss_reduced, var_list=tf.get_collection(tf.GraphKeys.GLOBAL_VARIABLES,\n",
        "                                                                                     scope='Generator'))\n",
        "                    increment_step = tf.assign_add(tf.train.get_or_create_global_step(), 1)\n",
        "                    joint_op = tf.group([d_step, g_step, increment_step])\n",
        "\n",
        "                    a = tf.contrib.tpu.TPUEstimatorSpec(mode=mode, loss=d_loss_reduced+g_loss_reduced, train_op=joint_op)\n",
        "                    return a\n",
        "\n",
        "        # EVAL #\n",
        "        elif mode == tf.estimator.ModeKeys.EVAL:\n",
        "            def _eval_metric_fn(d_loss, g_loss_1, d_real_labels, d_gen_lanels, d_real_logits, d_gen_logits):\n",
        "                return {\n",
        "                    'discriminator_loss': tf.metrics.mean(d_loss),\n",
        "                    'generator_loss': tf.metrics.mean(g_loss_1),\n",
        "#                     'generator_loss_match': tf.metrics.mean(g_loss_2),\n",
        "                    'discriminator_real_accuracy': tf.metrics.accuracy(labels=d_real_labels, predictions=tf.math.round(tf.sigmoid(d_real_logits))),\n",
        "                    'discriminator_gen_accuracy': tf.metrics.accuracy(labels=d_gen_lanels, predictions=tf.math.round(tf.sigmoid(d_gen_logits))),\n",
        "                }\n",
        "\n",
        "            return tf.contrib.tpu.TPUEstimatorSpec(mode=mode, loss=d_loss_reduced + g_loss_reduced,\n",
        "                                                   eval_metrics=(_eval_metric_fn, [d_loss, g_loss, # g_loss_feature_matching,\n",
        "                                                                                   d_on_data_labels, d_on_g_labels,\n",
        "                                                                                   d_on_data_logits, d_on_g_logits]))\n",
        "    return model_fn"
      ],
      "execution_count": 0,
      "outputs": []
    },
    {
      "cell_type": "code",
      "metadata": {
        "id": "-5rb586jB03F",
        "colab_type": "code",
        "colab": {}
      },
      "source": [
        "################################ ESTIMATORS ####################################\n",
        "\n",
        "def make_estimators(model, only_cpu=False):\n",
        "    model_fn = make_model_fn(model)\n",
        "    \n",
        "    config = tf.contrib.tpu.RunConfig(\n",
        "        master=TF_MASTER,\n",
        "        save_checkpoints_steps=EVAL_EPOCHS,\n",
        "        save_checkpoints_secs=None,\n",
        "        save_summary_steps=EVAL_EPOCHS,\n",
        "        model_dir=MODEL_DIR,\n",
        "        keep_checkpoint_max=3,\n",
        "        tpu_config=tf.contrib.tpu.TPUConfig(iterations_per_loop=EVAL_EPOCHS))\n",
        "\n",
        "    if not only_cpu:\n",
        "        # TPU-based estimator used for TRAIN and EVAL\n",
        "        est = tf.contrib.tpu.TPUEstimator(\n",
        "            model_fn=model_fn,\n",
        "            use_tpu=True,\n",
        "            config=config,\n",
        "            train_batch_size=BATCH_SIZE,\n",
        "            eval_batch_size=BATCH_SIZE)\n",
        "    else:\n",
        "        est = None\n",
        "\n",
        "    # CPU-based estimator used for PREDICT (generating images)\n",
        "    cpu_est = tf.contrib.tpu.TPUEstimator(\n",
        "        model_fn=model_fn,\n",
        "        use_tpu=False,\n",
        "        config=config,\n",
        "        predict_batch_size=EXAMPLES)\n",
        "    \n",
        "    return est, cpu_est"
      ],
      "execution_count": 0,
      "outputs": []
    },
    {
      "cell_type": "code",
      "metadata": {
        "id": "7nIuQqdWB03O",
        "colab_type": "code",
        "colab": {}
      },
      "source": [
        "################################# TRAINING #####################################\n",
        "\n",
        "def train(est, cpu_est):\n",
        "    current_step = estimator._load_global_step_from_checkpoint_dir(MODEL_DIR)\n",
        "    print('Starting training')\n",
        "\n",
        "    while current_step < EPOCHS:\n",
        "        next_checkpoint = int(min(current_step + EVAL_EPOCHS, EPOCHS))\n",
        "        est.train(input_fn=make_input_fn(), max_steps=next_checkpoint)\n",
        "        current_step = next_checkpoint\n",
        "        print('Finished training step %d' % current_step)\n",
        "\n",
        "        # Evaluation\n",
        "        metrics = est.evaluate(input_fn=make_input_fn(False), steps=1)\n",
        "        print('Finished evaluating')\n",
        "        print(metrics)\n",
        "\n",
        "        # Render some generated images\n",
        "        generated_iter = cpu_est.predict(input_fn=noise_input_fn)\n",
        "        images = [p['generated_images'] for p in generated_iter]\n",
        "        save_imgs(str(current_step), images)\n",
        "        print('Finished generating images')"
      ],
      "execution_count": 0,
      "outputs": []
    },
    {
      "cell_type": "code",
      "metadata": {
        "id": "STjYktznB03T",
        "colab_type": "code",
        "colab": {}
      },
      "source": [
        "def do_experiment():\n",
        "    setup()\n",
        "    upload_credentials()\n",
        "    model = Funit()\n",
        "    est, cpu_est = make_estimators(model)\n",
        "    train(est, cpu_est)"
      ],
      "execution_count": 0,
      "outputs": []
    },
    {
      "cell_type": "code",
      "metadata": {
        "id": "3eImay3kpN2C",
        "colab_type": "code",
        "outputId": "6370404c-74b6-4a1c-f658-3f18e1a292d5",
        "colab": {
          "base_uri": "https://localhost:8080/",
          "height": 1000
        }
      },
      "source": [
        "tf.logging.set_verbosity(tf.logging.INFO)\n",
        "\n",
        "try:\n",
        "    do_experiment()\n",
        "except Exception as e:\n",
        "    print (e)\n",
        "    pass"
      ],
      "execution_count": 108,
      "outputs": [
        {
          "output_type": "stream",
          "text": [
            "Drive already mounted at /content/gdrive; to attempt to forcibly remount, call drive.mount(\"/content/gdrive\", force_remount=True).\n"
          ],
          "name": "stdout"
        },
        {
          "output_type": "stream",
          "text": [
            "W0828 11:40:53.139377 140405899437952 estimator.py:1984] Estimator's model_fn (<function make_model_fn.<locals>.model_fn at 0x7fb29278b730>) includes params argument, but params are not passed to Estimator.\n",
            "I0828 11:40:53.141005 140405899437952 estimator.py:209] Using config: {'_model_dir': 'gs://tputestingmnist/DCGAN/DCGAN_8/', '_tf_random_seed': None, '_save_summary_steps': 1000, '_save_checkpoints_steps': 1000, '_save_checkpoints_secs': None, '_session_config': allow_soft_placement: true\n",
            "graph_options {\n",
            "  rewrite_options {\n",
            "    meta_optimizer_iterations: ONE\n",
            "  }\n",
            "}\n",
            ", '_keep_checkpoint_max': 3, '_keep_checkpoint_every_n_hours': 10000, '_log_step_count_steps': None, '_train_distribute': None, '_device_fn': None, '_protocol': None, '_eval_distribute': None, '_experimental_distribute': None, '_experimental_max_worker_delay_secs': None, '_service': None, '_cluster_spec': <tensorflow.python.training.server_lib.ClusterSpec object at 0x7fb2840a1da0>, '_task_type': 'worker', '_task_id': 0, '_global_id_in_cluster': 0, '_master': 'grpc://10.16.148.170:8470', '_evaluation_master': 'grpc://10.16.148.170:8470', '_is_chief': True, '_num_ps_replicas': 0, '_num_worker_replicas': 1, '_tpu_config': TPUConfig(iterations_per_loop=1000, num_shards=None, num_cores_per_replica=None, per_host_input_for_training=2, tpu_job_name=None, initial_infeed_sleep_secs=None, input_partition_dims=None, eval_training_input_configuration=2), '_cluster': None}\n",
            "I0828 11:40:53.142059 140405899437952 tpu_context.py:209] _TPUContext: eval_on_tpu True\n",
            "W0828 11:40:53.143263 140405899437952 estimator.py:1984] Estimator's model_fn (<function make_model_fn.<locals>.model_fn at 0x7fb29278b730>) includes params argument, but params are not passed to Estimator.\n",
            "I0828 11:40:53.144974 140405899437952 estimator.py:209] Using config: {'_model_dir': 'gs://tputestingmnist/DCGAN/DCGAN_8/', '_tf_random_seed': None, '_save_summary_steps': 1000, '_save_checkpoints_steps': 1000, '_save_checkpoints_secs': None, '_session_config': allow_soft_placement: true\n",
            "graph_options {\n",
            "  rewrite_options {\n",
            "    meta_optimizer_iterations: ONE\n",
            "  }\n",
            "}\n",
            ", '_keep_checkpoint_max': 3, '_keep_checkpoint_every_n_hours': 10000, '_log_step_count_steps': None, '_train_distribute': None, '_device_fn': None, '_protocol': None, '_eval_distribute': None, '_experimental_distribute': None, '_experimental_max_worker_delay_secs': None, '_service': None, '_cluster_spec': <tensorflow.python.training.server_lib.ClusterSpec object at 0x7fb2840a1358>, '_task_type': 'worker', '_task_id': 0, '_global_id_in_cluster': 0, '_master': 'grpc://10.16.148.170:8470', '_evaluation_master': 'grpc://10.16.148.170:8470', '_is_chief': True, '_num_ps_replicas': 0, '_num_worker_replicas': 1, '_tpu_config': TPUConfig(iterations_per_loop=1000, num_shards=None, num_cores_per_replica=None, per_host_input_for_training=2, tpu_job_name=None, initial_infeed_sleep_secs=None, input_partition_dims=None, eval_training_input_configuration=2), '_cluster': None}\n",
            "I0828 11:40:53.146140 140405899437952 tpu_context.py:209] _TPUContext: eval_on_tpu True\n",
            "W0828 11:40:53.147234 140405899437952 tpu_context.py:211] eval_on_tpu ignored because use_tpu is False.\n"
          ],
          "name": "stderr"
        },
        {
          "output_type": "stream",
          "text": [
            "Starting training\n"
          ],
          "name": "stdout"
        },
        {
          "output_type": "stream",
          "text": [
            "I0828 11:40:54.248059 140405899437952 tpu_system_metadata.py:78] Querying Tensorflow master (grpc://10.16.148.170:8470) for TPU system metadata.\n",
            "I0828 11:40:54.256122 140405899437952 tpu_system_metadata.py:148] Found TPU system:\n",
            "I0828 11:40:54.257512 140405899437952 tpu_system_metadata.py:149] *** Num TPU Cores: 8\n",
            "I0828 11:40:54.258492 140405899437952 tpu_system_metadata.py:150] *** Num TPU Workers: 1\n",
            "I0828 11:40:54.260304 140405899437952 tpu_system_metadata.py:152] *** Num TPU Cores Per Worker: 8\n",
            "I0828 11:40:54.261558 140405899437952 tpu_system_metadata.py:154] *** Available Device: _DeviceAttributes(/job:tpu_worker/replica:0/task:0/device:CPU:0, CPU, -1, 4189053909803745457)\n",
            "I0828 11:40:54.262272 140405899437952 tpu_system_metadata.py:154] *** Available Device: _DeviceAttributes(/job:tpu_worker/replica:0/task:0/device:TPU:0, TPU, 17179869184, 7024436445164685124)\n",
            "I0828 11:40:54.263019 140405899437952 tpu_system_metadata.py:154] *** Available Device: _DeviceAttributes(/job:tpu_worker/replica:0/task:0/device:TPU:1, TPU, 17179869184, 2195271776117146102)\n",
            "I0828 11:40:54.263741 140405899437952 tpu_system_metadata.py:154] *** Available Device: _DeviceAttributes(/job:tpu_worker/replica:0/task:0/device:TPU:2, TPU, 17179869184, 520250747454904863)\n",
            "I0828 11:40:54.264454 140405899437952 tpu_system_metadata.py:154] *** Available Device: _DeviceAttributes(/job:tpu_worker/replica:0/task:0/device:TPU:3, TPU, 17179869184, 1482693680714243120)\n",
            "I0828 11:40:54.265071 140405899437952 tpu_system_metadata.py:154] *** Available Device: _DeviceAttributes(/job:tpu_worker/replica:0/task:0/device:TPU:4, TPU, 17179869184, 9893559089274146417)\n",
            "I0828 11:40:54.265788 140405899437952 tpu_system_metadata.py:154] *** Available Device: _DeviceAttributes(/job:tpu_worker/replica:0/task:0/device:TPU:5, TPU, 17179869184, 3970611742891311490)\n",
            "I0828 11:40:54.266586 140405899437952 tpu_system_metadata.py:154] *** Available Device: _DeviceAttributes(/job:tpu_worker/replica:0/task:0/device:TPU:6, TPU, 17179869184, 15795394217451508160)\n",
            "I0828 11:40:54.267629 140405899437952 tpu_system_metadata.py:154] *** Available Device: _DeviceAttributes(/job:tpu_worker/replica:0/task:0/device:TPU:7, TPU, 17179869184, 14092743188115759778)\n",
            "I0828 11:40:54.268877 140405899437952 tpu_system_metadata.py:154] *** Available Device: _DeviceAttributes(/job:tpu_worker/replica:0/task:0/device:TPU_SYSTEM:0, TPU_SYSTEM, 8589934592, 2613198906975597982)\n",
            "I0828 11:40:54.269729 140405899437952 tpu_system_metadata.py:154] *** Available Device: _DeviceAttributes(/job:tpu_worker/replica:0/task:0/device:XLA_CPU:0, XLA_CPU, 17179869184, 17434479439999029922)\n",
            "I0828 11:40:54.304527 140405899437952 estimator.py:1145] Calling model_fn.\n",
            "I0828 11:40:57.782977 140405899437952 basic_session_run_hooks.py:541] Create CheckpointSaverHook.\n",
            "I0828 11:40:57.854041 140405899437952 estimator.py:1147] Done calling model_fn.\n",
            "I0828 11:40:57.855667 140405899437952 tpu_estimator.py:499] TPU job name tpu_worker\n",
            "I0828 11:40:58.379747 140405899437952 monitored_session.py:240] Graph was finalized.\n",
            "I0828 11:40:58.490532 140405899437952 saver.py:1280] Restoring parameters from gs://tputestingmnist/DCGAN/DCGAN_8/model.ckpt-1000\n",
            "I0828 11:40:59.602490 140405899437952 session_manager.py:500] Running local_init_op.\n",
            "I0828 11:40:59.734296 140405899437952 session_manager.py:502] Done running local_init_op.\n",
            "I0828 11:41:02.228100 140405899437952 basic_session_run_hooks.py:606] Saving checkpoints for 1000 into gs://tputestingmnist/DCGAN/DCGAN_8/model.ckpt.\n",
            "I0828 11:41:09.376925 140405899437952 util.py:98] Initialized dataset iterators in 0 seconds\n",
            "I0828 11:41:09.379263 140405899437952 session_support.py:332] Installing graceful shutdown hook.\n",
            "I0828 11:41:09.395122 140405899437952 session_support.py:82] Creating heartbeat manager for ['/job:tpu_worker/replica:0/task:0/device:CPU:0']\n",
            "I0828 11:41:09.402485 140405899437952 session_support.py:105] Configuring worker heartbeat: shutdown_mode: WAIT_FOR_COORDINATOR\n",
            "\n",
            "I0828 11:41:09.409844 140405899437952 tpu_estimator.py:557] Init TPU system\n",
            "I0828 11:41:16.954978 140405899437952 tpu_estimator.py:566] Initialized TPU in 7 seconds\n",
            "I0828 11:41:16.956771 140404590950144 tpu_estimator.py:514] Starting infeed thread controller.\n",
            "I0828 11:41:16.960383 140404582557440 tpu_estimator.py:533] Starting outfeed thread controller.\n",
            "I0828 11:41:17.084784 140405899437952 tpu_estimator.py:590] Enqueue next (1000) batch(es) of data to infeed.\n",
            "I0828 11:41:17.086015 140405899437952 tpu_estimator.py:594] Dequeue next (1000) batch(es) of data from outfeed.\n",
            "I0828 11:41:23.599388 140404582557440 tpu_estimator.py:275] Outfeed finished for iteration (0, 0)\n",
            "I0828 11:41:44.548368 140405899437952 basic_session_run_hooks.py:606] Saving checkpoints for 2000 into gs://tputestingmnist/DCGAN/DCGAN_8/model.ckpt.\n",
            "I0828 11:41:51.517122 140405899437952 basic_session_run_hooks.py:262] loss = 1.8757501, step = 2000\n",
            "I0828 11:41:51.874781 140405899437952 tpu_estimator.py:598] Stop infeed thread controller\n",
            "I0828 11:41:51.879338 140405899437952 tpu_estimator.py:430] Shutting down InfeedController thread.\n",
            "I0828 11:41:51.881584 140404590950144 tpu_estimator.py:425] InfeedController received shutdown signal, stopping.\n",
            "I0828 11:41:51.882436 140404590950144 tpu_estimator.py:530] Infeed thread finished, shutting down.\n",
            "I0828 11:41:51.884594 140405899437952 error_handling.py:96] infeed marked as finished\n",
            "I0828 11:41:51.886229 140405899437952 tpu_estimator.py:602] Stop output thread controller\n",
            "I0828 11:41:51.890665 140405899437952 tpu_estimator.py:430] Shutting down OutfeedController thread.\n",
            "I0828 11:41:51.892439 140404582557440 tpu_estimator.py:425] OutfeedController received shutdown signal, stopping.\n",
            "I0828 11:41:51.893470 140404582557440 tpu_estimator.py:541] Outfeed thread finished, shutting down.\n",
            "I0828 11:41:51.895048 140405899437952 error_handling.py:96] outfeed marked as finished\n",
            "I0828 11:41:51.896472 140405899437952 tpu_estimator.py:606] Shutdown TPU system.\n",
            "I0828 11:41:52.706690 140405899437952 estimator.py:368] Loss for final step: 1.8757501.\n",
            "I0828 11:41:52.707941 140405899437952 error_handling.py:96] training_loop marked as finished\n",
            "I0828 11:41:52.883348 140405899437952 estimator.py:1145] Calling model_fn.\n"
          ],
          "name": "stderr"
        },
        {
          "output_type": "stream",
          "text": [
            "Finished training step 2000\n"
          ],
          "name": "stdout"
        },
        {
          "output_type": "stream",
          "text": [
            "I0828 11:41:54.769303 140405899437952 estimator.py:1147] Done calling model_fn.\n",
            "I0828 11:41:54.793628 140405899437952 evaluation.py:255] Starting evaluation at 2019-08-28T11:41:54Z\n",
            "I0828 11:41:54.794967 140405899437952 tpu_estimator.py:499] TPU job name tpu_worker\n",
            "I0828 11:41:54.978973 140405899437952 monitored_session.py:240] Graph was finalized.\n",
            "I0828 11:41:55.024134 140405899437952 saver.py:1280] Restoring parameters from gs://tputestingmnist/DCGAN/DCGAN_8/model.ckpt-2000\n",
            "I0828 11:41:57.442760 140405899437952 session_manager.py:500] Running local_init_op.\n",
            "I0828 11:41:57.497333 140405899437952 session_manager.py:502] Done running local_init_op.\n",
            "I0828 11:41:57.583319 140405899437952 tpu_estimator.py:557] Init TPU system\n",
            "I0828 11:42:07.590016 140405899437952 tpu_estimator.py:566] Initialized TPU in 10 seconds\n",
            "I0828 11:42:07.591711 140404590950144 tpu_estimator.py:514] Starting infeed thread controller.\n",
            "I0828 11:42:07.593285 140404582557440 tpu_estimator.py:533] Starting outfeed thread controller.\n",
            "I0828 11:42:07.593631 140405899437952 util.py:98] Initialized dataset iterators in 0 seconds\n",
            "I0828 11:42:07.636902 140405899437952 tpu_estimator.py:590] Enqueue next (1) batch(es) of data to infeed.\n",
            "I0828 11:42:07.638211 140405899437952 tpu_estimator.py:594] Dequeue next (1) batch(es) of data from outfeed.\n",
            "I0828 11:42:09.902532 140404582557440 tpu_estimator.py:275] Outfeed finished for iteration (0, 0)\n",
            "I0828 11:42:09.907660 140405899437952 evaluation.py:167] Evaluation [1/1]\n",
            "I0828 11:42:09.909108 140405899437952 tpu_estimator.py:598] Stop infeed thread controller\n",
            "I0828 11:42:09.909986 140405899437952 tpu_estimator.py:430] Shutting down InfeedController thread.\n",
            "I0828 11:42:09.914812 140404590950144 tpu_estimator.py:425] InfeedController received shutdown signal, stopping.\n",
            "I0828 11:42:09.915809 140404590950144 tpu_estimator.py:530] Infeed thread finished, shutting down.\n",
            "I0828 11:42:09.918189 140405899437952 error_handling.py:96] infeed marked as finished\n",
            "I0828 11:42:09.919318 140405899437952 tpu_estimator.py:602] Stop output thread controller\n",
            "I0828 11:42:09.920843 140405899437952 tpu_estimator.py:430] Shutting down OutfeedController thread.\n",
            "I0828 11:42:09.923067 140404582557440 tpu_estimator.py:425] OutfeedController received shutdown signal, stopping.\n",
            "I0828 11:42:09.925940 140404582557440 tpu_estimator.py:541] Outfeed thread finished, shutting down.\n",
            "I0828 11:42:09.928684 140405899437952 error_handling.py:96] outfeed marked as finished\n",
            "I0828 11:42:09.929811 140405899437952 tpu_estimator.py:606] Shutdown TPU system.\n",
            "I0828 11:42:10.173732 140405899437952 evaluation.py:275] Finished evaluation at 2019-08-28-11:42:10\n",
            "I0828 11:42:10.175045 140405899437952 estimator.py:2039] Saving dict for global step 2000: discriminator_gen_accuracy = 1.0, discriminator_loss = 1.5239898, discriminator_real_accuracy = 0.0, generator_loss = 1.2116058, global_step = 2000, loss = 2.7290072\n",
            "I0828 11:42:10.505133 140405899437952 estimator.py:2099] Saving 'checkpoint_path' summary for global step 2000: gs://tputestingmnist/DCGAN/DCGAN_8/model.ckpt-2000\n",
            "I0828 11:42:10.790901 140405899437952 error_handling.py:96] evaluation_loop marked as finished\n",
            "I0828 11:42:10.895973 140405899437952 estimator.py:1145] Calling model_fn.\n",
            "I0828 11:42:10.897126 140405899437952 tpu_estimator.py:2965] Running infer on CPU\n"
          ],
          "name": "stderr"
        },
        {
          "output_type": "stream",
          "text": [
            "Finished evaluating\n",
            "{'discriminator_gen_accuracy': 1.0, 'discriminator_loss': 1.5239898, 'discriminator_real_accuracy': 0.0, 'generator_loss': 1.2116058, 'loss': 2.7290072, 'global_step': 2000}\n"
          ],
          "name": "stdout"
        },
        {
          "output_type": "stream",
          "text": [
            "I0828 11:42:11.434222 140405899437952 estimator.py:1147] Done calling model_fn.\n",
            "I0828 11:42:11.544151 140405899437952 monitored_session.py:240] Graph was finalized.\n",
            "I0828 11:42:11.589905 140405899437952 saver.py:1280] Restoring parameters from gs://tputestingmnist/DCGAN/DCGAN_8/model.ckpt-2000\n",
            "I0828 11:42:11.805886 140405899437952 session_manager.py:500] Running local_init_op.\n",
            "I0828 11:42:11.820116 140405899437952 session_manager.py:502] Done running local_init_op.\n",
            "I0828 11:42:12.022322 140405899437952 error_handling.py:96] prediction_loop marked as finished\n",
            "I0828 11:42:12.026191 140405899437952 error_handling.py:96] prediction_loop marked as finished\n"
          ],
          "name": "stderr"
        },
        {
          "output_type": "stream",
          "text": [
            "Finished generating images\n"
          ],
          "name": "stdout"
        },
        {
          "output_type": "stream",
          "text": [
            "I0828 11:42:14.101113 140405899437952 estimator.py:1145] Calling model_fn.\n",
            "I0828 11:42:17.588011 140405899437952 basic_session_run_hooks.py:541] Create CheckpointSaverHook.\n",
            "I0828 11:42:17.651725 140405899437952 estimator.py:1147] Done calling model_fn.\n",
            "I0828 11:42:17.653334 140405899437952 tpu_estimator.py:499] TPU job name tpu_worker\n",
            "I0828 11:42:17.964839 140405899437952 monitored_session.py:240] Graph was finalized.\n",
            "I0828 11:42:18.136862 140405899437952 saver.py:1280] Restoring parameters from gs://tputestingmnist/DCGAN/DCGAN_8/model.ckpt-2000\n",
            "I0828 11:42:19.271433 140405899437952 session_manager.py:500] Running local_init_op.\n",
            "I0828 11:42:19.417714 140405899437952 session_manager.py:502] Done running local_init_op.\n",
            "I0828 11:42:21.359978 140405899437952 basic_session_run_hooks.py:606] Saving checkpoints for 2000 into gs://tputestingmnist/DCGAN/DCGAN_8/model.ckpt.\n",
            "I0828 11:42:28.544839 140405899437952 util.py:98] Initialized dataset iterators in 0 seconds\n",
            "I0828 11:42:28.546435 140405899437952 session_support.py:332] Installing graceful shutdown hook.\n",
            "I0828 11:42:28.553250 140405899437952 session_support.py:82] Creating heartbeat manager for ['/job:tpu_worker/replica:0/task:0/device:CPU:0']\n",
            "I0828 11:42:28.557316 140405899437952 session_support.py:105] Configuring worker heartbeat: shutdown_mode: WAIT_FOR_COORDINATOR\n",
            "\n",
            "I0828 11:42:28.563895 140405899437952 tpu_estimator.py:557] Init TPU system\n",
            "I0828 11:42:42.002094 140405899437952 tpu_estimator.py:566] Initialized TPU in 13 seconds\n",
            "I0828 11:42:42.004107 140404590950144 tpu_estimator.py:514] Starting infeed thread controller.\n",
            "I0828 11:42:42.005346 140404582557440 tpu_estimator.py:533] Starting outfeed thread controller.\n",
            "I0828 11:42:42.138744 140405899437952 tpu_estimator.py:590] Enqueue next (1000) batch(es) of data to infeed.\n",
            "I0828 11:42:42.140084 140405899437952 tpu_estimator.py:594] Dequeue next (1000) batch(es) of data from outfeed.\n",
            "I0828 11:42:48.816232 140404582557440 tpu_estimator.py:275] Outfeed finished for iteration (0, 0)\n",
            "I0828 11:43:09.772576 140405899437952 basic_session_run_hooks.py:606] Saving checkpoints for 3000 into gs://tputestingmnist/DCGAN/DCGAN_8/model.ckpt.\n",
            "W0828 11:43:15.407680 140405899437952 deprecation.py:323] From /usr/local/lib/python3.6/dist-packages/tensorflow/python/training/saver.py:960: remove_checkpoint (from tensorflow.python.training.checkpoint_management) is deprecated and will be removed in a future version.\n",
            "Instructions for updating:\n",
            "Use standard file APIs to delete files with this prefix.\n",
            "I0828 11:43:16.969315 140405899437952 basic_session_run_hooks.py:262] loss = 2.2556622, step = 3000\n",
            "I0828 11:43:17.369269 140405899437952 tpu_estimator.py:598] Stop infeed thread controller\n",
            "I0828 11:43:17.370793 140405899437952 tpu_estimator.py:430] Shutting down InfeedController thread.\n",
            "I0828 11:43:17.372391 140404590950144 tpu_estimator.py:425] InfeedController received shutdown signal, stopping.\n",
            "I0828 11:43:17.373311 140404590950144 tpu_estimator.py:530] Infeed thread finished, shutting down.\n",
            "I0828 11:43:17.374357 140405899437952 error_handling.py:96] infeed marked as finished\n",
            "I0828 11:43:17.375170 140405899437952 tpu_estimator.py:602] Stop output thread controller\n",
            "I0828 11:43:17.376108 140405899437952 tpu_estimator.py:430] Shutting down OutfeedController thread.\n",
            "I0828 11:43:17.376909 140404582557440 tpu_estimator.py:425] OutfeedController received shutdown signal, stopping.\n",
            "I0828 11:43:17.378502 140404582557440 tpu_estimator.py:541] Outfeed thread finished, shutting down.\n",
            "I0828 11:43:17.381812 140405899437952 error_handling.py:96] outfeed marked as finished\n",
            "I0828 11:43:17.383758 140405899437952 tpu_estimator.py:606] Shutdown TPU system.\n",
            "I0828 11:43:18.225273 140405899437952 estimator.py:368] Loss for final step: 2.2556622.\n",
            "I0828 11:43:18.227029 140405899437952 error_handling.py:96] training_loop marked as finished\n",
            "I0828 11:43:18.389749 140405899437952 estimator.py:1145] Calling model_fn.\n"
          ],
          "name": "stderr"
        },
        {
          "output_type": "stream",
          "text": [
            "Finished training step 3000\n"
          ],
          "name": "stdout"
        },
        {
          "output_type": "stream",
          "text": [
            "I0828 11:43:20.502012 140405899437952 estimator.py:1147] Done calling model_fn.\n",
            "I0828 11:43:20.523896 140405899437952 evaluation.py:255] Starting evaluation at 2019-08-28T11:43:20Z\n",
            "I0828 11:43:20.525454 140405899437952 tpu_estimator.py:499] TPU job name tpu_worker\n",
            "I0828 11:43:20.687732 140405899437952 monitored_session.py:240] Graph was finalized.\n",
            "I0828 11:43:20.733035 140405899437952 saver.py:1280] Restoring parameters from gs://tputestingmnist/DCGAN/DCGAN_8/model.ckpt-3000\n",
            "I0828 11:43:23.177984 140405899437952 session_manager.py:500] Running local_init_op.\n",
            "I0828 11:43:23.235469 140405899437952 session_manager.py:502] Done running local_init_op.\n",
            "I0828 11:43:23.331788 140405899437952 tpu_estimator.py:557] Init TPU system\n",
            "I0828 11:43:36.683293 140405899437952 tpu_estimator.py:566] Initialized TPU in 13 seconds\n",
            "I0828 11:43:36.685246 140404590950144 tpu_estimator.py:514] Starting infeed thread controller.\n",
            "I0828 11:43:36.686554 140404582557440 tpu_estimator.py:533] Starting outfeed thread controller.\n",
            "I0828 11:43:36.687174 140405899437952 util.py:98] Initialized dataset iterators in 0 seconds\n",
            "I0828 11:43:36.750391 140405899437952 tpu_estimator.py:590] Enqueue next (1) batch(es) of data to infeed.\n",
            "I0828 11:43:36.751969 140405899437952 tpu_estimator.py:594] Dequeue next (1) batch(es) of data from outfeed.\n",
            "I0828 11:43:39.006937 140404582557440 tpu_estimator.py:275] Outfeed finished for iteration (0, 0)\n",
            "I0828 11:43:39.010147 140405899437952 evaluation.py:167] Evaluation [1/1]\n",
            "I0828 11:43:39.011119 140405899437952 tpu_estimator.py:598] Stop infeed thread controller\n",
            "I0828 11:43:39.011694 140405899437952 tpu_estimator.py:430] Shutting down InfeedController thread.\n",
            "I0828 11:43:39.012256 140404590950144 tpu_estimator.py:425] InfeedController received shutdown signal, stopping.\n",
            "I0828 11:43:39.013348 140404590950144 tpu_estimator.py:530] Infeed thread finished, shutting down.\n",
            "I0828 11:43:39.014167 140405899437952 error_handling.py:96] infeed marked as finished\n",
            "I0828 11:43:39.014751 140405899437952 tpu_estimator.py:602] Stop output thread controller\n",
            "I0828 11:43:39.015224 140405899437952 tpu_estimator.py:430] Shutting down OutfeedController thread.\n",
            "I0828 11:43:39.016231 140404582557440 tpu_estimator.py:425] OutfeedController received shutdown signal, stopping.\n",
            "I0828 11:43:39.016751 140404582557440 tpu_estimator.py:541] Outfeed thread finished, shutting down.\n",
            "I0828 11:43:39.017471 140405899437952 error_handling.py:96] outfeed marked as finished\n",
            "I0828 11:43:39.018313 140405899437952 tpu_estimator.py:606] Shutdown TPU system.\n",
            "I0828 11:43:39.265278 140405899437952 evaluation.py:275] Finished evaluation at 2019-08-28-11:43:39\n",
            "I0828 11:43:39.266701 140405899437952 estimator.py:2039] Saving dict for global step 3000: discriminator_gen_accuracy = 1.0, discriminator_loss = 1.0706773, discriminator_real_accuracy = 0.5058594, generator_loss = 1.0061829, global_step = 3000, loss = 2.085118\n",
            "I0828 11:43:39.542953 140405899437952 estimator.py:2099] Saving 'checkpoint_path' summary for global step 3000: gs://tputestingmnist/DCGAN/DCGAN_8/model.ckpt-3000\n",
            "I0828 11:43:39.833283 140405899437952 error_handling.py:96] evaluation_loop marked as finished\n",
            "I0828 11:43:39.969447 140405899437952 estimator.py:1145] Calling model_fn.\n",
            "I0828 11:43:39.970976 140405899437952 tpu_estimator.py:2965] Running infer on CPU\n"
          ],
          "name": "stderr"
        },
        {
          "output_type": "stream",
          "text": [
            "Finished evaluating\n",
            "{'discriminator_gen_accuracy': 1.0, 'discriminator_loss': 1.0706773, 'discriminator_real_accuracy': 0.5058594, 'generator_loss': 1.0061829, 'loss': 2.085118, 'global_step': 3000}\n"
          ],
          "name": "stdout"
        },
        {
          "output_type": "stream",
          "text": [
            "I0828 11:43:40.445131 140405899437952 estimator.py:1147] Done calling model_fn.\n",
            "I0828 11:43:40.554697 140405899437952 monitored_session.py:240] Graph was finalized.\n",
            "I0828 11:43:40.600341 140405899437952 saver.py:1280] Restoring parameters from gs://tputestingmnist/DCGAN/DCGAN_8/model.ckpt-3000\n",
            "I0828 11:43:40.810174 140405899437952 session_manager.py:500] Running local_init_op.\n",
            "I0828 11:43:40.819226 140405899437952 session_manager.py:502] Done running local_init_op.\n",
            "I0828 11:43:40.935757 140405899437952 error_handling.py:96] prediction_loop marked as finished\n",
            "I0828 11:43:40.936950 140405899437952 error_handling.py:96] prediction_loop marked as finished\n"
          ],
          "name": "stderr"
        },
        {
          "output_type": "stream",
          "text": [
            "Finished generating images\n"
          ],
          "name": "stdout"
        },
        {
          "output_type": "stream",
          "text": [
            "I0828 11:43:42.053095 140405899437952 estimator.py:1145] Calling model_fn.\n",
            "I0828 11:43:45.515743 140405899437952 basic_session_run_hooks.py:541] Create CheckpointSaverHook.\n",
            "I0828 11:43:45.578753 140405899437952 estimator.py:1147] Done calling model_fn.\n",
            "I0828 11:43:45.580284 140405899437952 tpu_estimator.py:499] TPU job name tpu_worker\n",
            "I0828 11:43:45.871157 140405899437952 monitored_session.py:240] Graph was finalized.\n",
            "I0828 11:43:46.037536 140405899437952 saver.py:1280] Restoring parameters from gs://tputestingmnist/DCGAN/DCGAN_8/model.ckpt-3000\n",
            "I0828 11:43:47.118702 140405899437952 session_manager.py:500] Running local_init_op.\n",
            "I0828 11:43:47.234769 140405899437952 session_manager.py:502] Done running local_init_op.\n",
            "I0828 11:43:49.142072 140405899437952 basic_session_run_hooks.py:606] Saving checkpoints for 3000 into gs://tputestingmnist/DCGAN/DCGAN_8/model.ckpt.\n",
            "I0828 11:43:55.944058 140405899437952 util.py:98] Initialized dataset iterators in 0 seconds\n",
            "I0828 11:43:55.946931 140405899437952 session_support.py:332] Installing graceful shutdown hook.\n",
            "I0828 11:43:55.951645 140405899437952 session_support.py:82] Creating heartbeat manager for ['/job:tpu_worker/replica:0/task:0/device:CPU:0']\n",
            "I0828 11:43:55.956235 140405899437952 session_support.py:105] Configuring worker heartbeat: shutdown_mode: WAIT_FOR_COORDINATOR\n",
            "\n",
            "I0828 11:43:55.961084 140405899437952 tpu_estimator.py:557] Init TPU system\n",
            "I0828 11:44:11.895000 140405899437952 tpu_estimator.py:566] Initialized TPU in 15 seconds\n",
            "I0828 11:44:11.896982 140404590950144 tpu_estimator.py:514] Starting infeed thread controller.\n",
            "I0828 11:44:11.897638 140404582557440 tpu_estimator.py:533] Starting outfeed thread controller.\n",
            "I0828 11:44:12.028343 140405899437952 tpu_estimator.py:590] Enqueue next (1000) batch(es) of data to infeed.\n",
            "I0828 11:44:12.029926 140405899437952 tpu_estimator.py:594] Dequeue next (1000) batch(es) of data from outfeed.\n",
            "I0828 11:44:18.687538 140404582557440 tpu_estimator.py:275] Outfeed finished for iteration (0, 0)\n",
            "I0828 11:44:39.647523 140405899437952 basic_session_run_hooks.py:606] Saving checkpoints for 4000 into gs://tputestingmnist/DCGAN/DCGAN_8/model.ckpt.\n",
            "I0828 11:44:46.008519 140405899437952 basic_session_run_hooks.py:262] loss = 2.12191, step = 4000\n",
            "I0828 11:44:46.525220 140405899437952 tpu_estimator.py:598] Stop infeed thread controller\n",
            "I0828 11:44:46.527049 140405899437952 tpu_estimator.py:430] Shutting down InfeedController thread.\n",
            "I0828 11:44:46.530780 140404590950144 tpu_estimator.py:425] InfeedController received shutdown signal, stopping.\n",
            "I0828 11:44:46.534070 140404590950144 tpu_estimator.py:530] Infeed thread finished, shutting down.\n",
            "I0828 11:44:46.537672 140405899437952 error_handling.py:96] infeed marked as finished\n",
            "I0828 11:44:46.538687 140405899437952 tpu_estimator.py:602] Stop output thread controller\n",
            "I0828 11:44:46.539291 140405899437952 tpu_estimator.py:430] Shutting down OutfeedController thread.\n",
            "I0828 11:44:46.540630 140404582557440 tpu_estimator.py:425] OutfeedController received shutdown signal, stopping.\n",
            "I0828 11:44:46.542469 140404582557440 tpu_estimator.py:541] Outfeed thread finished, shutting down.\n",
            "I0828 11:44:46.543824 140405899437952 error_handling.py:96] outfeed marked as finished\n",
            "I0828 11:44:46.544643 140405899437952 tpu_estimator.py:606] Shutdown TPU system.\n",
            "I0828 11:44:47.403352 140405899437952 estimator.py:368] Loss for final step: 2.12191.\n",
            "I0828 11:44:47.404861 140405899437952 error_handling.py:96] training_loop marked as finished\n"
          ],
          "name": "stderr"
        },
        {
          "output_type": "stream",
          "text": [
            "Finished training step 4000\n"
          ],
          "name": "stdout"
        },
        {
          "output_type": "stream",
          "text": [
            "I0828 11:44:47.616150 140405899437952 estimator.py:1145] Calling model_fn.\n",
            "I0828 11:44:49.816138 140405899437952 estimator.py:1147] Done calling model_fn.\n",
            "I0828 11:44:49.841503 140405899437952 evaluation.py:255] Starting evaluation at 2019-08-28T11:44:49Z\n",
            "I0828 11:44:49.842775 140405899437952 tpu_estimator.py:499] TPU job name tpu_worker\n",
            "I0828 11:44:50.005011 140405899437952 monitored_session.py:240] Graph was finalized.\n",
            "I0828 11:44:50.055768 140405899437952 saver.py:1280] Restoring parameters from gs://tputestingmnist/DCGAN/DCGAN_8/model.ckpt-4000\n",
            "I0828 11:44:51.860372 140405899437952 session_manager.py:500] Running local_init_op.\n",
            "I0828 11:44:51.916691 140405899437952 session_manager.py:502] Done running local_init_op.\n",
            "I0828 11:44:52.018642 140405899437952 tpu_estimator.py:557] Init TPU system\n",
            "I0828 11:45:05.530326 140405899437952 tpu_estimator.py:566] Initialized TPU in 13 seconds\n",
            "I0828 11:45:05.532823 140404590950144 tpu_estimator.py:514] Starting infeed thread controller.\n",
            "I0828 11:45:05.534700 140404582557440 tpu_estimator.py:533] Starting outfeed thread controller.\n",
            "I0828 11:45:05.535229 140405899437952 util.py:98] Initialized dataset iterators in 0 seconds\n",
            "I0828 11:45:05.580861 140405899437952 tpu_estimator.py:590] Enqueue next (1) batch(es) of data to infeed.\n",
            "I0828 11:45:05.582283 140405899437952 tpu_estimator.py:594] Dequeue next (1) batch(es) of data from outfeed.\n",
            "I0828 11:45:07.898038 140404582557440 tpu_estimator.py:275] Outfeed finished for iteration (0, 0)\n",
            "I0828 11:45:07.902421 140405899437952 evaluation.py:167] Evaluation [1/1]\n",
            "I0828 11:45:07.903308 140405899437952 tpu_estimator.py:598] Stop infeed thread controller\n",
            "I0828 11:45:07.903914 140405899437952 tpu_estimator.py:430] Shutting down InfeedController thread.\n",
            "I0828 11:45:07.904472 140404590950144 tpu_estimator.py:425] InfeedController received shutdown signal, stopping.\n",
            "I0828 11:45:07.905000 140404590950144 tpu_estimator.py:530] Infeed thread finished, shutting down.\n",
            "I0828 11:45:07.905720 140405899437952 error_handling.py:96] infeed marked as finished\n",
            "I0828 11:45:07.906360 140405899437952 tpu_estimator.py:602] Stop output thread controller\n",
            "I0828 11:45:07.906913 140405899437952 tpu_estimator.py:430] Shutting down OutfeedController thread.\n",
            "I0828 11:45:07.907526 140404582557440 tpu_estimator.py:425] OutfeedController received shutdown signal, stopping.\n",
            "I0828 11:45:07.909162 140404582557440 tpu_estimator.py:541] Outfeed thread finished, shutting down.\n",
            "I0828 11:45:07.910574 140405899437952 error_handling.py:96] outfeed marked as finished\n",
            "I0828 11:45:07.911756 140405899437952 tpu_estimator.py:606] Shutdown TPU system.\n",
            "I0828 11:45:08.178004 140405899437952 evaluation.py:275] Finished evaluation at 2019-08-28-11:45:08\n",
            "I0828 11:45:08.179487 140405899437952 estimator.py:2039] Saving dict for global step 4000: discriminator_gen_accuracy = 1.0, discriminator_loss = 0.8144242, discriminator_real_accuracy = 0.6328125, generator_loss = 1.5285947, global_step = 4000, loss = 2.2959132\n",
            "I0828 11:45:08.477574 140405899437952 estimator.py:2099] Saving 'checkpoint_path' summary for global step 4000: gs://tputestingmnist/DCGAN/DCGAN_8/model.ckpt-4000\n",
            "I0828 11:45:08.749260 140405899437952 error_handling.py:96] evaluation_loop marked as finished\n",
            "I0828 11:45:08.879461 140405899437952 estimator.py:1145] Calling model_fn.\n",
            "I0828 11:45:08.880673 140405899437952 tpu_estimator.py:2965] Running infer on CPU\n"
          ],
          "name": "stderr"
        },
        {
          "output_type": "stream",
          "text": [
            "Finished evaluating\n",
            "{'discriminator_gen_accuracy': 1.0, 'discriminator_loss': 0.8144242, 'discriminator_real_accuracy': 0.6328125, 'generator_loss': 1.5285947, 'loss': 2.2959132, 'global_step': 4000}\n"
          ],
          "name": "stdout"
        },
        {
          "output_type": "stream",
          "text": [
            "I0828 11:45:09.099735 140405899437952 estimator.py:1147] Done calling model_fn.\n",
            "I0828 11:45:09.211247 140405899437952 monitored_session.py:240] Graph was finalized.\n",
            "I0828 11:45:09.280157 140405899437952 saver.py:1280] Restoring parameters from gs://tputestingmnist/DCGAN/DCGAN_8/model.ckpt-4000\n",
            "I0828 11:45:09.486150 140405899437952 session_manager.py:500] Running local_init_op.\n",
            "I0828 11:45:09.496201 140405899437952 session_manager.py:502] Done running local_init_op.\n",
            "I0828 11:45:09.627586 140405899437952 error_handling.py:96] prediction_loop marked as finished\n",
            "I0828 11:45:09.629922 140405899437952 error_handling.py:96] prediction_loop marked as finished\n"
          ],
          "name": "stderr"
        },
        {
          "output_type": "stream",
          "text": [
            "Finished generating images\n"
          ],
          "name": "stdout"
        },
        {
          "output_type": "stream",
          "text": [
            "I0828 11:45:10.815308 140405899437952 estimator.py:1145] Calling model_fn.\n",
            "I0828 11:45:14.446913 140405899437952 basic_session_run_hooks.py:541] Create CheckpointSaverHook.\n",
            "I0828 11:45:14.512224 140405899437952 estimator.py:1147] Done calling model_fn.\n",
            "I0828 11:45:14.513984 140405899437952 tpu_estimator.py:499] TPU job name tpu_worker\n",
            "I0828 11:45:15.070090 140405899437952 monitored_session.py:240] Graph was finalized.\n",
            "I0828 11:45:15.218432 140405899437952 saver.py:1280] Restoring parameters from gs://tputestingmnist/DCGAN/DCGAN_8/model.ckpt-4000\n",
            "I0828 11:45:16.369071 140405899437952 session_manager.py:500] Running local_init_op.\n",
            "I0828 11:45:16.497554 140405899437952 session_manager.py:502] Done running local_init_op.\n",
            "I0828 11:45:19.110801 140405899437952 basic_session_run_hooks.py:606] Saving checkpoints for 4000 into gs://tputestingmnist/DCGAN/DCGAN_8/model.ckpt.\n",
            "I0828 11:45:25.605160 140405899437952 util.py:98] Initialized dataset iterators in 0 seconds\n",
            "I0828 11:45:25.606710 140405899437952 session_support.py:332] Installing graceful shutdown hook.\n",
            "I0828 11:45:25.612491 140405899437952 session_support.py:82] Creating heartbeat manager for ['/job:tpu_worker/replica:0/task:0/device:CPU:0']\n",
            "I0828 11:45:25.615324 140405899437952 session_support.py:105] Configuring worker heartbeat: shutdown_mode: WAIT_FOR_COORDINATOR\n",
            "\n",
            "I0828 11:45:25.620994 140405899437952 tpu_estimator.py:557] Init TPU system\n",
            "I0828 11:45:41.201881 140405899437952 tpu_estimator.py:566] Initialized TPU in 15 seconds\n",
            "I0828 11:45:41.204223 140404590950144 tpu_estimator.py:514] Starting infeed thread controller.\n",
            "I0828 11:45:41.205658 140404582557440 tpu_estimator.py:533] Starting outfeed thread controller.\n",
            "I0828 11:45:41.337818 140405899437952 tpu_estimator.py:590] Enqueue next (1000) batch(es) of data to infeed.\n",
            "I0828 11:45:41.339197 140405899437952 tpu_estimator.py:594] Dequeue next (1000) batch(es) of data from outfeed.\n",
            "I0828 11:45:48.116828 140404582557440 tpu_estimator.py:275] Outfeed finished for iteration (0, 0)\n",
            "I0828 11:46:09.070619 140405899437952 basic_session_run_hooks.py:606] Saving checkpoints for 5000 into gs://tputestingmnist/DCGAN/DCGAN_8/model.ckpt.\n",
            "I0828 11:46:15.480184 140405899437952 basic_session_run_hooks.py:262] loss = 3.76921, step = 5000\n",
            "I0828 11:46:15.948127 140405899437952 tpu_estimator.py:598] Stop infeed thread controller\n",
            "I0828 11:46:15.949371 140405899437952 tpu_estimator.py:430] Shutting down InfeedController thread.\n",
            "I0828 11:46:15.950498 140404590950144 tpu_estimator.py:425] InfeedController received shutdown signal, stopping.\n",
            "I0828 11:46:15.952140 140404590950144 tpu_estimator.py:530] Infeed thread finished, shutting down.\n",
            "I0828 11:46:15.953673 140405899437952 error_handling.py:96] infeed marked as finished\n",
            "I0828 11:46:15.954697 140405899437952 tpu_estimator.py:602] Stop output thread controller\n",
            "I0828 11:46:15.956229 140405899437952 tpu_estimator.py:430] Shutting down OutfeedController thread.\n",
            "I0828 11:46:15.957891 140404582557440 tpu_estimator.py:425] OutfeedController received shutdown signal, stopping.\n",
            "I0828 11:46:15.958747 140404582557440 tpu_estimator.py:541] Outfeed thread finished, shutting down.\n",
            "I0828 11:46:15.960548 140405899437952 error_handling.py:96] outfeed marked as finished\n",
            "I0828 11:46:15.962035 140405899437952 tpu_estimator.py:606] Shutdown TPU system.\n",
            "I0828 11:46:16.800533 140405899437952 estimator.py:368] Loss for final step: 3.76921.\n",
            "I0828 11:46:16.801858 140405899437952 error_handling.py:96] training_loop marked as finished\n"
          ],
          "name": "stderr"
        },
        {
          "output_type": "stream",
          "text": [
            "Finished training step 5000\n"
          ],
          "name": "stdout"
        },
        {
          "output_type": "stream",
          "text": [
            "I0828 11:46:17.076152 140405899437952 estimator.py:1145] Calling model_fn.\n",
            "I0828 11:46:18.915848 140405899437952 estimator.py:1147] Done calling model_fn.\n",
            "I0828 11:46:18.940910 140405899437952 evaluation.py:255] Starting evaluation at 2019-08-28T11:46:18Z\n",
            "I0828 11:46:18.942010 140405899437952 tpu_estimator.py:499] TPU job name tpu_worker\n",
            "I0828 11:46:19.105652 140405899437952 monitored_session.py:240] Graph was finalized.\n",
            "I0828 11:46:19.150342 140405899437952 saver.py:1280] Restoring parameters from gs://tputestingmnist/DCGAN/DCGAN_8/model.ckpt-5000\n",
            "I0828 11:46:21.231664 140405899437952 session_manager.py:500] Running local_init_op.\n",
            "I0828 11:46:21.287365 140405899437952 session_manager.py:502] Done running local_init_op.\n",
            "I0828 11:46:21.391715 140405899437952 tpu_estimator.py:557] Init TPU system\n",
            "I0828 11:46:35.262070 140405899437952 tpu_estimator.py:566] Initialized TPU in 13 seconds\n",
            "I0828 11:46:35.264718 140404590950144 tpu_estimator.py:514] Starting infeed thread controller.\n",
            "I0828 11:46:35.265628 140404582557440 tpu_estimator.py:533] Starting outfeed thread controller.\n",
            "I0828 11:46:35.267250 140405899437952 util.py:98] Initialized dataset iterators in 0 seconds\n",
            "I0828 11:46:35.315041 140405899437952 tpu_estimator.py:590] Enqueue next (1) batch(es) of data to infeed.\n",
            "I0828 11:46:35.316660 140405899437952 tpu_estimator.py:594] Dequeue next (1) batch(es) of data from outfeed.\n",
            "I0828 11:46:37.589913 140404582557440 tpu_estimator.py:275] Outfeed finished for iteration (0, 0)\n",
            "I0828 11:46:37.594930 140405899437952 evaluation.py:167] Evaluation [1/1]\n",
            "I0828 11:46:37.596093 140405899437952 tpu_estimator.py:598] Stop infeed thread controller\n",
            "I0828 11:46:37.596780 140405899437952 tpu_estimator.py:430] Shutting down InfeedController thread.\n",
            "I0828 11:46:37.597419 140404590950144 tpu_estimator.py:425] InfeedController received shutdown signal, stopping.\n",
            "I0828 11:46:37.599878 140404590950144 tpu_estimator.py:530] Infeed thread finished, shutting down.\n",
            "I0828 11:46:37.601007 140405899437952 error_handling.py:96] infeed marked as finished\n",
            "I0828 11:46:37.601894 140405899437952 tpu_estimator.py:602] Stop output thread controller\n",
            "I0828 11:46:37.604308 140405899437952 tpu_estimator.py:430] Shutting down OutfeedController thread.\n",
            "I0828 11:46:37.605791 140404582557440 tpu_estimator.py:425] OutfeedController received shutdown signal, stopping.\n",
            "I0828 11:46:37.606775 140404582557440 tpu_estimator.py:541] Outfeed thread finished, shutting down.\n",
            "I0828 11:46:37.609065 140405899437952 error_handling.py:96] outfeed marked as finished\n",
            "I0828 11:46:37.609971 140405899437952 tpu_estimator.py:606] Shutdown TPU system.\n",
            "I0828 11:46:37.884761 140405899437952 evaluation.py:275] Finished evaluation at 2019-08-28-11:46:37\n",
            "I0828 11:46:37.886346 140405899437952 estimator.py:2039] Saving dict for global step 5000: discriminator_gen_accuracy = 1.0, discriminator_loss = 0.94254565, discriminator_real_accuracy = 0.15332031, generator_loss = 1.9352341, global_step = 5000, loss = 2.8656387\n",
            "I0828 11:46:38.186630 140405899437952 estimator.py:2099] Saving 'checkpoint_path' summary for global step 5000: gs://tputestingmnist/DCGAN/DCGAN_8/model.ckpt-5000\n",
            "I0828 11:46:38.471827 140405899437952 error_handling.py:96] evaluation_loop marked as finished\n",
            "I0828 11:46:38.571485 140405899437952 estimator.py:1145] Calling model_fn.\n",
            "I0828 11:46:38.573236 140405899437952 tpu_estimator.py:2965] Running infer on CPU\n"
          ],
          "name": "stderr"
        },
        {
          "output_type": "stream",
          "text": [
            "Finished evaluating\n",
            "{'discriminator_gen_accuracy': 1.0, 'discriminator_loss': 0.94254565, 'discriminator_real_accuracy': 0.15332031, 'generator_loss': 1.9352341, 'loss': 2.8656387, 'global_step': 5000}\n"
          ],
          "name": "stdout"
        },
        {
          "output_type": "stream",
          "text": [
            "I0828 11:46:38.785233 140405899437952 estimator.py:1147] Done calling model_fn.\n",
            "I0828 11:46:39.297811 140405899437952 monitored_session.py:240] Graph was finalized.\n",
            "I0828 11:46:39.338608 140405899437952 saver.py:1280] Restoring parameters from gs://tputestingmnist/DCGAN/DCGAN_8/model.ckpt-5000\n",
            "I0828 11:46:39.530083 140405899437952 session_manager.py:500] Running local_init_op.\n",
            "I0828 11:46:39.544237 140405899437952 session_manager.py:502] Done running local_init_op.\n",
            "I0828 11:46:39.667062 140405899437952 error_handling.py:96] prediction_loop marked as finished\n",
            "I0828 11:46:39.668406 140405899437952 error_handling.py:96] prediction_loop marked as finished\n"
          ],
          "name": "stderr"
        },
        {
          "output_type": "stream",
          "text": [
            "Finished generating images\n"
          ],
          "name": "stdout"
        },
        {
          "output_type": "stream",
          "text": [
            "I0828 11:46:40.915819 140405899437952 estimator.py:1145] Calling model_fn.\n",
            "I0828 11:46:44.178495 140405899437952 basic_session_run_hooks.py:541] Create CheckpointSaverHook.\n",
            "I0828 11:46:44.239109 140405899437952 estimator.py:1147] Done calling model_fn.\n",
            "I0828 11:46:44.240733 140405899437952 tpu_estimator.py:499] TPU job name tpu_worker\n",
            "I0828 11:46:44.729760 140405899437952 monitored_session.py:240] Graph was finalized.\n",
            "I0828 11:46:44.875972 140405899437952 saver.py:1280] Restoring parameters from gs://tputestingmnist/DCGAN/DCGAN_8/model.ckpt-5000\n",
            "I0828 11:46:45.900716 140405899437952 session_manager.py:500] Running local_init_op.\n",
            "I0828 11:46:46.021229 140405899437952 session_manager.py:502] Done running local_init_op.\n",
            "I0828 11:46:47.912949 140405899437952 basic_session_run_hooks.py:606] Saving checkpoints for 5000 into gs://tputestingmnist/DCGAN/DCGAN_8/model.ckpt.\n",
            "I0828 11:46:54.714289 140405899437952 util.py:98] Initialized dataset iterators in 0 seconds\n",
            "I0828 11:46:54.715994 140405899437952 session_support.py:332] Installing graceful shutdown hook.\n",
            "I0828 11:46:54.724070 140405899437952 session_support.py:82] Creating heartbeat manager for ['/job:tpu_worker/replica:0/task:0/device:CPU:0']\n",
            "I0828 11:46:54.727643 140405899437952 session_support.py:105] Configuring worker heartbeat: shutdown_mode: WAIT_FOR_COORDINATOR\n",
            "\n",
            "I0828 11:46:54.735329 140405899437952 tpu_estimator.py:557] Init TPU system\n",
            "I0828 11:47:10.399342 140405899437952 tpu_estimator.py:566] Initialized TPU in 15 seconds\n",
            "I0828 11:47:10.401573 140404582557440 tpu_estimator.py:514] Starting infeed thread controller.\n",
            "I0828 11:47:10.402247 140404574164736 tpu_estimator.py:533] Starting outfeed thread controller.\n",
            "I0828 11:47:10.536659 140405899437952 tpu_estimator.py:590] Enqueue next (1000) batch(es) of data to infeed.\n",
            "I0828 11:47:10.538018 140405899437952 tpu_estimator.py:594] Dequeue next (1000) batch(es) of data from outfeed.\n",
            "I0828 11:47:17.283030 140404574164736 tpu_estimator.py:275] Outfeed finished for iteration (0, 0)\n",
            "I0828 11:47:38.241987 140405899437952 basic_session_run_hooks.py:606] Saving checkpoints for 6000 into gs://tputestingmnist/DCGAN/DCGAN_8/model.ckpt.\n",
            "I0828 11:47:45.239634 140405899437952 basic_session_run_hooks.py:262] loss = 3.1885068, step = 6000\n",
            "I0828 11:47:45.854058 140405899437952 tpu_estimator.py:598] Stop infeed thread controller\n",
            "I0828 11:47:45.855325 140405899437952 tpu_estimator.py:430] Shutting down InfeedController thread.\n",
            "I0828 11:47:45.859166 140404582557440 tpu_estimator.py:425] InfeedController received shutdown signal, stopping.\n",
            "I0828 11:47:45.861030 140404582557440 tpu_estimator.py:530] Infeed thread finished, shutting down.\n",
            "I0828 11:47:45.863102 140405899437952 error_handling.py:96] infeed marked as finished\n",
            "I0828 11:47:45.865246 140405899437952 tpu_estimator.py:602] Stop output thread controller\n",
            "I0828 11:47:45.866904 140405899437952 tpu_estimator.py:430] Shutting down OutfeedController thread.\n",
            "I0828 11:47:45.880444 140404574164736 tpu_estimator.py:425] OutfeedController received shutdown signal, stopping.\n",
            "I0828 11:47:45.881577 140404574164736 tpu_estimator.py:541] Outfeed thread finished, shutting down.\n",
            "I0828 11:47:45.882313 140405899437952 error_handling.py:96] outfeed marked as finished\n",
            "I0828 11:47:45.883134 140405899437952 tpu_estimator.py:606] Shutdown TPU system.\n",
            "I0828 11:47:46.693009 140405899437952 estimator.py:368] Loss for final step: 3.1885068.\n",
            "I0828 11:47:46.694360 140405899437952 error_handling.py:96] training_loop marked as finished\n",
            "I0828 11:47:46.875085 140405899437952 estimator.py:1145] Calling model_fn.\n"
          ],
          "name": "stderr"
        },
        {
          "output_type": "stream",
          "text": [
            "Finished training step 6000\n"
          ],
          "name": "stdout"
        },
        {
          "output_type": "stream",
          "text": [
            "I0828 11:47:48.741861 140405899437952 estimator.py:1147] Done calling model_fn.\n",
            "I0828 11:47:48.767900 140405899437952 evaluation.py:255] Starting evaluation at 2019-08-28T11:47:48Z\n",
            "I0828 11:47:48.769169 140405899437952 tpu_estimator.py:499] TPU job name tpu_worker\n",
            "I0828 11:47:49.325180 140405899437952 monitored_session.py:240] Graph was finalized.\n",
            "I0828 11:47:49.394528 140405899437952 saver.py:1280] Restoring parameters from gs://tputestingmnist/DCGAN/DCGAN_8/model.ckpt-6000\n",
            "I0828 11:47:51.626138 140405899437952 session_manager.py:500] Running local_init_op.\n",
            "I0828 11:47:51.684496 140405899437952 session_manager.py:502] Done running local_init_op.\n",
            "I0828 11:47:51.790170 140405899437952 tpu_estimator.py:557] Init TPU system\n",
            "I0828 11:48:05.690884 140405899437952 tpu_estimator.py:566] Initialized TPU in 13 seconds\n",
            "I0828 11:48:05.692694 140404650481408 tpu_estimator.py:514] Starting infeed thread controller.\n",
            "I0828 11:48:05.694240 140404582557440 tpu_estimator.py:533] Starting outfeed thread controller.\n",
            "I0828 11:48:05.694509 140405899437952 util.py:98] Initialized dataset iterators in 0 seconds\n",
            "I0828 11:48:05.740720 140405899437952 tpu_estimator.py:590] Enqueue next (1) batch(es) of data to infeed.\n",
            "I0828 11:48:05.741990 140405899437952 tpu_estimator.py:594] Dequeue next (1) batch(es) of data from outfeed.\n",
            "I0828 11:48:08.063199 140404582557440 tpu_estimator.py:275] Outfeed finished for iteration (0, 0)\n",
            "I0828 11:48:08.064733 140405899437952 evaluation.py:167] Evaluation [1/1]\n",
            "I0828 11:48:08.066680 140405899437952 tpu_estimator.py:598] Stop infeed thread controller\n",
            "I0828 11:48:08.067865 140405899437952 tpu_estimator.py:430] Shutting down InfeedController thread.\n",
            "I0828 11:48:08.068957 140404650481408 tpu_estimator.py:425] InfeedController received shutdown signal, stopping.\n",
            "I0828 11:48:08.070208 140404650481408 tpu_estimator.py:530] Infeed thread finished, shutting down.\n",
            "I0828 11:48:08.071415 140405899437952 error_handling.py:96] infeed marked as finished\n",
            "I0828 11:48:08.072714 140405899437952 tpu_estimator.py:602] Stop output thread controller\n",
            "I0828 11:48:08.073968 140405899437952 tpu_estimator.py:430] Shutting down OutfeedController thread.\n",
            "I0828 11:48:08.075038 140404582557440 tpu_estimator.py:425] OutfeedController received shutdown signal, stopping.\n",
            "I0828 11:48:08.076259 140404582557440 tpu_estimator.py:541] Outfeed thread finished, shutting down.\n",
            "I0828 11:48:08.077589 140405899437952 error_handling.py:96] outfeed marked as finished\n",
            "I0828 11:48:08.078737 140405899437952 tpu_estimator.py:606] Shutdown TPU system.\n",
            "I0828 11:48:08.332841 140405899437952 evaluation.py:275] Finished evaluation at 2019-08-28-11:48:08\n",
            "I0828 11:48:08.334037 140405899437952 estimator.py:2039] Saving dict for global step 6000: discriminator_gen_accuracy = 1.0, discriminator_loss = 0.9870769, discriminator_real_accuracy = 0.056640625, generator_loss = 1.9121517, global_step = 6000, loss = 2.9058628\n",
            "I0828 11:48:08.590242 140405899437952 estimator.py:2099] Saving 'checkpoint_path' summary for global step 6000: gs://tputestingmnist/DCGAN/DCGAN_8/model.ckpt-6000\n",
            "I0828 11:48:08.915828 140405899437952 error_handling.py:96] evaluation_loop marked as finished\n",
            "I0828 11:48:09.038661 140405899437952 estimator.py:1145] Calling model_fn.\n",
            "I0828 11:48:09.039956 140405899437952 tpu_estimator.py:2965] Running infer on CPU\n"
          ],
          "name": "stderr"
        },
        {
          "output_type": "stream",
          "text": [
            "Finished evaluating\n",
            "{'discriminator_gen_accuracy': 1.0, 'discriminator_loss': 0.9870769, 'discriminator_real_accuracy': 0.056640625, 'generator_loss': 1.9121517, 'loss': 2.9058628, 'global_step': 6000}\n"
          ],
          "name": "stdout"
        },
        {
          "output_type": "stream",
          "text": [
            "I0828 11:48:09.247861 140405899437952 estimator.py:1147] Done calling model_fn.\n",
            "I0828 11:48:09.359602 140405899437952 monitored_session.py:240] Graph was finalized.\n",
            "I0828 11:48:09.406024 140405899437952 saver.py:1280] Restoring parameters from gs://tputestingmnist/DCGAN/DCGAN_8/model.ckpt-6000\n",
            "I0828 11:48:09.629963 140405899437952 session_manager.py:500] Running local_init_op.\n",
            "I0828 11:48:09.638945 140405899437952 session_manager.py:502] Done running local_init_op.\n",
            "I0828 11:48:09.765918 140405899437952 error_handling.py:96] prediction_loop marked as finished\n",
            "I0828 11:48:09.767262 140405899437952 error_handling.py:96] prediction_loop marked as finished\n"
          ],
          "name": "stderr"
        },
        {
          "output_type": "stream",
          "text": [
            "Finished generating images\n"
          ],
          "name": "stdout"
        },
        {
          "output_type": "stream",
          "text": [
            "I0828 11:48:10.995005 140405899437952 estimator.py:1145] Calling model_fn.\n",
            "I0828 11:48:14.423278 140405899437952 basic_session_run_hooks.py:541] Create CheckpointSaverHook.\n",
            "I0828 11:48:14.487426 140405899437952 estimator.py:1147] Done calling model_fn.\n",
            "I0828 11:48:14.488743 140405899437952 tpu_estimator.py:499] TPU job name tpu_worker\n",
            "I0828 11:48:14.773604 140405899437952 monitored_session.py:240] Graph was finalized.\n",
            "I0828 11:48:14.956803 140405899437952 saver.py:1280] Restoring parameters from gs://tputestingmnist/DCGAN/DCGAN_8/model.ckpt-6000\n",
            "I0828 11:48:15.993880 140405899437952 session_manager.py:500] Running local_init_op.\n",
            "I0828 11:48:16.114132 140405899437952 session_manager.py:502] Done running local_init_op.\n",
            "I0828 11:48:18.030164 140405899437952 basic_session_run_hooks.py:606] Saving checkpoints for 6000 into gs://tputestingmnist/DCGAN/DCGAN_8/model.ckpt.\n",
            "I0828 11:48:24.637192 140405899437952 util.py:98] Initialized dataset iterators in 0 seconds\n",
            "I0828 11:48:24.638533 140405899437952 session_support.py:332] Installing graceful shutdown hook.\n",
            "I0828 11:48:24.644951 140405899437952 session_support.py:82] Creating heartbeat manager for ['/job:tpu_worker/replica:0/task:0/device:CPU:0']\n",
            "I0828 11:48:24.649334 140405899437952 session_support.py:105] Configuring worker heartbeat: shutdown_mode: WAIT_FOR_COORDINATOR\n",
            "\n",
            "I0828 11:48:24.655501 140405899437952 tpu_estimator.py:557] Init TPU system\n",
            "I0828 11:48:39.849297 140405899437952 tpu_estimator.py:566] Initialized TPU in 15 seconds\n",
            "I0828 11:48:39.851286 140404582557440 tpu_estimator.py:514] Starting infeed thread controller.\n",
            "I0828 11:48:39.853049 140404574164736 tpu_estimator.py:533] Starting outfeed thread controller.\n",
            "I0828 11:48:39.987627 140405899437952 tpu_estimator.py:590] Enqueue next (1000) batch(es) of data to infeed.\n",
            "I0828 11:48:39.989068 140405899437952 tpu_estimator.py:594] Dequeue next (1000) batch(es) of data from outfeed.\n",
            "I0828 11:48:46.657319 140404574164736 tpu_estimator.py:275] Outfeed finished for iteration (0, 0)\n",
            "I0828 11:49:07.610759 140405899437952 basic_session_run_hooks.py:606] Saving checkpoints for 7000 into gs://tputestingmnist/DCGAN/DCGAN_8/model.ckpt.\n",
            "I0828 11:49:14.370788 140405899437952 basic_session_run_hooks.py:262] loss = 3.901911, step = 7000\n",
            "I0828 11:49:14.836166 140405899437952 tpu_estimator.py:598] Stop infeed thread controller\n",
            "I0828 11:49:14.837636 140405899437952 tpu_estimator.py:430] Shutting down InfeedController thread.\n",
            "I0828 11:49:14.844383 140404582557440 tpu_estimator.py:425] InfeedController received shutdown signal, stopping.\n",
            "I0828 11:49:14.851908 140404582557440 tpu_estimator.py:530] Infeed thread finished, shutting down.\n",
            "I0828 11:49:14.855738 140405899437952 error_handling.py:96] infeed marked as finished\n",
            "I0828 11:49:14.858389 140405899437952 tpu_estimator.py:602] Stop output thread controller\n",
            "I0828 11:49:14.859366 140405899437952 tpu_estimator.py:430] Shutting down OutfeedController thread.\n",
            "I0828 11:49:14.862237 140404574164736 tpu_estimator.py:425] OutfeedController received shutdown signal, stopping.\n",
            "I0828 11:49:14.866162 140404574164736 tpu_estimator.py:541] Outfeed thread finished, shutting down.\n",
            "I0828 11:49:14.867959 140405899437952 error_handling.py:96] outfeed marked as finished\n",
            "I0828 11:49:14.870542 140405899437952 tpu_estimator.py:606] Shutdown TPU system.\n",
            "I0828 11:49:15.688080 140405899437952 estimator.py:368] Loss for final step: 3.901911.\n",
            "I0828 11:49:15.689472 140405899437952 error_handling.py:96] training_loop marked as finished\n"
          ],
          "name": "stderr"
        },
        {
          "output_type": "stream",
          "text": [
            "Finished training step 7000\n"
          ],
          "name": "stdout"
        },
        {
          "output_type": "stream",
          "text": [
            "I0828 11:49:15.965711 140405899437952 estimator.py:1145] Calling model_fn.\n",
            "I0828 11:49:18.228673 140405899437952 estimator.py:1147] Done calling model_fn.\n",
            "I0828 11:49:18.252566 140405899437952 evaluation.py:255] Starting evaluation at 2019-08-28T11:49:18Z\n",
            "I0828 11:49:18.253819 140405899437952 tpu_estimator.py:499] TPU job name tpu_worker\n",
            "I0828 11:49:18.411895 140405899437952 monitored_session.py:240] Graph was finalized.\n",
            "I0828 11:49:18.454875 140405899437952 saver.py:1280] Restoring parameters from gs://tputestingmnist/DCGAN/DCGAN_8/model.ckpt-7000\n",
            "I0828 11:49:21.662347 140405899437952 session_manager.py:500] Running local_init_op.\n",
            "I0828 11:49:21.722455 140405899437952 session_manager.py:502] Done running local_init_op.\n",
            "I0828 11:49:21.841195 140405899437952 tpu_estimator.py:557] Init TPU system\n",
            "I0828 11:49:35.928985 140405899437952 tpu_estimator.py:566] Initialized TPU in 14 seconds\n",
            "I0828 11:49:35.930658 140404582557440 tpu_estimator.py:514] Starting infeed thread controller.\n",
            "I0828 11:49:35.935407 140404574164736 tpu_estimator.py:533] Starting outfeed thread controller.\n",
            "I0828 11:49:35.936197 140405899437952 util.py:98] Initialized dataset iterators in 0 seconds\n",
            "I0828 11:49:35.981142 140405899437952 tpu_estimator.py:590] Enqueue next (1) batch(es) of data to infeed.\n",
            "I0828 11:49:35.982365 140405899437952 tpu_estimator.py:594] Dequeue next (1) batch(es) of data from outfeed.\n",
            "I0828 11:49:38.331800 140404574164736 tpu_estimator.py:275] Outfeed finished for iteration (0, 0)\n",
            "I0828 11:49:38.334533 140405899437952 evaluation.py:167] Evaluation [1/1]\n",
            "I0828 11:49:38.335592 140405899437952 tpu_estimator.py:598] Stop infeed thread controller\n",
            "I0828 11:49:38.336251 140405899437952 tpu_estimator.py:430] Shutting down InfeedController thread.\n",
            "I0828 11:49:38.337118 140404582557440 tpu_estimator.py:425] InfeedController received shutdown signal, stopping.\n",
            "I0828 11:49:38.338874 140404582557440 tpu_estimator.py:530] Infeed thread finished, shutting down.\n",
            "I0828 11:49:38.340045 140405899437952 error_handling.py:96] infeed marked as finished\n",
            "I0828 11:49:38.341191 140405899437952 tpu_estimator.py:602] Stop output thread controller\n",
            "I0828 11:49:38.341754 140405899437952 tpu_estimator.py:430] Shutting down OutfeedController thread.\n",
            "I0828 11:49:38.342829 140404574164736 tpu_estimator.py:425] OutfeedController received shutdown signal, stopping.\n",
            "I0828 11:49:38.343435 140404574164736 tpu_estimator.py:541] Outfeed thread finished, shutting down.\n",
            "I0828 11:49:38.344022 140405899437952 error_handling.py:96] outfeed marked as finished\n",
            "I0828 11:49:38.345361 140405899437952 tpu_estimator.py:606] Shutdown TPU system.\n",
            "I0828 11:49:38.626578 140405899437952 evaluation.py:275] Finished evaluation at 2019-08-28-11:49:38\n",
            "I0828 11:49:38.627640 140405899437952 estimator.py:2039] Saving dict for global step 7000: discriminator_gen_accuracy = 1.0, discriminator_loss = 1.1826439, discriminator_real_accuracy = 0.0009765625, generator_loss = 1.5792756, global_step = 7000, loss = 2.796945\n",
            "I0828 11:49:38.997551 140405899437952 estimator.py:2099] Saving 'checkpoint_path' summary for global step 7000: gs://tputestingmnist/DCGAN/DCGAN_8/model.ckpt-7000\n",
            "I0828 11:49:39.333541 140405899437952 error_handling.py:96] evaluation_loop marked as finished\n",
            "I0828 11:49:39.429792 140405899437952 estimator.py:1145] Calling model_fn.\n",
            "I0828 11:49:39.430916 140405899437952 tpu_estimator.py:2965] Running infer on CPU\n"
          ],
          "name": "stderr"
        },
        {
          "output_type": "stream",
          "text": [
            "Finished evaluating\n",
            "{'discriminator_gen_accuracy': 1.0, 'discriminator_loss': 1.1826439, 'discriminator_real_accuracy': 0.0009765625, 'generator_loss': 1.5792756, 'loss': 2.796945, 'global_step': 7000}\n"
          ],
          "name": "stdout"
        },
        {
          "output_type": "stream",
          "text": [
            "I0828 11:49:39.640943 140405899437952 estimator.py:1147] Done calling model_fn.\n",
            "I0828 11:49:39.747715 140405899437952 monitored_session.py:240] Graph was finalized.\n",
            "I0828 11:49:39.793740 140405899437952 saver.py:1280] Restoring parameters from gs://tputestingmnist/DCGAN/DCGAN_8/model.ckpt-7000\n",
            "I0828 11:49:40.005067 140405899437952 session_manager.py:500] Running local_init_op.\n",
            "I0828 11:49:40.016732 140405899437952 session_manager.py:502] Done running local_init_op.\n",
            "I0828 11:49:40.146432 140405899437952 error_handling.py:96] prediction_loop marked as finished\n",
            "I0828 11:49:40.147898 140405899437952 error_handling.py:96] prediction_loop marked as finished\n"
          ],
          "name": "stderr"
        },
        {
          "output_type": "stream",
          "text": [
            "Finished generating images\n"
          ],
          "name": "stdout"
        },
        {
          "output_type": "stream",
          "text": [
            "I0828 11:49:41.529053 140405899437952 estimator.py:1145] Calling model_fn.\n",
            "I0828 11:49:45.157499 140405899437952 basic_session_run_hooks.py:541] Create CheckpointSaverHook.\n",
            "I0828 11:49:45.221263 140405899437952 estimator.py:1147] Done calling model_fn.\n",
            "I0828 11:49:45.222726 140405899437952 tpu_estimator.py:499] TPU job name tpu_worker\n",
            "I0828 11:49:45.520328 140405899437952 monitored_session.py:240] Graph was finalized.\n",
            "I0828 11:49:45.754147 140405899437952 saver.py:1280] Restoring parameters from gs://tputestingmnist/DCGAN/DCGAN_8/model.ckpt-7000\n",
            "I0828 11:49:46.885993 140405899437952 session_manager.py:500] Running local_init_op.\n",
            "I0828 11:49:47.008122 140405899437952 session_manager.py:502] Done running local_init_op.\n",
            "I0828 11:49:49.877493 140405899437952 basic_session_run_hooks.py:606] Saving checkpoints for 7000 into gs://tputestingmnist/DCGAN/DCGAN_8/model.ckpt.\n",
            "I0828 11:49:56.453305 140405899437952 util.py:98] Initialized dataset iterators in 0 seconds\n",
            "I0828 11:49:56.454651 140405899437952 session_support.py:332] Installing graceful shutdown hook.\n",
            "I0828 11:49:56.464015 140405899437952 session_support.py:82] Creating heartbeat manager for ['/job:tpu_worker/replica:0/task:0/device:CPU:0']\n",
            "I0828 11:49:56.467587 140405899437952 session_support.py:105] Configuring worker heartbeat: shutdown_mode: WAIT_FOR_COORDINATOR\n",
            "\n",
            "I0828 11:49:56.478215 140405899437952 tpu_estimator.py:557] Init TPU system\n",
            "I0828 11:50:11.699115 140405899437952 tpu_estimator.py:566] Initialized TPU in 15 seconds\n",
            "I0828 11:50:11.700911 140404582557440 tpu_estimator.py:514] Starting infeed thread controller.\n",
            "I0828 11:50:11.702627 140404574164736 tpu_estimator.py:533] Starting outfeed thread controller.\n",
            "I0828 11:50:11.850389 140405899437952 tpu_estimator.py:590] Enqueue next (1000) batch(es) of data to infeed.\n",
            "I0828 11:50:11.852765 140405899437952 tpu_estimator.py:594] Dequeue next (1000) batch(es) of data from outfeed.\n",
            "I0828 11:50:18.684527 140404574164736 tpu_estimator.py:275] Outfeed finished for iteration (0, 0)\n",
            "I0828 11:50:39.649724 140405899437952 basic_session_run_hooks.py:606] Saving checkpoints for 8000 into gs://tputestingmnist/DCGAN/DCGAN_8/model.ckpt.\n",
            "I0828 11:50:46.147154 140405899437952 basic_session_run_hooks.py:262] loss = 4.042494, step = 8000\n",
            "I0828 11:50:46.649525 140405899437952 tpu_estimator.py:598] Stop infeed thread controller\n",
            "I0828 11:50:46.651145 140405899437952 tpu_estimator.py:430] Shutting down InfeedController thread.\n",
            "I0828 11:50:46.652249 140404582557440 tpu_estimator.py:425] InfeedController received shutdown signal, stopping.\n",
            "I0828 11:50:46.652794 140404582557440 tpu_estimator.py:530] Infeed thread finished, shutting down.\n",
            "I0828 11:50:46.653944 140405899437952 error_handling.py:96] infeed marked as finished\n",
            "I0828 11:50:46.655017 140405899437952 tpu_estimator.py:602] Stop output thread controller\n",
            "I0828 11:50:46.655614 140405899437952 tpu_estimator.py:430] Shutting down OutfeedController thread.\n",
            "I0828 11:50:46.656327 140404574164736 tpu_estimator.py:425] OutfeedController received shutdown signal, stopping.\n",
            "I0828 11:50:46.657213 140404574164736 tpu_estimator.py:541] Outfeed thread finished, shutting down.\n",
            "I0828 11:50:46.659241 140405899437952 error_handling.py:96] outfeed marked as finished\n",
            "I0828 11:50:46.660193 140405899437952 tpu_estimator.py:606] Shutdown TPU system.\n",
            "I0828 11:50:47.483718 140405899437952 estimator.py:368] Loss for final step: 4.042494.\n",
            "I0828 11:50:47.485299 140405899437952 error_handling.py:96] training_loop marked as finished\n",
            "I0828 11:50:47.644875 140405899437952 estimator.py:1145] Calling model_fn.\n"
          ],
          "name": "stderr"
        },
        {
          "output_type": "stream",
          "text": [
            "Finished training step 8000\n"
          ],
          "name": "stdout"
        },
        {
          "output_type": "stream",
          "text": [
            "I0828 11:50:50.004597 140405899437952 estimator.py:1147] Done calling model_fn.\n",
            "I0828 11:50:50.027252 140405899437952 evaluation.py:255] Starting evaluation at 2019-08-28T11:50:50Z\n",
            "I0828 11:50:50.028504 140405899437952 tpu_estimator.py:499] TPU job name tpu_worker\n",
            "I0828 11:50:50.185763 140405899437952 monitored_session.py:240] Graph was finalized.\n",
            "I0828 11:50:50.231581 140405899437952 saver.py:1280] Restoring parameters from gs://tputestingmnist/DCGAN/DCGAN_8/model.ckpt-8000\n",
            "I0828 11:50:53.762180 140405899437952 session_manager.py:500] Running local_init_op.\n",
            "I0828 11:50:53.806035 140405899437952 session_manager.py:502] Done running local_init_op.\n",
            "I0828 11:50:53.907751 140405899437952 tpu_estimator.py:557] Init TPU system\n",
            "I0828 11:51:07.804982 140405899437952 tpu_estimator.py:566] Initialized TPU in 13 seconds\n",
            "I0828 11:51:07.806876 140404582557440 tpu_estimator.py:514] Starting infeed thread controller.\n",
            "I0828 11:51:07.808675 140404574164736 tpu_estimator.py:533] Starting outfeed thread controller.\n",
            "I0828 11:51:07.809046 140405899437952 util.py:98] Initialized dataset iterators in 0 seconds\n",
            "I0828 11:51:07.854591 140405899437952 tpu_estimator.py:590] Enqueue next (1) batch(es) of data to infeed.\n",
            "I0828 11:51:07.855843 140405899437952 tpu_estimator.py:594] Dequeue next (1) batch(es) of data from outfeed.\n",
            "I0828 11:51:10.202102 140404574164736 tpu_estimator.py:275] Outfeed finished for iteration (0, 0)\n",
            "I0828 11:51:10.203348 140405899437952 evaluation.py:167] Evaluation [1/1]\n",
            "I0828 11:51:10.204772 140405899437952 tpu_estimator.py:598] Stop infeed thread controller\n",
            "I0828 11:51:10.205897 140405899437952 tpu_estimator.py:430] Shutting down InfeedController thread.\n",
            "I0828 11:51:10.206943 140404582557440 tpu_estimator.py:425] InfeedController received shutdown signal, stopping.\n",
            "I0828 11:51:10.207808 140404582557440 tpu_estimator.py:530] Infeed thread finished, shutting down.\n",
            "I0828 11:51:10.209042 140405899437952 error_handling.py:96] infeed marked as finished\n",
            "I0828 11:51:10.210031 140405899437952 tpu_estimator.py:602] Stop output thread controller\n",
            "I0828 11:51:10.210916 140405899437952 tpu_estimator.py:430] Shutting down OutfeedController thread.\n",
            "I0828 11:51:10.212361 140404574164736 tpu_estimator.py:425] OutfeedController received shutdown signal, stopping.\n",
            "I0828 11:51:10.213623 140404574164736 tpu_estimator.py:541] Outfeed thread finished, shutting down.\n",
            "I0828 11:51:10.214680 140405899437952 error_handling.py:96] outfeed marked as finished\n",
            "I0828 11:51:10.215627 140405899437952 tpu_estimator.py:606] Shutdown TPU system.\n",
            "I0828 11:51:10.488533 140405899437952 evaluation.py:275] Finished evaluation at 2019-08-28-11:51:10\n",
            "I0828 11:51:10.489819 140405899437952 estimator.py:2039] Saving dict for global step 8000: discriminator_gen_accuracy = 1.0, discriminator_loss = 1.1017244, discriminator_real_accuracy = 0.0, generator_loss = 1.9491507, global_step = 8000, loss = 3.064004\n",
            "I0828 11:51:10.772156 140405899437952 estimator.py:2099] Saving 'checkpoint_path' summary for global step 8000: gs://tputestingmnist/DCGAN/DCGAN_8/model.ckpt-8000\n",
            "I0828 11:51:11.100553 140405899437952 error_handling.py:96] evaluation_loop marked as finished\n",
            "I0828 11:51:11.202909 140405899437952 estimator.py:1145] Calling model_fn.\n",
            "I0828 11:51:11.204159 140405899437952 tpu_estimator.py:2965] Running infer on CPU\n"
          ],
          "name": "stderr"
        },
        {
          "output_type": "stream",
          "text": [
            "Finished evaluating\n",
            "{'discriminator_gen_accuracy': 1.0, 'discriminator_loss': 1.1017244, 'discriminator_real_accuracy': 0.0, 'generator_loss': 1.9491507, 'loss': 3.064004, 'global_step': 8000}\n"
          ],
          "name": "stdout"
        },
        {
          "output_type": "stream",
          "text": [
            "I0828 11:51:11.406454 140405899437952 estimator.py:1147] Done calling model_fn.\n",
            "I0828 11:51:11.517616 140405899437952 monitored_session.py:240] Graph was finalized.\n",
            "I0828 11:51:11.557529 140405899437952 saver.py:1280] Restoring parameters from gs://tputestingmnist/DCGAN/DCGAN_8/model.ckpt-8000\n",
            "I0828 11:51:11.756611 140405899437952 session_manager.py:500] Running local_init_op.\n",
            "I0828 11:51:11.769556 140405899437952 session_manager.py:502] Done running local_init_op.\n",
            "I0828 11:51:11.903160 140405899437952 error_handling.py:96] prediction_loop marked as finished\n",
            "I0828 11:51:11.904501 140405899437952 error_handling.py:96] prediction_loop marked as finished\n"
          ],
          "name": "stderr"
        },
        {
          "output_type": "stream",
          "text": [
            "Finished generating images\n"
          ],
          "name": "stdout"
        },
        {
          "output_type": "stream",
          "text": [
            "I0828 11:51:13.286709 140405899437952 estimator.py:1145] Calling model_fn.\n",
            "I0828 11:51:16.778779 140405899437952 basic_session_run_hooks.py:541] Create CheckpointSaverHook.\n",
            "I0828 11:51:16.839418 140405899437952 estimator.py:1147] Done calling model_fn.\n",
            "I0828 11:51:16.840933 140405899437952 tpu_estimator.py:499] TPU job name tpu_worker\n",
            "I0828 11:51:17.125640 140405899437952 monitored_session.py:240] Graph was finalized.\n",
            "I0828 11:51:17.284902 140405899437952 saver.py:1280] Restoring parameters from gs://tputestingmnist/DCGAN/DCGAN_8/model.ckpt-8000\n",
            "I0828 11:51:18.400378 140405899437952 session_manager.py:500] Running local_init_op.\n",
            "I0828 11:51:18.529466 140405899437952 session_manager.py:502] Done running local_init_op.\n",
            "I0828 11:51:20.732939 140405899437952 basic_session_run_hooks.py:606] Saving checkpoints for 8000 into gs://tputestingmnist/DCGAN/DCGAN_8/model.ckpt.\n",
            "I0828 11:51:27.996687 140405899437952 util.py:98] Initialized dataset iterators in 0 seconds\n",
            "I0828 11:51:27.998477 140405899437952 session_support.py:332] Installing graceful shutdown hook.\n",
            "I0828 11:51:28.006136 140405899437952 session_support.py:82] Creating heartbeat manager for ['/job:tpu_worker/replica:0/task:0/device:CPU:0']\n",
            "I0828 11:51:28.008987 140405899437952 session_support.py:105] Configuring worker heartbeat: shutdown_mode: WAIT_FOR_COORDINATOR\n",
            "\n",
            "I0828 11:51:28.015136 140405899437952 tpu_estimator.py:557] Init TPU system\n",
            "I0828 11:51:43.058758 140405899437952 tpu_estimator.py:566] Initialized TPU in 15 seconds\n",
            "I0828 11:51:43.060591 140404582557440 tpu_estimator.py:514] Starting infeed thread controller.\n",
            "I0828 11:51:43.062560 140404574164736 tpu_estimator.py:533] Starting outfeed thread controller.\n",
            "I0828 11:51:43.201303 140405899437952 tpu_estimator.py:590] Enqueue next (1000) batch(es) of data to infeed.\n",
            "I0828 11:51:43.202885 140405899437952 tpu_estimator.py:594] Dequeue next (1000) batch(es) of data from outfeed.\n",
            "I0828 11:51:50.010688 140404574164736 tpu_estimator.py:275] Outfeed finished for iteration (0, 0)\n",
            "I0828 11:52:10.958932 140405899437952 basic_session_run_hooks.py:606] Saving checkpoints for 9000 into gs://tputestingmnist/DCGAN/DCGAN_8/model.ckpt.\n",
            "I0828 11:52:17.496149 140405899437952 basic_session_run_hooks.py:262] loss = 4.573651, step = 9000\n",
            "I0828 11:52:18.197971 140405899437952 tpu_estimator.py:598] Stop infeed thread controller\n",
            "I0828 11:52:18.201388 140405899437952 tpu_estimator.py:430] Shutting down InfeedController thread.\n",
            "I0828 11:52:18.205585 140404582557440 tpu_estimator.py:425] InfeedController received shutdown signal, stopping.\n",
            "I0828 11:52:18.207302 140404582557440 tpu_estimator.py:530] Infeed thread finished, shutting down.\n",
            "I0828 11:52:18.208865 140405899437952 error_handling.py:96] infeed marked as finished\n",
            "I0828 11:52:18.210178 140405899437952 tpu_estimator.py:602] Stop output thread controller\n",
            "I0828 11:52:18.211125 140405899437952 tpu_estimator.py:430] Shutting down OutfeedController thread.\n",
            "I0828 11:52:18.212417 140404574164736 tpu_estimator.py:425] OutfeedController received shutdown signal, stopping.\n",
            "I0828 11:52:18.213251 140404574164736 tpu_estimator.py:541] Outfeed thread finished, shutting down.\n",
            "I0828 11:52:18.215208 140405899437952 error_handling.py:96] outfeed marked as finished\n",
            "I0828 11:52:18.216338 140405899437952 tpu_estimator.py:606] Shutdown TPU system.\n",
            "I0828 11:52:19.038678 140405899437952 estimator.py:368] Loss for final step: 4.573651.\n",
            "I0828 11:52:19.040096 140405899437952 error_handling.py:96] training_loop marked as finished\n",
            "I0828 11:52:19.211084 140405899437952 estimator.py:1145] Calling model_fn.\n"
          ],
          "name": "stderr"
        },
        {
          "output_type": "stream",
          "text": [
            "Finished training step 9000\n"
          ],
          "name": "stdout"
        },
        {
          "output_type": "stream",
          "text": [
            "I0828 11:52:21.369529 140405899437952 estimator.py:1147] Done calling model_fn.\n",
            "I0828 11:52:21.392076 140405899437952 evaluation.py:255] Starting evaluation at 2019-08-28T11:52:21Z\n",
            "I0828 11:52:21.395360 140405899437952 tpu_estimator.py:499] TPU job name tpu_worker\n",
            "I0828 11:52:21.555243 140405899437952 monitored_session.py:240] Graph was finalized.\n",
            "I0828 11:52:21.601926 140405899437952 saver.py:1280] Restoring parameters from gs://tputestingmnist/DCGAN/DCGAN_8/model.ckpt-9000\n",
            "I0828 11:52:24.705172 140405899437952 session_manager.py:500] Running local_init_op.\n",
            "I0828 11:52:24.751691 140405899437952 session_manager.py:502] Done running local_init_op.\n",
            "I0828 11:52:24.844026 140405899437952 tpu_estimator.py:557] Init TPU system\n",
            "I0828 11:52:39.116936 140405899437952 tpu_estimator.py:566] Initialized TPU in 14 seconds\n",
            "I0828 11:52:39.118686 140404582557440 tpu_estimator.py:514] Starting infeed thread controller.\n",
            "I0828 11:52:39.120186 140404574164736 tpu_estimator.py:533] Starting outfeed thread controller.\n",
            "I0828 11:52:39.121131 140405899437952 util.py:98] Initialized dataset iterators in 0 seconds\n",
            "I0828 11:52:39.167731 140405899437952 tpu_estimator.py:590] Enqueue next (1) batch(es) of data to infeed.\n",
            "I0828 11:52:39.168875 140405899437952 tpu_estimator.py:594] Dequeue next (1) batch(es) of data from outfeed.\n",
            "I0828 11:52:41.573911 140405899437952 evaluation.py:167] Evaluation [1/1]\n",
            "I0828 11:52:41.575334 140405899437952 tpu_estimator.py:598] Stop infeed thread controller\n",
            "I0828 11:52:41.574374 140404574164736 tpu_estimator.py:275] Outfeed finished for iteration (0, 0)\n",
            "I0828 11:52:41.576225 140405899437952 tpu_estimator.py:430] Shutting down InfeedController thread.\n",
            "I0828 11:52:41.578517 140404582557440 tpu_estimator.py:425] InfeedController received shutdown signal, stopping.\n",
            "I0828 11:52:41.579520 140404582557440 tpu_estimator.py:530] Infeed thread finished, shutting down.\n",
            "I0828 11:52:41.580822 140405899437952 error_handling.py:96] infeed marked as finished\n",
            "I0828 11:52:41.583289 140405899437952 tpu_estimator.py:602] Stop output thread controller\n",
            "I0828 11:52:41.584275 140405899437952 tpu_estimator.py:430] Shutting down OutfeedController thread.\n",
            "I0828 11:52:41.585631 140404574164736 tpu_estimator.py:425] OutfeedController received shutdown signal, stopping.\n",
            "I0828 11:52:41.586630 140404574164736 tpu_estimator.py:541] Outfeed thread finished, shutting down.\n",
            "I0828 11:52:41.588033 140405899437952 error_handling.py:96] outfeed marked as finished\n",
            "I0828 11:52:41.588962 140405899437952 tpu_estimator.py:606] Shutdown TPU system.\n",
            "I0828 11:52:41.875914 140405899437952 evaluation.py:275] Finished evaluation at 2019-08-28-11:52:41\n",
            "I0828 11:52:41.877152 140405899437952 estimator.py:2039] Saving dict for global step 9000: discriminator_gen_accuracy = 1.0, discriminator_loss = 1.2112657, discriminator_real_accuracy = 0.0, generator_loss = 2.0186014, global_step = 9000, loss = 3.2651057\n",
            "I0828 11:52:42.173243 140405899437952 estimator.py:2099] Saving 'checkpoint_path' summary for global step 9000: gs://tputestingmnist/DCGAN/DCGAN_8/model.ckpt-9000\n",
            "I0828 11:52:42.444960 140405899437952 error_handling.py:96] evaluation_loop marked as finished\n",
            "I0828 11:52:42.565033 140405899437952 estimator.py:1145] Calling model_fn.\n",
            "I0828 11:52:42.566175 140405899437952 tpu_estimator.py:2965] Running infer on CPU\n"
          ],
          "name": "stderr"
        },
        {
          "output_type": "stream",
          "text": [
            "Finished evaluating\n",
            "{'discriminator_gen_accuracy': 1.0, 'discriminator_loss': 1.2112657, 'discriminator_real_accuracy': 0.0, 'generator_loss': 2.0186014, 'loss': 3.2651057, 'global_step': 9000}\n"
          ],
          "name": "stdout"
        },
        {
          "output_type": "stream",
          "text": [
            "I0828 11:52:42.779582 140405899437952 estimator.py:1147] Done calling model_fn.\n",
            "I0828 11:52:42.888692 140405899437952 monitored_session.py:240] Graph was finalized.\n",
            "I0828 11:52:42.928723 140405899437952 saver.py:1280] Restoring parameters from gs://tputestingmnist/DCGAN/DCGAN_8/model.ckpt-9000\n",
            "I0828 11:52:43.151274 140405899437952 session_manager.py:500] Running local_init_op.\n",
            "I0828 11:52:43.162868 140405899437952 session_manager.py:502] Done running local_init_op.\n",
            "I0828 11:52:43.292076 140405899437952 error_handling.py:96] prediction_loop marked as finished\n",
            "I0828 11:52:43.293288 140405899437952 error_handling.py:96] prediction_loop marked as finished\n"
          ],
          "name": "stderr"
        },
        {
          "output_type": "stream",
          "text": [
            "Finished generating images\n"
          ],
          "name": "stdout"
        },
        {
          "output_type": "stream",
          "text": [
            "I0828 11:52:44.255837 140405899437952 estimator.py:1145] Calling model_fn.\n",
            "I0828 11:52:47.940005 140405899437952 basic_session_run_hooks.py:541] Create CheckpointSaverHook.\n",
            "I0828 11:52:48.002737 140405899437952 estimator.py:1147] Done calling model_fn.\n",
            "I0828 11:52:48.004147 140405899437952 tpu_estimator.py:499] TPU job name tpu_worker\n",
            "I0828 11:52:48.293241 140405899437952 monitored_session.py:240] Graph was finalized.\n",
            "I0828 11:52:48.449909 140405899437952 saver.py:1280] Restoring parameters from gs://tputestingmnist/DCGAN/DCGAN_8/model.ckpt-9000\n",
            "I0828 11:52:49.533624 140405899437952 session_manager.py:500] Running local_init_op.\n",
            "I0828 11:52:49.673501 140405899437952 session_manager.py:502] Done running local_init_op.\n",
            "I0828 11:52:51.712540 140405899437952 basic_session_run_hooks.py:606] Saving checkpoints for 9000 into gs://tputestingmnist/DCGAN/DCGAN_8/model.ckpt.\n",
            "I0828 11:52:59.408763 140405899437952 util.py:98] Initialized dataset iterators in 0 seconds\n",
            "I0828 11:52:59.410200 140405899437952 session_support.py:332] Installing graceful shutdown hook.\n",
            "I0828 11:52:59.422429 140405899437952 session_support.py:82] Creating heartbeat manager for ['/job:tpu_worker/replica:0/task:0/device:CPU:0']\n",
            "I0828 11:52:59.431971 140405899437952 session_support.py:105] Configuring worker heartbeat: shutdown_mode: WAIT_FOR_COORDINATOR\n",
            "\n",
            "I0828 11:52:59.441716 140405899437952 tpu_estimator.py:557] Init TPU system\n",
            "I0828 11:53:14.878773 140405899437952 tpu_estimator.py:566] Initialized TPU in 15 seconds\n",
            "I0828 11:53:14.881087 140404582557440 tpu_estimator.py:514] Starting infeed thread controller.\n",
            "I0828 11:53:14.883604 140404574164736 tpu_estimator.py:533] Starting outfeed thread controller.\n",
            "I0828 11:53:15.022858 140405899437952 tpu_estimator.py:590] Enqueue next (1000) batch(es) of data to infeed.\n",
            "I0828 11:53:15.024672 140405899437952 tpu_estimator.py:594] Dequeue next (1000) batch(es) of data from outfeed.\n",
            "I0828 11:53:21.914715 140404574164736 tpu_estimator.py:275] Outfeed finished for iteration (0, 0)\n",
            "I0828 11:53:42.869305 140405899437952 basic_session_run_hooks.py:606] Saving checkpoints for 10000 into gs://tputestingmnist/DCGAN/DCGAN_8/model.ckpt.\n",
            "I0828 11:53:49.712553 140405899437952 basic_session_run_hooks.py:262] loss = 4.763794, step = 10000\n",
            "I0828 11:53:50.232755 140405899437952 tpu_estimator.py:598] Stop infeed thread controller\n",
            "I0828 11:53:50.234168 140405899437952 tpu_estimator.py:430] Shutting down InfeedController thread.\n",
            "I0828 11:53:50.238949 140404582557440 tpu_estimator.py:425] InfeedController received shutdown signal, stopping.\n",
            "I0828 11:53:50.240776 140404582557440 tpu_estimator.py:530] Infeed thread finished, shutting down.\n",
            "I0828 11:53:50.242130 140405899437952 error_handling.py:96] infeed marked as finished\n",
            "I0828 11:53:50.242701 140405899437952 tpu_estimator.py:602] Stop output thread controller\n",
            "I0828 11:53:50.243184 140405899437952 tpu_estimator.py:430] Shutting down OutfeedController thread.\n",
            "I0828 11:53:50.244084 140404574164736 tpu_estimator.py:425] OutfeedController received shutdown signal, stopping.\n",
            "I0828 11:53:50.246567 140404574164736 tpu_estimator.py:541] Outfeed thread finished, shutting down.\n",
            "I0828 11:53:50.247951 140405899437952 error_handling.py:96] outfeed marked as finished\n",
            "I0828 11:53:50.248963 140405899437952 tpu_estimator.py:606] Shutdown TPU system.\n",
            "I0828 11:53:51.108991 140405899437952 estimator.py:368] Loss for final step: 4.763794.\n",
            "I0828 11:53:51.110252 140405899437952 error_handling.py:96] training_loop marked as finished\n",
            "I0828 11:53:51.273719 140405899437952 estimator.py:1145] Calling model_fn.\n"
          ],
          "name": "stderr"
        },
        {
          "output_type": "stream",
          "text": [
            "Finished training step 10000\n"
          ],
          "name": "stdout"
        },
        {
          "output_type": "stream",
          "text": [
            "I0828 11:53:53.511807 140405899437952 estimator.py:1147] Done calling model_fn.\n",
            "I0828 11:53:53.531794 140405899437952 evaluation.py:255] Starting evaluation at 2019-08-28T11:53:53Z\n",
            "I0828 11:53:53.532941 140405899437952 tpu_estimator.py:499] TPU job name tpu_worker\n",
            "I0828 11:53:53.694978 140405899437952 monitored_session.py:240] Graph was finalized.\n",
            "I0828 11:53:53.741784 140405899437952 saver.py:1280] Restoring parameters from gs://tputestingmnist/DCGAN/DCGAN_8/model.ckpt-10000\n",
            "I0828 11:53:55.620919 140405899437952 session_manager.py:500] Running local_init_op.\n",
            "I0828 11:53:55.680525 140405899437952 session_manager.py:502] Done running local_init_op.\n",
            "I0828 11:53:55.780071 140405899437952 tpu_estimator.py:557] Init TPU system\n",
            "I0828 11:54:09.467511 140405899437952 tpu_estimator.py:566] Initialized TPU in 13 seconds\n",
            "I0828 11:54:09.470086 140404582557440 tpu_estimator.py:514] Starting infeed thread controller.\n",
            "I0828 11:54:09.473306 140404574164736 tpu_estimator.py:533] Starting outfeed thread controller.\n",
            "I0828 11:54:09.473747 140405899437952 util.py:98] Initialized dataset iterators in 0 seconds\n",
            "I0828 11:54:09.521524 140405899437952 tpu_estimator.py:590] Enqueue next (1) batch(es) of data to infeed.\n",
            "I0828 11:54:09.522668 140405899437952 tpu_estimator.py:594] Dequeue next (1) batch(es) of data from outfeed.\n",
            "I0828 11:54:11.845005 140405899437952 evaluation.py:167] Evaluation [1/1]\n",
            "I0828 11:54:11.846434 140405899437952 tpu_estimator.py:598] Stop infeed thread controller\n",
            "I0828 11:54:11.845527 140404574164736 tpu_estimator.py:275] Outfeed finished for iteration (0, 0)\n",
            "I0828 11:54:11.847160 140405899437952 tpu_estimator.py:430] Shutting down InfeedController thread.\n",
            "I0828 11:54:11.849540 140404582557440 tpu_estimator.py:425] InfeedController received shutdown signal, stopping.\n",
            "I0828 11:54:11.850059 140404582557440 tpu_estimator.py:530] Infeed thread finished, shutting down.\n",
            "I0828 11:54:11.850926 140405899437952 error_handling.py:96] infeed marked as finished\n",
            "I0828 11:54:11.852023 140405899437952 tpu_estimator.py:602] Stop output thread controller\n",
            "I0828 11:54:11.852547 140405899437952 tpu_estimator.py:430] Shutting down OutfeedController thread.\n",
            "I0828 11:54:11.853908 140404574164736 tpu_estimator.py:425] OutfeedController received shutdown signal, stopping.\n",
            "I0828 11:54:11.854726 140404574164736 tpu_estimator.py:541] Outfeed thread finished, shutting down.\n",
            "I0828 11:54:11.855846 140405899437952 error_handling.py:96] outfeed marked as finished\n",
            "I0828 11:54:11.856490 140405899437952 tpu_estimator.py:606] Shutdown TPU system.\n",
            "I0828 11:54:12.130277 140405899437952 evaluation.py:275] Finished evaluation at 2019-08-28-11:54:12\n",
            "I0828 11:54:12.131361 140405899437952 estimator.py:2039] Saving dict for global step 10000: discriminator_gen_accuracy = 1.0, discriminator_loss = 1.0836015, discriminator_real_accuracy = 0.0, generator_loss = 2.101272, global_step = 10000, loss = 3.2362123\n",
            "I0828 11:54:12.631641 140405899437952 estimator.py:2099] Saving 'checkpoint_path' summary for global step 10000: gs://tputestingmnist/DCGAN/DCGAN_8/model.ckpt-10000\n",
            "I0828 11:54:12.941680 140405899437952 error_handling.py:96] evaluation_loop marked as finished\n",
            "I0828 11:54:13.056838 140405899437952 estimator.py:1145] Calling model_fn.\n",
            "I0828 11:54:13.060813 140405899437952 tpu_estimator.py:2965] Running infer on CPU\n"
          ],
          "name": "stderr"
        },
        {
          "output_type": "stream",
          "text": [
            "Finished evaluating\n",
            "{'discriminator_gen_accuracy': 1.0, 'discriminator_loss': 1.0836015, 'discriminator_real_accuracy': 0.0, 'generator_loss': 2.101272, 'loss': 3.2362123, 'global_step': 10000}\n"
          ],
          "name": "stdout"
        },
        {
          "output_type": "stream",
          "text": [
            "I0828 11:54:13.267862 140405899437952 estimator.py:1147] Done calling model_fn.\n",
            "I0828 11:54:13.375954 140405899437952 monitored_session.py:240] Graph was finalized.\n",
            "I0828 11:54:13.418135 140405899437952 saver.py:1280] Restoring parameters from gs://tputestingmnist/DCGAN/DCGAN_8/model.ckpt-10000\n",
            "I0828 11:54:13.632022 140405899437952 session_manager.py:500] Running local_init_op.\n",
            "I0828 11:54:13.642976 140405899437952 session_manager.py:502] Done running local_init_op.\n",
            "I0828 11:54:13.775751 140405899437952 error_handling.py:96] prediction_loop marked as finished\n",
            "I0828 11:54:13.776979 140405899437952 error_handling.py:96] prediction_loop marked as finished\n"
          ],
          "name": "stderr"
        },
        {
          "output_type": "stream",
          "text": [
            "Finished generating images\n"
          ],
          "name": "stdout"
        },
        {
          "output_type": "stream",
          "text": [
            "I0828 11:54:15.022552 140405899437952 estimator.py:1145] Calling model_fn.\n",
            "I0828 11:54:18.226326 140405899437952 basic_session_run_hooks.py:541] Create CheckpointSaverHook.\n",
            "I0828 11:54:18.287439 140405899437952 estimator.py:1147] Done calling model_fn.\n",
            "I0828 11:54:18.288746 140405899437952 tpu_estimator.py:499] TPU job name tpu_worker\n",
            "I0828 11:54:18.574391 140405899437952 monitored_session.py:240] Graph was finalized.\n",
            "I0828 11:54:18.701764 140405899437952 saver.py:1280] Restoring parameters from gs://tputestingmnist/DCGAN/DCGAN_8/model.ckpt-10000\n",
            "I0828 11:54:19.778796 140405899437952 session_manager.py:500] Running local_init_op.\n",
            "I0828 11:54:19.930777 140405899437952 session_manager.py:502] Done running local_init_op.\n",
            "I0828 11:54:22.569772 140405899437952 basic_session_run_hooks.py:606] Saving checkpoints for 10000 into gs://tputestingmnist/DCGAN/DCGAN_8/model.ckpt.\n",
            "I0828 11:54:29.623796 140405899437952 util.py:98] Initialized dataset iterators in 0 seconds\n",
            "I0828 11:54:29.625352 140405899437952 session_support.py:332] Installing graceful shutdown hook.\n",
            "I0828 11:54:29.637963 140405899437952 session_support.py:82] Creating heartbeat manager for ['/job:tpu_worker/replica:0/task:0/device:CPU:0']\n",
            "I0828 11:54:29.641592 140405899437952 session_support.py:105] Configuring worker heartbeat: shutdown_mode: WAIT_FOR_COORDINATOR\n",
            "\n",
            "I0828 11:54:29.649632 140405899437952 tpu_estimator.py:557] Init TPU system\n",
            "I0828 11:54:44.852898 140405899437952 tpu_estimator.py:566] Initialized TPU in 15 seconds\n",
            "I0828 11:54:44.855265 140404582557440 tpu_estimator.py:514] Starting infeed thread controller.\n",
            "I0828 11:54:44.859450 140404574164736 tpu_estimator.py:533] Starting outfeed thread controller.\n",
            "I0828 11:54:44.999657 140405899437952 tpu_estimator.py:590] Enqueue next (1000) batch(es) of data to infeed.\n",
            "I0828 11:54:45.000882 140405899437952 tpu_estimator.py:594] Dequeue next (1000) batch(es) of data from outfeed.\n",
            "I0828 11:54:51.867241 140404574164736 tpu_estimator.py:275] Outfeed finished for iteration (0, 0)\n",
            "I0828 11:55:12.833159 140405899437952 basic_session_run_hooks.py:606] Saving checkpoints for 11000 into gs://tputestingmnist/DCGAN/DCGAN_8/model.ckpt.\n",
            "I0828 11:55:20.142708 140405899437952 basic_session_run_hooks.py:262] loss = 4.9423923, step = 11000\n",
            "I0828 11:55:20.929984 140405899437952 tpu_estimator.py:598] Stop infeed thread controller\n",
            "I0828 11:55:20.931332 140405899437952 tpu_estimator.py:430] Shutting down InfeedController thread.\n",
            "I0828 11:55:20.932449 140404582557440 tpu_estimator.py:425] InfeedController received shutdown signal, stopping.\n",
            "I0828 11:55:20.934323 140404582557440 tpu_estimator.py:530] Infeed thread finished, shutting down.\n",
            "I0828 11:55:20.935822 140405899437952 error_handling.py:96] infeed marked as finished\n",
            "I0828 11:55:20.936613 140405899437952 tpu_estimator.py:602] Stop output thread controller\n",
            "I0828 11:55:20.937212 140405899437952 tpu_estimator.py:430] Shutting down OutfeedController thread.\n",
            "I0828 11:55:20.937900 140404574164736 tpu_estimator.py:425] OutfeedController received shutdown signal, stopping.\n",
            "I0828 11:55:20.938549 140404574164736 tpu_estimator.py:541] Outfeed thread finished, shutting down.\n",
            "I0828 11:55:20.939794 140405899437952 error_handling.py:96] outfeed marked as finished\n",
            "I0828 11:55:20.940357 140405899437952 tpu_estimator.py:606] Shutdown TPU system.\n",
            "I0828 11:55:21.804651 140405899437952 estimator.py:368] Loss for final step: 4.9423923.\n",
            "I0828 11:55:21.806949 140405899437952 error_handling.py:96] training_loop marked as finished\n"
          ],
          "name": "stderr"
        },
        {
          "output_type": "stream",
          "text": [
            "Finished training step 11000\n"
          ],
          "name": "stdout"
        },
        {
          "output_type": "stream",
          "text": [
            "I0828 11:55:22.024911 140405899437952 estimator.py:1145] Calling model_fn.\n",
            "I0828 11:55:24.214675 140405899437952 estimator.py:1147] Done calling model_fn.\n",
            "I0828 11:55:24.235756 140405899437952 evaluation.py:255] Starting evaluation at 2019-08-28T11:55:24Z\n",
            "I0828 11:55:24.237022 140405899437952 tpu_estimator.py:499] TPU job name tpu_worker\n",
            "I0828 11:55:24.393319 140405899437952 monitored_session.py:240] Graph was finalized.\n",
            "I0828 11:55:24.440134 140405899437952 saver.py:1280] Restoring parameters from gs://tputestingmnist/DCGAN/DCGAN_8/model.ckpt-11000\n",
            "I0828 11:55:26.415992 140405899437952 session_manager.py:500] Running local_init_op.\n",
            "I0828 11:55:26.462390 140405899437952 session_manager.py:502] Done running local_init_op.\n",
            "I0828 11:55:26.576572 140405899437952 tpu_estimator.py:557] Init TPU system\n",
            "I0828 11:55:41.430703 140405899437952 tpu_estimator.py:566] Initialized TPU in 14 seconds\n",
            "I0828 11:55:41.435820 140404582557440 tpu_estimator.py:514] Starting infeed thread controller.\n",
            "I0828 11:55:41.438367 140404574164736 tpu_estimator.py:533] Starting outfeed thread controller.\n",
            "I0828 11:55:41.438916 140405899437952 util.py:98] Initialized dataset iterators in 0 seconds\n",
            "I0828 11:55:41.492769 140405899437952 tpu_estimator.py:590] Enqueue next (1) batch(es) of data to infeed.\n",
            "I0828 11:55:41.493908 140405899437952 tpu_estimator.py:594] Dequeue next (1) batch(es) of data from outfeed.\n",
            "I0828 11:55:43.852373 140404574164736 tpu_estimator.py:275] Outfeed finished for iteration (0, 0)\n",
            "I0828 11:55:43.856629 140405899437952 evaluation.py:167] Evaluation [1/1]\n",
            "I0828 11:55:43.861651 140405899437952 tpu_estimator.py:598] Stop infeed thread controller\n",
            "I0828 11:55:43.863667 140405899437952 tpu_estimator.py:430] Shutting down InfeedController thread.\n",
            "I0828 11:55:43.869484 140404582557440 tpu_estimator.py:425] InfeedController received shutdown signal, stopping.\n",
            "I0828 11:55:43.870483 140404582557440 tpu_estimator.py:530] Infeed thread finished, shutting down.\n",
            "I0828 11:55:43.872697 140405899437952 error_handling.py:96] infeed marked as finished\n",
            "I0828 11:55:43.873661 140405899437952 tpu_estimator.py:602] Stop output thread controller\n",
            "I0828 11:55:43.874829 140405899437952 tpu_estimator.py:430] Shutting down OutfeedController thread.\n",
            "I0828 11:55:43.876255 140404574164736 tpu_estimator.py:425] OutfeedController received shutdown signal, stopping.\n",
            "I0828 11:55:43.878143 140404574164736 tpu_estimator.py:541] Outfeed thread finished, shutting down.\n",
            "I0828 11:55:43.879578 140405899437952 error_handling.py:96] outfeed marked as finished\n",
            "I0828 11:55:43.881131 140405899437952 tpu_estimator.py:606] Shutdown TPU system.\n",
            "I0828 11:55:44.161179 140405899437952 evaluation.py:275] Finished evaluation at 2019-08-28-11:55:44\n",
            "I0828 11:55:44.162622 140405899437952 estimator.py:2039] Saving dict for global step 11000: discriminator_gen_accuracy = 1.0, discriminator_loss = 1.1393067, discriminator_real_accuracy = 0.0, generator_loss = 2.2363498, global_step = 11000, loss = 3.2976718\n",
            "I0828 11:55:44.428790 140405899437952 estimator.py:2099] Saving 'checkpoint_path' summary for global step 11000: gs://tputestingmnist/DCGAN/DCGAN_8/model.ckpt-11000\n",
            "I0828 11:55:44.720152 140405899437952 error_handling.py:96] evaluation_loop marked as finished\n",
            "I0828 11:55:44.821224 140405899437952 estimator.py:1145] Calling model_fn.\n",
            "I0828 11:55:44.822342 140405899437952 tpu_estimator.py:2965] Running infer on CPU\n"
          ],
          "name": "stderr"
        },
        {
          "output_type": "stream",
          "text": [
            "Finished evaluating\n",
            "{'discriminator_gen_accuracy': 1.0, 'discriminator_loss': 1.1393067, 'discriminator_real_accuracy': 0.0, 'generator_loss': 2.2363498, 'loss': 3.2976718, 'global_step': 11000}\n"
          ],
          "name": "stdout"
        },
        {
          "output_type": "stream",
          "text": [
            "I0828 11:55:45.032418 140405899437952 estimator.py:1147] Done calling model_fn.\n",
            "I0828 11:55:45.144461 140405899437952 monitored_session.py:240] Graph was finalized.\n",
            "I0828 11:55:45.184111 140405899437952 saver.py:1280] Restoring parameters from gs://tputestingmnist/DCGAN/DCGAN_8/model.ckpt-11000\n",
            "I0828 11:55:45.399092 140405899437952 session_manager.py:500] Running local_init_op.\n",
            "I0828 11:55:45.411645 140405899437952 session_manager.py:502] Done running local_init_op.\n",
            "I0828 11:55:45.546641 140405899437952 error_handling.py:96] prediction_loop marked as finished\n",
            "I0828 11:55:45.547846 140405899437952 error_handling.py:96] prediction_loop marked as finished\n"
          ],
          "name": "stderr"
        },
        {
          "output_type": "stream",
          "text": [
            "Finished generating images\n"
          ],
          "name": "stdout"
        },
        {
          "output_type": "stream",
          "text": [
            "I0828 11:55:46.797680 140405899437952 estimator.py:1145] Calling model_fn.\n",
            "I0828 11:55:50.061638 140405899437952 basic_session_run_hooks.py:541] Create CheckpointSaverHook.\n",
            "I0828 11:55:50.123637 140405899437952 estimator.py:1147] Done calling model_fn.\n",
            "I0828 11:55:50.124964 140405899437952 tpu_estimator.py:499] TPU job name tpu_worker\n",
            "I0828 11:55:50.419191 140405899437952 monitored_session.py:240] Graph was finalized.\n",
            "I0828 11:55:50.563585 140405899437952 saver.py:1280] Restoring parameters from gs://tputestingmnist/DCGAN/DCGAN_8/model.ckpt-11000\n",
            "I0828 11:55:51.687849 140405899437952 session_manager.py:500] Running local_init_op.\n",
            "I0828 11:55:51.841012 140405899437952 session_manager.py:502] Done running local_init_op.\n",
            "I0828 11:55:53.954441 140405899437952 basic_session_run_hooks.py:606] Saving checkpoints for 11000 into gs://tputestingmnist/DCGAN/DCGAN_8/model.ckpt.\n",
            "I0828 11:56:02.005895 140405899437952 util.py:98] Initialized dataset iterators in 0 seconds\n",
            "I0828 11:56:02.007217 140405899437952 session_support.py:332] Installing graceful shutdown hook.\n",
            "I0828 11:56:02.013764 140405899437952 session_support.py:82] Creating heartbeat manager for ['/job:tpu_worker/replica:0/task:0/device:CPU:0']\n",
            "I0828 11:56:02.018346 140405899437952 session_support.py:105] Configuring worker heartbeat: shutdown_mode: WAIT_FOR_COORDINATOR\n",
            "\n",
            "I0828 11:56:02.024440 140405899437952 tpu_estimator.py:557] Init TPU system\n",
            "I0828 11:56:17.159271 140405899437952 tpu_estimator.py:566] Initialized TPU in 15 seconds\n",
            "I0828 11:56:17.161247 140404593051392 tpu_estimator.py:514] Starting infeed thread controller.\n",
            "I0828 11:56:17.162709 140404584658688 tpu_estimator.py:533] Starting outfeed thread controller.\n",
            "I0828 11:56:17.315074 140405899437952 tpu_estimator.py:590] Enqueue next (1000) batch(es) of data to infeed.\n",
            "I0828 11:56:17.316270 140405899437952 tpu_estimator.py:594] Dequeue next (1000) batch(es) of data from outfeed.\n",
            "I0828 11:56:24.268172 140404584658688 tpu_estimator.py:275] Outfeed finished for iteration (0, 0)\n",
            "I0828 11:56:45.228881 140405899437952 basic_session_run_hooks.py:606] Saving checkpoints for 12000 into gs://tputestingmnist/DCGAN/DCGAN_8/model.ckpt.\n",
            "I0828 11:56:53.375638 140405899437952 basic_session_run_hooks.py:262] loss = 4.826356, step = 12000\n",
            "I0828 11:56:54.053298 140405899437952 tpu_estimator.py:598] Stop infeed thread controller\n",
            "I0828 11:56:54.054835 140405899437952 tpu_estimator.py:430] Shutting down InfeedController thread.\n",
            "I0828 11:56:54.056753 140404593051392 tpu_estimator.py:425] InfeedController received shutdown signal, stopping.\n",
            "I0828 11:56:54.059681 140404593051392 tpu_estimator.py:530] Infeed thread finished, shutting down.\n",
            "I0828 11:56:54.060926 140405899437952 error_handling.py:96] infeed marked as finished\n",
            "I0828 11:56:54.062095 140405899437952 tpu_estimator.py:602] Stop output thread controller\n",
            "I0828 11:56:54.062973 140405899437952 tpu_estimator.py:430] Shutting down OutfeedController thread.\n",
            "I0828 11:56:54.063968 140404584658688 tpu_estimator.py:425] OutfeedController received shutdown signal, stopping.\n",
            "I0828 11:56:54.064815 140404584658688 tpu_estimator.py:541] Outfeed thread finished, shutting down.\n",
            "I0828 11:56:54.066520 140405899437952 error_handling.py:96] outfeed marked as finished\n",
            "I0828 11:56:54.067686 140405899437952 tpu_estimator.py:606] Shutdown TPU system.\n",
            "I0828 11:56:54.892259 140405899437952 estimator.py:368] Loss for final step: 4.826356.\n",
            "I0828 11:56:54.893422 140405899437952 error_handling.py:96] training_loop marked as finished\n",
            "I0828 11:56:55.058498 140405899437952 estimator.py:1145] Calling model_fn.\n"
          ],
          "name": "stderr"
        },
        {
          "output_type": "stream",
          "text": [
            "Finished training step 12000\n"
          ],
          "name": "stdout"
        },
        {
          "output_type": "stream",
          "text": [
            "I0828 11:56:57.347499 140405899437952 estimator.py:1147] Done calling model_fn.\n",
            "I0828 11:56:57.370569 140405899437952 evaluation.py:255] Starting evaluation at 2019-08-28T11:56:57Z\n",
            "I0828 11:56:57.371798 140405899437952 tpu_estimator.py:499] TPU job name tpu_worker\n",
            "I0828 11:56:57.529806 140405899437952 monitored_session.py:240] Graph was finalized.\n",
            "I0828 11:56:57.574374 140405899437952 saver.py:1280] Restoring parameters from gs://tputestingmnist/DCGAN/DCGAN_8/model.ckpt-12000\n",
            "I0828 11:57:00.523983 140405899437952 session_manager.py:500] Running local_init_op.\n",
            "I0828 11:57:00.569341 140405899437952 session_manager.py:502] Done running local_init_op.\n",
            "I0828 11:57:00.662760 140405899437952 tpu_estimator.py:557] Init TPU system\n",
            "I0828 11:57:14.926672 140405899437952 tpu_estimator.py:566] Initialized TPU in 14 seconds\n",
            "I0828 11:57:14.928501 140404584658688 tpu_estimator.py:514] Starting infeed thread controller.\n",
            "I0828 11:57:14.929196 140404576265984 tpu_estimator.py:533] Starting outfeed thread controller.\n",
            "I0828 11:57:14.934698 140405899437952 util.py:98] Initialized dataset iterators in 0 seconds\n",
            "I0828 11:57:14.985498 140405899437952 tpu_estimator.py:590] Enqueue next (1) batch(es) of data to infeed.\n",
            "I0828 11:57:14.986989 140405899437952 tpu_estimator.py:594] Dequeue next (1) batch(es) of data from outfeed.\n",
            "I0828 11:57:17.383137 140404576265984 tpu_estimator.py:275] Outfeed finished for iteration (0, 0)\n",
            "I0828 11:57:17.386056 140405899437952 evaluation.py:167] Evaluation [1/1]\n",
            "I0828 11:57:17.389367 140405899437952 tpu_estimator.py:598] Stop infeed thread controller\n",
            "I0828 11:57:17.390903 140405899437952 tpu_estimator.py:430] Shutting down InfeedController thread.\n",
            "I0828 11:57:17.392503 140404584658688 tpu_estimator.py:425] InfeedController received shutdown signal, stopping.\n",
            "I0828 11:57:17.395437 140404584658688 tpu_estimator.py:530] Infeed thread finished, shutting down.\n",
            "I0828 11:57:17.397252 140405899437952 error_handling.py:96] infeed marked as finished\n",
            "I0828 11:57:17.399515 140405899437952 tpu_estimator.py:602] Stop output thread controller\n",
            "I0828 11:57:17.400470 140405899437952 tpu_estimator.py:430] Shutting down OutfeedController thread.\n",
            "I0828 11:57:17.403290 140404576265984 tpu_estimator.py:425] OutfeedController received shutdown signal, stopping.\n",
            "I0828 11:57:17.404341 140404576265984 tpu_estimator.py:541] Outfeed thread finished, shutting down.\n",
            "I0828 11:57:17.406022 140405899437952 error_handling.py:96] outfeed marked as finished\n",
            "I0828 11:57:17.407614 140405899437952 tpu_estimator.py:606] Shutdown TPU system.\n",
            "I0828 11:57:17.691248 140405899437952 evaluation.py:275] Finished evaluation at 2019-08-28-11:57:17\n",
            "I0828 11:57:17.692357 140405899437952 estimator.py:2039] Saving dict for global step 12000: discriminator_gen_accuracy = 1.0, discriminator_loss = 1.0239894, discriminator_real_accuracy = 0.0009765625, generator_loss = 2.9924903, global_step = 12000, loss = 3.936956\n",
            "I0828 11:57:17.927698 140405899437952 estimator.py:2099] Saving 'checkpoint_path' summary for global step 12000: gs://tputestingmnist/DCGAN/DCGAN_8/model.ckpt-12000\n",
            "I0828 11:57:18.243887 140405899437952 error_handling.py:96] evaluation_loop marked as finished\n",
            "I0828 11:57:18.359726 140405899437952 estimator.py:1145] Calling model_fn.\n",
            "I0828 11:57:18.363441 140405899437952 tpu_estimator.py:2965] Running infer on CPU\n"
          ],
          "name": "stderr"
        },
        {
          "output_type": "stream",
          "text": [
            "Finished evaluating\n",
            "{'discriminator_gen_accuracy': 1.0, 'discriminator_loss': 1.0239894, 'discriminator_real_accuracy': 0.0009765625, 'generator_loss': 2.9924903, 'loss': 3.936956, 'global_step': 12000}\n"
          ],
          "name": "stdout"
        },
        {
          "output_type": "stream",
          "text": [
            "I0828 11:57:18.577952 140405899437952 estimator.py:1147] Done calling model_fn.\n",
            "I0828 11:57:18.987644 140405899437952 monitored_session.py:240] Graph was finalized.\n",
            "I0828 11:57:19.042034 140405899437952 saver.py:1280] Restoring parameters from gs://tputestingmnist/DCGAN/DCGAN_8/model.ckpt-12000\n",
            "I0828 11:57:19.234498 140405899437952 session_manager.py:500] Running local_init_op.\n",
            "I0828 11:57:19.246733 140405899437952 session_manager.py:502] Done running local_init_op.\n",
            "I0828 11:57:19.376998 140405899437952 error_handling.py:96] prediction_loop marked as finished\n",
            "I0828 11:57:19.378423 140405899437952 error_handling.py:96] prediction_loop marked as finished\n"
          ],
          "name": "stderr"
        },
        {
          "output_type": "stream",
          "text": [
            "Finished generating images\n"
          ],
          "name": "stdout"
        },
        {
          "output_type": "stream",
          "text": [
            "I0828 11:57:20.361136 140405899437952 estimator.py:1145] Calling model_fn.\n",
            "I0828 11:57:23.727818 140405899437952 basic_session_run_hooks.py:541] Create CheckpointSaverHook.\n",
            "I0828 11:57:23.788792 140405899437952 estimator.py:1147] Done calling model_fn.\n",
            "I0828 11:57:23.790226 140405899437952 tpu_estimator.py:499] TPU job name tpu_worker\n",
            "I0828 11:57:24.080160 140405899437952 monitored_session.py:240] Graph was finalized.\n",
            "I0828 11:57:24.217952 140405899437952 saver.py:1280] Restoring parameters from gs://tputestingmnist/DCGAN/DCGAN_8/model.ckpt-12000\n",
            "I0828 11:57:25.277391 140405899437952 session_manager.py:500] Running local_init_op.\n",
            "I0828 11:57:25.419455 140405899437952 session_manager.py:502] Done running local_init_op.\n",
            "I0828 11:57:27.474206 140405899437952 basic_session_run_hooks.py:606] Saving checkpoints for 12000 into gs://tputestingmnist/DCGAN/DCGAN_8/model.ckpt.\n",
            "I0828 11:57:34.248299 140405899437952 util.py:98] Initialized dataset iterators in 0 seconds\n",
            "I0828 11:57:34.251357 140405899437952 session_support.py:332] Installing graceful shutdown hook.\n",
            "I0828 11:57:34.257301 140405899437952 session_support.py:82] Creating heartbeat manager for ['/job:tpu_worker/replica:0/task:0/device:CPU:0']\n",
            "I0828 11:57:34.264352 140405899437952 session_support.py:105] Configuring worker heartbeat: shutdown_mode: WAIT_FOR_COORDINATOR\n",
            "\n",
            "I0828 11:57:34.270882 140405899437952 tpu_estimator.py:557] Init TPU system\n",
            "I0828 11:57:49.112037 140405899437952 tpu_estimator.py:566] Initialized TPU in 14 seconds\n",
            "I0828 11:57:49.113905 140404582561536 tpu_estimator.py:514] Starting infeed thread controller.\n",
            "I0828 11:57:49.116136 140404574168832 tpu_estimator.py:533] Starting outfeed thread controller.\n",
            "I0828 11:57:49.251786 140405899437952 tpu_estimator.py:590] Enqueue next (1000) batch(es) of data to infeed.\n",
            "I0828 11:57:49.253074 140405899437952 tpu_estimator.py:594] Dequeue next (1000) batch(es) of data from outfeed.\n",
            "I0828 11:57:56.228070 140404574168832 tpu_estimator.py:275] Outfeed finished for iteration (0, 0)\n",
            "I0828 11:58:17.182671 140405899437952 basic_session_run_hooks.py:606] Saving checkpoints for 13000 into gs://tputestingmnist/DCGAN/DCGAN_8/model.ckpt.\n",
            "I0828 11:58:25.093916 140405899437952 basic_session_run_hooks.py:262] loss = 5.0532866, step = 13000\n",
            "I0828 11:58:25.640265 140405899437952 tpu_estimator.py:598] Stop infeed thread controller\n",
            "I0828 11:58:25.641577 140405899437952 tpu_estimator.py:430] Shutting down InfeedController thread.\n",
            "I0828 11:58:25.642448 140404582561536 tpu_estimator.py:425] InfeedController received shutdown signal, stopping.\n",
            "I0828 11:58:25.649533 140404582561536 tpu_estimator.py:530] Infeed thread finished, shutting down.\n",
            "I0828 11:58:25.658016 140405899437952 error_handling.py:96] infeed marked as finished\n",
            "I0828 11:58:25.660224 140405899437952 tpu_estimator.py:602] Stop output thread controller\n",
            "I0828 11:58:25.660924 140405899437952 tpu_estimator.py:430] Shutting down OutfeedController thread.\n",
            "I0828 11:58:25.662889 140404574168832 tpu_estimator.py:425] OutfeedController received shutdown signal, stopping.\n",
            "I0828 11:58:25.663378 140404574168832 tpu_estimator.py:541] Outfeed thread finished, shutting down.\n",
            "I0828 11:58:25.664454 140405899437952 error_handling.py:96] outfeed marked as finished\n",
            "I0828 11:58:25.665058 140405899437952 tpu_estimator.py:606] Shutdown TPU system.\n",
            "I0828 11:58:26.525106 140405899437952 estimator.py:368] Loss for final step: 5.0532866.\n",
            "I0828 11:58:26.526441 140405899437952 error_handling.py:96] training_loop marked as finished\n",
            "I0828 11:58:26.711462 140405899437952 estimator.py:1145] Calling model_fn.\n"
          ],
          "name": "stderr"
        },
        {
          "output_type": "stream",
          "text": [
            "Finished training step 13000\n"
          ],
          "name": "stdout"
        },
        {
          "output_type": "stream",
          "text": [
            "I0828 11:58:28.972909 140405899437952 estimator.py:1147] Done calling model_fn.\n",
            "I0828 11:58:28.994933 140405899437952 evaluation.py:255] Starting evaluation at 2019-08-28T11:58:28Z\n",
            "I0828 11:58:28.996226 140405899437952 tpu_estimator.py:499] TPU job name tpu_worker\n",
            "I0828 11:58:29.156123 140405899437952 monitored_session.py:240] Graph was finalized.\n",
            "I0828 11:58:29.222794 140405899437952 saver.py:1280] Restoring parameters from gs://tputestingmnist/DCGAN/DCGAN_8/model.ckpt-13000\n",
            "I0828 11:58:32.553136 140405899437952 session_manager.py:500] Running local_init_op.\n",
            "I0828 11:58:32.614526 140405899437952 session_manager.py:502] Done running local_init_op.\n",
            "I0828 11:58:32.721607 140405899437952 tpu_estimator.py:557] Init TPU system\n",
            "I0828 11:58:46.890924 140405899437952 tpu_estimator.py:566] Initialized TPU in 14 seconds\n",
            "I0828 11:58:46.892792 140404582561536 tpu_estimator.py:514] Starting infeed thread controller.\n",
            "I0828 11:58:46.894556 140404574168832 tpu_estimator.py:533] Starting outfeed thread controller.\n",
            "I0828 11:58:46.894842 140405899437952 util.py:98] Initialized dataset iterators in 0 seconds\n",
            "I0828 11:58:46.943674 140405899437952 tpu_estimator.py:590] Enqueue next (1) batch(es) of data to infeed.\n",
            "I0828 11:58:46.944943 140405899437952 tpu_estimator.py:594] Dequeue next (1) batch(es) of data from outfeed.\n",
            "I0828 11:58:49.263827 140405899437952 evaluation.py:167] Evaluation [1/1]\n",
            "I0828 11:58:49.265813 140405899437952 tpu_estimator.py:598] Stop infeed thread controller\n",
            "I0828 11:58:49.266913 140405899437952 tpu_estimator.py:430] Shutting down InfeedController thread.\n",
            "I0828 11:58:49.267902 140404582561536 tpu_estimator.py:425] InfeedController received shutdown signal, stopping.\n",
            "I0828 11:58:49.268794 140404582561536 tpu_estimator.py:530] Infeed thread finished, shutting down.\n",
            "I0828 11:58:49.265596 140404574168832 tpu_estimator.py:275] Outfeed finished for iteration (0, 0)\n",
            "I0828 11:58:49.270159 140405899437952 error_handling.py:96] infeed marked as finished\n",
            "I0828 11:58:49.271801 140405899437952 tpu_estimator.py:602] Stop output thread controller\n",
            "I0828 11:58:49.272730 140405899437952 tpu_estimator.py:430] Shutting down OutfeedController thread.\n",
            "I0828 11:58:49.273666 140404574168832 tpu_estimator.py:425] OutfeedController received shutdown signal, stopping.\n",
            "I0828 11:58:49.274605 140404574168832 tpu_estimator.py:541] Outfeed thread finished, shutting down.\n",
            "I0828 11:58:49.275713 140405899437952 error_handling.py:96] outfeed marked as finished\n",
            "I0828 11:58:49.277345 140405899437952 tpu_estimator.py:606] Shutdown TPU system.\n",
            "I0828 11:58:49.573265 140405899437952 evaluation.py:275] Finished evaluation at 2019-08-28-11:58:49\n",
            "I0828 11:58:49.574628 140405899437952 estimator.py:2039] Saving dict for global step 13000: discriminator_gen_accuracy = 1.0, discriminator_loss = 0.97900933, discriminator_real_accuracy = 0.08984375, generator_loss = 2.1100168, global_step = 13000, loss = 3.1733541\n",
            "I0828 11:58:49.926126 140405899437952 estimator.py:2099] Saving 'checkpoint_path' summary for global step 13000: gs://tputestingmnist/DCGAN/DCGAN_8/model.ckpt-13000\n",
            "I0828 11:58:50.169258 140405899437952 error_handling.py:96] evaluation_loop marked as finished\n",
            "I0828 11:58:50.302363 140405899437952 estimator.py:1145] Calling model_fn.\n",
            "I0828 11:58:50.307460 140405899437952 tpu_estimator.py:2965] Running infer on CPU\n"
          ],
          "name": "stderr"
        },
        {
          "output_type": "stream",
          "text": [
            "Finished evaluating\n",
            "{'discriminator_gen_accuracy': 1.0, 'discriminator_loss': 0.97900933, 'discriminator_real_accuracy': 0.08984375, 'generator_loss': 2.1100168, 'loss': 3.1733541, 'global_step': 13000}\n"
          ],
          "name": "stdout"
        },
        {
          "output_type": "stream",
          "text": [
            "I0828 11:58:50.517225 140405899437952 estimator.py:1147] Done calling model_fn.\n",
            "I0828 11:58:50.963994 140405899437952 monitored_session.py:240] Graph was finalized.\n",
            "I0828 11:58:51.005859 140405899437952 saver.py:1280] Restoring parameters from gs://tputestingmnist/DCGAN/DCGAN_8/model.ckpt-13000\n",
            "I0828 11:58:51.238992 140405899437952 session_manager.py:500] Running local_init_op.\n",
            "I0828 11:58:51.252357 140405899437952 session_manager.py:502] Done running local_init_op.\n",
            "I0828 11:58:51.387575 140405899437952 error_handling.py:96] prediction_loop marked as finished\n",
            "I0828 11:58:51.389103 140405899437952 error_handling.py:96] prediction_loop marked as finished\n"
          ],
          "name": "stderr"
        },
        {
          "output_type": "stream",
          "text": [
            "Finished generating images\n"
          ],
          "name": "stdout"
        },
        {
          "output_type": "stream",
          "text": [
            "I0828 11:58:52.629901 140405899437952 estimator.py:1145] Calling model_fn.\n",
            "I0828 11:58:55.998491 140405899437952 basic_session_run_hooks.py:541] Create CheckpointSaverHook.\n",
            "I0828 11:58:56.060708 140405899437952 estimator.py:1147] Done calling model_fn.\n",
            "I0828 11:58:56.064465 140405899437952 tpu_estimator.py:499] TPU job name tpu_worker\n",
            "I0828 11:58:56.350183 140405899437952 monitored_session.py:240] Graph was finalized.\n",
            "I0828 11:58:56.484996 140405899437952 saver.py:1280] Restoring parameters from gs://tputestingmnist/DCGAN/DCGAN_8/model.ckpt-13000\n",
            "I0828 11:58:57.631498 140405899437952 session_manager.py:500] Running local_init_op.\n",
            "I0828 11:58:57.771491 140405899437952 session_manager.py:502] Done running local_init_op.\n",
            "I0828 11:59:00.555187 140405899437952 basic_session_run_hooks.py:606] Saving checkpoints for 13000 into gs://tputestingmnist/DCGAN/DCGAN_8/model.ckpt.\n",
            "I0828 11:59:08.070897 140405899437952 util.py:98] Initialized dataset iterators in 0 seconds\n",
            "I0828 11:59:08.072224 140405899437952 session_support.py:332] Installing graceful shutdown hook.\n",
            "I0828 11:59:08.075923 140405899437952 session_support.py:82] Creating heartbeat manager for ['/job:tpu_worker/replica:0/task:0/device:CPU:0']\n",
            "I0828 11:59:08.081695 140405899437952 session_support.py:105] Configuring worker heartbeat: shutdown_mode: WAIT_FOR_COORDINATOR\n",
            "\n",
            "I0828 11:59:08.087705 140405899437952 tpu_estimator.py:557] Init TPU system\n",
            "I0828 11:59:23.079332 140405899437952 tpu_estimator.py:566] Initialized TPU in 14 seconds\n",
            "I0828 11:59:23.081081 140404582561536 tpu_estimator.py:514] Starting infeed thread controller.\n",
            "I0828 11:59:23.081777 140404574168832 tpu_estimator.py:533] Starting outfeed thread controller.\n",
            "I0828 11:59:23.234098 140405899437952 tpu_estimator.py:590] Enqueue next (1000) batch(es) of data to infeed.\n",
            "I0828 11:59:23.235473 140405899437952 tpu_estimator.py:594] Dequeue next (1000) batch(es) of data from outfeed.\n",
            "I0828 11:59:30.208304 140404574168832 tpu_estimator.py:275] Outfeed finished for iteration (0, 0)\n",
            "I0828 11:59:51.156853 140405899437952 basic_session_run_hooks.py:606] Saving checkpoints for 14000 into gs://tputestingmnist/DCGAN/DCGAN_8/model.ckpt.\n",
            "I0828 11:59:57.316686 140405899437952 basic_session_run_hooks.py:262] loss = 4.4754553, step = 14000\n",
            "I0828 11:59:58.009558 140405899437952 tpu_estimator.py:598] Stop infeed thread controller\n",
            "I0828 11:59:58.010842 140405899437952 tpu_estimator.py:430] Shutting down InfeedController thread.\n",
            "I0828 11:59:58.012008 140404582561536 tpu_estimator.py:425] InfeedController received shutdown signal, stopping.\n",
            "I0828 11:59:58.013050 140404582561536 tpu_estimator.py:530] Infeed thread finished, shutting down.\n",
            "I0828 11:59:58.014500 140405899437952 error_handling.py:96] infeed marked as finished\n",
            "I0828 11:59:58.017473 140405899437952 tpu_estimator.py:602] Stop output thread controller\n",
            "I0828 11:59:58.018548 140405899437952 tpu_estimator.py:430] Shutting down OutfeedController thread.\n",
            "I0828 11:59:58.020247 140404574168832 tpu_estimator.py:425] OutfeedController received shutdown signal, stopping.\n",
            "I0828 11:59:58.021752 140404574168832 tpu_estimator.py:541] Outfeed thread finished, shutting down.\n",
            "I0828 11:59:58.024919 140405899437952 error_handling.py:96] outfeed marked as finished\n",
            "I0828 11:59:58.026346 140405899437952 tpu_estimator.py:606] Shutdown TPU system.\n",
            "I0828 11:59:58.880782 140405899437952 estimator.py:368] Loss for final step: 4.4754553.\n",
            "I0828 11:59:58.882090 140405899437952 error_handling.py:96] training_loop marked as finished\n"
          ],
          "name": "stderr"
        },
        {
          "output_type": "stream",
          "text": [
            "Finished training step 14000\n"
          ],
          "name": "stdout"
        },
        {
          "output_type": "stream",
          "text": [
            "I0828 11:59:59.160258 140405899437952 estimator.py:1145] Calling model_fn.\n",
            "I0828 12:00:01.486221 140405899437952 estimator.py:1147] Done calling model_fn.\n",
            "I0828 12:00:01.507714 140405899437952 evaluation.py:255] Starting evaluation at 2019-08-28T12:00:01Z\n",
            "I0828 12:00:01.508885 140405899437952 tpu_estimator.py:499] TPU job name tpu_worker\n",
            "I0828 12:00:01.668611 140405899437952 monitored_session.py:240] Graph was finalized.\n",
            "I0828 12:00:01.720486 140405899437952 saver.py:1280] Restoring parameters from gs://tputestingmnist/DCGAN/DCGAN_8/model.ckpt-14000\n",
            "I0828 12:00:05.357522 140405899437952 session_manager.py:500] Running local_init_op.\n",
            "I0828 12:00:05.415030 140405899437952 session_manager.py:502] Done running local_init_op.\n",
            "I0828 12:00:05.504115 140405899437952 tpu_estimator.py:557] Init TPU system\n",
            "I0828 12:00:19.822388 140405899437952 tpu_estimator.py:566] Initialized TPU in 14 seconds\n",
            "I0828 12:00:19.824015 140404574168832 tpu_estimator.py:514] Starting infeed thread controller.\n",
            "I0828 12:00:19.825490 140404565776128 tpu_estimator.py:533] Starting outfeed thread controller.\n",
            "I0828 12:00:19.825797 140405899437952 util.py:98] Initialized dataset iterators in 0 seconds\n",
            "I0828 12:00:19.875106 140405899437952 tpu_estimator.py:590] Enqueue next (1) batch(es) of data to infeed.\n",
            "I0828 12:00:19.876328 140405899437952 tpu_estimator.py:594] Dequeue next (1) batch(es) of data from outfeed.\n",
            "I0828 12:00:22.272382 140404565776128 tpu_estimator.py:275] Outfeed finished for iteration (0, 0)\n",
            "I0828 12:00:22.274600 140405899437952 evaluation.py:167] Evaluation [1/1]\n",
            "I0828 12:00:22.275463 140405899437952 tpu_estimator.py:598] Stop infeed thread controller\n",
            "I0828 12:00:22.276326 140405899437952 tpu_estimator.py:430] Shutting down InfeedController thread.\n",
            "I0828 12:00:22.277659 140404574168832 tpu_estimator.py:425] InfeedController received shutdown signal, stopping.\n",
            "I0828 12:00:22.280918 140404574168832 tpu_estimator.py:530] Infeed thread finished, shutting down.\n",
            "I0828 12:00:22.282469 140405899437952 error_handling.py:96] infeed marked as finished\n",
            "I0828 12:00:22.284287 140405899437952 tpu_estimator.py:602] Stop output thread controller\n",
            "I0828 12:00:22.285740 140405899437952 tpu_estimator.py:430] Shutting down OutfeedController thread.\n",
            "I0828 12:00:22.287508 140404565776128 tpu_estimator.py:425] OutfeedController received shutdown signal, stopping.\n",
            "I0828 12:00:22.288259 140404565776128 tpu_estimator.py:541] Outfeed thread finished, shutting down.\n",
            "I0828 12:00:22.289135 140405899437952 error_handling.py:96] outfeed marked as finished\n",
            "I0828 12:00:22.290032 140405899437952 tpu_estimator.py:606] Shutdown TPU system.\n",
            "I0828 12:00:22.568266 140405899437952 evaluation.py:275] Finished evaluation at 2019-08-28-12:00:22\n",
            "I0828 12:00:22.569715 140405899437952 estimator.py:2039] Saving dict for global step 14000: discriminator_gen_accuracy = 1.0, discriminator_loss = 1.0641731, discriminator_real_accuracy = 0.0068359375, generator_loss = 1.926358, global_step = 14000, loss = 2.9817119\n",
            "I0828 12:00:22.846108 140405899437952 estimator.py:2099] Saving 'checkpoint_path' summary for global step 14000: gs://tputestingmnist/DCGAN/DCGAN_8/model.ckpt-14000\n",
            "I0828 12:00:23.139514 140405899437952 error_handling.py:96] evaluation_loop marked as finished\n",
            "I0828 12:00:23.237509 140405899437952 estimator.py:1145] Calling model_fn.\n",
            "I0828 12:00:23.238796 140405899437952 tpu_estimator.py:2965] Running infer on CPU\n"
          ],
          "name": "stderr"
        },
        {
          "output_type": "stream",
          "text": [
            "Finished evaluating\n",
            "{'discriminator_gen_accuracy': 1.0, 'discriminator_loss': 1.0641731, 'discriminator_real_accuracy': 0.0068359375, 'generator_loss': 1.926358, 'loss': 2.9817119, 'global_step': 14000}\n"
          ],
          "name": "stdout"
        },
        {
          "output_type": "stream",
          "text": [
            "I0828 12:00:23.454069 140405899437952 estimator.py:1147] Done calling model_fn.\n",
            "I0828 12:00:23.566511 140405899437952 monitored_session.py:240] Graph was finalized.\n",
            "I0828 12:00:23.611464 140405899437952 saver.py:1280] Restoring parameters from gs://tputestingmnist/DCGAN/DCGAN_8/model.ckpt-14000\n",
            "I0828 12:00:23.798225 140405899437952 session_manager.py:500] Running local_init_op.\n",
            "I0828 12:00:23.811003 140405899437952 session_manager.py:502] Done running local_init_op.\n",
            "I0828 12:00:23.941850 140405899437952 error_handling.py:96] prediction_loop marked as finished\n",
            "I0828 12:00:23.943164 140405899437952 error_handling.py:96] prediction_loop marked as finished\n"
          ],
          "name": "stderr"
        },
        {
          "output_type": "stream",
          "text": [
            "Finished generating images\n"
          ],
          "name": "stdout"
        },
        {
          "output_type": "stream",
          "text": [
            "I0828 12:00:25.486299 140405899437952 estimator.py:1145] Calling model_fn.\n",
            "I0828 12:00:28.787011 140405899437952 basic_session_run_hooks.py:541] Create CheckpointSaverHook.\n",
            "I0828 12:00:28.848372 140405899437952 estimator.py:1147] Done calling model_fn.\n",
            "I0828 12:00:28.849738 140405899437952 tpu_estimator.py:499] TPU job name tpu_worker\n",
            "I0828 12:00:29.136103 140405899437952 monitored_session.py:240] Graph was finalized.\n",
            "I0828 12:00:29.384685 140405899437952 saver.py:1280] Restoring parameters from gs://tputestingmnist/DCGAN/DCGAN_8/model.ckpt-14000\n",
            "I0828 12:00:30.574638 140405899437952 session_manager.py:500] Running local_init_op.\n",
            "I0828 12:00:30.726851 140405899437952 session_manager.py:502] Done running local_init_op.\n",
            "I0828 12:00:32.853971 140405899437952 basic_session_run_hooks.py:606] Saving checkpoints for 14000 into gs://tputestingmnist/DCGAN/DCGAN_8/model.ckpt.\n",
            "I0828 12:00:40.171978 140405899437952 util.py:98] Initialized dataset iterators in 0 seconds\n",
            "I0828 12:00:40.173336 140405899437952 session_support.py:332] Installing graceful shutdown hook.\n",
            "I0828 12:00:40.181707 140405899437952 session_support.py:82] Creating heartbeat manager for ['/job:tpu_worker/replica:0/task:0/device:CPU:0']\n",
            "I0828 12:00:40.189476 140405899437952 session_support.py:105] Configuring worker heartbeat: shutdown_mode: WAIT_FOR_COORDINATOR\n",
            "\n",
            "I0828 12:00:40.197004 140405899437952 tpu_estimator.py:557] Init TPU system\n",
            "I0828 12:00:55.126724 140405899437952 tpu_estimator.py:566] Initialized TPU in 14 seconds\n",
            "I0828 12:00:55.128757 140404574168832 tpu_estimator.py:514] Starting infeed thread controller.\n",
            "I0828 12:00:55.130321 140404565776128 tpu_estimator.py:533] Starting outfeed thread controller.\n",
            "I0828 12:00:55.279982 140405899437952 tpu_estimator.py:590] Enqueue next (1000) batch(es) of data to infeed.\n",
            "I0828 12:00:55.281188 140405899437952 tpu_estimator.py:594] Dequeue next (1000) batch(es) of data from outfeed.\n",
            "I0828 12:01:02.245989 140404565776128 tpu_estimator.py:275] Outfeed finished for iteration (0, 0)\n",
            "I0828 12:01:23.200250 140405899437952 basic_session_run_hooks.py:606] Saving checkpoints for 15000 into gs://tputestingmnist/DCGAN/DCGAN_8/model.ckpt.\n",
            "I0828 12:01:31.057954 140405899437952 basic_session_run_hooks.py:262] loss = 5.0874147, step = 15000\n",
            "I0828 12:01:31.710984 140405899437952 tpu_estimator.py:598] Stop infeed thread controller\n",
            "I0828 12:01:31.712234 140405899437952 tpu_estimator.py:430] Shutting down InfeedController thread.\n",
            "I0828 12:01:31.712983 140404574168832 tpu_estimator.py:425] InfeedController received shutdown signal, stopping.\n",
            "I0828 12:01:31.713892 140404574168832 tpu_estimator.py:530] Infeed thread finished, shutting down.\n",
            "I0828 12:01:31.714962 140405899437952 error_handling.py:96] infeed marked as finished\n",
            "I0828 12:01:31.716016 140405899437952 tpu_estimator.py:602] Stop output thread controller\n",
            "I0828 12:01:31.716641 140405899437952 tpu_estimator.py:430] Shutting down OutfeedController thread.\n",
            "I0828 12:01:31.717590 140404565776128 tpu_estimator.py:425] OutfeedController received shutdown signal, stopping.\n",
            "I0828 12:01:31.719476 140404565776128 tpu_estimator.py:541] Outfeed thread finished, shutting down.\n",
            "I0828 12:01:31.721634 140405899437952 error_handling.py:96] outfeed marked as finished\n",
            "I0828 12:01:31.722567 140405899437952 tpu_estimator.py:606] Shutdown TPU system.\n",
            "I0828 12:01:32.532619 140405899437952 estimator.py:368] Loss for final step: 5.0874147.\n",
            "I0828 12:01:32.533918 140405899437952 error_handling.py:96] training_loop marked as finished\n",
            "I0828 12:01:32.692245 140405899437952 estimator.py:1145] Calling model_fn.\n"
          ],
          "name": "stderr"
        },
        {
          "output_type": "stream",
          "text": [
            "Finished training step 15000\n"
          ],
          "name": "stdout"
        },
        {
          "output_type": "stream",
          "text": [
            "I0828 12:01:34.936223 140405899437952 estimator.py:1147] Done calling model_fn.\n",
            "I0828 12:01:34.954861 140405899437952 evaluation.py:255] Starting evaluation at 2019-08-28T12:01:34Z\n",
            "I0828 12:01:34.956084 140405899437952 tpu_estimator.py:499] TPU job name tpu_worker\n",
            "I0828 12:01:35.113252 140405899437952 monitored_session.py:240] Graph was finalized.\n",
            "I0828 12:01:35.159046 140405899437952 saver.py:1280] Restoring parameters from gs://tputestingmnist/DCGAN/DCGAN_8/model.ckpt-15000\n",
            "I0828 12:01:37.890284 140405899437952 session_manager.py:500] Running local_init_op.\n",
            "I0828 12:01:37.946884 140405899437952 session_manager.py:502] Done running local_init_op.\n",
            "I0828 12:01:38.049131 140405899437952 tpu_estimator.py:557] Init TPU system\n",
            "I0828 12:01:52.359899 140405899437952 tpu_estimator.py:566] Initialized TPU in 14 seconds\n",
            "I0828 12:01:52.361667 140404574168832 tpu_estimator.py:514] Starting infeed thread controller.\n",
            "I0828 12:01:52.363217 140404565776128 tpu_estimator.py:533] Starting outfeed thread controller.\n",
            "I0828 12:01:52.363540 140405899437952 util.py:98] Initialized dataset iterators in 0 seconds\n",
            "I0828 12:01:52.410786 140405899437952 tpu_estimator.py:590] Enqueue next (1) batch(es) of data to infeed.\n",
            "I0828 12:01:52.412000 140405899437952 tpu_estimator.py:594] Dequeue next (1) batch(es) of data from outfeed.\n",
            "I0828 12:01:54.803204 140404565776128 tpu_estimator.py:275] Outfeed finished for iteration (0, 0)\n",
            "I0828 12:01:54.805456 140405899437952 evaluation.py:167] Evaluation [1/1]\n",
            "I0828 12:01:54.806285 140405899437952 tpu_estimator.py:598] Stop infeed thread controller\n",
            "I0828 12:01:54.807139 140405899437952 tpu_estimator.py:430] Shutting down InfeedController thread.\n",
            "I0828 12:01:54.808694 140404574168832 tpu_estimator.py:425] InfeedController received shutdown signal, stopping.\n",
            "I0828 12:01:54.809972 140404574168832 tpu_estimator.py:530] Infeed thread finished, shutting down.\n",
            "I0828 12:01:54.811048 140405899437952 error_handling.py:96] infeed marked as finished\n",
            "I0828 12:01:54.812441 140405899437952 tpu_estimator.py:602] Stop output thread controller\n",
            "I0828 12:01:54.813263 140405899437952 tpu_estimator.py:430] Shutting down OutfeedController thread.\n",
            "I0828 12:01:54.814180 140404565776128 tpu_estimator.py:425] OutfeedController received shutdown signal, stopping.\n",
            "I0828 12:01:54.815580 140404565776128 tpu_estimator.py:541] Outfeed thread finished, shutting down.\n",
            "I0828 12:01:54.816911 140405899437952 error_handling.py:96] outfeed marked as finished\n",
            "I0828 12:01:54.817877 140405899437952 tpu_estimator.py:606] Shutdown TPU system.\n",
            "I0828 12:01:55.104717 140405899437952 evaluation.py:275] Finished evaluation at 2019-08-28-12:01:55\n",
            "I0828 12:01:55.105854 140405899437952 estimator.py:2039] Saving dict for global step 15000: discriminator_gen_accuracy = 1.0, discriminator_loss = 0.8755387, discriminator_real_accuracy = 0.58203125, generator_loss = 1.4480088, global_step = 15000, loss = 2.3581808\n",
            "I0828 12:01:55.402807 140405899437952 estimator.py:2099] Saving 'checkpoint_path' summary for global step 15000: gs://tputestingmnist/DCGAN/DCGAN_8/model.ckpt-15000\n",
            "I0828 12:01:55.714631 140405899437952 error_handling.py:96] evaluation_loop marked as finished\n",
            "I0828 12:01:55.818378 140405899437952 estimator.py:1145] Calling model_fn.\n",
            "I0828 12:01:55.819738 140405899437952 tpu_estimator.py:2965] Running infer on CPU\n"
          ],
          "name": "stderr"
        },
        {
          "output_type": "stream",
          "text": [
            "Finished evaluating\n",
            "{'discriminator_gen_accuracy': 1.0, 'discriminator_loss': 0.8755387, 'discriminator_real_accuracy': 0.58203125, 'generator_loss': 1.4480088, 'loss': 2.3581808, 'global_step': 15000}\n"
          ],
          "name": "stdout"
        },
        {
          "output_type": "stream",
          "text": [
            "I0828 12:01:56.027484 140405899437952 estimator.py:1147] Done calling model_fn.\n",
            "I0828 12:01:56.132832 140405899437952 monitored_session.py:240] Graph was finalized.\n",
            "I0828 12:01:56.193630 140405899437952 saver.py:1280] Restoring parameters from gs://tputestingmnist/DCGAN/DCGAN_8/model.ckpt-15000\n",
            "I0828 12:01:56.416254 140405899437952 session_manager.py:500] Running local_init_op.\n",
            "I0828 12:01:56.429274 140405899437952 session_manager.py:502] Done running local_init_op.\n",
            "I0828 12:01:56.558896 140405899437952 error_handling.py:96] prediction_loop marked as finished\n",
            "I0828 12:01:56.560143 140405899437952 error_handling.py:96] prediction_loop marked as finished\n"
          ],
          "name": "stderr"
        },
        {
          "output_type": "stream",
          "text": [
            "Finished generating images\n"
          ],
          "name": "stdout"
        },
        {
          "output_type": "stream",
          "text": [
            "I0828 12:01:57.646825 140405899437952 estimator.py:1145] Calling model_fn.\n",
            "I0828 12:02:01.330327 140405899437952 basic_session_run_hooks.py:541] Create CheckpointSaverHook.\n",
            "I0828 12:02:01.394667 140405899437952 estimator.py:1147] Done calling model_fn.\n",
            "I0828 12:02:01.396089 140405899437952 tpu_estimator.py:499] TPU job name tpu_worker\n",
            "I0828 12:02:01.690895 140405899437952 monitored_session.py:240] Graph was finalized.\n",
            "I0828 12:02:01.840721 140405899437952 saver.py:1280] Restoring parameters from gs://tputestingmnist/DCGAN/DCGAN_8/model.ckpt-15000\n",
            "I0828 12:02:03.018253 140405899437952 session_manager.py:500] Running local_init_op.\n",
            "I0828 12:02:03.171674 140405899437952 session_manager.py:502] Done running local_init_op.\n",
            "I0828 12:02:05.326991 140405899437952 basic_session_run_hooks.py:606] Saving checkpoints for 15000 into gs://tputestingmnist/DCGAN/DCGAN_8/model.ckpt.\n",
            "I0828 12:02:12.478131 140405899437952 util.py:98] Initialized dataset iterators in 0 seconds\n",
            "I0828 12:02:12.479538 140405899437952 session_support.py:332] Installing graceful shutdown hook.\n",
            "I0828 12:02:12.484601 140405899437952 session_support.py:82] Creating heartbeat manager for ['/job:tpu_worker/replica:0/task:0/device:CPU:0']\n",
            "I0828 12:02:12.489537 140405899437952 session_support.py:105] Configuring worker heartbeat: shutdown_mode: WAIT_FOR_COORDINATOR\n",
            "\n",
            "I0828 12:02:12.495250 140405899437952 tpu_estimator.py:557] Init TPU system\n",
            "I0828 12:02:27.630849 140405899437952 tpu_estimator.py:566] Initialized TPU in 15 seconds\n",
            "I0828 12:02:27.632755 140404574168832 tpu_estimator.py:514] Starting infeed thread controller.\n",
            "I0828 12:02:27.635198 140404565776128 tpu_estimator.py:533] Starting outfeed thread controller.\n",
            "I0828 12:02:27.784788 140405899437952 tpu_estimator.py:590] Enqueue next (1000) batch(es) of data to infeed.\n",
            "I0828 12:02:27.786056 140405899437952 tpu_estimator.py:594] Dequeue next (1000) batch(es) of data from outfeed.\n",
            "I0828 12:02:34.625602 140404565776128 tpu_estimator.py:275] Outfeed finished for iteration (0, 0)\n",
            "I0828 12:02:55.575338 140405899437952 basic_session_run_hooks.py:606] Saving checkpoints for 16000 into gs://tputestingmnist/DCGAN/DCGAN_8/model.ckpt.\n",
            "I0828 12:03:01.857063 140405899437952 basic_session_run_hooks.py:262] loss = 5.777338, step = 16000\n",
            "I0828 12:03:02.599928 140405899437952 tpu_estimator.py:598] Stop infeed thread controller\n",
            "I0828 12:03:02.601296 140405899437952 tpu_estimator.py:430] Shutting down InfeedController thread.\n",
            "I0828 12:03:02.604761 140404574168832 tpu_estimator.py:425] InfeedController received shutdown signal, stopping.\n",
            "I0828 12:03:02.605574 140404574168832 tpu_estimator.py:530] Infeed thread finished, shutting down.\n",
            "I0828 12:03:02.608948 140405899437952 error_handling.py:96] infeed marked as finished\n",
            "I0828 12:03:02.610124 140405899437952 tpu_estimator.py:602] Stop output thread controller\n",
            "I0828 12:03:02.610751 140405899437952 tpu_estimator.py:430] Shutting down OutfeedController thread.\n",
            "I0828 12:03:02.611308 140404565776128 tpu_estimator.py:425] OutfeedController received shutdown signal, stopping.\n",
            "I0828 12:03:02.611795 140404565776128 tpu_estimator.py:541] Outfeed thread finished, shutting down.\n",
            "I0828 12:03:02.612902 140405899437952 error_handling.py:96] outfeed marked as finished\n",
            "I0828 12:03:02.613617 140405899437952 tpu_estimator.py:606] Shutdown TPU system.\n",
            "I0828 12:03:03.452458 140405899437952 estimator.py:368] Loss for final step: 5.777338.\n",
            "I0828 12:03:03.453799 140405899437952 error_handling.py:96] training_loop marked as finished\n"
          ],
          "name": "stderr"
        },
        {
          "output_type": "stream",
          "text": [
            "Finished training step 16000\n"
          ],
          "name": "stdout"
        },
        {
          "output_type": "stream",
          "text": [
            "I0828 12:03:03.723085 140405899437952 estimator.py:1145] Calling model_fn.\n",
            "I0828 12:03:05.580723 140405899437952 estimator.py:1147] Done calling model_fn.\n",
            "I0828 12:03:05.600490 140405899437952 evaluation.py:255] Starting evaluation at 2019-08-28T12:03:05Z\n",
            "I0828 12:03:05.601994 140405899437952 tpu_estimator.py:499] TPU job name tpu_worker\n",
            "I0828 12:03:05.760972 140405899437952 monitored_session.py:240] Graph was finalized.\n",
            "I0828 12:03:05.807533 140405899437952 saver.py:1280] Restoring parameters from gs://tputestingmnist/DCGAN/DCGAN_8/model.ckpt-16000\n",
            "I0828 12:03:08.715791 140405899437952 session_manager.py:500] Running local_init_op.\n",
            "I0828 12:03:08.763155 140405899437952 session_manager.py:502] Done running local_init_op.\n",
            "I0828 12:03:08.883966 140405899437952 tpu_estimator.py:557] Init TPU system\n",
            "I0828 12:03:22.780620 140405899437952 tpu_estimator.py:566] Initialized TPU in 13 seconds\n",
            "I0828 12:03:22.782251 140404565776128 tpu_estimator.py:514] Starting infeed thread controller.\n",
            "I0828 12:03:22.782994 140404557383424 tpu_estimator.py:533] Starting outfeed thread controller.\n",
            "I0828 12:03:22.783656 140405899437952 util.py:98] Initialized dataset iterators in 0 seconds\n",
            "I0828 12:03:22.832890 140405899437952 tpu_estimator.py:590] Enqueue next (1) batch(es) of data to infeed.\n",
            "I0828 12:03:22.834157 140405899437952 tpu_estimator.py:594] Dequeue next (1) batch(es) of data from outfeed.\n",
            "I0828 12:03:25.244202 140404557383424 tpu_estimator.py:275] Outfeed finished for iteration (0, 0)\n",
            "I0828 12:03:25.245076 140405899437952 evaluation.py:167] Evaluation [1/1]\n",
            "I0828 12:03:25.246850 140405899437952 tpu_estimator.py:598] Stop infeed thread controller\n",
            "I0828 12:03:25.247684 140405899437952 tpu_estimator.py:430] Shutting down InfeedController thread.\n",
            "I0828 12:03:25.249114 140404565776128 tpu_estimator.py:425] InfeedController received shutdown signal, stopping.\n",
            "I0828 12:03:25.251773 140404565776128 tpu_estimator.py:530] Infeed thread finished, shutting down.\n",
            "I0828 12:03:25.254132 140405899437952 error_handling.py:96] infeed marked as finished\n",
            "I0828 12:03:25.255183 140405899437952 tpu_estimator.py:602] Stop output thread controller\n",
            "I0828 12:03:25.256896 140405899437952 tpu_estimator.py:430] Shutting down OutfeedController thread.\n",
            "I0828 12:03:25.257842 140404557383424 tpu_estimator.py:425] OutfeedController received shutdown signal, stopping.\n",
            "I0828 12:03:25.264655 140404557383424 tpu_estimator.py:541] Outfeed thread finished, shutting down.\n",
            "I0828 12:03:25.266062 140405899437952 error_handling.py:96] outfeed marked as finished\n",
            "I0828 12:03:25.267642 140405899437952 tpu_estimator.py:606] Shutdown TPU system.\n",
            "I0828 12:03:25.565514 140405899437952 evaluation.py:275] Finished evaluation at 2019-08-28-12:03:25\n",
            "I0828 12:03:25.567631 140405899437952 estimator.py:2039] Saving dict for global step 16000: discriminator_gen_accuracy = 1.0, discriminator_loss = 1.4194887, discriminator_real_accuracy = 0.0, generator_loss = 2.7036405, global_step = 16000, loss = 4.2376194\n",
            "I0828 12:03:25.866770 140405899437952 estimator.py:2099] Saving 'checkpoint_path' summary for global step 16000: gs://tputestingmnist/DCGAN/DCGAN_8/model.ckpt-16000\n",
            "I0828 12:03:26.146764 140405899437952 error_handling.py:96] evaluation_loop marked as finished\n",
            "I0828 12:03:26.288948 140405899437952 estimator.py:1145] Calling model_fn.\n",
            "I0828 12:03:26.290230 140405899437952 tpu_estimator.py:2965] Running infer on CPU\n"
          ],
          "name": "stderr"
        },
        {
          "output_type": "stream",
          "text": [
            "Finished evaluating\n",
            "{'discriminator_gen_accuracy': 1.0, 'discriminator_loss': 1.4194887, 'discriminator_real_accuracy': 0.0, 'generator_loss': 2.7036405, 'loss': 4.2376194, 'global_step': 16000}\n"
          ],
          "name": "stdout"
        },
        {
          "output_type": "stream",
          "text": [
            "I0828 12:03:26.931591 140405899437952 estimator.py:1147] Done calling model_fn.\n",
            "I0828 12:03:27.042619 140405899437952 monitored_session.py:240] Graph was finalized.\n",
            "I0828 12:03:27.094878 140405899437952 saver.py:1280] Restoring parameters from gs://tputestingmnist/DCGAN/DCGAN_8/model.ckpt-16000\n",
            "I0828 12:03:27.295561 140405899437952 session_manager.py:500] Running local_init_op.\n",
            "I0828 12:03:27.304975 140405899437952 session_manager.py:502] Done running local_init_op.\n",
            "I0828 12:03:27.463145 140405899437952 error_handling.py:96] prediction_loop marked as finished\n",
            "I0828 12:03:27.464585 140405899437952 error_handling.py:96] prediction_loop marked as finished\n"
          ],
          "name": "stderr"
        },
        {
          "output_type": "stream",
          "text": [
            "Finished generating images\n"
          ],
          "name": "stdout"
        },
        {
          "output_type": "stream",
          "text": [
            "I0828 12:03:28.674021 140405899437952 estimator.py:1145] Calling model_fn.\n",
            "I0828 12:03:31.988437 140405899437952 basic_session_run_hooks.py:541] Create CheckpointSaverHook.\n",
            "I0828 12:03:32.050597 140405899437952 estimator.py:1147] Done calling model_fn.\n",
            "I0828 12:03:32.052283 140405899437952 tpu_estimator.py:499] TPU job name tpu_worker\n",
            "I0828 12:03:32.346566 140405899437952 monitored_session.py:240] Graph was finalized.\n",
            "I0828 12:03:32.488735 140405899437952 saver.py:1280] Restoring parameters from gs://tputestingmnist/DCGAN/DCGAN_8/model.ckpt-16000\n",
            "I0828 12:03:33.642852 140405899437952 session_manager.py:500] Running local_init_op.\n",
            "I0828 12:03:33.807391 140405899437952 session_manager.py:502] Done running local_init_op.\n",
            "I0828 12:03:36.808445 140405899437952 basic_session_run_hooks.py:606] Saving checkpoints for 16000 into gs://tputestingmnist/DCGAN/DCGAN_8/model.ckpt.\n",
            "I0828 12:03:42.831480 140405899437952 util.py:98] Initialized dataset iterators in 0 seconds\n",
            "I0828 12:03:42.833031 140405899437952 session_support.py:332] Installing graceful shutdown hook.\n",
            "I0828 12:03:42.839478 140405899437952 session_support.py:82] Creating heartbeat manager for ['/job:tpu_worker/replica:0/task:0/device:CPU:0']\n",
            "I0828 12:03:42.849176 140405899437952 session_support.py:105] Configuring worker heartbeat: shutdown_mode: WAIT_FOR_COORDINATOR\n",
            "\n",
            "I0828 12:03:42.858221 140405899437952 tpu_estimator.py:557] Init TPU system\n",
            "I0828 12:03:58.401681 140405899437952 tpu_estimator.py:566] Initialized TPU in 15 seconds\n",
            "I0828 12:03:58.403732 140404557383424 tpu_estimator.py:514] Starting infeed thread controller.\n",
            "I0828 12:03:58.407886 140404548990720 tpu_estimator.py:533] Starting outfeed thread controller.\n",
            "I0828 12:03:58.561176 140405899437952 tpu_estimator.py:590] Enqueue next (1000) batch(es) of data to infeed.\n",
            "I0828 12:03:58.562815 140405899437952 tpu_estimator.py:594] Dequeue next (1000) batch(es) of data from outfeed.\n",
            "I0828 12:04:05.479718 140404548990720 tpu_estimator.py:275] Outfeed finished for iteration (0, 0)\n",
            "I0828 12:04:26.439321 140405899437952 basic_session_run_hooks.py:606] Saving checkpoints for 17000 into gs://tputestingmnist/DCGAN/DCGAN_8/model.ckpt.\n",
            "I0828 12:04:32.093590 140405899437952 basic_session_run_hooks.py:262] loss = 5.4853787, step = 17000\n",
            "I0828 12:04:33.287495 140405899437952 tpu_estimator.py:598] Stop infeed thread controller\n",
            "I0828 12:04:33.288737 140405899437952 tpu_estimator.py:430] Shutting down InfeedController thread.\n",
            "I0828 12:04:33.294132 140404557383424 tpu_estimator.py:425] InfeedController received shutdown signal, stopping.\n",
            "I0828 12:04:33.295964 140404557383424 tpu_estimator.py:530] Infeed thread finished, shutting down.\n",
            "I0828 12:04:33.302632 140405899437952 error_handling.py:96] infeed marked as finished\n",
            "I0828 12:04:33.304009 140405899437952 tpu_estimator.py:602] Stop output thread controller\n",
            "I0828 12:04:33.305122 140405899437952 tpu_estimator.py:430] Shutting down OutfeedController thread.\n",
            "I0828 12:04:33.308685 140404548990720 tpu_estimator.py:425] OutfeedController received shutdown signal, stopping.\n",
            "I0828 12:04:33.309733 140404548990720 tpu_estimator.py:541] Outfeed thread finished, shutting down.\n",
            "I0828 12:04:33.310495 140405899437952 error_handling.py:96] outfeed marked as finished\n",
            "I0828 12:04:33.311414 140405899437952 tpu_estimator.py:606] Shutdown TPU system.\n",
            "I0828 12:04:34.152459 140405899437952 estimator.py:368] Loss for final step: 5.4853787.\n",
            "I0828 12:04:34.153831 140405899437952 error_handling.py:96] training_loop marked as finished\n",
            "I0828 12:04:34.336478 140405899437952 estimator.py:1145] Calling model_fn.\n"
          ],
          "name": "stderr"
        },
        {
          "output_type": "stream",
          "text": [
            "Finished training step 17000\n"
          ],
          "name": "stdout"
        },
        {
          "output_type": "stream",
          "text": [
            "I0828 12:04:36.577951 140405899437952 estimator.py:1147] Done calling model_fn.\n",
            "I0828 12:04:36.603621 140405899437952 evaluation.py:255] Starting evaluation at 2019-08-28T12:04:36Z\n",
            "I0828 12:04:36.607421 140405899437952 tpu_estimator.py:499] TPU job name tpu_worker\n",
            "I0828 12:04:36.765032 140405899437952 monitored_session.py:240] Graph was finalized.\n",
            "I0828 12:04:36.824275 140405899437952 saver.py:1280] Restoring parameters from gs://tputestingmnist/DCGAN/DCGAN_8/model.ckpt-17000\n",
            "I0828 12:04:38.922781 140405899437952 session_manager.py:500] Running local_init_op.\n",
            "I0828 12:04:38.981113 140405899437952 session_manager.py:502] Done running local_init_op.\n",
            "I0828 12:04:39.074757 140405899437952 tpu_estimator.py:557] Init TPU system\n",
            "I0828 12:04:53.355664 140405899437952 tpu_estimator.py:566] Initialized TPU in 14 seconds\n",
            "I0828 12:04:53.357759 140404557383424 tpu_estimator.py:514] Starting infeed thread controller.\n",
            "I0828 12:04:53.359863 140404548990720 tpu_estimator.py:533] Starting outfeed thread controller.\n",
            "I0828 12:04:53.360477 140405899437952 util.py:98] Initialized dataset iterators in 0 seconds\n",
            "I0828 12:04:53.409085 140405899437952 tpu_estimator.py:590] Enqueue next (1) batch(es) of data to infeed.\n",
            "I0828 12:04:53.410579 140405899437952 tpu_estimator.py:594] Dequeue next (1) batch(es) of data from outfeed.\n",
            "I0828 12:04:55.797240 140404548990720 tpu_estimator.py:275] Outfeed finished for iteration (0, 0)\n",
            "I0828 12:04:55.799390 140405899437952 evaluation.py:167] Evaluation [1/1]\n",
            "I0828 12:04:55.800821 140405899437952 tpu_estimator.py:598] Stop infeed thread controller\n",
            "I0828 12:04:55.802272 140405899437952 tpu_estimator.py:430] Shutting down InfeedController thread.\n",
            "I0828 12:04:55.803815 140404557383424 tpu_estimator.py:425] InfeedController received shutdown signal, stopping.\n",
            "I0828 12:04:55.804620 140404557383424 tpu_estimator.py:530] Infeed thread finished, shutting down.\n",
            "I0828 12:04:55.806554 140405899437952 error_handling.py:96] infeed marked as finished\n",
            "I0828 12:04:55.808530 140405899437952 tpu_estimator.py:602] Stop output thread controller\n",
            "I0828 12:04:55.809654 140405899437952 tpu_estimator.py:430] Shutting down OutfeedController thread.\n",
            "I0828 12:04:55.811282 140404548990720 tpu_estimator.py:425] OutfeedController received shutdown signal, stopping.\n",
            "I0828 12:04:55.812137 140404548990720 tpu_estimator.py:541] Outfeed thread finished, shutting down.\n",
            "I0828 12:04:55.814994 140405899437952 error_handling.py:96] outfeed marked as finished\n",
            "I0828 12:04:55.816411 140405899437952 tpu_estimator.py:606] Shutdown TPU system.\n",
            "I0828 12:04:56.090091 140405899437952 evaluation.py:275] Finished evaluation at 2019-08-28-12:04:56\n",
            "I0828 12:04:56.091320 140405899437952 estimator.py:2039] Saving dict for global step 17000: discriminator_gen_accuracy = 1.0, discriminator_loss = 1.1349174, discriminator_real_accuracy = 0.0, generator_loss = 1.9593097, global_step = 17000, loss = 3.047668\n",
            "I0828 12:04:56.403449 140405899437952 estimator.py:2099] Saving 'checkpoint_path' summary for global step 17000: gs://tputestingmnist/DCGAN/DCGAN_8/model.ckpt-17000\n",
            "I0828 12:04:56.723445 140405899437952 error_handling.py:96] evaluation_loop marked as finished\n",
            "I0828 12:04:56.836797 140405899437952 estimator.py:1145] Calling model_fn.\n",
            "I0828 12:04:56.838380 140405899437952 tpu_estimator.py:2965] Running infer on CPU\n"
          ],
          "name": "stderr"
        },
        {
          "output_type": "stream",
          "text": [
            "Finished evaluating\n",
            "{'discriminator_gen_accuracy': 1.0, 'discriminator_loss': 1.1349174, 'discriminator_real_accuracy': 0.0, 'generator_loss': 1.9593097, 'loss': 3.047668, 'global_step': 17000}\n"
          ],
          "name": "stdout"
        },
        {
          "output_type": "stream",
          "text": [
            "I0828 12:04:57.044243 140405899437952 estimator.py:1147] Done calling model_fn.\n",
            "I0828 12:04:57.151216 140405899437952 monitored_session.py:240] Graph was finalized.\n",
            "I0828 12:04:57.205469 140405899437952 saver.py:1280] Restoring parameters from gs://tputestingmnist/DCGAN/DCGAN_8/model.ckpt-17000\n",
            "I0828 12:04:57.461872 140405899437952 session_manager.py:500] Running local_init_op.\n",
            "I0828 12:04:57.473564 140405899437952 session_manager.py:502] Done running local_init_op.\n",
            "I0828 12:04:57.614324 140405899437952 error_handling.py:96] prediction_loop marked as finished\n",
            "I0828 12:04:57.615499 140405899437952 error_handling.py:96] prediction_loop marked as finished\n"
          ],
          "name": "stderr"
        },
        {
          "output_type": "stream",
          "text": [
            "Finished generating images\n"
          ],
          "name": "stdout"
        },
        {
          "output_type": "stream",
          "text": [
            "I0828 12:04:58.978587 140405899437952 estimator.py:1145] Calling model_fn.\n",
            "I0828 12:05:02.602493 140405899437952 basic_session_run_hooks.py:541] Create CheckpointSaverHook.\n",
            "I0828 12:05:02.665548 140405899437952 estimator.py:1147] Done calling model_fn.\n",
            "I0828 12:05:02.667022 140405899437952 tpu_estimator.py:499] TPU job name tpu_worker\n",
            "I0828 12:05:02.964867 140405899437952 monitored_session.py:240] Graph was finalized.\n",
            "I0828 12:05:03.109725 140405899437952 saver.py:1280] Restoring parameters from gs://tputestingmnist/DCGAN/DCGAN_8/model.ckpt-17000\n",
            "I0828 12:05:04.288265 140405899437952 session_manager.py:500] Running local_init_op.\n",
            "I0828 12:05:04.438743 140405899437952 session_manager.py:502] Done running local_init_op.\n",
            "I0828 12:05:06.438436 140405899437952 basic_session_run_hooks.py:606] Saving checkpoints for 17000 into gs://tputestingmnist/DCGAN/DCGAN_8/model.ckpt.\n",
            "I0828 12:05:15.090856 140405899437952 util.py:98] Initialized dataset iterators in 0 seconds\n",
            "I0828 12:05:15.092133 140405899437952 session_support.py:332] Installing graceful shutdown hook.\n",
            "I0828 12:05:15.098503 140405899437952 session_support.py:82] Creating heartbeat manager for ['/job:tpu_worker/replica:0/task:0/device:CPU:0']\n",
            "I0828 12:05:15.102200 140405899437952 session_support.py:105] Configuring worker heartbeat: shutdown_mode: WAIT_FOR_COORDINATOR\n",
            "\n",
            "I0828 12:05:15.111034 140405899437952 tpu_estimator.py:557] Init TPU system\n",
            "I0828 12:05:30.538933 140405899437952 tpu_estimator.py:566] Initialized TPU in 15 seconds\n",
            "I0828 12:05:30.541484 140404557383424 tpu_estimator.py:514] Starting infeed thread controller.\n",
            "I0828 12:05:30.542379 140404548990720 tpu_estimator.py:533] Starting outfeed thread controller.\n",
            "I0828 12:05:30.687602 140405899437952 tpu_estimator.py:590] Enqueue next (1000) batch(es) of data to infeed.\n",
            "I0828 12:05:30.689137 140405899437952 tpu_estimator.py:594] Dequeue next (1000) batch(es) of data from outfeed.\n",
            "I0828 12:05:37.760787 140404548990720 tpu_estimator.py:275] Outfeed finished for iteration (0, 0)\n",
            "I0828 12:05:58.718506 140405899437952 basic_session_run_hooks.py:606] Saving checkpoints for 18000 into gs://tputestingmnist/DCGAN/DCGAN_8/model.ckpt.\n",
            "I0828 12:06:06.171707 140405899437952 basic_session_run_hooks.py:262] loss = 4.4823866, step = 18000\n",
            "I0828 12:06:06.903674 140405899437952 tpu_estimator.py:598] Stop infeed thread controller\n",
            "I0828 12:06:06.904781 140405899437952 tpu_estimator.py:430] Shutting down InfeedController thread.\n",
            "I0828 12:06:06.905943 140404557383424 tpu_estimator.py:425] InfeedController received shutdown signal, stopping.\n",
            "I0828 12:06:06.913717 140404557383424 tpu_estimator.py:530] Infeed thread finished, shutting down.\n",
            "I0828 12:06:06.920859 140405899437952 error_handling.py:96] infeed marked as finished\n",
            "I0828 12:06:06.922085 140405899437952 tpu_estimator.py:602] Stop output thread controller\n",
            "I0828 12:06:06.923249 140405899437952 tpu_estimator.py:430] Shutting down OutfeedController thread.\n",
            "I0828 12:06:06.925110 140404548990720 tpu_estimator.py:425] OutfeedController received shutdown signal, stopping.\n",
            "I0828 12:06:06.926172 140404548990720 tpu_estimator.py:541] Outfeed thread finished, shutting down.\n",
            "I0828 12:06:06.928293 140405899437952 error_handling.py:96] outfeed marked as finished\n",
            "I0828 12:06:06.929446 140405899437952 tpu_estimator.py:606] Shutdown TPU system.\n",
            "I0828 12:06:07.744605 140405899437952 estimator.py:368] Loss for final step: 4.4823866.\n",
            "I0828 12:06:07.745795 140405899437952 error_handling.py:96] training_loop marked as finished\n",
            "I0828 12:06:07.913343 140405899437952 estimator.py:1145] Calling model_fn.\n"
          ],
          "name": "stderr"
        },
        {
          "output_type": "stream",
          "text": [
            "Finished training step 18000\n"
          ],
          "name": "stdout"
        },
        {
          "output_type": "stream",
          "text": [
            "I0828 12:06:09.752599 140405899437952 estimator.py:1147] Done calling model_fn.\n",
            "I0828 12:06:09.774096 140405899437952 evaluation.py:255] Starting evaluation at 2019-08-28T12:06:09Z\n",
            "I0828 12:06:09.775251 140405899437952 tpu_estimator.py:499] TPU job name tpu_worker\n",
            "I0828 12:06:10.334186 140405899437952 monitored_session.py:240] Graph was finalized.\n",
            "I0828 12:06:10.387531 140405899437952 saver.py:1280] Restoring parameters from gs://tputestingmnist/DCGAN/DCGAN_8/model.ckpt-18000\n",
            "I0828 12:06:14.358571 140405899437952 session_manager.py:500] Running local_init_op.\n",
            "I0828 12:06:14.418289 140405899437952 session_manager.py:502] Done running local_init_op.\n",
            "I0828 12:06:14.520173 140405899437952 tpu_estimator.py:557] Init TPU system\n",
            "I0828 12:06:28.731938 140405899437952 tpu_estimator.py:566] Initialized TPU in 14 seconds\n",
            "I0828 12:06:28.734028 140404548990720 tpu_estimator.py:514] Starting infeed thread controller.\n",
            "I0828 12:06:28.735144 140404540598016 tpu_estimator.py:533] Starting outfeed thread controller.\n",
            "I0828 12:06:28.736062 140405899437952 util.py:98] Initialized dataset iterators in 0 seconds\n",
            "I0828 12:06:28.787075 140405899437952 tpu_estimator.py:590] Enqueue next (1) batch(es) of data to infeed.\n",
            "I0828 12:06:28.788330 140405899437952 tpu_estimator.py:594] Dequeue next (1) batch(es) of data from outfeed.\n",
            "I0828 12:06:31.159773 140405899437952 evaluation.py:167] Evaluation [1/1]\n",
            "I0828 12:06:31.161111 140405899437952 tpu_estimator.py:598] Stop infeed thread controller\n",
            "I0828 12:06:31.161968 140405899437952 tpu_estimator.py:430] Shutting down InfeedController thread.\n",
            "I0828 12:06:31.162544 140404548990720 tpu_estimator.py:425] InfeedController received shutdown signal, stopping.\n",
            "I0828 12:06:31.164040 140404548990720 tpu_estimator.py:530] Infeed thread finished, shutting down.\n",
            "I0828 12:06:31.161458 140404540598016 tpu_estimator.py:275] Outfeed finished for iteration (0, 0)\n",
            "I0828 12:06:31.166521 140405899437952 error_handling.py:96] infeed marked as finished\n",
            "I0828 12:06:31.168467 140405899437952 tpu_estimator.py:602] Stop output thread controller\n",
            "I0828 12:06:31.169247 140405899437952 tpu_estimator.py:430] Shutting down OutfeedController thread.\n",
            "I0828 12:06:31.169819 140404540598016 tpu_estimator.py:425] OutfeedController received shutdown signal, stopping.\n",
            "I0828 12:06:31.171210 140404540598016 tpu_estimator.py:541] Outfeed thread finished, shutting down.\n",
            "I0828 12:06:31.171929 140405899437952 error_handling.py:96] outfeed marked as finished\n",
            "I0828 12:06:31.173051 140405899437952 tpu_estimator.py:606] Shutdown TPU system.\n",
            "I0828 12:06:31.457674 140405899437952 evaluation.py:275] Finished evaluation at 2019-08-28-12:06:31\n",
            "I0828 12:06:31.459100 140405899437952 estimator.py:2039] Saving dict for global step 18000: discriminator_gen_accuracy = 1.0, discriminator_loss = 1.0662098, discriminator_real_accuracy = 0.0009765625, generator_loss = 1.88468, global_step = 18000, loss = 2.967618\n",
            "I0828 12:06:31.817786 140405899437952 estimator.py:2099] Saving 'checkpoint_path' summary for global step 18000: gs://tputestingmnist/DCGAN/DCGAN_8/model.ckpt-18000\n",
            "I0828 12:06:32.109110 140405899437952 error_handling.py:96] evaluation_loop marked as finished\n",
            "I0828 12:06:32.230754 140405899437952 estimator.py:1145] Calling model_fn.\n",
            "I0828 12:06:32.232471 140405899437952 tpu_estimator.py:2965] Running infer on CPU\n"
          ],
          "name": "stderr"
        },
        {
          "output_type": "stream",
          "text": [
            "Finished evaluating\n",
            "{'discriminator_gen_accuracy': 1.0, 'discriminator_loss': 1.0662098, 'discriminator_real_accuracy': 0.0009765625, 'generator_loss': 1.88468, 'loss': 2.967618, 'global_step': 18000}\n"
          ],
          "name": "stdout"
        },
        {
          "output_type": "stream",
          "text": [
            "I0828 12:06:32.440356 140405899437952 estimator.py:1147] Done calling model_fn.\n",
            "I0828 12:06:32.547832 140405899437952 monitored_session.py:240] Graph was finalized.\n",
            "I0828 12:06:32.602087 140405899437952 saver.py:1280] Restoring parameters from gs://tputestingmnist/DCGAN/DCGAN_8/model.ckpt-18000\n",
            "I0828 12:06:32.799360 140405899437952 session_manager.py:500] Running local_init_op.\n",
            "I0828 12:06:32.812979 140405899437952 session_manager.py:502] Done running local_init_op.\n",
            "I0828 12:06:32.948530 140405899437952 error_handling.py:96] prediction_loop marked as finished\n",
            "I0828 12:06:32.949857 140405899437952 error_handling.py:96] prediction_loop marked as finished\n"
          ],
          "name": "stderr"
        },
        {
          "output_type": "stream",
          "text": [
            "Finished generating images\n"
          ],
          "name": "stdout"
        },
        {
          "output_type": "stream",
          "text": [
            "I0828 12:06:33.902966 140405899437952 estimator.py:1145] Calling model_fn.\n",
            "I0828 12:06:37.275582 140405899437952 basic_session_run_hooks.py:541] Create CheckpointSaverHook.\n",
            "I0828 12:06:37.342130 140405899437952 estimator.py:1147] Done calling model_fn.\n",
            "I0828 12:06:37.346373 140405899437952 tpu_estimator.py:499] TPU job name tpu_worker\n",
            "I0828 12:06:37.633409 140405899437952 monitored_session.py:240] Graph was finalized.\n",
            "I0828 12:06:37.728851 140405899437952 saver.py:1280] Restoring parameters from gs://tputestingmnist/DCGAN/DCGAN_8/model.ckpt-18000\n",
            "I0828 12:06:38.868126 140405899437952 session_manager.py:500] Running local_init_op.\n",
            "I0828 12:06:39.019591 140405899437952 session_manager.py:502] Done running local_init_op.\n",
            "I0828 12:06:41.053291 140405899437952 basic_session_run_hooks.py:606] Saving checkpoints for 18000 into gs://tputestingmnist/DCGAN/DCGAN_8/model.ckpt.\n",
            "I0828 12:06:48.220770 140405899437952 util.py:98] Initialized dataset iterators in 0 seconds\n",
            "I0828 12:06:48.222106 140405899437952 session_support.py:332] Installing graceful shutdown hook.\n",
            "I0828 12:06:48.228643 140405899437952 session_support.py:82] Creating heartbeat manager for ['/job:tpu_worker/replica:0/task:0/device:CPU:0']\n",
            "I0828 12:06:48.234389 140405899437952 session_support.py:105] Configuring worker heartbeat: shutdown_mode: WAIT_FOR_COORDINATOR\n",
            "\n",
            "I0828 12:06:48.239995 140405899437952 tpu_estimator.py:557] Init TPU system\n",
            "I0828 12:07:02.859275 140405899437952 tpu_estimator.py:566] Initialized TPU in 14 seconds\n",
            "I0828 12:07:02.861262 140404548990720 tpu_estimator.py:514] Starting infeed thread controller.\n",
            "I0828 12:07:02.866508 140404540598016 tpu_estimator.py:533] Starting outfeed thread controller.\n",
            "I0828 12:07:03.018056 140405899437952 tpu_estimator.py:590] Enqueue next (1000) batch(es) of data to infeed.\n",
            "I0828 12:07:03.019514 140405899437952 tpu_estimator.py:594] Dequeue next (1000) batch(es) of data from outfeed.\n",
            "I0828 12:07:10.187193 140404540598016 tpu_estimator.py:275] Outfeed finished for iteration (0, 0)\n",
            "I0828 12:07:31.146839 140405899437952 basic_session_run_hooks.py:606] Saving checkpoints for 19000 into gs://tputestingmnist/DCGAN/DCGAN_8/model.ckpt.\n",
            "I0828 12:07:39.035073 140405899437952 basic_session_run_hooks.py:262] loss = 5.30639, step = 19000\n",
            "I0828 12:07:39.844174 140405899437952 tpu_estimator.py:598] Stop infeed thread controller\n",
            "I0828 12:07:39.848414 140405899437952 tpu_estimator.py:430] Shutting down InfeedController thread.\n",
            "I0828 12:07:39.849954 140404548990720 tpu_estimator.py:425] InfeedController received shutdown signal, stopping.\n",
            "I0828 12:07:39.852391 140404548990720 tpu_estimator.py:530] Infeed thread finished, shutting down.\n",
            "I0828 12:07:39.854302 140405899437952 error_handling.py:96] infeed marked as finished\n",
            "I0828 12:07:39.855844 140405899437952 tpu_estimator.py:602] Stop output thread controller\n",
            "I0828 12:07:39.857278 140405899437952 tpu_estimator.py:430] Shutting down OutfeedController thread.\n",
            "I0828 12:07:39.859221 140404540598016 tpu_estimator.py:425] OutfeedController received shutdown signal, stopping.\n",
            "I0828 12:07:39.860371 140404540598016 tpu_estimator.py:541] Outfeed thread finished, shutting down.\n",
            "I0828 12:07:39.862341 140405899437952 error_handling.py:96] outfeed marked as finished\n",
            "I0828 12:07:39.863865 140405899437952 tpu_estimator.py:606] Shutdown TPU system.\n",
            "I0828 12:07:40.678066 140405899437952 estimator.py:368] Loss for final step: 5.30639.\n",
            "I0828 12:07:40.682032 140405899437952 error_handling.py:96] training_loop marked as finished\n"
          ],
          "name": "stderr"
        },
        {
          "output_type": "stream",
          "text": [
            "Finished training step 19000\n"
          ],
          "name": "stdout"
        },
        {
          "output_type": "stream",
          "text": [
            "I0828 12:07:40.892439 140405899437952 estimator.py:1145] Calling model_fn.\n",
            "I0828 12:07:43.229856 140405899437952 estimator.py:1147] Done calling model_fn.\n",
            "I0828 12:07:43.252840 140405899437952 evaluation.py:255] Starting evaluation at 2019-08-28T12:07:43Z\n",
            "I0828 12:07:43.254091 140405899437952 tpu_estimator.py:499] TPU job name tpu_worker\n",
            "I0828 12:07:43.418354 140405899437952 monitored_session.py:240] Graph was finalized.\n",
            "I0828 12:07:43.471192 140405899437952 saver.py:1280] Restoring parameters from gs://tputestingmnist/DCGAN/DCGAN_8/model.ckpt-19000\n",
            "I0828 12:07:45.691968 140405899437952 session_manager.py:500] Running local_init_op.\n",
            "I0828 12:07:45.751821 140405899437952 session_manager.py:502] Done running local_init_op.\n",
            "I0828 12:07:45.860140 140405899437952 tpu_estimator.py:557] Init TPU system\n",
            "I0828 12:07:59.996389 140405899437952 tpu_estimator.py:566] Initialized TPU in 14 seconds\n",
            "I0828 12:07:59.998183 140404548990720 tpu_estimator.py:514] Starting infeed thread controller.\n",
            "I0828 12:07:59.999129 140404540598016 tpu_estimator.py:533] Starting outfeed thread controller.\n",
            "I0828 12:07:59.999422 140405899437952 util.py:98] Initialized dataset iterators in 0 seconds\n",
            "I0828 12:08:00.044846 140405899437952 tpu_estimator.py:590] Enqueue next (1) batch(es) of data to infeed.\n",
            "I0828 12:08:00.046168 140405899437952 tpu_estimator.py:594] Dequeue next (1) batch(es) of data from outfeed.\n",
            "I0828 12:08:02.440618 140404540598016 tpu_estimator.py:275] Outfeed finished for iteration (0, 0)\n",
            "I0828 12:08:02.442289 140405899437952 evaluation.py:167] Evaluation [1/1]\n",
            "I0828 12:08:02.443191 140405899437952 tpu_estimator.py:598] Stop infeed thread controller\n",
            "I0828 12:08:02.443849 140405899437952 tpu_estimator.py:430] Shutting down InfeedController thread.\n",
            "I0828 12:08:02.444491 140404548990720 tpu_estimator.py:425] InfeedController received shutdown signal, stopping.\n",
            "I0828 12:08:02.445516 140404548990720 tpu_estimator.py:530] Infeed thread finished, shutting down.\n",
            "I0828 12:08:02.447872 140405899437952 error_handling.py:96] infeed marked as finished\n",
            "I0828 12:08:02.449039 140405899437952 tpu_estimator.py:602] Stop output thread controller\n",
            "I0828 12:08:02.451530 140405899437952 tpu_estimator.py:430] Shutting down OutfeedController thread.\n",
            "I0828 12:08:02.453103 140404540598016 tpu_estimator.py:425] OutfeedController received shutdown signal, stopping.\n",
            "I0828 12:08:02.454498 140404540598016 tpu_estimator.py:541] Outfeed thread finished, shutting down.\n",
            "I0828 12:08:02.456088 140405899437952 error_handling.py:96] outfeed marked as finished\n",
            "I0828 12:08:02.457120 140405899437952 tpu_estimator.py:606] Shutdown TPU system.\n",
            "I0828 12:08:02.748318 140405899437952 evaluation.py:275] Finished evaluation at 2019-08-28-12:08:02\n",
            "I0828 12:08:02.749771 140405899437952 estimator.py:2039] Saving dict for global step 19000: discriminator_gen_accuracy = 1.0, discriminator_loss = 1.1113907, discriminator_real_accuracy = 0.0, generator_loss = 1.7593017, global_step = 19000, loss = 2.8907938\n",
            "I0828 12:08:03.069968 140405899437952 estimator.py:2099] Saving 'checkpoint_path' summary for global step 19000: gs://tputestingmnist/DCGAN/DCGAN_8/model.ckpt-19000\n",
            "I0828 12:08:03.328683 140405899437952 error_handling.py:96] evaluation_loop marked as finished\n",
            "I0828 12:08:03.427775 140405899437952 estimator.py:1145] Calling model_fn.\n",
            "I0828 12:08:03.428935 140405899437952 tpu_estimator.py:2965] Running infer on CPU\n"
          ],
          "name": "stderr"
        },
        {
          "output_type": "stream",
          "text": [
            "Finished evaluating\n",
            "{'discriminator_gen_accuracy': 1.0, 'discriminator_loss': 1.1113907, 'discriminator_real_accuracy': 0.0, 'generator_loss': 1.7593017, 'loss': 2.8907938, 'global_step': 19000}\n"
          ],
          "name": "stdout"
        },
        {
          "output_type": "stream",
          "text": [
            "I0828 12:08:03.634495 140405899437952 estimator.py:1147] Done calling model_fn.\n",
            "I0828 12:08:03.741734 140405899437952 monitored_session.py:240] Graph was finalized.\n",
            "I0828 12:08:03.821143 140405899437952 saver.py:1280] Restoring parameters from gs://tputestingmnist/DCGAN/DCGAN_8/model.ckpt-19000\n",
            "I0828 12:08:04.016700 140405899437952 session_manager.py:500] Running local_init_op.\n",
            "I0828 12:08:04.030451 140405899437952 session_manager.py:502] Done running local_init_op.\n",
            "I0828 12:08:04.159916 140405899437952 error_handling.py:96] prediction_loop marked as finished\n",
            "I0828 12:08:04.161256 140405899437952 error_handling.py:96] prediction_loop marked as finished\n"
          ],
          "name": "stderr"
        },
        {
          "output_type": "stream",
          "text": [
            "Finished generating images\n"
          ],
          "name": "stdout"
        },
        {
          "output_type": "stream",
          "text": [
            "I0828 12:08:05.199414 140405899437952 estimator.py:1145] Calling model_fn.\n",
            "I0828 12:08:08.583758 140405899437952 basic_session_run_hooks.py:541] Create CheckpointSaverHook.\n",
            "I0828 12:08:08.645849 140405899437952 estimator.py:1147] Done calling model_fn.\n",
            "I0828 12:08:08.647224 140405899437952 tpu_estimator.py:499] TPU job name tpu_worker\n",
            "I0828 12:08:09.246184 140405899437952 monitored_session.py:240] Graph was finalized.\n",
            "I0828 12:08:09.401814 140405899437952 saver.py:1280] Restoring parameters from gs://tputestingmnist/DCGAN/DCGAN_8/model.ckpt-19000\n",
            "I0828 12:08:10.596600 140405899437952 session_manager.py:500] Running local_init_op.\n",
            "I0828 12:08:10.752720 140405899437952 session_manager.py:502] Done running local_init_op.\n",
            "I0828 12:08:13.705542 140405899437952 basic_session_run_hooks.py:606] Saving checkpoints for 19000 into gs://tputestingmnist/DCGAN/DCGAN_8/model.ckpt.\n",
            "I0828 12:08:20.443806 140405899437952 util.py:98] Initialized dataset iterators in 0 seconds\n",
            "I0828 12:08:20.445191 140405899437952 session_support.py:332] Installing graceful shutdown hook.\n",
            "I0828 12:08:20.450434 140405899437952 session_support.py:82] Creating heartbeat manager for ['/job:tpu_worker/replica:0/task:0/device:CPU:0']\n",
            "I0828 12:08:20.454968 140405899437952 session_support.py:105] Configuring worker heartbeat: shutdown_mode: WAIT_FOR_COORDINATOR\n",
            "\n",
            "I0828 12:08:20.459880 140405899437952 tpu_estimator.py:557] Init TPU system\n",
            "I0828 12:08:35.578866 140405899437952 tpu_estimator.py:566] Initialized TPU in 15 seconds\n",
            "I0828 12:08:35.580796 140404548990720 tpu_estimator.py:514] Starting infeed thread controller.\n",
            "I0828 12:08:35.583166 140404540598016 tpu_estimator.py:533] Starting outfeed thread controller.\n",
            "I0828 12:08:35.728833 140405899437952 tpu_estimator.py:590] Enqueue next (1000) batch(es) of data to infeed.\n",
            "I0828 12:08:35.730180 140405899437952 tpu_estimator.py:594] Dequeue next (1000) batch(es) of data from outfeed.\n",
            "I0828 12:08:42.759773 140404540598016 tpu_estimator.py:275] Outfeed finished for iteration (0, 0)\n",
            "I0828 12:09:03.710487 140405899437952 basic_session_run_hooks.py:606] Saving checkpoints for 20000 into gs://tputestingmnist/DCGAN/DCGAN_8/model.ckpt.\n",
            "I0828 12:09:10.632177 140405899437952 basic_session_run_hooks.py:262] loss = 5.7504444, step = 20000\n",
            "I0828 12:09:11.634564 140405899437952 tpu_estimator.py:598] Stop infeed thread controller\n",
            "I0828 12:09:11.639211 140405899437952 tpu_estimator.py:430] Shutting down InfeedController thread.\n",
            "I0828 12:09:11.640882 140404548990720 tpu_estimator.py:425] InfeedController received shutdown signal, stopping.\n",
            "I0828 12:09:11.641913 140404548990720 tpu_estimator.py:530] Infeed thread finished, shutting down.\n",
            "I0828 12:09:11.643369 140405899437952 error_handling.py:96] infeed marked as finished\n",
            "I0828 12:09:11.644377 140405899437952 tpu_estimator.py:602] Stop output thread controller\n",
            "I0828 12:09:11.645953 140405899437952 tpu_estimator.py:430] Shutting down OutfeedController thread.\n",
            "I0828 12:09:11.646954 140404540598016 tpu_estimator.py:425] OutfeedController received shutdown signal, stopping.\n",
            "I0828 12:09:11.647648 140404540598016 tpu_estimator.py:541] Outfeed thread finished, shutting down.\n",
            "I0828 12:09:11.651054 140405899437952 error_handling.py:96] outfeed marked as finished\n",
            "I0828 12:09:11.652038 140405899437952 tpu_estimator.py:606] Shutdown TPU system.\n",
            "I0828 12:09:12.491312 140405899437952 estimator.py:368] Loss for final step: 5.7504444.\n",
            "I0828 12:09:12.492629 140405899437952 error_handling.py:96] training_loop marked as finished\n",
            "I0828 12:09:12.648304 140405899437952 estimator.py:1145] Calling model_fn.\n"
          ],
          "name": "stderr"
        },
        {
          "output_type": "stream",
          "text": [
            "Finished training step 20000\n"
          ],
          "name": "stdout"
        },
        {
          "output_type": "stream",
          "text": [
            "I0828 12:09:14.502320 140405899437952 estimator.py:1147] Done calling model_fn.\n",
            "I0828 12:09:14.526820 140405899437952 evaluation.py:255] Starting evaluation at 2019-08-28T12:09:14Z\n",
            "I0828 12:09:14.527924 140405899437952 tpu_estimator.py:499] TPU job name tpu_worker\n",
            "I0828 12:09:14.685151 140405899437952 monitored_session.py:240] Graph was finalized.\n",
            "I0828 12:09:14.726537 140405899437952 saver.py:1280] Restoring parameters from gs://tputestingmnist/DCGAN/DCGAN_8/model.ckpt-20000\n",
            "I0828 12:09:17.364236 140405899437952 session_manager.py:500] Running local_init_op.\n",
            "I0828 12:09:17.411726 140405899437952 session_manager.py:502] Done running local_init_op.\n",
            "I0828 12:09:17.503363 140405899437952 tpu_estimator.py:557] Init TPU system\n",
            "I0828 12:09:31.701987 140405899437952 tpu_estimator.py:566] Initialized TPU in 14 seconds\n",
            "I0828 12:09:31.703852 140404548990720 tpu_estimator.py:514] Starting infeed thread controller.\n",
            "I0828 12:09:31.705983 140404540598016 tpu_estimator.py:533] Starting outfeed thread controller.\n",
            "I0828 12:09:31.706350 140405899437952 util.py:98] Initialized dataset iterators in 0 seconds\n",
            "I0828 12:09:31.758454 140405899437952 tpu_estimator.py:590] Enqueue next (1) batch(es) of data to infeed.\n",
            "I0828 12:09:31.759759 140405899437952 tpu_estimator.py:594] Dequeue next (1) batch(es) of data from outfeed.\n",
            "I0828 12:09:34.120521 140404540598016 tpu_estimator.py:275] Outfeed finished for iteration (0, 0)\n",
            "I0828 12:09:34.122817 140405899437952 evaluation.py:167] Evaluation [1/1]\n",
            "I0828 12:09:34.124216 140405899437952 tpu_estimator.py:598] Stop infeed thread controller\n",
            "I0828 12:09:34.126791 140405899437952 tpu_estimator.py:430] Shutting down InfeedController thread.\n",
            "I0828 12:09:34.128474 140404548990720 tpu_estimator.py:425] InfeedController received shutdown signal, stopping.\n",
            "I0828 12:09:34.130113 140404548990720 tpu_estimator.py:530] Infeed thread finished, shutting down.\n",
            "I0828 12:09:34.131829 140405899437952 error_handling.py:96] infeed marked as finished\n",
            "I0828 12:09:34.133927 140405899437952 tpu_estimator.py:602] Stop output thread controller\n",
            "I0828 12:09:34.135415 140405899437952 tpu_estimator.py:430] Shutting down OutfeedController thread.\n",
            "I0828 12:09:34.136793 140404540598016 tpu_estimator.py:425] OutfeedController received shutdown signal, stopping.\n",
            "I0828 12:09:34.138241 140404540598016 tpu_estimator.py:541] Outfeed thread finished, shutting down.\n",
            "I0828 12:09:34.139785 140405899437952 error_handling.py:96] outfeed marked as finished\n",
            "I0828 12:09:34.141685 140405899437952 tpu_estimator.py:606] Shutdown TPU system.\n",
            "I0828 12:09:34.430020 140405899437952 evaluation.py:275] Finished evaluation at 2019-08-28-12:09:34\n",
            "I0828 12:09:34.431228 140405899437952 estimator.py:2039] Saving dict for global step 20000: discriminator_gen_accuracy = 1.0, discriminator_loss = 1.1392201, discriminator_real_accuracy = 0.0, generator_loss = 2.2686357, global_step = 20000, loss = 3.3687963\n",
            "I0828 12:09:34.691940 140405899437952 estimator.py:2099] Saving 'checkpoint_path' summary for global step 20000: gs://tputestingmnist/DCGAN/DCGAN_8/model.ckpt-20000\n",
            "I0828 12:09:35.069236 140405899437952 error_handling.py:96] evaluation_loop marked as finished\n",
            "I0828 12:09:35.164445 140405899437952 estimator.py:1145] Calling model_fn.\n",
            "I0828 12:09:35.165554 140405899437952 tpu_estimator.py:2965] Running infer on CPU\n"
          ],
          "name": "stderr"
        },
        {
          "output_type": "stream",
          "text": [
            "Finished evaluating\n",
            "{'discriminator_gen_accuracy': 1.0, 'discriminator_loss': 1.1392201, 'discriminator_real_accuracy': 0.0, 'generator_loss': 2.2686357, 'loss': 3.3687963, 'global_step': 20000}\n"
          ],
          "name": "stdout"
        },
        {
          "output_type": "stream",
          "text": [
            "I0828 12:09:35.375780 140405899437952 estimator.py:1147] Done calling model_fn.\n",
            "I0828 12:09:35.485970 140405899437952 monitored_session.py:240] Graph was finalized.\n",
            "I0828 12:09:35.530880 140405899437952 saver.py:1280] Restoring parameters from gs://tputestingmnist/DCGAN/DCGAN_8/model.ckpt-20000\n",
            "I0828 12:09:35.719967 140405899437952 session_manager.py:500] Running local_init_op.\n",
            "I0828 12:09:35.729665 140405899437952 session_manager.py:502] Done running local_init_op.\n",
            "I0828 12:09:35.855196 140405899437952 error_handling.py:96] prediction_loop marked as finished\n",
            "I0828 12:09:35.856485 140405899437952 error_handling.py:96] prediction_loop marked as finished\n"
          ],
          "name": "stderr"
        },
        {
          "output_type": "stream",
          "text": [
            "Finished generating images\n"
          ],
          "name": "stdout"
        }
      ]
    }
  ]
}