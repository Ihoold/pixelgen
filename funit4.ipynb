{
 "nbformat": 4,
 "nbformat_minor": 0,
 "metadata": {
  "colab": {
   "name": "funit.ipynb",
   "version": "0.3.2",
   "provenance": [],
   "include_colab_link": true
  },
  "kernelspec": {
   "name": "python3",
   "language": "python",
   "display_name": "Python 3"
  },
  "accelerator": "TPU",
  "pycharm": {
   "stem_cell": {
    "cell_type": "raw",
    "source": [],
    "metadata": {
     "collapsed": false
    }
   }
  }
 },
 "cells": [
  {
   "cell_type": "markdown",
   "metadata": {
    "id": "view-in-github",
    "colab_type": "text"
   },
   "source": [
    "<a href=\"https://colab.research.google.com/github/Ihoold/pixelgen/blob/master/funit4.ipynb\" target=\"_parent\"><img src=\"https://colab.research.google.com/assets/colab-badge.svg\" alt=\"Open In Colab\"/></a>"
   ]
  },
  {
   "cell_type": "code",
   "metadata": {
    "id": "y-KtZcaWB02O",
    "colab_type": "code",
    "colab": {}
   },
   "source": [
    "from unittest import mock\n",
    "import os\n",
    "import numpy as np\n",
    "import tensorflow as tf\n",
    "import json\n",
    "import matplotlib.pyplot as plt\n",
    "from tensorflow.python.estimator import estimator\n",
    "from google.colab import drive, auth"
   ],
   "execution_count": 0,
   "outputs": []
  },
  {
   "cell_type": "code",
   "metadata": {
    "id": "Mi4fxG6GVo7D",
    "colab_type": "code",
    "colab": {}
   },
   "source": [
    "R, C = 4, 3\n",
    "EXAMPLES = R * C\n",
    "    \n",
    "CHANNELS = 4\n",
    "LATENT_DIM = 128\n",
    "ADD_NOISE_TO_EXAMPLE = False\n",
    "\n",
    "DROPOUT_PROB = 0.5\n",
    "ALPHA = 0.2\n",
    "BATCH_SIZE = 1024\n",
    "EPOCHS = 100000\n",
    "EVAL_EPOCHS = 1000\n",
    "G_LR = 0.0002\n",
    "D_LR = 0.0001\n",
    "KERNEL_SIZE = 4\n",
    "NUM_CLASSES = 21\n",
    "\n",
    "MODEL_NAME = 'FUNIT'\n",
    "RUN_NAME = 'FUNIT_only_gen_13'\n",
    "\n",
    "data_train_file = 'gs://tputestingmnist/datasets/dataset_train_funit.tfrecords'\n",
    "data_test_file = 'gs://tputestingmnist/datasets/dataset_test_funit.tfrecords'\n",
    "MODEL_DIR = 'gs://tputestingmnist/{}/{}/'.format(MODEL_NAME, RUN_NAME)\n",
    "# MODEL_DIR = 'gs://tputestingmnist/{}/'.format(RUN_NAME)\n",
    "GOOGLE_DRIVE_DIR = '/content/gdrive/My Drive/Programowanie/PixelGen/{}'.format(RUN_NAME)\n",
    "TF_MASTER = 'grpc://{}'.format(os.environ['COLAB_TPU_ADDR'])"
   ],
   "execution_count": 0,
   "outputs": []
  },
  {
   "cell_type": "code",
   "metadata": {
    "id": "CCzCaKLPB02f",
    "colab_type": "code",
    "colab": {}
   },
   "source": [
    "#################################### SETUP #####################################\n",
    "\n",
    "def setup():\n",
    "    drive.mount('/content/gdrive')\n",
    "    auth.authenticate_user()\n",
    "\n",
    "\n",
    "def upload_credentials():\n",
    "    # Upload credentials to TPU.\n",
    "    with tf.Session(TF_MASTER) as sess:    \n",
    "        with open('/content/adc.json', 'r') as f:\n",
    "            auth_info = json.load(f)\n",
    "        tf.contrib.cloud.configure_gcs(sess, credentials=auth_info)"
   ],
   "execution_count": 0,
   "outputs": []
  },
  {
   "cell_type": "code",
   "metadata": {
    "id": "r2ycJsJCB02o",
    "colab_type": "code",
    "colab": {}
   },
   "source": [
    "################################# DATA INPUT ###################################\n",
    "\n",
    "def parser(serialized_example):\n",
    "        \"\"\"Parses a single example into image and label tensors.\"\"\"\n",
    "        features = tf.parse_single_example(\n",
    "            serialized_example,\n",
    "            features={\n",
    "                'image_content': tf.FixedLenFeature([], tf.string),\n",
    "                'image_style': tf.FixedLenFeature([], tf.string),\n",
    "                'label': tf.FixedLenFeature([], tf.int64) \n",
    "            })\n",
    "\n",
    "        content_image = tf.decode_raw(features['image_content'], tf.uint8)\n",
    "        content_image.set_shape([48 * 48 * 4])\n",
    "        content_image = tf.reshape(content_image, [48, 48, 4])[:,:,:CHANNELS]\n",
    "        # Normalize the values of the image from [0, 255] to [-1.0, 1.0]\n",
    "        content_image = tf.cast(content_image, dtype=tf.float32) / 127.5 - 1\n",
    "\n",
    "        style_image = tf.decode_raw(features['image_style'], tf.uint8)\n",
    "        style_image.set_shape([48 * 48 * 4])\n",
    "        style_image = tf.reshape(style_image, [48, 48, 4])[:,:,:CHANNELS]\n",
    "        # Normalize the values of the image from [0, 255] to [-1.0, 1.0]\n",
    "        style_image = tf.cast(style_image, dtype=tf.float32) / 127.5 - 1\n",
    "        \n",
    "        label = features['label']\n",
    "\n",
    "        return {'style_images': style_image,\n",
    "                'content_images': content_image}, label\n",
    "\n",
    "\n",
    "def make_input_fn(is_training=True, one_batch=False):\n",
    "    def input_fn(params):\n",
    "        batch_size = params['batch_size']\n",
    "        dataset = tf.data.TFRecordDataset(data_train_file, buffer_size=8*1024*1024)\n",
    "        dataset = dataset.map(parser).cache().shuffle(batch_size)\n",
    "        if is_training:\n",
    "            dataset = dataset.repeat()\n",
    "        if one_batch:\n",
    "            dataset = dataset.take(params['batch_size'])\n",
    "            \n",
    "        dataset = dataset.batch(batch_size, drop_remainder=True).prefetch(8)\n",
    "\n",
    "        return dataset\n",
    "    return input_fn\n",
    "\n",
    "\n",
    "def predict_input_fn(params):\n",
    "    batch_size = params['batch_size']\n",
    "    dataset = tf.data.TFRecordDataset(data_test_file).map(parser).cache().shuffle(batch_size)\n",
    "    style_images, content_images, _ = dataset.prefetch(batch_size).batch(batch_size, drop_remainder=True).make_one_shot_iterator().get_next()\n",
    "    \n",
    "    features = {\n",
    "        'style_images': style_images,\n",
    "        'content_images': content_images,\n",
    "    }\n",
    "    return features, None\n"
   ],
   "execution_count": 0,
   "outputs": []
  },
  {
   "cell_type": "code",
   "metadata": {
    "id": "P6i0DewZB02v",
    "colab_type": "code",
    "colab": {}
   },
   "source": [
    "############################### DATA SAVEING ###################################\n",
    " \n",
    "def images_to_zero_one(images):\n",
    "        return np.clip(np.array(images) * 0.5 + 0.5, 0., 1.)\n",
    "\n",
    "\n",
    "def save_imgs(epoch, images):\n",
    "    if not os.path.exists(GOOGLE_DRIVE_DIR):\n",
    "        os.mkdir(GOOGLE_DRIVE_DIR)\n",
    "\n",
    "    # Rescale images to 0 - 1\n",
    "    images = images_to_zero_one(images)\n",
    "    fig, axs = plt.subplots(R, C, figsize=(20,20))\n",
    "\n",
    "    for i in range(R):\n",
    "        for j in range(C):\n",
    "            axs[i,j].imshow(images[C*i + j])\n",
    "            axs[i,j].axis('off')\n",
    "\n",
    "    fig.savefig(os.path.join(GOOGLE_DRIVE_DIR, '{}.png'.format(epoch)))\n",
    "    plt.close()"
   ],
   "execution_count": 0,
   "outputs": []
  },
  {
   "cell_type": "code",
   "metadata": {
    "id": "khVvoOzKB024",
    "colab_type": "code",
    "colab": {}
   },
   "source": [
    "################################## MODEL #######################################\n",
    "\n",
    "def _relu(x):\n",
    "    return tf.nn.relu(x)\n",
    "\n",
    "\n",
    "def _leaky_relu(x):\n",
    "    return tf.nn.leaky_relu(x, alpha=ALPHA)\n",
    "\n",
    "\n",
    "def _instance_norm(x):\n",
    "    return tf.contrib.layers.instance_norm(x)\n",
    "\n",
    "\n",
    "def _make_adain_norm(beta, gamma):\n",
    "    def _adain_norm(x):\n",
    "        mean, var = tf.nn.moments(class_latent, [1, 2], keep_dims=True)\n",
    "        outputs = tf.nn.batch_normalization(inputs, mean, var, beta, gamma, epsilon=1e-5, name='in_bn_{}'.format(index))\n",
    "        return outputs\n",
    "    return _adain_norm\n",
    "\n",
    "\n",
    "def _dense(x, neurons, name, activation=None):\n",
    "    return tf.layers.dense(x, neurons, name=name, activation=activation,\n",
    "                           kernel_initializer=tf.truncated_normal_initializer(stddev=0.02))\n",
    "\n",
    "\n",
    "def _conv2d(x, filters, kernel_size, stride, name, activation=None):\n",
    "    return tf.layers.conv2d(x, filters, [kernel_size, kernel_size], \n",
    "                            strides=[stride, stride], activation=activation,\n",
    "                            padding='same', name=name,\n",
    "                            kernel_initializer=tf.truncated_normal_initializer(stddev=0.02))\n",
    "\n",
    "def _pooling(x, kernel, stride, index):\n",
    "    return tf.layers.average_pooling2d(x, pool_size=kernel, strides=stride, name='pool_{}'.format(index))\n",
    "\n",
    "def _deconv2d(x, filters, stride, name, activation=None):\n",
    "    return tf.layers.conv2d_transpose(x, filters, [KERNEL_SIZE, KERNEL_SIZE],\n",
    "                                      strides=[stride, stride], activation=activation,\n",
    "                                      padding='same', name=name,\n",
    "                                      kernel_initializer=tf.truncated_normal_initializer(stddev=0.02))\n",
    "\n",
    "\n",
    "def convolution_block(x, filters, kernel_size, resize_factor, index, activation=_relu, activation_first=False, normalization=None):\n",
    "    if activation and activation_first:\n",
    "        x = activation(x)\n",
    "    x = _conv2d(x, kernel_size=kernel_size, filters=filters, stride=resize_factor, activation=None, name='conv_{}'.format(index))\n",
    "    if normalization:\n",
    "        x = normalization(x)\n",
    "    if activation and not activation_first:\n",
    "        x = activation(x)\n",
    "    return x\n",
    "\n",
    "\n",
    "def deconvolution_block(x, filters, resize_factor, index, activation=_relu, normalization=None):\n",
    "    x = _deconv2d(x, filters=filters, stride=resize_factor, activation=None, name='deconv_{}'.format(index))\n",
    "    if normalization:\n",
    "        x = normalization(x)\n",
    "    if activation:\n",
    "        x = activation(x)\n",
    "    return x\n",
    "\n",
    "\n",
    "def fully_connected_block(x, neurons, index, activation=_relu, normalization=None):\n",
    "    x = _dense(x, neurons=neurons, activation=None, name='fc_{}'.format(index))\n",
    "    if normalization:\n",
    "        x = normalization(x)\n",
    "    if activation:\n",
    "        x = activation(x)\n",
    "    return x\n",
    "\n",
    "\n",
    "def residual_block(x, filters_in, filters_out, index, kernel_size=3, activation=_relu, activation_first=False, normalization=None):\n",
    "    forwarded_x = convolution_block(x, filters_in, kernel_size, resize_factor=1, \n",
    "                                    index='res_con1_{}'.format(index), \n",
    "                                    activation_first=activation_first, activation=activation)\n",
    "    \n",
    "    forwarded_x = convolution_block(forwarded_x, filters_out, kernel_size, resize_factor=1, \n",
    "                                    index='res_con2_{}'.format(index), \n",
    "                                    activation_first=activation_first, activation=None)\n",
    "    \n",
    "    if filters_in != filters_out:\n",
    "        x = convolution_block(x, filters_out, kernel_size=1, resize_factor=1, index='res_con3_{}'.format(index), activation=None)\n",
    "    x = tf.add(forwarded_x, x)\n",
    "    return x\n",
    "\n",
    "\n",
    "def adain_residual_block(x, beta, gamma, filters_in, filters_out, index, activation=_relu, activation_first=False):\n",
    "    with tf.variable_scope('adain_{}'.format(index)):\n",
    "        normalization = _make_adain_norm(beta, gamma)\n",
    "        return residual_block(x, filters_in, filters_out, index, 3, activation, activation_first, normalization)\n",
    "\n",
    "\n",
    "def content_encoder(x):\n",
    "    x = convolution_block(x, 64, kernel_size=7, resize_factor=1, normalization=_instance_norm, index='con1')\n",
    "    x = convolution_block(x, 128, kernel_size=4, resize_factor=2, normalization=_instance_norm, index='con2')\n",
    "    x = convolution_block(x, 256, kernel_size=4, resize_factor=2, normalization=_instance_norm, index='con3')\n",
    "    x = convolution_block(x, 512, kernel_size=4, resize_factor=2, normalization=_instance_norm, index='con4')\n",
    "    \n",
    "    x = residual_block(x, 512, 512, index='res1', normalization=_instance_norm)\n",
    "    x = residual_block(x, 512, 512, index='res2', normalization=_instance_norm)\n",
    "    return x\n",
    "\n",
    "\n",
    "def class_encoder(x):\n",
    "    x = convolution_block(x, 64, kernel_size=7, resize_factor=1, index='cls1')\n",
    "    x = convolution_block(x, 128, kernel_size=4, resize_factor=2, index='cls2')\n",
    "    x = convolution_block(x, 256, kernel_size=4, resize_factor=2, index='cls3')\n",
    "    x = convolution_block(x, 512, kernel_size=4, resize_factor=2, index='cls4')\n",
    "    x = convolution_block(x, 1024, kernel_size=4, resize_factor=2, index='cls5')\n",
    "    x = _pooling(x, 3, 3, index='cls6')\n",
    "    return x\n",
    "\n",
    "\n",
    "def mlp(x, feature_number):\n",
    "    x = fully_connected_block(x, 256, 'mlp1')\n",
    "    x = fully_connected_block(x, 256, 'mlp2')\n",
    "    x = fully_connected_block(x, feature_number, 'mlp3', activation=None)\n",
    "    \n",
    "    return x\n",
    "\n",
    "\n",
    "def split_into_four_variable_sets(class_vars, num_features):\n",
    "    b1 = class_vars[:, :num_features]\n",
    "    g1 = class_vars[:, num_features:2*num_features]\n",
    "    b2 = class_vars[:, 2*num_features:3*num_features]\n",
    "    g2 = class_vars[:, 3*num_features:]\n",
    "    return b1, g1, b2, g2\n",
    "    \n",
    "\n",
    "def decoder(content_latent, class_latent):\n",
    "    # class code\n",
    "    encoder_features_num = content_latent.shape[3]\n",
    "    class_vars = mlp(class_latent, 4*encoder_features_num)\n",
    "    b1, g1, b2, g2 = split_into_four_variable_sets(class_vars, encoder_features_num)\n",
    "   \n",
    "    # ADAIN\n",
    "    x = adain_residual_block(content_latent, b1, g1, 512, 512, index='res3')\n",
    "    x = adain_residual_block(x, b2, g2, 512, 512, index='res4')\n",
    "\n",
    "    # Scale up\n",
    "    x = deconvolution_block(x, 512, resize_factor=2, normalization=_instance_norm, index='dec0')\n",
    "    x = deconvolution_block(x, 256, resize_factor=2, normalization=_instance_norm, index='dec1')\n",
    "    x = deconvolution_block(x, 128, resize_factor=2, normalization=_instance_norm, index='dec2')\n",
    "    x = deconvolution_block(x, CHANNELS, resize_factor=1, normalization=None, index='dec4', activation=tf.tanh)\n",
    "    \n",
    "    return x\n",
    "\n",
    "\n",
    "class Funit:\n",
    "\n",
    "    @staticmethod\n",
    "    def discriminator(x, label, scope='Discriminator'):\n",
    "        with tf.variable_scope(scope, reuse=tf.AUTO_REUSE):\n",
    "            x = convolution_block(x, 64, kernel_size=7, resize_factor=1, index='disc_11')\n",
    "            \n",
    "            x = residual_block(x, 64, 64, 'disc_12', kernel_size=3, activation=_leaky_relu, activation_first=True)\n",
    "            x = residual_block(x, 64, 128, 'disc_13', kernel_size=3, activation=_leaky_relu, activation_first=True)\n",
    "            x = _pooling(x, 3, 2, 'disc_14')\n",
    "            \n",
    "            x = residual_block(x, 128, 128, 'disc_15', kernel_size=3, activation=_leaky_relu, activation_first=True)\n",
    "            x = residual_block(x, 128, 256, 'disc_16', kernel_size=3, activation=_leaky_relu, activation_first=True)\n",
    "            x = _pooling(x, 3, 2, 'disc_17')\n",
    "            \n",
    "            x = residual_block(x, 256, 256, 'disc_18', kernel_size=3, activation=_leaky_relu, activation_first=True)\n",
    "            x = residual_block(x, 256, 512, 'disc_19', kernel_size=3, activation=_leaky_relu, activation_first=True)\n",
    "            x = _pooling(x, 3, 2, 'disc_20')\n",
    "            \n",
    "            x = residual_block(x, 512, 512, 'disc_21', kernel_size=3, activation=_leaky_relu, activation_first=True)\n",
    "            x = residual_block(x, 512, 1024, 'disc_22', kernel_size=3, activation=_leaky_relu, activation_first=True)\n",
    "            x = _pooling(x, 3, 2, 'disc_23')\n",
    "            \n",
    "            x = residual_block(x, 1024, 1024, 'disc_24', kernel_size=3, activation=_leaky_relu, activation_first=True)\n",
    "            x = residual_block(x, 1024, 1024, 'disc_25', kernel_size=3, activation=_leaky_relu, activation_first=True)\n",
    "            \n",
    "            x = _leaky_relu(x)\n",
    "            x = tf.layers.flatten(x)\n",
    "            x = _dense(x, NUM_CLASSES, 'disc_out')\n",
    "            label = tf.expand_dims(label, axis=1)\n",
    "            x = tf.gather_nd(x, label, batch_dims=1)\n",
    "            \n",
    "            return x\n",
    "          \n",
    "    @staticmethod\n",
    "    def generator(image_content, image_style, is_training, scope='Generator'):\n",
    "        with tf.variable_scope(scope, reuse=tf.AUTO_REUSE):\n",
    "            class_latent = class_encoder(image_content)\n",
    "            content_latent = content_encoder(image_style)\n",
    "            x = decoder(content_latent, class_latent)\n",
    "            return x"
   ],
   "execution_count": 0,
   "outputs": []
  },
  {
   "cell_type": "code",
   "metadata": {
    "id": "Gcr7UF8SB029",
    "colab_type": "code",
    "colab": {}
   },
   "source": [
    "################################ MODEL FUN #####################################\n",
    "def make_model_fn(model):\n",
    "\n",
    "    def model_fn(features, labels, mode, params):\n",
    "        with tf.variable_scope('inputs'):\n",
    "            content_images = features['content_images']\n",
    "            style_images = features['style_images']\n",
    "        generated_images = model.generator(content_images, style_images, (mode == tf.estimator.ModeKeys.TRAIN))\n",
    "        \n",
    "        # PREDICT #\n",
    "        if mode == tf.estimator.ModeKeys.PREDICT:\n",
    "            predictions = {\n",
    "                'generated_images': generated_images,\n",
    "                'content_images': content_images,\n",
    "                'style_images': style_images\n",
    "            }\n",
    "            return tf.contrib.tpu.TPUEstimatorSpec(mode=mode, predictions=predictions)\n",
    "\n",
    "        # Discriminator loss\n",
    "        d_on_data_logits = tf.squeeze(model.discriminator(style_images, labels))\n",
    "        d_on_g_logits = tf.squeeze(model.discriminator(generated_images, labels))\n",
    "\n",
    "        \n",
    "        with tf.variable_scope('losses'):\n",
    "            d_loss = tf.contrib.gan.losses.wargs.modified_discriminator_loss(\n",
    "                discriminator_real_outputs=d_on_data_logits,\n",
    "                discriminator_gen_outputs=d_on_g_logits,\n",
    "                reduction=tf.losses.Reduction.NONE,\n",
    "                label_smoothing=0.2\n",
    "            )\n",
    "            d_loss_reduced = tf.reduce_mean(d_loss)\n",
    "\n",
    "            # Generator loss\n",
    "            g_loss = tf.contrib.gan.losses.wargs.modified_generator_loss(\n",
    "                discriminator_gen_outputs=d_on_g_logits,\n",
    "                reduction=tf.losses.Reduction.NONE\n",
    "            )\n",
    "            g_loss_reduced = tf.reduce_mean(g_loss)\n",
    "            \n",
    "        # TRAIN #\n",
    "        if mode == tf.estimator.ModeKeys.TRAIN:\n",
    "            \n",
    "            with tf.variable_scope('optimizer'):\n",
    "                d_optimizer = tf.train.AdamOptimizer(learning_rate=D_LR, beta1=0.5)\n",
    "                d_optimizer = tf.contrib.tpu.CrossShardOptimizer(d_optimizer)\n",
    "            \n",
    "                g_optimizer = tf.train.AdamOptimizer(learning_rate=G_LR, beta1=0.5)\n",
    "                g_optimizer = tf.contrib.tpu.CrossShardOptimizer(g_optimizer)\n",
    "         \n",
    "                with tf.control_dependencies(tf.get_collection(tf.GraphKeys.UPDATE_OPS)):\n",
    "                    d_step = d_optimizer.minimize(d_loss_reduced, var_list=tf.get_collection(tf.GraphKeys.GLOBAL_VARIABLES,\n",
    "                                                                                     scope='Discriminator'))\n",
    "                    g_step = g_optimizer.minimize(g_loss_reduced, var_list=tf.get_collection(tf.GraphKeys.GLOBAL_VARIABLES,\n",
    "                                                                                     scope='Generator'))\n",
    "                    increment_step = tf.assign_add(tf.train.get_or_create_global_step(), 1)\n",
    "                    joint_op = tf.group([d_step, g_step, increment_step])\n",
    "\n",
    "                    a = tf.contrib.tpu.TPUEstimatorSpec(mode=mode, loss=d_loss_reduced+g_loss_reduced, train_op=joint_op)\n",
    "                    return a\n",
    "\n",
    "        # EVAL #\n",
    "        elif mode == tf.estimator.ModeKeys.EVAL:\n",
    "            def _eval_metric_fn(d_loss, g_loss, d_real_labels, d_gen_lanels, d_real_logits, d_gen_logits):\n",
    "                return {\n",
    "                    'discriminator_loss': tf.metrics.mean(d_loss),\n",
    "                    'generator_loss': tf.metrics.mean(g_loss),\n",
    "                    'discriminator_real_accuracy': tf.metrics.accuracy(labels=d_real_labels, predictions=tf.math.round(tf.sigmoid(d_real_logits))),\n",
    "                    'discriminator_gen_accuracy': tf.metrics.accuracy(labels=d_gen_lanels, predictions=tf.math.round(tf.sigmoid(d_gen_logits))),\n",
    "                }\n",
    "\n",
    "            return tf.contrib.tpu.TPUEstimatorSpec(mode=mode, loss=d_loss_reduced + g_loss_reduced,\n",
    "                                                   eval_metrics=(_eval_metric_fn, [d_loss, g_loss, \n",
    "                                                                                   tf.ones_like(labels), tf.zeros_like(labels),\n",
    "                                                                                   d_on_data_logits, d_on_g_logits]))\n",
    "    return model_fn"
   ],
   "execution_count": 0,
   "outputs": []
  },
  {
   "cell_type": "code",
   "metadata": {
    "id": "-5rb586jB03F",
    "colab_type": "code",
    "colab": {}
   },
   "source": [
    "################################ ESTIMATORS ####################################\n",
    "\n",
    "def make_estimators(model, only_cpu=False):\n",
    "    model_fn = make_model_fn(model)\n",
    "    \n",
    "    config = tf.contrib.tpu.RunConfig(\n",
    "        master=TF_MASTER,\n",
    "        save_checkpoints_steps=EVAL_EPOCHS,\n",
    "        save_checkpoints_secs=None,\n",
    "        save_summary_steps=EVAL_EPOCHS,\n",
    "        model_dir=MODEL_DIR,\n",
    "        keep_checkpoint_max=3,\n",
    "        tpu_config=tf.contrib.tpu.TPUConfig(iterations_per_loop=EVAL_EPOCHS))\n",
    "\n",
    "    if not only_cpu:\n",
    "        # TPU-based estimator used for TRAIN and EVAL\n",
    "        est = tf.contrib.tpu.TPUEstimator(\n",
    "            model_fn=model_fn,\n",
    "            use_tpu=True,\n",
    "            config=config,\n",
    "            train_batch_size=BATCH_SIZE,\n",
    "            eval_batch_size=BATCH_SIZE)\n",
    "    else:\n",
    "        est = None\n",
    "\n",
    "    # CPU-based estimator used for PREDICT (generating images)\n",
    "    cpu_est = tf.contrib.tpu.TPUEstimator(\n",
    "        model_fn=model_fn,\n",
    "        use_tpu=False,\n",
    "        config=config,\n",
    "        predict_batch_size=EXAMPLES)\n",
    "    \n",
    "    return est, cpu_est"
   ],
   "execution_count": 0,
   "outputs": []
  },
  {
   "cell_type": "code",
   "metadata": {
    "id": "7nIuQqdWB03O",
    "colab_type": "code",
    "colab": {}
   },
   "source": [
    "################################# TRAINING #####################################\n",
    "\n",
    "def train(est, cpu_est):\n",
    "    current_step = estimator._load_global_step_from_checkpoint_dir(MODEL_DIR)\n",
    "    print('Starting training')\n",
    "\n",
    "    while current_step < EPOCHS:\n",
    "        next_checkpoint = int(min(current_step + EVAL_EPOCHS, EPOCHS))\n",
    "        est.train(input_fn=make_input_fn(), max_steps=next_checkpoint)\n",
    "        current_step = next_checkpoint\n",
    "        print('Finished training step %d' % current_step)\n",
    "\n",
    "        # Evaluation\n",
    "        metrics = est.evaluate(input_fn=make_input_fn(False), steps=1)\n",
    "        print('Finished evaluating')\n",
    "        print(metrics)\n",
    "\n",
    "        # Render some generated images\n",
    "        generated_iter = cpu_est.predict(input_fn=make_input_fn(False, one_batch=True))\n",
    "        images = [np.concatenate([p['content_images'], p['style_images'], p['generated_images']], axis=1) for p in generated_iter]\n",
    "        save_imgs(str(current_step), images)\n",
    "        print('Finished generating images')"
   ],
   "execution_count": 0,
   "outputs": []
  },
  {
   "cell_type": "code",
   "metadata": {
    "id": "STjYktznB03T",
    "colab_type": "code",
    "colab": {}
   },
   "source": [
    "def do_experiment():\n",
    "    setup()\n",
    "    upload_credentials()\n",
    "    model = Funit()\n",
    "    est, cpu_est = make_estimators(model)\n",
    "    train(est, cpu_est)"
   ],
   "execution_count": 0,
   "outputs": []
  },
  {
   "cell_type": "code",
   "metadata": {
    "id": "3eImay3kpN2C",
    "colab_type": "code",
    "outputId": "ff142af5-63c3-46fd-ff5c-56df4e0f4d51",
    "colab": {
     "base_uri": "https://localhost:8080/",
     "height": 1000
    }
   },
   "source": [
    "tf.logging.set_verbosity(tf.logging.INFO)\n",
    "\n",
    "try:\n",
    "    do_experiment()\n",
    "except Exception as e:\n",
    "    print (e)\n",
    "    pass"
   ],
   "execution_count": 0,
   "outputs": [
    {
     "output_type": "stream",
     "text": [
      "Drive already mounted at /content/gdrive; to attempt to forcibly remount, call drive.mount(\"/content/gdrive\", force_remount=True).\n"
     ],
     "name": "stdout"
    },
    {
     "output_type": "stream",
     "text": [
      "W0819 12:27:16.589750 139671745042304 estimator.py:1984] Estimator's model_fn (<function make_model_fn.<locals>.model_fn at 0x7f07a372aa60>) includes params argument, but params are not passed to Estimator.\n",
      "I0819 12:27:16.591437 139671745042304 estimator.py:209] Using config: {'_model_dir': 'gs://tputestingmnist/FUNIT/FUNIT_only_gen_11/', '_tf_random_seed': None, '_save_summary_steps': 1000, '_save_checkpoints_steps': 1000, '_save_checkpoints_secs': None, '_session_config': allow_soft_placement: true\n",
      "graph_options {\n",
      "  rewrite_options {\n",
      "    meta_optimizer_iterations: ONE\n",
      "  }\n",
      "}\n",
      ", '_keep_checkpoint_max': 3, '_keep_checkpoint_every_n_hours': 10000, '_log_step_count_steps': None, '_train_distribute': None, '_device_fn': None, '_protocol': None, '_eval_distribute': None, '_experimental_distribute': None, '_experimental_max_worker_delay_secs': None, '_service': None, '_cluster_spec': <tensorflow.python.training.server_lib.ClusterSpec object at 0x7f0793dc3f28>, '_task_type': 'worker', '_task_id': 0, '_global_id_in_cluster': 0, '_master': 'grpc://10.118.49.2:8470', '_evaluation_master': 'grpc://10.118.49.2:8470', '_is_chief': True, '_num_ps_replicas': 0, '_num_worker_replicas': 1, '_tpu_config': TPUConfig(iterations_per_loop=1000, num_shards=None, num_cores_per_replica=None, per_host_input_for_training=2, tpu_job_name=None, initial_infeed_sleep_secs=None, input_partition_dims=None, eval_training_input_configuration=2), '_cluster': None}\n",
      "I0819 12:27:16.592746 139671745042304 tpu_context.py:209] _TPUContext: eval_on_tpu True\n",
      "W0819 12:27:16.594123 139671745042304 estimator.py:1984] Estimator's model_fn (<function make_model_fn.<locals>.model_fn at 0x7f07a372aa60>) includes params argument, but params are not passed to Estimator.\n",
      "I0819 12:27:16.595688 139671745042304 estimator.py:209] Using config: {'_model_dir': 'gs://tputestingmnist/FUNIT/FUNIT_only_gen_11/', '_tf_random_seed': None, '_save_summary_steps': 1000, '_save_checkpoints_steps': 1000, '_save_checkpoints_secs': None, '_session_config': allow_soft_placement: true\n",
      "graph_options {\n",
      "  rewrite_options {\n",
      "    meta_optimizer_iterations: ONE\n",
      "  }\n",
      "}\n",
      ", '_keep_checkpoint_max': 3, '_keep_checkpoint_every_n_hours': 10000, '_log_step_count_steps': None, '_train_distribute': None, '_device_fn': None, '_protocol': None, '_eval_distribute': None, '_experimental_distribute': None, '_experimental_max_worker_delay_secs': None, '_service': None, '_cluster_spec': <tensorflow.python.training.server_lib.ClusterSpec object at 0x7f0793dc3470>, '_task_type': 'worker', '_task_id': 0, '_global_id_in_cluster': 0, '_master': 'grpc://10.118.49.2:8470', '_evaluation_master': 'grpc://10.118.49.2:8470', '_is_chief': True, '_num_ps_replicas': 0, '_num_worker_replicas': 1, '_tpu_config': TPUConfig(iterations_per_loop=1000, num_shards=None, num_cores_per_replica=None, per_host_input_for_training=2, tpu_job_name=None, initial_infeed_sleep_secs=None, input_partition_dims=None, eval_training_input_configuration=2), '_cluster': None}\n",
      "I0819 12:27:16.598495 139671745042304 tpu_context.py:209] _TPUContext: eval_on_tpu True\n",
      "W0819 12:27:16.600200 139671745042304 tpu_context.py:211] eval_on_tpu ignored because use_tpu is False.\n",
      "I0819 12:27:16.834697 139671745042304 tpu_system_metadata.py:78] Querying Tensorflow master (grpc://10.118.49.2:8470) for TPU system metadata.\n",
      "I0819 12:27:16.844512 139671745042304 tpu_system_metadata.py:148] Found TPU system:\n",
      "I0819 12:27:16.845842 139671745042304 tpu_system_metadata.py:149] *** Num TPU Cores: 8\n",
      "I0819 12:27:16.849895 139671745042304 tpu_system_metadata.py:150] *** Num TPU Workers: 1\n",
      "I0819 12:27:16.853808 139671745042304 tpu_system_metadata.py:152] *** Num TPU Cores Per Worker: 8\n",
      "I0819 12:27:16.855447 139671745042304 tpu_system_metadata.py:154] *** Available Device: _DeviceAttributes(/job:tpu_worker/replica:0/task:0/device:CPU:0, CPU, -1, 6528001362685324125)\n",
      "I0819 12:27:16.858014 139671745042304 tpu_system_metadata.py:154] *** Available Device: _DeviceAttributes(/job:tpu_worker/replica:0/task:0/device:TPU:0, TPU, 17179869184, 811978566104812443)\n",
      "I0819 12:27:16.860670 139671745042304 tpu_system_metadata.py:154] *** Available Device: _DeviceAttributes(/job:tpu_worker/replica:0/task:0/device:TPU:1, TPU, 17179869184, 8671169784004591236)\n",
      "I0819 12:27:16.863253 139671745042304 tpu_system_metadata.py:154] *** Available Device: _DeviceAttributes(/job:tpu_worker/replica:0/task:0/device:TPU:2, TPU, 17179869184, 10789743450579945511)\n",
      "I0819 12:27:16.867017 139671745042304 tpu_system_metadata.py:154] *** Available Device: _DeviceAttributes(/job:tpu_worker/replica:0/task:0/device:TPU:3, TPU, 17179869184, 4438655455390170898)\n",
      "I0819 12:27:16.868084 139671745042304 tpu_system_metadata.py:154] *** Available Device: _DeviceAttributes(/job:tpu_worker/replica:0/task:0/device:TPU:4, TPU, 17179869184, 6715500664592113515)\n",
      "I0819 12:27:16.869805 139671745042304 tpu_system_metadata.py:154] *** Available Device: _DeviceAttributes(/job:tpu_worker/replica:0/task:0/device:TPU:5, TPU, 17179869184, 15064751877693074390)\n",
      "I0819 12:27:16.871521 139671745042304 tpu_system_metadata.py:154] *** Available Device: _DeviceAttributes(/job:tpu_worker/replica:0/task:0/device:TPU:6, TPU, 17179869184, 6185590351340972246)\n",
      "I0819 12:27:16.877875 139671745042304 tpu_system_metadata.py:154] *** Available Device: _DeviceAttributes(/job:tpu_worker/replica:0/task:0/device:TPU:7, TPU, 17179869184, 7652943207439228593)\n",
      "I0819 12:27:16.879060 139671745042304 tpu_system_metadata.py:154] *** Available Device: _DeviceAttributes(/job:tpu_worker/replica:0/task:0/device:TPU_SYSTEM:0, TPU_SYSTEM, 8589934592, 2121329371079982019)\n",
      "I0819 12:27:16.881856 139671745042304 tpu_system_metadata.py:154] *** Available Device: _DeviceAttributes(/job:tpu_worker/replica:0/task:0/device:XLA_CPU:0, XLA_CPU, 17179869184, 8873163108249635467)\n",
      "I0819 12:27:16.904494 139671745042304 estimator.py:1145] Calling model_fn.\n"
     ],
     "name": "stderr"
    },
    {
     "output_type": "stream",
     "text": [
      "Starting training\n"
     ],
     "name": "stdout"
    },
    {
     "output_type": "stream",
     "text": [
      "W0819 12:27:17.872776 139671745042304 deprecation.py:323] From <ipython-input-50-f6cca3d1f14d>:40: conv2d_transpose (from tensorflow.python.layers.convolutional) is deprecated and will be removed in a future version.\n",
      "Instructions for updating:\n",
      "Use `tf.keras.layers.Conv2DTranspose` instead.\n"
     ],
     "name": "stderr"
    },
    {
     "output_type": "stream",
     "text": [
      "(128, 1, 1, 2048)\n"
     ],
     "name": "stdout"
    },
    {
     "output_type": "stream",
     "text": [
      "W0819 12:27:19.561100 139671745042304 deprecation.py:323] From <ipython-input-50-f6cca3d1f14d>:177: flatten (from tensorflow.python.layers.core) is deprecated and will be removed in a future version.\n",
      "Instructions for updating:\n",
      "Use keras.layers.flatten instead.\n",
      "W0819 12:27:20.294175 139671745042304 deprecation.py:323] From /usr/local/lib/python3.6/dist-packages/tensorflow/python/ops/nn_impl.py:180: add_dispatch_support.<locals>.wrapper (from tensorflow.python.ops.array_ops) is deprecated and will be removed in a future version.\n",
      "Instructions for updating:\n",
      "Use tf.where in 2.0, which has the same broadcast rule as np.where\n",
      "I0819 12:27:26.055309 139671745042304 basic_session_run_hooks.py:541] Create CheckpointSaverHook.\n",
      "I0819 12:27:26.303169 139671745042304 estimator.py:1147] Done calling model_fn.\n",
      "I0819 12:27:28.422697 139671745042304 tpu_estimator.py:499] TPU job name tpu_worker\n",
      "I0819 12:27:29.179578 139671745042304 monitored_session.py:240] Graph was finalized.\n",
      "I0819 12:27:31.717579 139671745042304 session_manager.py:500] Running local_init_op.\n",
      "I0819 12:27:31.964804 139671745042304 session_manager.py:502] Done running local_init_op.\n",
      "I0819 12:27:36.385276 139671745042304 basic_session_run_hooks.py:606] Saving checkpoints for 0 into gs://tputestingmnist/FUNIT/FUNIT_only_gen_11/model.ckpt.\n",
      "W0819 12:27:50.450962 139671745042304 deprecation.py:323] From /usr/local/lib/python3.6/dist-packages/tensorflow_estimator/python/estimator/tpu/tpu_estimator.py:741: Variable.load (from tensorflow.python.ops.variables) is deprecated and will be removed in a future version.\n",
      "Instructions for updating:\n",
      "Prefer Variable.assign which has equivalent behavior in 2.X.\n",
      "I0819 12:27:51.057059 139671745042304 util.py:98] Initialized dataset iterators in 0 seconds\n",
      "I0819 12:27:51.059527 139671745042304 session_support.py:332] Installing graceful shutdown hook.\n",
      "I0819 12:27:51.068122 139671745042304 session_support.py:82] Creating heartbeat manager for ['/job:tpu_worker/replica:0/task:0/device:CPU:0']\n",
      "I0819 12:27:51.074698 139671745042304 session_support.py:105] Configuring worker heartbeat: shutdown_mode: WAIT_FOR_COORDINATOR\n",
      "\n",
      "I0819 12:27:51.080360 139671745042304 tpu_estimator.py:557] Init TPU system\n",
      "I0819 12:27:58.399497 139671745042304 tpu_estimator.py:566] Initialized TPU in 7 seconds\n",
      "I0819 12:27:58.401582 139670411867904 tpu_estimator.py:514] Starting infeed thread controller.\n",
      "I0819 12:27:58.403507 139670403475200 tpu_estimator.py:533] Starting outfeed thread controller.\n",
      "I0819 12:27:58.679196 139671745042304 tpu_estimator.py:590] Enqueue next (1000) batch(es) of data to infeed.\n",
      "I0819 12:27:58.681437 139671745042304 tpu_estimator.py:594] Dequeue next (1000) batch(es) of data from outfeed.\n",
      "I0819 12:28:20.594706 139670403475200 tpu_estimator.py:275] Outfeed finished for iteration (0, 0)\n",
      "I0819 12:29:20.838871 139670403475200 tpu_estimator.py:275] Outfeed finished for iteration (0, 207)\n",
      "I0819 12:30:21.083980 139670403475200 tpu_estimator.py:275] Outfeed finished for iteration (0, 414)\n",
      "I0819 12:31:21.328148 139670403475200 tpu_estimator.py:275] Outfeed finished for iteration (0, 621)\n",
      "I0819 12:32:21.572683 139670403475200 tpu_estimator.py:275] Outfeed finished for iteration (0, 828)\n",
      "I0819 12:33:11.980640 139671745042304 basic_session_run_hooks.py:606] Saving checkpoints for 1000 into gs://tputestingmnist/FUNIT/FUNIT_only_gen_11/model.ckpt.\n",
      "I0819 12:33:31.232505 139671745042304 basic_session_run_hooks.py:262] loss = 1.9690126, step = 1000\n",
      "I0819 12:33:31.559721 139671745042304 tpu_estimator.py:598] Stop infeed thread controller\n",
      "I0819 12:33:31.560883 139671745042304 tpu_estimator.py:430] Shutting down InfeedController thread.\n",
      "I0819 12:33:31.564945 139670411867904 tpu_estimator.py:425] InfeedController received shutdown signal, stopping.\n",
      "I0819 12:33:31.566605 139670411867904 tpu_estimator.py:530] Infeed thread finished, shutting down.\n",
      "I0819 12:33:31.571428 139671745042304 error_handling.py:96] infeed marked as finished\n",
      "I0819 12:33:31.574127 139671745042304 tpu_estimator.py:602] Stop output thread controller\n",
      "I0819 12:33:31.575429 139671745042304 tpu_estimator.py:430] Shutting down OutfeedController thread.\n",
      "I0819 12:33:31.578801 139670403475200 tpu_estimator.py:425] OutfeedController received shutdown signal, stopping.\n",
      "I0819 12:33:31.583088 139670403475200 tpu_estimator.py:541] Outfeed thread finished, shutting down.\n",
      "I0819 12:33:31.584694 139671745042304 error_handling.py:96] outfeed marked as finished\n",
      "I0819 12:33:31.586803 139671745042304 tpu_estimator.py:606] Shutdown TPU system.\n",
      "I0819 12:33:33.309968 139671745042304 estimator.py:368] Loss for final step: 1.9690126.\n",
      "I0819 12:33:33.312325 139671745042304 error_handling.py:96] training_loop marked as finished\n"
     ],
     "name": "stderr"
    },
    {
     "output_type": "stream",
     "text": [
      "Finished training step 1000\n"
     ],
     "name": "stdout"
    },
    {
     "output_type": "stream",
     "text": [
      "I0819 12:33:33.515802 139671745042304 estimator.py:1145] Calling model_fn.\n"
     ],
     "name": "stderr"
    },
    {
     "output_type": "stream",
     "text": [
      "(128, 1, 1, 2048)\n"
     ],
     "name": "stdout"
    },
    {
     "output_type": "stream",
     "text": [
      "W0819 12:33:36.270891 139671745042304 deprecation.py:323] From /usr/local/lib/python3.6/dist-packages/tensorflow_estimator/python/estimator/tpu/tpu_estimator.py:3154: div (from tensorflow.python.ops.math_ops) is deprecated and will be removed in a future version.\n",
      "Instructions for updating:\n",
      "Deprecated in favor of operator or tf.math.divide.\n",
      "I0819 12:33:37.586653 139671745042304 estimator.py:1147] Done calling model_fn.\n",
      "I0819 12:33:37.615414 139671745042304 evaluation.py:255] Starting evaluation at 2019-08-19T12:33:37Z\n",
      "I0819 12:33:37.616645 139671745042304 tpu_estimator.py:499] TPU job name tpu_worker\n",
      "I0819 12:33:38.186517 139671745042304 monitored_session.py:240] Graph was finalized.\n",
      "W0819 12:33:38.188354 139671745042304 deprecation.py:323] From /usr/local/lib/python3.6/dist-packages/tensorflow/python/training/saver.py:1276: checkpoint_exists (from tensorflow.python.training.checkpoint_management) is deprecated and will be removed in a future version.\n",
      "Instructions for updating:\n",
      "Use standard file APIs to check for files with this prefix.\n",
      "I0819 12:33:38.267055 139671745042304 saver.py:1280] Restoring parameters from gs://tputestingmnist/FUNIT/FUNIT_only_gen_11/model.ckpt-1000\n",
      "I0819 12:33:44.855316 139671745042304 session_manager.py:500] Running local_init_op.\n",
      "I0819 12:33:44.952649 139671745042304 session_manager.py:502] Done running local_init_op.\n",
      "I0819 12:33:45.167584 139671745042304 tpu_estimator.py:557] Init TPU system\n",
      "I0819 12:33:53.003974 139671745042304 tpu_estimator.py:566] Initialized TPU in 7 seconds\n",
      "I0819 12:33:53.006232 139670411867904 tpu_estimator.py:514] Starting infeed thread controller.\n",
      "I0819 12:33:53.007196 139670403475200 tpu_estimator.py:533] Starting outfeed thread controller.\n",
      "I0819 12:33:53.109431 139671745042304 util.py:98] Initialized dataset iterators in 0 seconds\n",
      "I0819 12:33:53.188106 139671745042304 tpu_estimator.py:590] Enqueue next (1) batch(es) of data to infeed.\n",
      "I0819 12:33:53.190108 139671745042304 tpu_estimator.py:594] Dequeue next (1) batch(es) of data from outfeed.\n",
      "I0819 12:34:02.072384 139670403475200 tpu_estimator.py:275] Outfeed finished for iteration (0, 0)\n",
      "I0819 12:34:02.074524 139671745042304 evaluation.py:167] Evaluation [1/1]\n",
      "I0819 12:34:02.075921 139671745042304 tpu_estimator.py:598] Stop infeed thread controller\n",
      "I0819 12:34:02.077239 139671745042304 tpu_estimator.py:430] Shutting down InfeedController thread.\n",
      "I0819 12:34:02.078799 139670411867904 tpu_estimator.py:425] InfeedController received shutdown signal, stopping.\n",
      "I0819 12:34:02.080019 139670411867904 tpu_estimator.py:530] Infeed thread finished, shutting down.\n",
      "I0819 12:34:02.081918 139671745042304 error_handling.py:96] infeed marked as finished\n",
      "I0819 12:34:02.084441 139671745042304 tpu_estimator.py:602] Stop output thread controller\n",
      "I0819 12:34:02.086318 139671745042304 tpu_estimator.py:430] Shutting down OutfeedController thread.\n",
      "I0819 12:34:02.088135 139670403475200 tpu_estimator.py:425] OutfeedController received shutdown signal, stopping.\n",
      "I0819 12:34:02.089998 139670403475200 tpu_estimator.py:541] Outfeed thread finished, shutting down.\n",
      "I0819 12:34:02.091564 139671745042304 error_handling.py:96] outfeed marked as finished\n",
      "I0819 12:34:02.096902 139671745042304 tpu_estimator.py:606] Shutdown TPU system.\n",
      "I0819 12:34:02.564830 139671745042304 evaluation.py:275] Finished evaluation at 2019-08-19-12:34:02\n",
      "I0819 12:34:02.566215 139671745042304 estimator.py:2039] Saving dict for global step 1000: discriminator_gen_accuracy = 1.0, discriminator_loss = 0.7831985, discriminator_real_accuracy = 0.9375, generator_loss = 1.2533867, global_step = 1000, loss = 2.0387077\n",
      "I0819 12:34:04.667355 139671745042304 estimator.py:2099] Saving 'checkpoint_path' summary for global step 1000: gs://tputestingmnist/FUNIT/FUNIT_only_gen_11/model.ckpt-1000\n",
      "I0819 12:34:04.953198 139671745042304 error_handling.py:96] evaluation_loop marked as finished\n",
      "I0819 12:34:05.145348 139671745042304 estimator.py:1145] Calling model_fn.\n",
      "I0819 12:34:05.147027 139671745042304 tpu_estimator.py:2965] Running infer on CPU\n"
     ],
     "name": "stderr"
    },
    {
     "output_type": "stream",
     "text": [
      "Finished evaluating\n",
      "{'discriminator_gen_accuracy': 1.0, 'discriminator_loss': 0.7831985, 'discriminator_real_accuracy': 0.9375, 'generator_loss': 1.2533867, 'loss': 2.0387077, 'global_step': 1000}\n",
      "(12, 1, 1, 2048)\n"
     ],
     "name": "stdout"
    },
    {
     "output_type": "stream",
     "text": [
      "I0819 12:34:05.843592 139671745042304 estimator.py:1147] Done calling model_fn.\n",
      "I0819 12:34:06.061075 139671745042304 monitored_session.py:240] Graph was finalized.\n",
      "I0819 12:34:06.129063 139671745042304 saver.py:1280] Restoring parameters from gs://tputestingmnist/FUNIT/FUNIT_only_gen_11/model.ckpt-1000\n",
      "I0819 12:34:06.508526 139671745042304 session_manager.py:500] Running local_init_op.\n",
      "I0819 12:34:06.530867 139671745042304 session_manager.py:502] Done running local_init_op.\n",
      "I0819 12:34:07.008821 139671745042304 error_handling.py:96] prediction_loop marked as finished\n",
      "I0819 12:34:07.010270 139671745042304 error_handling.py:96] prediction_loop marked as finished\n"
     ],
     "name": "stderr"
    },
    {
     "output_type": "stream",
     "text": [
      "Finished generating images\n"
     ],
     "name": "stdout"
    },
    {
     "output_type": "stream",
     "text": [
      "I0819 12:34:09.183457 139671745042304 estimator.py:1145] Calling model_fn.\n"
     ],
     "name": "stderr"
    },
    {
     "output_type": "stream",
     "text": [
      "(128, 1, 1, 2048)\n"
     ],
     "name": "stdout"
    },
    {
     "output_type": "stream",
     "text": [
      "I0819 12:34:17.817912 139671745042304 basic_session_run_hooks.py:541] Create CheckpointSaverHook.\n",
      "I0819 12:34:18.284929 139671745042304 estimator.py:1147] Done calling model_fn.\n",
      "I0819 12:34:18.286389 139671745042304 tpu_estimator.py:499] TPU job name tpu_worker\n",
      "I0819 12:34:19.078135 139671745042304 monitored_session.py:240] Graph was finalized.\n",
      "I0819 12:34:19.287169 139671745042304 saver.py:1280] Restoring parameters from gs://tputestingmnist/FUNIT/FUNIT_only_gen_11/model.ckpt-1000\n",
      "W0819 12:34:25.092353 139671745042304 deprecation.py:323] From /usr/local/lib/python3.6/dist-packages/tensorflow/python/training/saver.py:1066: get_checkpoint_mtimes (from tensorflow.python.training.checkpoint_management) is deprecated and will be removed in a future version.\n",
      "Instructions for updating:\n",
      "Use standard file utilities to get mtimes.\n",
      "I0819 12:34:25.807736 139671745042304 session_manager.py:500] Running local_init_op.\n",
      "I0819 12:34:26.155534 139671745042304 session_manager.py:502] Done running local_init_op.\n",
      "I0819 12:34:30.904093 139671745042304 basic_session_run_hooks.py:606] Saving checkpoints for 1000 into gs://tputestingmnist/FUNIT/FUNIT_only_gen_11/model.ckpt.\n",
      "I0819 12:34:47.197026 139671745042304 util.py:98] Initialized dataset iterators in 0 seconds\n",
      "I0819 12:34:47.198907 139671745042304 session_support.py:332] Installing graceful shutdown hook.\n",
      "I0819 12:34:47.208705 139671745042304 session_support.py:82] Creating heartbeat manager for ['/job:tpu_worker/replica:0/task:0/device:CPU:0']\n",
      "I0819 12:34:47.214408 139671745042304 session_support.py:105] Configuring worker heartbeat: shutdown_mode: WAIT_FOR_COORDINATOR\n",
      "\n",
      "I0819 12:34:47.222613 139671745042304 tpu_estimator.py:557] Init TPU system\n",
      "I0819 12:34:57.299508 139671745042304 tpu_estimator.py:566] Initialized TPU in 10 seconds\n",
      "I0819 12:34:57.301630 139670386689792 tpu_estimator.py:514] Starting infeed thread controller.\n",
      "I0819 12:34:57.307285 139670378297088 tpu_estimator.py:533] Starting outfeed thread controller.\n",
      "I0819 12:34:57.693942 139671745042304 tpu_estimator.py:590] Enqueue next (1000) batch(es) of data to infeed.\n",
      "I0819 12:34:57.695454 139671745042304 tpu_estimator.py:594] Dequeue next (1000) batch(es) of data from outfeed.\n",
      "I0819 12:35:20.729631 139670378297088 tpu_estimator.py:275] Outfeed finished for iteration (0, 0)\n",
      "I0819 12:36:20.971487 139670378297088 tpu_estimator.py:275] Outfeed finished for iteration (0, 207)\n",
      "I0819 12:37:21.215249 139670378297088 tpu_estimator.py:275] Outfeed finished for iteration (0, 414)\n",
      "I0819 12:38:21.457972 139670378297088 tpu_estimator.py:275] Outfeed finished for iteration (0, 621)\n",
      "I0819 12:39:21.701488 139670378297088 tpu_estimator.py:275] Outfeed finished for iteration (0, 828)\n",
      "I0819 12:40:12.122903 139671745042304 basic_session_run_hooks.py:606] Saving checkpoints for 2000 into gs://tputestingmnist/FUNIT/FUNIT_only_gen_11/model.ckpt.\n",
      "I0819 12:40:29.269376 139671745042304 basic_session_run_hooks.py:262] loss = 1.8624966, step = 2000\n",
      "I0819 12:40:29.674941 139671745042304 tpu_estimator.py:598] Stop infeed thread controller\n",
      "I0819 12:40:29.676214 139671745042304 tpu_estimator.py:430] Shutting down InfeedController thread.\n",
      "I0819 12:40:29.680902 139670386689792 tpu_estimator.py:425] InfeedController received shutdown signal, stopping.\n",
      "I0819 12:40:29.683356 139670386689792 tpu_estimator.py:530] Infeed thread finished, shutting down.\n",
      "I0819 12:40:29.686338 139671745042304 error_handling.py:96] infeed marked as finished\n",
      "I0819 12:40:29.689975 139671745042304 tpu_estimator.py:602] Stop output thread controller\n",
      "I0819 12:40:29.694674 139671745042304 tpu_estimator.py:430] Shutting down OutfeedController thread.\n",
      "I0819 12:40:29.698161 139670378297088 tpu_estimator.py:425] OutfeedController received shutdown signal, stopping.\n",
      "I0819 12:40:29.700243 139670378297088 tpu_estimator.py:541] Outfeed thread finished, shutting down.\n",
      "I0819 12:40:29.703384 139671745042304 error_handling.py:96] outfeed marked as finished\n",
      "I0819 12:40:29.705451 139671745042304 tpu_estimator.py:606] Shutdown TPU system.\n",
      "I0819 12:40:31.343048 139671745042304 estimator.py:368] Loss for final step: 1.8624966.\n",
      "I0819 12:40:31.344456 139671745042304 error_handling.py:96] training_loop marked as finished\n",
      "I0819 12:40:31.534195 139671745042304 estimator.py:1145] Calling model_fn.\n"
     ],
     "name": "stderr"
    },
    {
     "output_type": "stream",
     "text": [
      "Finished training step 2000\n",
      "(128, 1, 1, 2048)\n"
     ],
     "name": "stdout"
    },
    {
     "output_type": "stream",
     "text": [
      "I0819 12:40:35.750915 139671745042304 estimator.py:1147] Done calling model_fn.\n",
      "I0819 12:40:35.779272 139671745042304 evaluation.py:255] Starting evaluation at 2019-08-19T12:40:35Z\n",
      "I0819 12:40:35.780418 139671745042304 tpu_estimator.py:499] TPU job name tpu_worker\n",
      "I0819 12:40:36.124217 139671745042304 monitored_session.py:240] Graph was finalized.\n",
      "I0819 12:40:36.173558 139671745042304 saver.py:1280] Restoring parameters from gs://tputestingmnist/FUNIT/FUNIT_only_gen_11/model.ckpt-2000\n",
      "I0819 12:40:40.491981 139671745042304 session_manager.py:500] Running local_init_op.\n",
      "I0819 12:40:40.610126 139671745042304 session_manager.py:502] Done running local_init_op.\n",
      "I0819 12:40:40.840394 139671745042304 tpu_estimator.py:557] Init TPU system\n",
      "I0819 12:40:48.576746 139671745042304 tpu_estimator.py:566] Initialized TPU in 7 seconds\n",
      "I0819 12:40:48.578819 139670378297088 tpu_estimator.py:514] Starting infeed thread controller.\n",
      "I0819 12:40:48.587182 139670369904384 tpu_estimator.py:533] Starting outfeed thread controller.\n",
      "I0819 12:40:48.698541 139671745042304 util.py:98] Initialized dataset iterators in 0 seconds\n",
      "I0819 12:40:48.800794 139671745042304 tpu_estimator.py:590] Enqueue next (1) batch(es) of data to infeed.\n",
      "I0819 12:40:48.802199 139671745042304 tpu_estimator.py:594] Dequeue next (1) batch(es) of data from outfeed.\n",
      "I0819 12:40:57.941930 139670369904384 tpu_estimator.py:275] Outfeed finished for iteration (0, 0)\n",
      "I0819 12:40:57.944519 139671745042304 evaluation.py:167] Evaluation [1/1]\n",
      "I0819 12:40:57.947023 139671745042304 tpu_estimator.py:598] Stop infeed thread controller\n",
      "I0819 12:40:57.948006 139671745042304 tpu_estimator.py:430] Shutting down InfeedController thread.\n",
      "I0819 12:40:57.949008 139670378297088 tpu_estimator.py:425] InfeedController received shutdown signal, stopping.\n",
      "I0819 12:40:57.950396 139670378297088 tpu_estimator.py:530] Infeed thread finished, shutting down.\n",
      "I0819 12:40:57.951819 139671745042304 error_handling.py:96] infeed marked as finished\n",
      "I0819 12:40:57.953426 139671745042304 tpu_estimator.py:602] Stop output thread controller\n",
      "I0819 12:40:57.955308 139671745042304 tpu_estimator.py:430] Shutting down OutfeedController thread.\n",
      "I0819 12:40:57.956477 139670369904384 tpu_estimator.py:425] OutfeedController received shutdown signal, stopping.\n",
      "I0819 12:40:57.957730 139670369904384 tpu_estimator.py:541] Outfeed thread finished, shutting down.\n",
      "I0819 12:40:57.962283 139671745042304 error_handling.py:96] outfeed marked as finished\n",
      "I0819 12:40:57.963439 139671745042304 tpu_estimator.py:606] Shutdown TPU system.\n",
      "I0819 12:40:58.555944 139671745042304 evaluation.py:275] Finished evaluation at 2019-08-19-12:40:58\n",
      "I0819 12:40:58.557245 139671745042304 estimator.py:2039] Saving dict for global step 2000: discriminator_gen_accuracy = 0.08984375, discriminator_loss = 1.2426536, discriminator_real_accuracy = 0.9970703, generator_loss = 0.6227421, global_step = 2000, loss = 1.8708271\n",
      "I0819 12:40:58.931022 139671745042304 estimator.py:2099] Saving 'checkpoint_path' summary for global step 2000: gs://tputestingmnist/FUNIT/FUNIT_only_gen_11/model.ckpt-2000\n",
      "I0819 12:40:59.305480 139671745042304 error_handling.py:96] evaluation_loop marked as finished\n",
      "I0819 12:40:59.482490 139671745042304 estimator.py:1145] Calling model_fn.\n",
      "I0819 12:40:59.483731 139671745042304 tpu_estimator.py:2965] Running infer on CPU\n"
     ],
     "name": "stderr"
    },
    {
     "output_type": "stream",
     "text": [
      "Finished evaluating\n",
      "{'discriminator_gen_accuracy': 0.08984375, 'discriminator_loss': 1.2426536, 'discriminator_real_accuracy': 0.9970703, 'generator_loss': 0.6227421, 'loss': 1.8708271, 'global_step': 2000}\n",
      "(12, 1, 1, 2048)\n"
     ],
     "name": "stdout"
    },
    {
     "output_type": "stream",
     "text": [
      "I0819 12:41:00.442806 139671745042304 estimator.py:1147] Done calling model_fn.\n",
      "I0819 12:41:00.658471 139671745042304 monitored_session.py:240] Graph was finalized.\n",
      "I0819 12:41:00.731965 139671745042304 saver.py:1280] Restoring parameters from gs://tputestingmnist/FUNIT/FUNIT_only_gen_11/model.ckpt-2000\n",
      "I0819 12:41:01.099168 139671745042304 session_manager.py:500] Running local_init_op.\n",
      "I0819 12:41:01.115886 139671745042304 session_manager.py:502] Done running local_init_op.\n",
      "I0819 12:41:01.452020 139671745042304 error_handling.py:96] prediction_loop marked as finished\n",
      "I0819 12:41:01.453746 139671745042304 error_handling.py:96] prediction_loop marked as finished\n"
     ],
     "name": "stderr"
    },
    {
     "output_type": "stream",
     "text": [
      "Finished generating images\n"
     ],
     "name": "stdout"
    },
    {
     "output_type": "stream",
     "text": [
      "I0819 12:41:02.573083 139671745042304 estimator.py:1145] Calling model_fn.\n"
     ],
     "name": "stderr"
    },
    {
     "output_type": "stream",
     "text": [
      "(128, 1, 1, 2048)\n"
     ],
     "name": "stdout"
    },
    {
     "output_type": "stream",
     "text": [
      "I0819 12:41:10.732901 139671745042304 basic_session_run_hooks.py:541] Create CheckpointSaverHook.\n",
      "I0819 12:41:10.965684 139671745042304 estimator.py:1147] Done calling model_fn.\n",
      "I0819 12:41:10.967535 139671745042304 tpu_estimator.py:499] TPU job name tpu_worker\n",
      "I0819 12:41:12.003049 139671745042304 monitored_session.py:240] Graph was finalized.\n",
      "I0819 12:41:12.204375 139671745042304 saver.py:1280] Restoring parameters from gs://tputestingmnist/FUNIT/FUNIT_only_gen_11/model.ckpt-2000\n",
      "I0819 12:41:18.086467 139671745042304 session_manager.py:500] Running local_init_op.\n",
      "I0819 12:41:18.474249 139671745042304 session_manager.py:502] Done running local_init_op.\n",
      "I0819 12:41:23.387322 139671745042304 basic_session_run_hooks.py:606] Saving checkpoints for 2000 into gs://tputestingmnist/FUNIT/FUNIT_only_gen_11/model.ckpt.\n",
      "I0819 12:41:43.818569 139671745042304 util.py:98] Initialized dataset iterators in 0 seconds\n",
      "I0819 12:41:43.820314 139671745042304 session_support.py:332] Installing graceful shutdown hook.\n",
      "I0819 12:41:43.831438 139671745042304 session_support.py:82] Creating heartbeat manager for ['/job:tpu_worker/replica:0/task:0/device:CPU:0']\n",
      "I0819 12:41:43.835838 139671745042304 session_support.py:105] Configuring worker heartbeat: shutdown_mode: WAIT_FOR_COORDINATOR\n",
      "\n",
      "I0819 12:41:43.844212 139671745042304 tpu_estimator.py:557] Init TPU system\n",
      "I0819 12:41:54.011359 139671745042304 tpu_estimator.py:566] Initialized TPU in 10 seconds\n",
      "I0819 12:41:54.013340 139670411867904 tpu_estimator.py:514] Starting infeed thread controller.\n",
      "I0819 12:41:54.013988 139670378297088 tpu_estimator.py:533] Starting outfeed thread controller.\n",
      "I0819 12:41:54.377298 139671745042304 tpu_estimator.py:590] Enqueue next (1000) batch(es) of data to infeed.\n",
      "I0819 12:41:54.378727 139671745042304 tpu_estimator.py:594] Dequeue next (1000) batch(es) of data from outfeed.\n",
      "I0819 12:42:18.199671 139670378297088 tpu_estimator.py:275] Outfeed finished for iteration (0, 0)\n",
      "I0819 12:43:18.440876 139670378297088 tpu_estimator.py:275] Outfeed finished for iteration (0, 207)\n",
      "I0819 12:44:18.684336 139670378297088 tpu_estimator.py:275] Outfeed finished for iteration (0, 414)\n",
      "I0819 12:45:18.927237 139670378297088 tpu_estimator.py:275] Outfeed finished for iteration (0, 621)\n",
      "I0819 12:46:19.169889 139670378297088 tpu_estimator.py:275] Outfeed finished for iteration (0, 828)\n",
      "I0819 12:47:09.604643 139671745042304 basic_session_run_hooks.py:606] Saving checkpoints for 3000 into gs://tputestingmnist/FUNIT/FUNIT_only_gen_11/model.ckpt.\n",
      "W0819 12:47:27.210121 139671745042304 deprecation.py:323] From /usr/local/lib/python3.6/dist-packages/tensorflow/python/training/saver.py:960: remove_checkpoint (from tensorflow.python.training.checkpoint_management) is deprecated and will be removed in a future version.\n",
      "Instructions for updating:\n",
      "Use standard file APIs to delete files with this prefix.\n",
      "I0819 12:47:29.390469 139671745042304 basic_session_run_hooks.py:262] loss = 2.1075633, step = 3000\n",
      "I0819 12:47:29.861623 139671745042304 tpu_estimator.py:598] Stop infeed thread controller\n",
      "I0819 12:47:29.862974 139671745042304 tpu_estimator.py:430] Shutting down InfeedController thread.\n",
      "I0819 12:47:29.869575 139670411867904 tpu_estimator.py:425] InfeedController received shutdown signal, stopping.\n",
      "I0819 12:47:29.872783 139670411867904 tpu_estimator.py:530] Infeed thread finished, shutting down.\n",
      "I0819 12:47:29.882525 139671745042304 error_handling.py:96] infeed marked as finished\n",
      "I0819 12:47:29.885914 139671745042304 tpu_estimator.py:602] Stop output thread controller\n",
      "I0819 12:47:29.886908 139671745042304 tpu_estimator.py:430] Shutting down OutfeedController thread.\n",
      "I0819 12:47:29.887901 139670378297088 tpu_estimator.py:425] OutfeedController received shutdown signal, stopping.\n",
      "I0819 12:47:29.889119 139670378297088 tpu_estimator.py:541] Outfeed thread finished, shutting down.\n",
      "I0819 12:47:29.890444 139671745042304 error_handling.py:96] outfeed marked as finished\n",
      "I0819 12:47:29.894331 139671745042304 tpu_estimator.py:606] Shutdown TPU system.\n",
      "I0819 12:47:31.515841 139671745042304 estimator.py:368] Loss for final step: 2.1075633.\n",
      "I0819 12:47:31.517228 139671745042304 error_handling.py:96] training_loop marked as finished\n",
      "I0819 12:47:31.704851 139671745042304 estimator.py:1145] Calling model_fn.\n"
     ],
     "name": "stderr"
    },
    {
     "output_type": "stream",
     "text": [
      "Finished training step 3000\n",
      "(128, 1, 1, 2048)\n"
     ],
     "name": "stdout"
    },
    {
     "output_type": "stream",
     "text": [
      "I0819 12:47:35.957526 139671745042304 estimator.py:1147] Done calling model_fn.\n",
      "I0819 12:47:35.987530 139671745042304 evaluation.py:255] Starting evaluation at 2019-08-19T12:47:35Z\n",
      "I0819 12:47:35.988928 139671745042304 tpu_estimator.py:499] TPU job name tpu_worker\n",
      "I0819 12:47:36.339969 139671745042304 monitored_session.py:240] Graph was finalized.\n",
      "I0819 12:47:36.398478 139671745042304 saver.py:1280] Restoring parameters from gs://tputestingmnist/FUNIT/FUNIT_only_gen_11/model.ckpt-3000\n",
      "I0819 12:47:41.346792 139671745042304 session_manager.py:500] Running local_init_op.\n",
      "I0819 12:47:41.457445 139671745042304 session_manager.py:502] Done running local_init_op.\n",
      "I0819 12:47:41.694396 139671745042304 tpu_estimator.py:557] Init TPU system\n",
      "I0819 12:47:49.521729 139671745042304 tpu_estimator.py:566] Initialized TPU in 7 seconds\n",
      "I0819 12:47:49.523985 139670378297088 tpu_estimator.py:514] Starting infeed thread controller.\n",
      "I0819 12:47:49.533528 139670369904384 tpu_estimator.py:533] Starting outfeed thread controller.\n",
      "I0819 12:47:49.646589 139671745042304 util.py:98] Initialized dataset iterators in 0 seconds\n",
      "I0819 12:47:49.731346 139671745042304 tpu_estimator.py:590] Enqueue next (1) batch(es) of data to infeed.\n",
      "I0819 12:47:49.732818 139671745042304 tpu_estimator.py:594] Dequeue next (1) batch(es) of data from outfeed.\n",
      "I0819 12:47:59.039285 139670369904384 tpu_estimator.py:275] Outfeed finished for iteration (0, 0)\n",
      "I0819 12:47:59.041539 139671745042304 evaluation.py:167] Evaluation [1/1]\n",
      "I0819 12:47:59.042887 139671745042304 tpu_estimator.py:598] Stop infeed thread controller\n",
      "I0819 12:47:59.044094 139671745042304 tpu_estimator.py:430] Shutting down InfeedController thread.\n",
      "I0819 12:47:59.046433 139670378297088 tpu_estimator.py:425] InfeedController received shutdown signal, stopping.\n",
      "I0819 12:47:59.050915 139670378297088 tpu_estimator.py:530] Infeed thread finished, shutting down.\n",
      "I0819 12:47:59.052591 139671745042304 error_handling.py:96] infeed marked as finished\n",
      "I0819 12:47:59.054975 139671745042304 tpu_estimator.py:602] Stop output thread controller\n",
      "I0819 12:47:59.056379 139671745042304 tpu_estimator.py:430] Shutting down OutfeedController thread.\n",
      "I0819 12:47:59.057537 139670369904384 tpu_estimator.py:425] OutfeedController received shutdown signal, stopping.\n",
      "I0819 12:47:59.059372 139670369904384 tpu_estimator.py:541] Outfeed thread finished, shutting down.\n",
      "I0819 12:47:59.060665 139671745042304 error_handling.py:96] outfeed marked as finished\n",
      "I0819 12:47:59.062034 139671745042304 tpu_estimator.py:606] Shutdown TPU system.\n",
      "I0819 12:47:59.678918 139671745042304 evaluation.py:275] Finished evaluation at 2019-08-19-12:47:59\n",
      "I0819 12:47:59.680334 139671745042304 estimator.py:2039] Saving dict for global step 3000: discriminator_gen_accuracy = 0.9453125, discriminator_loss = 1.2692413, discriminator_real_accuracy = 0.5263672, generator_loss = 0.8351414, global_step = 3000, loss = 2.099359\n",
      "I0819 12:48:00.006078 139671745042304 estimator.py:2099] Saving 'checkpoint_path' summary for global step 3000: gs://tputestingmnist/FUNIT/FUNIT_only_gen_11/model.ckpt-3000\n",
      "I0819 12:48:00.352705 139671745042304 error_handling.py:96] evaluation_loop marked as finished\n",
      "I0819 12:48:00.539207 139671745042304 estimator.py:1145] Calling model_fn.\n",
      "I0819 12:48:00.540470 139671745042304 tpu_estimator.py:2965] Running infer on CPU\n"
     ],
     "name": "stderr"
    },
    {
     "output_type": "stream",
     "text": [
      "Finished evaluating\n",
      "{'discriminator_gen_accuracy': 0.9453125, 'discriminator_loss': 1.2692413, 'discriminator_real_accuracy': 0.5263672, 'generator_loss': 0.8351414, 'loss': 2.099359, 'global_step': 3000}\n",
      "(12, 1, 1, 2048)\n"
     ],
     "name": "stdout"
    },
    {
     "output_type": "stream",
     "text": [
      "I0819 12:48:01.287643 139671745042304 estimator.py:1147] Done calling model_fn.\n",
      "I0819 12:48:01.506794 139671745042304 monitored_session.py:240] Graph was finalized.\n",
      "I0819 12:48:01.556869 139671745042304 saver.py:1280] Restoring parameters from gs://tputestingmnist/FUNIT/FUNIT_only_gen_11/model.ckpt-3000\n",
      "I0819 12:48:01.948661 139671745042304 session_manager.py:500] Running local_init_op.\n",
      "I0819 12:48:01.963979 139671745042304 session_manager.py:502] Done running local_init_op.\n",
      "I0819 12:48:02.321859 139671745042304 error_handling.py:96] prediction_loop marked as finished\n",
      "I0819 12:48:02.323240 139671745042304 error_handling.py:96] prediction_loop marked as finished\n"
     ],
     "name": "stderr"
    },
    {
     "output_type": "stream",
     "text": [
      "Finished generating images\n"
     ],
     "name": "stdout"
    },
    {
     "output_type": "stream",
     "text": [
      "I0819 12:48:03.687492 139671745042304 estimator.py:1145] Calling model_fn.\n"
     ],
     "name": "stderr"
    },
    {
     "output_type": "stream",
     "text": [
      "(128, 1, 1, 2048)\n"
     ],
     "name": "stdout"
    },
    {
     "output_type": "stream",
     "text": [
      "I0819 12:48:11.760987 139671745042304 basic_session_run_hooks.py:541] Create CheckpointSaverHook.\n",
      "I0819 12:48:12.242187 139671745042304 estimator.py:1147] Done calling model_fn.\n",
      "I0819 12:48:12.243653 139671745042304 tpu_estimator.py:499] TPU job name tpu_worker\n",
      "I0819 12:48:13.046225 139671745042304 monitored_session.py:240] Graph was finalized.\n",
      "I0819 12:48:13.260817 139671745042304 saver.py:1280] Restoring parameters from gs://tputestingmnist/FUNIT/FUNIT_only_gen_11/model.ckpt-3000\n",
      "I0819 12:48:18.690827 139671745042304 session_manager.py:500] Running local_init_op.\n",
      "I0819 12:48:19.050078 139671745042304 session_manager.py:502] Done running local_init_op.\n",
      "I0819 12:48:23.921764 139671745042304 basic_session_run_hooks.py:606] Saving checkpoints for 3000 into gs://tputestingmnist/FUNIT/FUNIT_only_gen_11/model.ckpt.\n",
      "I0819 12:48:40.547422 139671745042304 util.py:98] Initialized dataset iterators in 0 seconds\n",
      "I0819 12:48:40.549036 139671745042304 session_support.py:332] Installing graceful shutdown hook.\n",
      "I0819 12:48:40.555998 139671745042304 session_support.py:82] Creating heartbeat manager for ['/job:tpu_worker/replica:0/task:0/device:CPU:0']\n",
      "I0819 12:48:40.566738 139671745042304 session_support.py:105] Configuring worker heartbeat: shutdown_mode: WAIT_FOR_COORDINATOR\n",
      "\n",
      "I0819 12:48:40.573733 139671745042304 tpu_estimator.py:557] Init TPU system\n",
      "I0819 12:48:50.792114 139671745042304 tpu_estimator.py:566] Initialized TPU in 10 seconds\n",
      "I0819 12:48:50.794052 139670378297088 tpu_estimator.py:514] Starting infeed thread controller.\n",
      "I0819 12:48:50.797880 139670369904384 tpu_estimator.py:533] Starting outfeed thread controller.\n",
      "I0819 12:48:51.160126 139671745042304 tpu_estimator.py:590] Enqueue next (1000) batch(es) of data to infeed.\n",
      "I0819 12:48:51.161522 139671745042304 tpu_estimator.py:594] Dequeue next (1000) batch(es) of data from outfeed.\n",
      "I0819 12:49:15.327690 139670369904384 tpu_estimator.py:275] Outfeed finished for iteration (0, 0)\n",
      "I0819 12:50:15.602171 139670369904384 tpu_estimator.py:275] Outfeed finished for iteration (0, 207)\n",
      "I0819 12:51:15.872499 139670369904384 tpu_estimator.py:275] Outfeed finished for iteration (0, 414)\n",
      "I0819 12:52:16.137896 139670369904384 tpu_estimator.py:275] Outfeed finished for iteration (0, 621)\n",
      "I0819 12:53:16.400081 139670369904384 tpu_estimator.py:275] Outfeed finished for iteration (0, 828)\n",
      "I0819 12:54:06.859314 139671745042304 basic_session_run_hooks.py:606] Saving checkpoints for 4000 into gs://tputestingmnist/FUNIT/FUNIT_only_gen_11/model.ckpt.\n",
      "I0819 12:54:24.817476 139671745042304 basic_session_run_hooks.py:262] loss = 1.8862314, step = 4000\n",
      "I0819 12:54:25.372871 139671745042304 tpu_estimator.py:598] Stop infeed thread controller\n",
      "I0819 12:54:25.374069 139671745042304 tpu_estimator.py:430] Shutting down InfeedController thread.\n",
      "I0819 12:54:25.377550 139670378297088 tpu_estimator.py:425] InfeedController received shutdown signal, stopping.\n",
      "I0819 12:54:25.379627 139670378297088 tpu_estimator.py:530] Infeed thread finished, shutting down.\n",
      "I0819 12:54:25.380972 139671745042304 error_handling.py:96] infeed marked as finished\n",
      "I0819 12:54:25.381916 139671745042304 tpu_estimator.py:602] Stop output thread controller\n",
      "I0819 12:54:25.382757 139671745042304 tpu_estimator.py:430] Shutting down OutfeedController thread.\n",
      "I0819 12:54:25.384436 139670369904384 tpu_estimator.py:425] OutfeedController received shutdown signal, stopping.\n",
      "I0819 12:54:25.385285 139670369904384 tpu_estimator.py:541] Outfeed thread finished, shutting down.\n",
      "I0819 12:54:25.386830 139671745042304 error_handling.py:96] outfeed marked as finished\n",
      "I0819 12:54:25.387778 139671745042304 tpu_estimator.py:606] Shutdown TPU system.\n",
      "I0819 12:54:27.066380 139671745042304 estimator.py:368] Loss for final step: 1.8862314.\n",
      "I0819 12:54:27.067950 139671745042304 error_handling.py:96] training_loop marked as finished\n"
     ],
     "name": "stderr"
    },
    {
     "output_type": "stream",
     "text": [
      "Finished training step 4000\n"
     ],
     "name": "stdout"
    },
    {
     "output_type": "stream",
     "text": [
      "I0819 12:54:27.285100 139671745042304 estimator.py:1145] Calling model_fn.\n"
     ],
     "name": "stderr"
    },
    {
     "output_type": "stream",
     "text": [
      "(128, 1, 1, 2048)\n"
     ],
     "name": "stdout"
    },
    {
     "output_type": "stream",
     "text": [
      "I0819 12:54:31.402866 139671745042304 estimator.py:1147] Done calling model_fn.\n",
      "I0819 12:54:31.431511 139671745042304 evaluation.py:255] Starting evaluation at 2019-08-19T12:54:31Z\n",
      "I0819 12:54:31.432578 139671745042304 tpu_estimator.py:499] TPU job name tpu_worker\n",
      "I0819 12:54:31.783472 139671745042304 monitored_session.py:240] Graph was finalized.\n",
      "I0819 12:54:31.854952 139671745042304 saver.py:1280] Restoring parameters from gs://tputestingmnist/FUNIT/FUNIT_only_gen_11/model.ckpt-4000\n",
      "I0819 12:54:36.881522 139671745042304 session_manager.py:500] Running local_init_op.\n",
      "I0819 12:54:36.985854 139671745042304 session_manager.py:502] Done running local_init_op.\n",
      "I0819 12:54:37.220908 139671745042304 tpu_estimator.py:557] Init TPU system\n",
      "I0819 12:54:44.912677 139671745042304 tpu_estimator.py:566] Initialized TPU in 7 seconds\n",
      "I0819 12:54:44.914722 139670378297088 tpu_estimator.py:514] Starting infeed thread controller.\n",
      "I0819 12:54:44.921140 139670369904384 tpu_estimator.py:533] Starting outfeed thread controller.\n",
      "I0819 12:54:45.035350 139671745042304 util.py:98] Initialized dataset iterators in 0 seconds\n",
      "I0819 12:54:45.118224 139671745042304 tpu_estimator.py:590] Enqueue next (1) batch(es) of data to infeed.\n",
      "I0819 12:54:45.120033 139671745042304 tpu_estimator.py:594] Dequeue next (1) batch(es) of data from outfeed.\n",
      "I0819 12:54:54.701146 139670369904384 tpu_estimator.py:275] Outfeed finished for iteration (0, 0)\n",
      "I0819 12:54:54.702817 139671745042304 evaluation.py:167] Evaluation [1/1]\n",
      "I0819 12:54:54.703958 139671745042304 tpu_estimator.py:598] Stop infeed thread controller\n",
      "I0819 12:54:54.705003 139671745042304 tpu_estimator.py:430] Shutting down InfeedController thread.\n",
      "I0819 12:54:54.707321 139670378297088 tpu_estimator.py:425] InfeedController received shutdown signal, stopping.\n",
      "I0819 12:54:54.708390 139670378297088 tpu_estimator.py:530] Infeed thread finished, shutting down.\n",
      "I0819 12:54:54.710196 139671745042304 error_handling.py:96] infeed marked as finished\n",
      "I0819 12:54:54.711988 139671745042304 tpu_estimator.py:602] Stop output thread controller\n",
      "I0819 12:54:54.714120 139671745042304 tpu_estimator.py:430] Shutting down OutfeedController thread.\n",
      "I0819 12:54:54.715386 139670369904384 tpu_estimator.py:425] OutfeedController received shutdown signal, stopping.\n",
      "I0819 12:54:54.717791 139670369904384 tpu_estimator.py:541] Outfeed thread finished, shutting down.\n",
      "I0819 12:54:54.718858 139671745042304 error_handling.py:96] outfeed marked as finished\n",
      "I0819 12:54:54.720060 139671745042304 tpu_estimator.py:606] Shutdown TPU system.\n",
      "I0819 12:54:55.328011 139671745042304 evaluation.py:275] Finished evaluation at 2019-08-19-12:54:55\n",
      "I0819 12:54:55.329427 139671745042304 estimator.py:2039] Saving dict for global step 4000: discriminator_gen_accuracy = 1.0, discriminator_loss = 0.69903845, discriminator_real_accuracy = 0.79003906, generator_loss = 4.001332, global_step = 4000, loss = 4.683092\n",
      "I0819 12:54:55.676176 139671745042304 estimator.py:2099] Saving 'checkpoint_path' summary for global step 4000: gs://tputestingmnist/FUNIT/FUNIT_only_gen_11/model.ckpt-4000\n",
      "I0819 12:54:56.050215 139671745042304 error_handling.py:96] evaluation_loop marked as finished\n",
      "I0819 12:54:56.219448 139671745042304 estimator.py:1145] Calling model_fn.\n",
      "I0819 12:54:56.220756 139671745042304 tpu_estimator.py:2965] Running infer on CPU\n"
     ],
     "name": "stderr"
    },
    {
     "output_type": "stream",
     "text": [
      "Finished evaluating\n",
      "{'discriminator_gen_accuracy': 1.0, 'discriminator_loss': 0.69903845, 'discriminator_real_accuracy': 0.79003906, 'generator_loss': 4.001332, 'loss': 4.683092, 'global_step': 4000}\n",
      "(12, 1, 1, 2048)\n"
     ],
     "name": "stdout"
    },
    {
     "output_type": "stream",
     "text": [
      "I0819 12:54:57.264388 139671745042304 estimator.py:1147] Done calling model_fn.\n",
      "I0819 12:54:57.483029 139671745042304 monitored_session.py:240] Graph was finalized.\n",
      "I0819 12:54:57.540156 139671745042304 saver.py:1280] Restoring parameters from gs://tputestingmnist/FUNIT/FUNIT_only_gen_11/model.ckpt-4000\n",
      "I0819 12:54:57.964705 139671745042304 session_manager.py:500] Running local_init_op.\n",
      "I0819 12:54:57.990219 139671745042304 session_manager.py:502] Done running local_init_op.\n",
      "I0819 12:54:58.336838 139671745042304 error_handling.py:96] prediction_loop marked as finished\n",
      "I0819 12:54:58.338263 139671745042304 error_handling.py:96] prediction_loop marked as finished\n"
     ],
     "name": "stderr"
    },
    {
     "output_type": "stream",
     "text": [
      "Finished generating images\n"
     ],
     "name": "stdout"
    },
    {
     "output_type": "stream",
     "text": [
      "I0819 12:54:59.555348 139671745042304 estimator.py:1145] Calling model_fn.\n"
     ],
     "name": "stderr"
    },
    {
     "output_type": "stream",
     "text": [
      "(128, 1, 1, 2048)\n"
     ],
     "name": "stdout"
    },
    {
     "output_type": "stream",
     "text": [
      "I0819 12:55:07.726553 139671745042304 basic_session_run_hooks.py:541] Create CheckpointSaverHook.\n",
      "I0819 12:55:07.976802 139671745042304 estimator.py:1147] Done calling model_fn.\n",
      "I0819 12:55:07.978549 139671745042304 tpu_estimator.py:499] TPU job name tpu_worker\n",
      "I0819 12:55:08.788603 139671745042304 monitored_session.py:240] Graph was finalized.\n",
      "I0819 12:55:08.953836 139671745042304 saver.py:1280] Restoring parameters from gs://tputestingmnist/FUNIT/FUNIT_only_gen_11/model.ckpt-4000\n",
      "I0819 12:55:15.484244 139671745042304 session_manager.py:500] Running local_init_op.\n",
      "I0819 12:55:15.880881 139671745042304 session_manager.py:502] Done running local_init_op.\n",
      "I0819 12:55:20.696458 139671745042304 basic_session_run_hooks.py:606] Saving checkpoints for 4000 into gs://tputestingmnist/FUNIT/FUNIT_only_gen_11/model.ckpt.\n",
      "I0819 12:55:40.002186 139671745042304 util.py:98] Initialized dataset iterators in 0 seconds\n",
      "I0819 12:55:40.003679 139671745042304 session_support.py:332] Installing graceful shutdown hook.\n",
      "I0819 12:55:40.009770 139671745042304 session_support.py:82] Creating heartbeat manager for ['/job:tpu_worker/replica:0/task:0/device:CPU:0']\n",
      "I0819 12:55:40.018578 139671745042304 session_support.py:105] Configuring worker heartbeat: shutdown_mode: WAIT_FOR_COORDINATOR\n",
      "\n",
      "I0819 12:55:40.024908 139671745042304 tpu_estimator.py:557] Init TPU system\n",
      "I0819 12:55:50.454425 139671745042304 tpu_estimator.py:566] Initialized TPU in 10 seconds\n",
      "I0819 12:55:50.456511 139670378297088 tpu_estimator.py:514] Starting infeed thread controller.\n",
      "I0819 12:55:50.460949 139670369904384 tpu_estimator.py:533] Starting outfeed thread controller.\n",
      "I0819 12:55:50.853195 139671745042304 tpu_estimator.py:590] Enqueue next (1000) batch(es) of data to infeed.\n",
      "I0819 12:55:50.854565 139671745042304 tpu_estimator.py:594] Dequeue next (1000) batch(es) of data from outfeed.\n",
      "I0819 12:56:15.191440 139670369904384 tpu_estimator.py:275] Outfeed finished for iteration (0, 0)\n",
      "I0819 12:57:15.445249 139670369904384 tpu_estimator.py:275] Outfeed finished for iteration (0, 207)\n",
      "I0819 12:58:15.699079 139670369904384 tpu_estimator.py:275] Outfeed finished for iteration (0, 414)\n",
      "I0819 12:59:15.951547 139670369904384 tpu_estimator.py:275] Outfeed finished for iteration (0, 621)\n",
      "I0819 13:00:16.202300 139670369904384 tpu_estimator.py:275] Outfeed finished for iteration (0, 828)\n",
      "I0819 13:01:06.643674 139671745042304 basic_session_run_hooks.py:606] Saving checkpoints for 5000 into gs://tputestingmnist/FUNIT/FUNIT_only_gen_11/model.ckpt.\n",
      "I0819 13:01:25.344015 139671745042304 basic_session_run_hooks.py:262] loss = 3.5531864, step = 5000\n",
      "I0819 13:01:25.926128 139671745042304 tpu_estimator.py:598] Stop infeed thread controller\n",
      "I0819 13:01:25.927366 139671745042304 tpu_estimator.py:430] Shutting down InfeedController thread.\n",
      "I0819 13:01:25.929749 139670378297088 tpu_estimator.py:425] InfeedController received shutdown signal, stopping.\n",
      "I0819 13:01:25.934350 139670378297088 tpu_estimator.py:530] Infeed thread finished, shutting down.\n",
      "I0819 13:01:25.935858 139671745042304 error_handling.py:96] infeed marked as finished\n",
      "I0819 13:01:25.938805 139671745042304 tpu_estimator.py:602] Stop output thread controller\n",
      "I0819 13:01:25.946878 139671745042304 tpu_estimator.py:430] Shutting down OutfeedController thread.\n",
      "I0819 13:01:25.948930 139670369904384 tpu_estimator.py:425] OutfeedController received shutdown signal, stopping.\n",
      "I0819 13:01:25.950059 139670369904384 tpu_estimator.py:541] Outfeed thread finished, shutting down.\n",
      "I0819 13:01:25.951695 139671745042304 error_handling.py:96] outfeed marked as finished\n",
      "I0819 13:01:25.952776 139671745042304 tpu_estimator.py:606] Shutdown TPU system.\n",
      "I0819 13:01:27.662788 139671745042304 estimator.py:368] Loss for final step: 3.5531864.\n",
      "I0819 13:01:27.664065 139671745042304 error_handling.py:96] training_loop marked as finished\n",
      "I0819 13:01:27.843140 139671745042304 estimator.py:1145] Calling model_fn.\n"
     ],
     "name": "stderr"
    },
    {
     "output_type": "stream",
     "text": [
      "Finished training step 5000\n",
      "(128, 1, 1, 2048)\n"
     ],
     "name": "stdout"
    },
    {
     "output_type": "stream",
     "text": [
      "I0819 13:01:31.384744 139671745042304 estimator.py:1147] Done calling model_fn.\n",
      "I0819 13:01:31.412785 139671745042304 evaluation.py:255] Starting evaluation at 2019-08-19T13:01:31Z\n",
      "I0819 13:01:31.414066 139671745042304 tpu_estimator.py:499] TPU job name tpu_worker\n",
      "I0819 13:01:32.254426 139671745042304 monitored_session.py:240] Graph was finalized.\n",
      "I0819 13:01:32.325269 139671745042304 saver.py:1280] Restoring parameters from gs://tputestingmnist/FUNIT/FUNIT_only_gen_11/model.ckpt-5000\n",
      "I0819 13:01:37.623718 139671745042304 session_manager.py:500] Running local_init_op.\n",
      "I0819 13:01:37.729120 139671745042304 session_manager.py:502] Done running local_init_op.\n",
      "I0819 13:01:37.967784 139671745042304 tpu_estimator.py:557] Init TPU system\n",
      "I0819 13:01:45.771383 139671745042304 tpu_estimator.py:566] Initialized TPU in 7 seconds\n",
      "I0819 13:01:45.773271 139670377248512 tpu_estimator.py:514] Starting infeed thread controller.\n",
      "I0819 13:01:45.773929 139670368855808 tpu_estimator.py:533] Starting outfeed thread controller.\n",
      "I0819 13:01:45.891392 139671745042304 util.py:98] Initialized dataset iterators in 0 seconds\n",
      "I0819 13:01:45.977652 139671745042304 tpu_estimator.py:590] Enqueue next (1) batch(es) of data to infeed.\n",
      "I0819 13:01:45.979463 139671745042304 tpu_estimator.py:594] Dequeue next (1) batch(es) of data from outfeed.\n",
      "I0819 13:01:55.294695 139670368855808 tpu_estimator.py:275] Outfeed finished for iteration (0, 0)\n",
      "I0819 13:01:55.298346 139671745042304 evaluation.py:167] Evaluation [1/1]\n",
      "I0819 13:01:55.300194 139671745042304 tpu_estimator.py:598] Stop infeed thread controller\n",
      "I0819 13:01:55.301277 139671745042304 tpu_estimator.py:430] Shutting down InfeedController thread.\n",
      "I0819 13:01:55.302355 139670377248512 tpu_estimator.py:425] InfeedController received shutdown signal, stopping.\n",
      "I0819 13:01:55.305113 139670377248512 tpu_estimator.py:530] Infeed thread finished, shutting down.\n",
      "I0819 13:01:55.307253 139671745042304 error_handling.py:96] infeed marked as finished\n",
      "I0819 13:01:55.308513 139671745042304 tpu_estimator.py:602] Stop output thread controller\n",
      "I0819 13:01:55.310116 139671745042304 tpu_estimator.py:430] Shutting down OutfeedController thread.\n",
      "I0819 13:01:55.312431 139670368855808 tpu_estimator.py:425] OutfeedController received shutdown signal, stopping.\n",
      "I0819 13:01:55.313673 139670368855808 tpu_estimator.py:541] Outfeed thread finished, shutting down.\n",
      "I0819 13:01:55.314944 139671745042304 error_handling.py:96] outfeed marked as finished\n",
      "I0819 13:01:55.316113 139671745042304 tpu_estimator.py:606] Shutdown TPU system.\n",
      "I0819 13:01:55.887550 139671745042304 evaluation.py:275] Finished evaluation at 2019-08-19-13:01:55\n",
      "I0819 13:01:55.888970 139671745042304 estimator.py:2039] Saving dict for global step 5000: discriminator_gen_accuracy = 1.0, discriminator_loss = 0.4655487, discriminator_real_accuracy = 0.9394531, generator_loss = 3.240346, global_step = 5000, loss = 3.6718853\n",
      "I0819 13:01:56.203247 139671745042304 estimator.py:2099] Saving 'checkpoint_path' summary for global step 5000: gs://tputestingmnist/FUNIT/FUNIT_only_gen_11/model.ckpt-5000\n",
      "I0819 13:01:56.613206 139671745042304 error_handling.py:96] evaluation_loop marked as finished\n",
      "I0819 13:01:56.788214 139671745042304 estimator.py:1145] Calling model_fn.\n",
      "I0819 13:01:56.789511 139671745042304 tpu_estimator.py:2965] Running infer on CPU\n"
     ],
     "name": "stderr"
    },
    {
     "output_type": "stream",
     "text": [
      "Finished evaluating\n",
      "{'discriminator_gen_accuracy': 1.0, 'discriminator_loss': 0.4655487, 'discriminator_real_accuracy': 0.9394531, 'generator_loss': 3.240346, 'loss': 3.6718853, 'global_step': 5000}\n",
      "(12, 1, 1, 2048)\n"
     ],
     "name": "stdout"
    },
    {
     "output_type": "stream",
     "text": [
      "I0819 13:01:57.488872 139671745042304 estimator.py:1147] Done calling model_fn.\n",
      "I0819 13:01:57.702839 139671745042304 monitored_session.py:240] Graph was finalized.\n",
      "I0819 13:01:57.781871 139671745042304 saver.py:1280] Restoring parameters from gs://tputestingmnist/FUNIT/FUNIT_only_gen_11/model.ckpt-5000\n",
      "I0819 13:01:58.169316 139671745042304 session_manager.py:500] Running local_init_op.\n",
      "I0819 13:01:58.184823 139671745042304 session_manager.py:502] Done running local_init_op.\n",
      "I0819 13:01:58.552306 139671745042304 error_handling.py:96] prediction_loop marked as finished\n",
      "I0819 13:01:58.553642 139671745042304 error_handling.py:96] prediction_loop marked as finished\n"
     ],
     "name": "stderr"
    },
    {
     "output_type": "stream",
     "text": [
      "Finished generating images\n"
     ],
     "name": "stdout"
    },
    {
     "output_type": "stream",
     "text": [
      "I0819 13:01:59.555243 139671745042304 estimator.py:1145] Calling model_fn.\n"
     ],
     "name": "stderr"
    },
    {
     "output_type": "stream",
     "text": [
      "(128, 1, 1, 2048)\n"
     ],
     "name": "stdout"
    },
    {
     "output_type": "stream",
     "text": [
      "I0819 13:02:07.885555 139671745042304 basic_session_run_hooks.py:541] Create CheckpointSaverHook.\n",
      "I0819 13:02:08.111950 139671745042304 estimator.py:1147] Done calling model_fn.\n",
      "I0819 13:02:08.113413 139671745042304 tpu_estimator.py:499] TPU job name tpu_worker\n",
      "I0819 13:02:08.891488 139671745042304 monitored_session.py:240] Graph was finalized.\n",
      "I0819 13:02:09.066337 139671745042304 saver.py:1280] Restoring parameters from gs://tputestingmnist/FUNIT/FUNIT_only_gen_11/model.ckpt-5000\n",
      "I0819 13:02:14.691650 139671745042304 session_manager.py:500] Running local_init_op.\n",
      "I0819 13:02:15.114293 139671745042304 session_manager.py:502] Done running local_init_op.\n",
      "I0819 13:02:19.936589 139671745042304 basic_session_run_hooks.py:606] Saving checkpoints for 5000 into gs://tputestingmnist/FUNIT/FUNIT_only_gen_11/model.ckpt.\n",
      "I0819 13:02:42.124682 139671745042304 util.py:98] Initialized dataset iterators in 0 seconds\n",
      "I0819 13:02:42.128259 139671745042304 session_support.py:332] Installing graceful shutdown hook.\n",
      "I0819 13:02:42.135933 139671745042304 session_support.py:82] Creating heartbeat manager for ['/job:tpu_worker/replica:0/task:0/device:CPU:0']\n",
      "I0819 13:02:42.142073 139671745042304 session_support.py:105] Configuring worker heartbeat: shutdown_mode: WAIT_FOR_COORDINATOR\n",
      "\n",
      "I0819 13:02:42.150173 139671745042304 tpu_estimator.py:557] Init TPU system\n",
      "I0819 13:02:52.440859 139671745042304 tpu_estimator.py:566] Initialized TPU in 10 seconds\n",
      "I0819 13:02:52.442921 139670368855808 tpu_estimator.py:514] Starting infeed thread controller.\n",
      "I0819 13:02:52.446184 139670360463104 tpu_estimator.py:533] Starting outfeed thread controller.\n",
      "I0819 13:02:52.842190 139671745042304 tpu_estimator.py:590] Enqueue next (1000) batch(es) of data to infeed.\n",
      "I0819 13:02:52.843572 139671745042304 tpu_estimator.py:594] Dequeue next (1000) batch(es) of data from outfeed.\n",
      "I0819 13:03:17.489950 139670360463104 tpu_estimator.py:275] Outfeed finished for iteration (0, 0)\n",
      "I0819 13:04:17.737434 139670360463104 tpu_estimator.py:275] Outfeed finished for iteration (0, 207)\n",
      "I0819 13:05:17.986408 139670360463104 tpu_estimator.py:275] Outfeed finished for iteration (0, 414)\n",
      "I0819 13:06:18.233688 139670360463104 tpu_estimator.py:275] Outfeed finished for iteration (0, 621)\n",
      "I0819 13:07:18.482326 139670360463104 tpu_estimator.py:275] Outfeed finished for iteration (0, 828)\n",
      "I0819 13:08:08.918998 139671745042304 basic_session_run_hooks.py:606] Saving checkpoints for 6000 into gs://tputestingmnist/FUNIT/FUNIT_only_gen_11/model.ckpt.\n",
      "I0819 13:08:27.757478 139671745042304 basic_session_run_hooks.py:262] loss = 123.36052, step = 6000\n",
      "I0819 13:08:28.425394 139671745042304 tpu_estimator.py:598] Stop infeed thread controller\n",
      "I0819 13:08:28.426666 139671745042304 tpu_estimator.py:430] Shutting down InfeedController thread.\n",
      "I0819 13:08:28.430300 139670368855808 tpu_estimator.py:425] InfeedController received shutdown signal, stopping.\n",
      "I0819 13:08:28.431690 139670368855808 tpu_estimator.py:530] Infeed thread finished, shutting down.\n",
      "I0819 13:08:28.434974 139671745042304 error_handling.py:96] infeed marked as finished\n",
      "I0819 13:08:28.436276 139671745042304 tpu_estimator.py:602] Stop output thread controller\n",
      "I0819 13:08:28.441042 139671745042304 tpu_estimator.py:430] Shutting down OutfeedController thread.\n",
      "I0819 13:08:28.443502 139670360463104 tpu_estimator.py:425] OutfeedController received shutdown signal, stopping.\n",
      "I0819 13:08:28.444302 139670360463104 tpu_estimator.py:541] Outfeed thread finished, shutting down.\n",
      "I0819 13:08:28.447267 139671745042304 error_handling.py:96] outfeed marked as finished\n",
      "I0819 13:08:28.448928 139671745042304 tpu_estimator.py:606] Shutdown TPU system.\n",
      "I0819 13:08:30.146725 139671745042304 estimator.py:368] Loss for final step: 123.36052.\n",
      "I0819 13:08:30.148079 139671745042304 error_handling.py:96] training_loop marked as finished\n",
      "I0819 13:08:30.338907 139671745042304 estimator.py:1145] Calling model_fn.\n"
     ],
     "name": "stderr"
    },
    {
     "output_type": "stream",
     "text": [
      "Finished training step 6000\n",
      "(128, 1, 1, 2048)\n"
     ],
     "name": "stdout"
    },
    {
     "output_type": "stream",
     "text": [
      "I0819 13:08:33.907884 139671745042304 estimator.py:1147] Done calling model_fn.\n",
      "I0819 13:08:33.933781 139671745042304 evaluation.py:255] Starting evaluation at 2019-08-19T13:08:33Z\n",
      "I0819 13:08:33.935003 139671745042304 tpu_estimator.py:499] TPU job name tpu_worker\n",
      "I0819 13:08:34.782276 139671745042304 monitored_session.py:240] Graph was finalized.\n",
      "I0819 13:08:34.851029 139671745042304 saver.py:1280] Restoring parameters from gs://tputestingmnist/FUNIT/FUNIT_only_gen_11/model.ckpt-6000\n",
      "I0819 13:08:40.603857 139671745042304 session_manager.py:500] Running local_init_op.\n",
      "I0819 13:08:40.705906 139671745042304 session_manager.py:502] Done running local_init_op.\n",
      "I0819 13:08:40.929139 139671745042304 tpu_estimator.py:557] Init TPU system\n",
      "I0819 13:08:48.622287 139671745042304 tpu_estimator.py:566] Initialized TPU in 7 seconds\n",
      "I0819 13:08:48.624075 139670360463104 tpu_estimator.py:514] Starting infeed thread controller.\n",
      "I0819 13:08:48.625813 139670352070400 tpu_estimator.py:533] Starting outfeed thread controller.\n",
      "I0819 13:08:48.748973 139671745042304 util.py:98] Initialized dataset iterators in 0 seconds\n",
      "I0819 13:08:48.835365 139671745042304 tpu_estimator.py:590] Enqueue next (1) batch(es) of data to infeed.\n",
      "I0819 13:08:48.836749 139671745042304 tpu_estimator.py:594] Dequeue next (1) batch(es) of data from outfeed.\n",
      "I0819 13:08:58.117856 139670352070400 tpu_estimator.py:275] Outfeed finished for iteration (0, 0)\n",
      "I0819 13:08:58.120751 139671745042304 evaluation.py:167] Evaluation [1/1]\n",
      "I0819 13:08:58.121953 139671745042304 tpu_estimator.py:598] Stop infeed thread controller\n",
      "I0819 13:08:58.122876 139671745042304 tpu_estimator.py:430] Shutting down InfeedController thread.\n",
      "I0819 13:08:58.124491 139670360463104 tpu_estimator.py:425] InfeedController received shutdown signal, stopping.\n",
      "I0819 13:08:58.125426 139670360463104 tpu_estimator.py:530] Infeed thread finished, shutting down.\n",
      "I0819 13:08:58.126636 139671745042304 error_handling.py:96] infeed marked as finished\n",
      "I0819 13:08:58.127737 139671745042304 tpu_estimator.py:602] Stop output thread controller\n",
      "I0819 13:08:58.128719 139671745042304 tpu_estimator.py:430] Shutting down OutfeedController thread.\n",
      "I0819 13:08:58.129733 139670352070400 tpu_estimator.py:425] OutfeedController received shutdown signal, stopping.\n",
      "I0819 13:08:58.130762 139670352070400 tpu_estimator.py:541] Outfeed thread finished, shutting down.\n",
      "I0819 13:08:58.132011 139671745042304 error_handling.py:96] outfeed marked as finished\n",
      "I0819 13:08:58.133128 139671745042304 tpu_estimator.py:606] Shutdown TPU system.\n",
      "I0819 13:08:58.755820 139671745042304 evaluation.py:275] Finished evaluation at 2019-08-19-13:08:58\n",
      "I0819 13:08:58.757216 139671745042304 estimator.py:2039] Saving dict for global step 6000: discriminator_gen_accuracy = 0.2607422, discriminator_loss = 99.12254, discriminator_real_accuracy = 0.6748047, generator_loss = 15.420882, global_step = 6000, loss = 110.48423\n",
      "I0819 13:08:59.109125 139671745042304 estimator.py:2099] Saving 'checkpoint_path' summary for global step 6000: gs://tputestingmnist/FUNIT/FUNIT_only_gen_11/model.ckpt-6000\n",
      "I0819 13:08:59.475048 139671745042304 error_handling.py:96] evaluation_loop marked as finished\n",
      "I0819 13:08:59.645719 139671745042304 estimator.py:1145] Calling model_fn.\n",
      "I0819 13:08:59.647020 139671745042304 tpu_estimator.py:2965] Running infer on CPU\n"
     ],
     "name": "stderr"
    },
    {
     "output_type": "stream",
     "text": [
      "Finished evaluating\n",
      "{'discriminator_gen_accuracy': 0.2607422, 'discriminator_loss': 99.12254, 'discriminator_real_accuracy': 0.6748047, 'generator_loss': 15.420882, 'loss': 110.48423, 'global_step': 6000}\n",
      "(12, 1, 1, 2048)\n"
     ],
     "name": "stdout"
    },
    {
     "output_type": "stream",
     "text": [
      "I0819 13:09:00.347559 139671745042304 estimator.py:1147] Done calling model_fn.\n",
      "I0819 13:09:00.572990 139671745042304 monitored_session.py:240] Graph was finalized.\n",
      "I0819 13:09:00.634804 139671745042304 saver.py:1280] Restoring parameters from gs://tputestingmnist/FUNIT/FUNIT_only_gen_11/model.ckpt-6000\n",
      "I0819 13:09:01.008526 139671745042304 session_manager.py:500] Running local_init_op.\n",
      "I0819 13:09:01.034011 139671745042304 session_manager.py:502] Done running local_init_op.\n",
      "I0819 13:09:01.465461 139671745042304 error_handling.py:96] prediction_loop marked as finished\n",
      "I0819 13:09:01.466981 139671745042304 error_handling.py:96] prediction_loop marked as finished\n"
     ],
     "name": "stderr"
    },
    {
     "output_type": "stream",
     "text": [
      "Finished generating images\n"
     ],
     "name": "stdout"
    },
    {
     "output_type": "stream",
     "text": [
      "I0819 13:09:02.710080 139671745042304 estimator.py:1145] Calling model_fn.\n"
     ],
     "name": "stderr"
    },
    {
     "output_type": "stream",
     "text": [
      "(128, 1, 1, 2048)\n"
     ],
     "name": "stdout"
    },
    {
     "output_type": "stream",
     "text": [
      "I0819 13:09:10.978711 139671745042304 basic_session_run_hooks.py:541] Create CheckpointSaverHook.\n",
      "I0819 13:09:11.199348 139671745042304 estimator.py:1147] Done calling model_fn.\n",
      "I0819 13:09:11.200843 139671745042304 tpu_estimator.py:499] TPU job name tpu_worker\n",
      "I0819 13:09:11.962303 139671745042304 monitored_session.py:240] Graph was finalized.\n",
      "I0819 13:09:12.166234 139671745042304 saver.py:1280] Restoring parameters from gs://tputestingmnist/FUNIT/FUNIT_only_gen_11/model.ckpt-6000\n",
      "I0819 13:09:20.668337 139671745042304 session_manager.py:500] Running local_init_op.\n",
      "I0819 13:09:21.049689 139671745042304 session_manager.py:502] Done running local_init_op.\n",
      "I0819 13:09:25.885514 139671745042304 basic_session_run_hooks.py:606] Saving checkpoints for 6000 into gs://tputestingmnist/FUNIT/FUNIT_only_gen_11/model.ckpt.\n",
      "I0819 13:09:44.640883 139671745042304 util.py:98] Initialized dataset iterators in 0 seconds\n",
      "I0819 13:09:44.642460 139671745042304 session_support.py:332] Installing graceful shutdown hook.\n",
      "I0819 13:09:44.647931 139671745042304 session_support.py:82] Creating heartbeat manager for ['/job:tpu_worker/replica:0/task:0/device:CPU:0']\n",
      "I0819 13:09:44.657279 139671745042304 session_support.py:105] Configuring worker heartbeat: shutdown_mode: WAIT_FOR_COORDINATOR\n",
      "\n",
      "I0819 13:09:44.666763 139671745042304 tpu_estimator.py:557] Init TPU system\n",
      "I0819 13:09:54.914590 139671745042304 tpu_estimator.py:566] Initialized TPU in 10 seconds\n",
      "I0819 13:09:54.916459 139670360463104 tpu_estimator.py:514] Starting infeed thread controller.\n",
      "I0819 13:09:54.918232 139670352070400 tpu_estimator.py:533] Starting outfeed thread controller.\n",
      "I0819 13:09:55.339941 139671745042304 tpu_estimator.py:590] Enqueue next (1000) batch(es) of data to infeed.\n",
      "I0819 13:09:55.341189 139671745042304 tpu_estimator.py:594] Dequeue next (1000) batch(es) of data from outfeed.\n",
      "I0819 13:10:19.980073 139670352070400 tpu_estimator.py:275] Outfeed finished for iteration (0, 0)\n",
      "I0819 13:11:20.228446 139670352070400 tpu_estimator.py:275] Outfeed finished for iteration (0, 207)\n",
      "I0819 13:12:20.477999 139670352070400 tpu_estimator.py:275] Outfeed finished for iteration (0, 414)\n",
      "I0819 13:13:20.727085 139670352070400 tpu_estimator.py:275] Outfeed finished for iteration (0, 621)\n",
      "I0819 13:14:20.976813 139670352070400 tpu_estimator.py:275] Outfeed finished for iteration (0, 828)\n",
      "I0819 13:15:11.420969 139671745042304 basic_session_run_hooks.py:606] Saving checkpoints for 7000 into gs://tputestingmnist/FUNIT/FUNIT_only_gen_11/model.ckpt.\n",
      "I0819 13:15:31.653124 139671745042304 basic_session_run_hooks.py:262] loss = 4.9297647, step = 7000\n",
      "I0819 13:15:32.464772 139671745042304 tpu_estimator.py:598] Stop infeed thread controller\n",
      "I0819 13:15:32.466235 139671745042304 tpu_estimator.py:430] Shutting down InfeedController thread.\n",
      "I0819 13:15:32.467659 139670360463104 tpu_estimator.py:425] InfeedController received shutdown signal, stopping.\n",
      "I0819 13:15:32.474034 139670360463104 tpu_estimator.py:530] Infeed thread finished, shutting down.\n",
      "I0819 13:15:32.475909 139671745042304 error_handling.py:96] infeed marked as finished\n",
      "I0819 13:15:32.476920 139671745042304 tpu_estimator.py:602] Stop output thread controller\n",
      "I0819 13:15:32.478782 139671745042304 tpu_estimator.py:430] Shutting down OutfeedController thread.\n",
      "I0819 13:15:32.479655 139670352070400 tpu_estimator.py:425] OutfeedController received shutdown signal, stopping.\n",
      "I0819 13:15:32.480626 139670352070400 tpu_estimator.py:541] Outfeed thread finished, shutting down.\n",
      "I0819 13:15:32.482051 139671745042304 error_handling.py:96] outfeed marked as finished\n",
      "I0819 13:15:32.483577 139671745042304 tpu_estimator.py:606] Shutdown TPU system.\n",
      "I0819 13:15:34.502089 139671745042304 estimator.py:368] Loss for final step: 4.9297647.\n",
      "I0819 13:15:34.503437 139671745042304 error_handling.py:96] training_loop marked as finished\n"
     ],
     "name": "stderr"
    },
    {
     "output_type": "stream",
     "text": [
      "Finished training step 7000\n"
     ],
     "name": "stdout"
    },
    {
     "output_type": "stream",
     "text": [
      "I0819 13:15:34.743934 139671745042304 estimator.py:1145] Calling model_fn.\n"
     ],
     "name": "stderr"
    },
    {
     "output_type": "stream",
     "text": [
      "(128, 1, 1, 2048)\n"
     ],
     "name": "stdout"
    },
    {
     "output_type": "stream",
     "text": [
      "I0819 13:15:38.889810 139671745042304 estimator.py:1147] Done calling model_fn.\n",
      "I0819 13:15:38.915005 139671745042304 evaluation.py:255] Starting evaluation at 2019-08-19T13:15:38Z\n",
      "I0819 13:15:38.916135 139671745042304 tpu_estimator.py:499] TPU job name tpu_worker\n",
      "I0819 13:15:39.263521 139671745042304 monitored_session.py:240] Graph was finalized.\n",
      "I0819 13:15:39.332315 139671745042304 saver.py:1280] Restoring parameters from gs://tputestingmnist/FUNIT/FUNIT_only_gen_11/model.ckpt-7000\n",
      "I0819 13:15:47.338079 139671745042304 session_manager.py:500] Running local_init_op.\n",
      "I0819 13:15:47.432929 139671745042304 session_manager.py:502] Done running local_init_op.\n",
      "I0819 13:15:47.684306 139671745042304 tpu_estimator.py:557] Init TPU system\n",
      "I0819 13:15:55.557179 139671745042304 tpu_estimator.py:566] Initialized TPU in 7 seconds\n",
      "I0819 13:15:55.558918 139670360463104 tpu_estimator.py:514] Starting infeed thread controller.\n",
      "I0819 13:15:55.559529 139670352070400 tpu_estimator.py:533] Starting outfeed thread controller.\n",
      "I0819 13:15:55.678120 139671745042304 util.py:98] Initialized dataset iterators in 0 seconds\n",
      "I0819 13:15:55.784266 139671745042304 tpu_estimator.py:590] Enqueue next (1) batch(es) of data to infeed.\n",
      "I0819 13:15:55.786078 139671745042304 tpu_estimator.py:594] Dequeue next (1) batch(es) of data from outfeed.\n",
      "I0819 13:16:05.188497 139670352070400 tpu_estimator.py:275] Outfeed finished for iteration (0, 0)\n",
      "I0819 13:16:05.193529 139671745042304 evaluation.py:167] Evaluation [1/1]\n",
      "I0819 13:16:05.195096 139671745042304 tpu_estimator.py:598] Stop infeed thread controller\n",
      "I0819 13:16:05.196718 139671745042304 tpu_estimator.py:430] Shutting down InfeedController thread.\n",
      "I0819 13:16:05.198287 139670360463104 tpu_estimator.py:425] InfeedController received shutdown signal, stopping.\n",
      "I0819 13:16:05.199825 139670360463104 tpu_estimator.py:530] Infeed thread finished, shutting down.\n",
      "I0819 13:16:05.208634 139671745042304 error_handling.py:96] infeed marked as finished\n",
      "I0819 13:16:05.209876 139671745042304 tpu_estimator.py:602] Stop output thread controller\n",
      "I0819 13:16:05.211711 139671745042304 tpu_estimator.py:430] Shutting down OutfeedController thread.\n",
      "I0819 13:16:05.213578 139670352070400 tpu_estimator.py:425] OutfeedController received shutdown signal, stopping.\n",
      "I0819 13:16:05.215255 139670352070400 tpu_estimator.py:541] Outfeed thread finished, shutting down.\n",
      "I0819 13:16:05.216844 139671745042304 error_handling.py:96] outfeed marked as finished\n",
      "I0819 13:16:05.219223 139671745042304 tpu_estimator.py:606] Shutdown TPU system.\n",
      "I0819 13:16:05.840277 139671745042304 evaluation.py:275] Finished evaluation at 2019-08-19-13:16:05\n",
      "I0819 13:16:05.841636 139671745042304 estimator.py:2039] Saving dict for global step 7000: discriminator_gen_accuracy = 0.57910156, discriminator_loss = 7.817218, discriminator_real_accuracy = 0.66503906, generator_loss = 3.1326394, global_step = 7000, loss = 9.7139225\n",
      "I0819 13:16:06.172367 139671745042304 estimator.py:2099] Saving 'checkpoint_path' summary for global step 7000: gs://tputestingmnist/FUNIT/FUNIT_only_gen_11/model.ckpt-7000\n",
      "I0819 13:16:06.473166 139671745042304 error_handling.py:96] evaluation_loop marked as finished\n",
      "I0819 13:16:06.621671 139671745042304 estimator.py:1145] Calling model_fn.\n",
      "I0819 13:16:06.622855 139671745042304 tpu_estimator.py:2965] Running infer on CPU\n"
     ],
     "name": "stderr"
    },
    {
     "output_type": "stream",
     "text": [
      "Finished evaluating\n",
      "{'discriminator_gen_accuracy': 0.57910156, 'discriminator_loss': 7.817218, 'discriminator_real_accuracy': 0.66503906, 'generator_loss': 3.1326394, 'loss': 9.7139225, 'global_step': 7000}\n",
      "(12, 1, 1, 2048)\n"
     ],
     "name": "stdout"
    },
    {
     "output_type": "stream",
     "text": [
      "I0819 13:16:07.622495 139671745042304 estimator.py:1147] Done calling model_fn.\n",
      "I0819 13:16:07.836432 139671745042304 monitored_session.py:240] Graph was finalized.\n",
      "I0819 13:16:07.901986 139671745042304 saver.py:1280] Restoring parameters from gs://tputestingmnist/FUNIT/FUNIT_only_gen_11/model.ckpt-7000\n",
      "I0819 13:16:08.266238 139671745042304 session_manager.py:500] Running local_init_op.\n",
      "I0819 13:16:08.293020 139671745042304 session_manager.py:502] Done running local_init_op.\n",
      "I0819 13:16:08.635529 139671745042304 error_handling.py:96] prediction_loop marked as finished\n",
      "I0819 13:16:08.636884 139671745042304 error_handling.py:96] prediction_loop marked as finished\n"
     ],
     "name": "stderr"
    },
    {
     "output_type": "stream",
     "text": [
      "Finished generating images\n"
     ],
     "name": "stdout"
    },
    {
     "output_type": "stream",
     "text": [
      "I0819 13:16:09.717473 139671745042304 estimator.py:1145] Calling model_fn.\n"
     ],
     "name": "stderr"
    },
    {
     "output_type": "stream",
     "text": [
      "(128, 1, 1, 2048)\n"
     ],
     "name": "stdout"
    },
    {
     "output_type": "stream",
     "text": [
      "I0819 13:16:17.890388 139671745042304 basic_session_run_hooks.py:541] Create CheckpointSaverHook.\n",
      "I0819 13:16:18.108592 139671745042304 estimator.py:1147] Done calling model_fn.\n",
      "I0819 13:16:18.110055 139671745042304 tpu_estimator.py:499] TPU job name tpu_worker\n",
      "I0819 13:16:18.874555 139671745042304 monitored_session.py:240] Graph was finalized.\n",
      "I0819 13:16:19.044519 139671745042304 saver.py:1280] Restoring parameters from gs://tputestingmnist/FUNIT/FUNIT_only_gen_11/model.ckpt-7000\n",
      "I0819 13:16:25.561207 139671745042304 session_manager.py:500] Running local_init_op.\n",
      "I0819 13:16:25.940414 139671745042304 session_manager.py:502] Done running local_init_op.\n",
      "I0819 13:16:30.822259 139671745042304 basic_session_run_hooks.py:606] Saving checkpoints for 7000 into gs://tputestingmnist/FUNIT/FUNIT_only_gen_11/model.ckpt.\n",
      "I0819 13:16:52.309295 139671745042304 util.py:98] Initialized dataset iterators in 0 seconds\n",
      "I0819 13:16:52.310972 139671745042304 session_support.py:332] Installing graceful shutdown hook.\n",
      "I0819 13:16:52.317326 139671745042304 session_support.py:82] Creating heartbeat manager for ['/job:tpu_worker/replica:0/task:0/device:CPU:0']\n",
      "I0819 13:16:52.321156 139671745042304 session_support.py:105] Configuring worker heartbeat: shutdown_mode: WAIT_FOR_COORDINATOR\n",
      "\n",
      "I0819 13:16:52.328201 139671745042304 tpu_estimator.py:557] Init TPU system\n",
      "I0819 13:17:02.599843 139671745042304 tpu_estimator.py:566] Initialized TPU in 10 seconds\n",
      "I0819 13:17:02.603637 139670360463104 tpu_estimator.py:514] Starting infeed thread controller.\n",
      "I0819 13:17:02.606328 139670352070400 tpu_estimator.py:533] Starting outfeed thread controller.\n",
      "I0819 13:17:02.999003 139671745042304 tpu_estimator.py:590] Enqueue next (1000) batch(es) of data to infeed.\n",
      "I0819 13:17:03.000291 139671745042304 tpu_estimator.py:594] Dequeue next (1000) batch(es) of data from outfeed.\n",
      "I0819 13:17:27.437489 139670352070400 tpu_estimator.py:275] Outfeed finished for iteration (0, 0)\n",
      "I0819 13:18:27.686125 139670352070400 tpu_estimator.py:275] Outfeed finished for iteration (0, 207)\n",
      "I0819 13:19:27.936408 139670352070400 tpu_estimator.py:275] Outfeed finished for iteration (0, 414)\n",
      "I0819 13:20:28.186007 139670352070400 tpu_estimator.py:275] Outfeed finished for iteration (0, 621)\n",
      "I0819 13:21:28.436548 139670352070400 tpu_estimator.py:275] Outfeed finished for iteration (0, 828)\n",
      "I0819 13:22:18.891493 139671745042304 basic_session_run_hooks.py:606] Saving checkpoints for 8000 into gs://tputestingmnist/FUNIT/FUNIT_only_gen_11/model.ckpt.\n",
      "I0819 13:22:35.092891 139671745042304 basic_session_run_hooks.py:262] loss = 5.227136, step = 8000\n",
      "I0819 13:22:35.663513 139671745042304 tpu_estimator.py:598] Stop infeed thread controller\n",
      "I0819 13:22:35.664874 139671745042304 tpu_estimator.py:430] Shutting down InfeedController thread.\n",
      "I0819 13:22:35.673755 139670360463104 tpu_estimator.py:425] InfeedController received shutdown signal, stopping.\n",
      "I0819 13:22:35.677114 139670360463104 tpu_estimator.py:530] Infeed thread finished, shutting down.\n",
      "I0819 13:22:35.680341 139671745042304 error_handling.py:96] infeed marked as finished\n",
      "I0819 13:22:35.682811 139671745042304 tpu_estimator.py:602] Stop output thread controller\n",
      "I0819 13:22:35.685949 139671745042304 tpu_estimator.py:430] Shutting down OutfeedController thread.\n",
      "I0819 13:22:35.687784 139670352070400 tpu_estimator.py:425] OutfeedController received shutdown signal, stopping.\n",
      "I0819 13:22:35.689718 139670352070400 tpu_estimator.py:541] Outfeed thread finished, shutting down.\n",
      "I0819 13:22:35.691534 139671745042304 error_handling.py:96] outfeed marked as finished\n",
      "I0819 13:22:35.693944 139671745042304 tpu_estimator.py:606] Shutdown TPU system.\n",
      "I0819 13:22:37.372115 139671745042304 estimator.py:368] Loss for final step: 5.227136.\n",
      "I0819 13:22:37.373491 139671745042304 error_handling.py:96] training_loop marked as finished\n",
      "I0819 13:22:37.561700 139671745042304 estimator.py:1145] Calling model_fn.\n"
     ],
     "name": "stderr"
    },
    {
     "output_type": "stream",
     "text": [
      "Finished training step 8000\n",
      "(128, 1, 1, 2048)\n"
     ],
     "name": "stdout"
    },
    {
     "output_type": "stream",
     "text": [
      "I0819 13:22:41.855356 139671745042304 estimator.py:1147] Done calling model_fn.\n",
      "I0819 13:22:41.883939 139671745042304 evaluation.py:255] Starting evaluation at 2019-08-19T13:22:41Z\n",
      "I0819 13:22:41.885194 139671745042304 tpu_estimator.py:499] TPU job name tpu_worker\n",
      "I0819 13:22:42.233901 139671745042304 monitored_session.py:240] Graph was finalized.\n",
      "I0819 13:22:42.293572 139671745042304 saver.py:1280] Restoring parameters from gs://tputestingmnist/FUNIT/FUNIT_only_gen_11/model.ckpt-8000\n",
      "I0819 13:22:46.454952 139671745042304 session_manager.py:500] Running local_init_op.\n",
      "I0819 13:22:46.555220 139671745042304 session_manager.py:502] Done running local_init_op.\n",
      "I0819 13:22:46.772273 139671745042304 tpu_estimator.py:557] Init TPU system\n",
      "I0819 13:22:54.429997 139671745042304 tpu_estimator.py:566] Initialized TPU in 7 seconds\n",
      "I0819 13:22:54.431900 139670360463104 tpu_estimator.py:514] Starting infeed thread controller.\n",
      "I0819 13:22:54.438919 139670352070400 tpu_estimator.py:533] Starting outfeed thread controller.\n",
      "I0819 13:22:54.555106 139671745042304 util.py:98] Initialized dataset iterators in 0 seconds\n",
      "I0819 13:22:54.640205 139671745042304 tpu_estimator.py:590] Enqueue next (1) batch(es) of data to infeed.\n",
      "I0819 13:22:54.641995 139671745042304 tpu_estimator.py:594] Dequeue next (1) batch(es) of data from outfeed.\n",
      "I0819 13:23:04.094823 139670352070400 tpu_estimator.py:275] Outfeed finished for iteration (0, 0)\n",
      "I0819 13:23:04.097318 139671745042304 evaluation.py:167] Evaluation [1/1]\n",
      "I0819 13:23:04.098742 139671745042304 tpu_estimator.py:598] Stop infeed thread controller\n",
      "I0819 13:23:04.099907 139671745042304 tpu_estimator.py:430] Shutting down InfeedController thread.\n",
      "I0819 13:23:04.101038 139670360463104 tpu_estimator.py:425] InfeedController received shutdown signal, stopping.\n",
      "I0819 13:23:04.101946 139670360463104 tpu_estimator.py:530] Infeed thread finished, shutting down.\n",
      "I0819 13:23:04.103266 139671745042304 error_handling.py:96] infeed marked as finished\n",
      "I0819 13:23:04.104526 139671745042304 tpu_estimator.py:602] Stop output thread controller\n",
      "I0819 13:23:04.107834 139671745042304 tpu_estimator.py:430] Shutting down OutfeedController thread.\n",
      "I0819 13:23:04.113949 139670352070400 tpu_estimator.py:425] OutfeedController received shutdown signal, stopping.\n",
      "I0819 13:23:04.118416 139670352070400 tpu_estimator.py:541] Outfeed thread finished, shutting down.\n",
      "I0819 13:23:04.121138 139671745042304 error_handling.py:96] outfeed marked as finished\n",
      "I0819 13:23:04.122975 139671745042304 tpu_estimator.py:606] Shutdown TPU system.\n",
      "I0819 13:23:04.741606 139671745042304 evaluation.py:275] Finished evaluation at 2019-08-19-13:23:04\n",
      "I0819 13:23:04.742913 139671745042304 estimator.py:2039] Saving dict for global step 8000: discriminator_gen_accuracy = 0.6171875, discriminator_loss = 2.8720837, discriminator_real_accuracy = 0.9013672, generator_loss = 2.044804, global_step = 8000, loss = 4.7328863\n",
      "I0819 13:23:05.085178 139671745042304 estimator.py:2099] Saving 'checkpoint_path' summary for global step 8000: gs://tputestingmnist/FUNIT/FUNIT_only_gen_11/model.ckpt-8000\n",
      "I0819 13:23:05.494345 139671745042304 error_handling.py:96] evaluation_loop marked as finished\n",
      "I0819 13:23:05.653998 139671745042304 estimator.py:1145] Calling model_fn.\n",
      "I0819 13:23:05.655220 139671745042304 tpu_estimator.py:2965] Running infer on CPU\n"
     ],
     "name": "stderr"
    },
    {
     "output_type": "stream",
     "text": [
      "Finished evaluating\n",
      "{'discriminator_gen_accuracy': 0.6171875, 'discriminator_loss': 2.8720837, 'discriminator_real_accuracy': 0.9013672, 'generator_loss': 2.044804, 'loss': 4.7328863, 'global_step': 8000}\n",
      "(12, 1, 1, 2048)\n"
     ],
     "name": "stdout"
    },
    {
     "output_type": "stream",
     "text": [
      "I0819 13:23:06.661383 139671745042304 estimator.py:1147] Done calling model_fn.\n",
      "I0819 13:23:06.877235 139671745042304 monitored_session.py:240] Graph was finalized.\n",
      "I0819 13:23:06.958665 139671745042304 saver.py:1280] Restoring parameters from gs://tputestingmnist/FUNIT/FUNIT_only_gen_11/model.ckpt-8000\n",
      "I0819 13:23:07.343474 139671745042304 session_manager.py:500] Running local_init_op.\n",
      "I0819 13:23:07.360084 139671745042304 session_manager.py:502] Done running local_init_op.\n",
      "I0819 13:23:07.732383 139671745042304 error_handling.py:96] prediction_loop marked as finished\n",
      "I0819 13:23:07.733581 139671745042304 error_handling.py:96] prediction_loop marked as finished\n"
     ],
     "name": "stderr"
    },
    {
     "output_type": "stream",
     "text": [
      "Finished generating images\n"
     ],
     "name": "stdout"
    },
    {
     "output_type": "stream",
     "text": [
      "I0819 13:23:08.936856 139671745042304 estimator.py:1145] Calling model_fn.\n"
     ],
     "name": "stderr"
    },
    {
     "output_type": "stream",
     "text": [
      "(128, 1, 1, 2048)\n"
     ],
     "name": "stdout"
    },
    {
     "output_type": "stream",
     "text": [
      "I0819 13:23:17.289692 139671745042304 basic_session_run_hooks.py:541] Create CheckpointSaverHook.\n",
      "I0819 13:23:17.517281 139671745042304 estimator.py:1147] Done calling model_fn.\n",
      "I0819 13:23:17.519133 139671745042304 tpu_estimator.py:499] TPU job name tpu_worker\n",
      "I0819 13:23:18.284090 139671745042304 monitored_session.py:240] Graph was finalized.\n",
      "I0819 13:23:18.458991 139671745042304 saver.py:1280] Restoring parameters from gs://tputestingmnist/FUNIT/FUNIT_only_gen_11/model.ckpt-8000\n",
      "I0819 13:23:24.064110 139671745042304 session_manager.py:500] Running local_init_op.\n",
      "I0819 13:23:24.431497 139671745042304 session_manager.py:502] Done running local_init_op.\n",
      "I0819 13:23:29.337421 139671745042304 basic_session_run_hooks.py:606] Saving checkpoints for 8000 into gs://tputestingmnist/FUNIT/FUNIT_only_gen_11/model.ckpt.\n",
      "I0819 13:23:48.324676 139671745042304 util.py:98] Initialized dataset iterators in 0 seconds\n",
      "I0819 13:23:48.326098 139671745042304 session_support.py:332] Installing graceful shutdown hook.\n",
      "I0819 13:23:48.333430 139671745042304 session_support.py:82] Creating heartbeat manager for ['/job:tpu_worker/replica:0/task:0/device:CPU:0']\n",
      "I0819 13:23:48.345089 139671745042304 session_support.py:105] Configuring worker heartbeat: shutdown_mode: WAIT_FOR_COORDINATOR\n",
      "\n",
      "I0819 13:23:48.350806 139671745042304 tpu_estimator.py:557] Init TPU system\n",
      "I0819 13:23:58.562005 139671745042304 tpu_estimator.py:566] Initialized TPU in 10 seconds\n",
      "I0819 13:23:58.563979 139670360463104 tpu_estimator.py:514] Starting infeed thread controller.\n",
      "I0819 13:23:58.569797 139670352070400 tpu_estimator.py:533] Starting outfeed thread controller.\n",
      "I0819 13:23:58.965444 139671745042304 tpu_estimator.py:590] Enqueue next (1000) batch(es) of data to infeed.\n",
      "I0819 13:23:58.967050 139671745042304 tpu_estimator.py:594] Dequeue next (1000) batch(es) of data from outfeed.\n",
      "I0819 13:24:23.523174 139670352070400 tpu_estimator.py:275] Outfeed finished for iteration (0, 0)\n",
      "I0819 13:25:23.769181 139670352070400 tpu_estimator.py:275] Outfeed finished for iteration (0, 207)\n",
      "I0819 13:26:24.017789 139670352070400 tpu_estimator.py:275] Outfeed finished for iteration (0, 414)\n",
      "I0819 13:27:24.266809 139670352070400 tpu_estimator.py:275] Outfeed finished for iteration (0, 621)\n",
      "I0819 13:28:24.513942 139670352070400 tpu_estimator.py:275] Outfeed finished for iteration (0, 828)\n",
      "I0819 13:29:14.979522 139671745042304 basic_session_run_hooks.py:606] Saving checkpoints for 9000 into gs://tputestingmnist/FUNIT/FUNIT_only_gen_11/model.ckpt.\n",
      "I0819 13:29:34.069797 139671745042304 basic_session_run_hooks.py:262] loss = 4.712359, step = 9000\n",
      "I0819 13:29:34.757589 139671745042304 tpu_estimator.py:598] Stop infeed thread controller\n",
      "I0819 13:29:34.758943 139671745042304 tpu_estimator.py:430] Shutting down InfeedController thread.\n",
      "I0819 13:29:34.760069 139670360463104 tpu_estimator.py:425] InfeedController received shutdown signal, stopping.\n",
      "I0819 13:29:34.761312 139670360463104 tpu_estimator.py:530] Infeed thread finished, shutting down.\n",
      "I0819 13:29:34.769184 139671745042304 error_handling.py:96] infeed marked as finished\n",
      "I0819 13:29:34.777381 139671745042304 tpu_estimator.py:602] Stop output thread controller\n",
      "I0819 13:29:34.778851 139671745042304 tpu_estimator.py:430] Shutting down OutfeedController thread.\n",
      "I0819 13:29:34.781355 139670352070400 tpu_estimator.py:425] OutfeedController received shutdown signal, stopping.\n",
      "I0819 13:29:34.784697 139670352070400 tpu_estimator.py:541] Outfeed thread finished, shutting down.\n",
      "I0819 13:29:34.788229 139671745042304 error_handling.py:96] outfeed marked as finished\n",
      "I0819 13:29:34.791295 139671745042304 tpu_estimator.py:606] Shutdown TPU system.\n",
      "I0819 13:29:36.698652 139671745042304 estimator.py:368] Loss for final step: 4.712359.\n",
      "I0819 13:29:36.700220 139671745042304 error_handling.py:96] training_loop marked as finished\n",
      "I0819 13:29:36.896369 139671745042304 estimator.py:1145] Calling model_fn.\n"
     ],
     "name": "stderr"
    },
    {
     "output_type": "stream",
     "text": [
      "Finished training step 9000\n",
      "(128, 1, 1, 2048)\n"
     ],
     "name": "stdout"
    },
    {
     "output_type": "stream",
     "text": [
      "I0819 13:29:41.346094 139671745042304 estimator.py:1147] Done calling model_fn.\n",
      "I0819 13:29:41.377857 139671745042304 evaluation.py:255] Starting evaluation at 2019-08-19T13:29:41Z\n",
      "I0819 13:29:41.379156 139671745042304 tpu_estimator.py:499] TPU job name tpu_worker\n",
      "I0819 13:29:41.733974 139671745042304 monitored_session.py:240] Graph was finalized.\n",
      "I0819 13:29:41.795011 139671745042304 saver.py:1280] Restoring parameters from gs://tputestingmnist/FUNIT/FUNIT_only_gen_11/model.ckpt-9000\n",
      "I0819 13:29:45.896014 139671745042304 session_manager.py:500] Running local_init_op.\n",
      "I0819 13:29:45.995355 139671745042304 session_manager.py:502] Done running local_init_op.\n",
      "I0819 13:29:46.223034 139671745042304 tpu_estimator.py:557] Init TPU system\n",
      "I0819 13:29:54.513499 139671745042304 tpu_estimator.py:566] Initialized TPU in 8 seconds\n",
      "I0819 13:29:54.515333 139670360463104 tpu_estimator.py:514] Starting infeed thread controller.\n",
      "I0819 13:29:54.517340 139670352070400 tpu_estimator.py:533] Starting outfeed thread controller.\n",
      "I0819 13:29:54.631479 139671745042304 util.py:98] Initialized dataset iterators in 0 seconds\n",
      "I0819 13:29:54.725847 139671745042304 tpu_estimator.py:590] Enqueue next (1) batch(es) of data to infeed.\n",
      "I0819 13:29:54.727222 139671745042304 tpu_estimator.py:594] Dequeue next (1) batch(es) of data from outfeed.\n",
      "I0819 13:30:03.975423 139670352070400 tpu_estimator.py:275] Outfeed finished for iteration (0, 0)\n",
      "I0819 13:30:03.980252 139671745042304 evaluation.py:167] Evaluation [1/1]\n",
      "I0819 13:30:03.983040 139671745042304 tpu_estimator.py:598] Stop infeed thread controller\n",
      "I0819 13:30:03.984884 139671745042304 tpu_estimator.py:430] Shutting down InfeedController thread.\n",
      "I0819 13:30:03.987519 139670360463104 tpu_estimator.py:425] InfeedController received shutdown signal, stopping.\n",
      "I0819 13:30:03.989921 139670360463104 tpu_estimator.py:530] Infeed thread finished, shutting down.\n",
      "I0819 13:30:03.991015 139671745042304 error_handling.py:96] infeed marked as finished\n",
      "I0819 13:30:03.995805 139671745042304 tpu_estimator.py:602] Stop output thread controller\n",
      "I0819 13:30:03.997335 139671745042304 tpu_estimator.py:430] Shutting down OutfeedController thread.\n",
      "I0819 13:30:03.998490 139670352070400 tpu_estimator.py:425] OutfeedController received shutdown signal, stopping.\n",
      "I0819 13:30:03.999423 139670352070400 tpu_estimator.py:541] Outfeed thread finished, shutting down.\n",
      "I0819 13:30:04.001627 139671745042304 error_handling.py:96] outfeed marked as finished\n",
      "I0819 13:30:04.003281 139671745042304 tpu_estimator.py:606] Shutdown TPU system.\n",
      "I0819 13:30:04.620701 139671745042304 evaluation.py:275] Finished evaluation at 2019-08-19-13:30:04\n",
      "I0819 13:30:04.622080 139671745042304 estimator.py:2039] Saving dict for global step 9000: discriminator_gen_accuracy = 0.99609375, discriminator_loss = 1.2691901, discriminator_real_accuracy = 0.9082031, generator_loss = 3.4649897, global_step = 9000, loss = 4.9460187\n",
      "I0819 13:30:04.943057 139671745042304 estimator.py:2099] Saving 'checkpoint_path' summary for global step 9000: gs://tputestingmnist/FUNIT/FUNIT_only_gen_11/model.ckpt-9000\n",
      "I0819 13:30:05.359983 139671745042304 error_handling.py:96] evaluation_loop marked as finished\n",
      "I0819 13:30:05.566367 139671745042304 estimator.py:1145] Calling model_fn.\n",
      "I0819 13:30:05.567667 139671745042304 tpu_estimator.py:2965] Running infer on CPU\n"
     ],
     "name": "stderr"
    },
    {
     "output_type": "stream",
     "text": [
      "Finished evaluating\n",
      "{'discriminator_gen_accuracy': 0.99609375, 'discriminator_loss': 1.2691901, 'discriminator_real_accuracy': 0.9082031, 'generator_loss': 3.4649897, 'loss': 4.9460187, 'global_step': 9000}\n",
      "(12, 1, 1, 2048)\n"
     ],
     "name": "stdout"
    },
    {
     "output_type": "stream",
     "text": [
      "I0819 13:30:06.620109 139671745042304 estimator.py:1147] Done calling model_fn.\n",
      "I0819 13:30:06.851171 139671745042304 monitored_session.py:240] Graph was finalized.\n",
      "I0819 13:30:06.914172 139671745042304 saver.py:1280] Restoring parameters from gs://tputestingmnist/FUNIT/FUNIT_only_gen_11/model.ckpt-9000\n",
      "I0819 13:30:07.287399 139671745042304 session_manager.py:500] Running local_init_op.\n",
      "I0819 13:30:07.303675 139671745042304 session_manager.py:502] Done running local_init_op.\n",
      "I0819 13:30:07.610678 139671745042304 error_handling.py:96] prediction_loop marked as finished\n",
      "I0819 13:30:07.612009 139671745042304 error_handling.py:96] prediction_loop marked as finished\n"
     ],
     "name": "stderr"
    },
    {
     "output_type": "stream",
     "text": [
      "Finished generating images\n"
     ],
     "name": "stdout"
    },
    {
     "output_type": "stream",
     "text": [
      "I0819 13:30:08.752221 139671745042304 estimator.py:1145] Calling model_fn.\n"
     ],
     "name": "stderr"
    },
    {
     "output_type": "stream",
     "text": [
      "(128, 1, 1, 2048)\n"
     ],
     "name": "stdout"
    },
    {
     "output_type": "stream",
     "text": [
      "I0819 13:30:17.133010 139671745042304 basic_session_run_hooks.py:541] Create CheckpointSaverHook.\n",
      "I0819 13:30:17.360323 139671745042304 estimator.py:1147] Done calling model_fn.\n",
      "I0819 13:30:17.361937 139671745042304 tpu_estimator.py:499] TPU job name tpu_worker\n",
      "I0819 13:30:18.428747 139671745042304 monitored_session.py:240] Graph was finalized.\n",
      "I0819 13:30:18.588322 139671745042304 saver.py:1280] Restoring parameters from gs://tputestingmnist/FUNIT/FUNIT_only_gen_11/model.ckpt-9000\n",
      "I0819 13:30:25.500661 139671745042304 session_manager.py:500] Running local_init_op.\n",
      "I0819 13:30:25.888518 139671745042304 session_manager.py:502] Done running local_init_op.\n",
      "I0819 13:30:30.706427 139671745042304 basic_session_run_hooks.py:606] Saving checkpoints for 9000 into gs://tputestingmnist/FUNIT/FUNIT_only_gen_11/model.ckpt.\n",
      "I0819 13:30:47.616033 139671745042304 util.py:98] Initialized dataset iterators in 0 seconds\n",
      "I0819 13:30:47.617409 139671745042304 session_support.py:332] Installing graceful shutdown hook.\n",
      "I0819 13:30:47.632054 139671745042304 session_support.py:82] Creating heartbeat manager for ['/job:tpu_worker/replica:0/task:0/device:CPU:0']\n",
      "I0819 13:30:47.636464 139671745042304 session_support.py:105] Configuring worker heartbeat: shutdown_mode: WAIT_FOR_COORDINATOR\n",
      "\n",
      "I0819 13:30:47.641814 139671745042304 tpu_estimator.py:557] Init TPU system\n",
      "I0819 13:30:58.883429 139671745042304 tpu_estimator.py:566] Initialized TPU in 11 seconds\n",
      "I0819 13:30:58.885663 139670360463104 tpu_estimator.py:514] Starting infeed thread controller.\n",
      "I0819 13:30:58.886399 139670352070400 tpu_estimator.py:533] Starting outfeed thread controller.\n",
      "I0819 13:30:59.275252 139671745042304 tpu_estimator.py:590] Enqueue next (1000) batch(es) of data to infeed.\n",
      "I0819 13:30:59.276554 139671745042304 tpu_estimator.py:594] Dequeue next (1000) batch(es) of data from outfeed.\n",
      "I0819 13:31:24.397259 139670352070400 tpu_estimator.py:275] Outfeed finished for iteration (0, 0)\n",
      "I0819 13:32:24.644349 139670352070400 tpu_estimator.py:275] Outfeed finished for iteration (0, 207)\n",
      "I0819 13:33:24.893157 139670352070400 tpu_estimator.py:275] Outfeed finished for iteration (0, 414)\n",
      "I0819 13:34:25.142905 139670352070400 tpu_estimator.py:275] Outfeed finished for iteration (0, 621)\n",
      "I0819 13:35:25.390444 139670352070400 tpu_estimator.py:275] Outfeed finished for iteration (0, 828)\n",
      "I0819 13:36:15.845183 139671745042304 basic_session_run_hooks.py:606] Saving checkpoints for 10000 into gs://tputestingmnist/FUNIT/FUNIT_only_gen_11/model.ckpt.\n",
      "I0819 13:36:35.281975 139671745042304 basic_session_run_hooks.py:262] loss = 4.828973, step = 10000\n",
      "I0819 13:36:36.068248 139671745042304 tpu_estimator.py:598] Stop infeed thread controller\n",
      "I0819 13:36:36.069380 139671745042304 tpu_estimator.py:430] Shutting down InfeedController thread.\n",
      "I0819 13:36:36.077705 139670360463104 tpu_estimator.py:425] InfeedController received shutdown signal, stopping.\n",
      "I0819 13:36:36.080574 139670360463104 tpu_estimator.py:530] Infeed thread finished, shutting down.\n",
      "I0819 13:36:36.082415 139671745042304 error_handling.py:96] infeed marked as finished\n",
      "I0819 13:36:36.088696 139671745042304 tpu_estimator.py:602] Stop output thread controller\n",
      "I0819 13:36:36.091398 139671745042304 tpu_estimator.py:430] Shutting down OutfeedController thread.\n",
      "I0819 13:36:36.093671 139670352070400 tpu_estimator.py:425] OutfeedController received shutdown signal, stopping.\n",
      "I0819 13:36:36.096515 139670352070400 tpu_estimator.py:541] Outfeed thread finished, shutting down.\n",
      "I0819 13:36:36.098676 139671745042304 error_handling.py:96] outfeed marked as finished\n",
      "I0819 13:36:36.101570 139671745042304 tpu_estimator.py:606] Shutdown TPU system.\n",
      "I0819 13:36:37.848960 139671745042304 estimator.py:368] Loss for final step: 4.828973.\n",
      "I0819 13:36:37.850219 139671745042304 error_handling.py:96] training_loop marked as finished\n",
      "I0819 13:36:38.025105 139671745042304 estimator.py:1145] Calling model_fn.\n"
     ],
     "name": "stderr"
    },
    {
     "output_type": "stream",
     "text": [
      "Finished training step 10000\n",
      "(128, 1, 1, 2048)\n"
     ],
     "name": "stdout"
    },
    {
     "output_type": "stream",
     "text": [
      "I0819 13:36:42.070594 139671745042304 estimator.py:1147] Done calling model_fn.\n",
      "I0819 13:36:42.097905 139671745042304 evaluation.py:255] Starting evaluation at 2019-08-19T13:36:42Z\n",
      "I0819 13:36:42.099001 139671745042304 tpu_estimator.py:499] TPU job name tpu_worker\n",
      "I0819 13:36:42.450330 139671745042304 monitored_session.py:240] Graph was finalized.\n",
      "I0819 13:36:42.536393 139671745042304 saver.py:1280] Restoring parameters from gs://tputestingmnist/FUNIT/FUNIT_only_gen_11/model.ckpt-10000\n",
      "I0819 13:36:47.917315 139671745042304 session_manager.py:500] Running local_init_op.\n",
      "I0819 13:36:48.013505 139671745042304 session_manager.py:502] Done running local_init_op.\n",
      "I0819 13:36:48.235424 139671745042304 tpu_estimator.py:557] Init TPU system\n",
      "I0819 13:36:55.883667 139671745042304 tpu_estimator.py:566] Initialized TPU in 7 seconds\n",
      "I0819 13:36:55.885421 139670386956032 tpu_estimator.py:514] Starting infeed thread controller.\n",
      "I0819 13:36:55.887264 139670360463104 tpu_estimator.py:533] Starting outfeed thread controller.\n",
      "I0819 13:36:56.003126 139671745042304 util.py:98] Initialized dataset iterators in 0 seconds\n",
      "I0819 13:36:56.088691 139671745042304 tpu_estimator.py:590] Enqueue next (1) batch(es) of data to infeed.\n",
      "I0819 13:36:56.089900 139671745042304 tpu_estimator.py:594] Dequeue next (1) batch(es) of data from outfeed.\n",
      "I0819 13:37:05.324087 139670360463104 tpu_estimator.py:275] Outfeed finished for iteration (0, 0)\n",
      "I0819 13:37:05.324796 139671745042304 evaluation.py:167] Evaluation [1/1]\n",
      "I0819 13:37:05.327340 139671745042304 tpu_estimator.py:598] Stop infeed thread controller\n",
      "I0819 13:37:05.329250 139671745042304 tpu_estimator.py:430] Shutting down InfeedController thread.\n",
      "I0819 13:37:05.330913 139670386956032 tpu_estimator.py:425] InfeedController received shutdown signal, stopping.\n",
      "I0819 13:37:05.332536 139670386956032 tpu_estimator.py:530] Infeed thread finished, shutting down.\n",
      "I0819 13:37:05.334227 139671745042304 error_handling.py:96] infeed marked as finished\n",
      "I0819 13:37:05.335770 139671745042304 tpu_estimator.py:602] Stop output thread controller\n",
      "I0819 13:37:05.336878 139671745042304 tpu_estimator.py:430] Shutting down OutfeedController thread.\n",
      "I0819 13:37:05.338519 139670360463104 tpu_estimator.py:425] OutfeedController received shutdown signal, stopping.\n",
      "I0819 13:37:05.339700 139670360463104 tpu_estimator.py:541] Outfeed thread finished, shutting down.\n",
      "I0819 13:37:05.344246 139671745042304 error_handling.py:96] outfeed marked as finished\n",
      "I0819 13:37:05.345357 139671745042304 tpu_estimator.py:606] Shutdown TPU system.\n",
      "I0819 13:37:05.957191 139671745042304 evaluation.py:275] Finished evaluation at 2019-08-19-13:37:05\n",
      "I0819 13:37:05.958467 139671745042304 estimator.py:2039] Saving dict for global step 10000: discriminator_gen_accuracy = 1.0, discriminator_loss = 0.8125076, discriminator_real_accuracy = 0.921875, generator_loss = 4.1408396, global_step = 10000, loss = 4.6057267\n",
      "I0819 13:37:06.237928 139671745042304 estimator.py:2099] Saving 'checkpoint_path' summary for global step 10000: gs://tputestingmnist/FUNIT/FUNIT_only_gen_11/model.ckpt-10000\n",
      "I0819 13:37:06.519922 139671745042304 error_handling.py:96] evaluation_loop marked as finished\n",
      "I0819 13:37:06.698633 139671745042304 estimator.py:1145] Calling model_fn.\n",
      "I0819 13:37:06.699879 139671745042304 tpu_estimator.py:2965] Running infer on CPU\n"
     ],
     "name": "stderr"
    },
    {
     "output_type": "stream",
     "text": [
      "Finished evaluating\n",
      "{'discriminator_gen_accuracy': 1.0, 'discriminator_loss': 0.8125076, 'discriminator_real_accuracy': 0.921875, 'generator_loss': 4.1408396, 'loss': 4.6057267, 'global_step': 10000}\n",
      "(12, 1, 1, 2048)\n"
     ],
     "name": "stdout"
    },
    {
     "output_type": "stream",
     "text": [
      "I0819 13:37:07.409161 139671745042304 estimator.py:1147] Done calling model_fn.\n",
      "I0819 13:37:07.629334 139671745042304 monitored_session.py:240] Graph was finalized.\n",
      "I0819 13:37:07.740686 139671745042304 saver.py:1280] Restoring parameters from gs://tputestingmnist/FUNIT/FUNIT_only_gen_11/model.ckpt-10000\n",
      "I0819 13:37:08.118144 139671745042304 session_manager.py:500] Running local_init_op.\n",
      "I0819 13:37:08.143977 139671745042304 session_manager.py:502] Done running local_init_op.\n",
      "I0819 13:37:08.487374 139671745042304 error_handling.py:96] prediction_loop marked as finished\n",
      "I0819 13:37:08.489194 139671745042304 error_handling.py:96] prediction_loop marked as finished\n"
     ],
     "name": "stderr"
    },
    {
     "output_type": "stream",
     "text": [
      "Finished generating images\n"
     ],
     "name": "stdout"
    },
    {
     "output_type": "stream",
     "text": [
      "I0819 13:37:09.957476 139671745042304 estimator.py:1145] Calling model_fn.\n"
     ],
     "name": "stderr"
    },
    {
     "output_type": "stream",
     "text": [
      "(128, 1, 1, 2048)\n"
     ],
     "name": "stdout"
    },
    {
     "output_type": "stream",
     "text": [
      "I0819 13:37:17.962564 139671745042304 basic_session_run_hooks.py:541] Create CheckpointSaverHook.\n",
      "I0819 13:37:18.187793 139671745042304 estimator.py:1147] Done calling model_fn.\n",
      "I0819 13:37:18.189234 139671745042304 tpu_estimator.py:499] TPU job name tpu_worker\n",
      "I0819 13:37:18.961112 139671745042304 monitored_session.py:240] Graph was finalized.\n",
      "I0819 13:37:19.121253 139671745042304 saver.py:1280] Restoring parameters from gs://tputestingmnist/FUNIT/FUNIT_only_gen_11/model.ckpt-10000\n",
      "I0819 13:37:25.887204 139671745042304 session_manager.py:500] Running local_init_op.\n",
      "I0819 13:37:26.284495 139671745042304 session_manager.py:502] Done running local_init_op.\n",
      "I0819 13:37:31.580498 139671745042304 basic_session_run_hooks.py:606] Saving checkpoints for 10000 into gs://tputestingmnist/FUNIT/FUNIT_only_gen_11/model.ckpt.\n",
      "I0819 13:37:50.094267 139671745042304 util.py:98] Initialized dataset iterators in 0 seconds\n",
      "I0819 13:37:50.095910 139671745042304 session_support.py:332] Installing graceful shutdown hook.\n",
      "I0819 13:37:50.107539 139671745042304 session_support.py:82] Creating heartbeat manager for ['/job:tpu_worker/replica:0/task:0/device:CPU:0']\n",
      "I0819 13:37:50.115745 139671745042304 session_support.py:105] Configuring worker heartbeat: shutdown_mode: WAIT_FOR_COORDINATOR\n",
      "\n",
      "I0819 13:37:50.123065 139671745042304 tpu_estimator.py:557] Init TPU system\n",
      "I0819 13:38:00.368791 139671745042304 tpu_estimator.py:566] Initialized TPU in 10 seconds\n",
      "I0819 13:38:00.370780 139670360463104 tpu_estimator.py:514] Starting infeed thread controller.\n",
      "I0819 13:38:00.376551 139670352070400 tpu_estimator.py:533] Starting outfeed thread controller.\n",
      "I0819 13:38:00.776384 139671745042304 tpu_estimator.py:590] Enqueue next (1000) batch(es) of data to infeed.\n",
      "I0819 13:38:00.777635 139671745042304 tpu_estimator.py:594] Dequeue next (1000) batch(es) of data from outfeed.\n",
      "I0819 13:38:25.714295 139670352070400 tpu_estimator.py:275] Outfeed finished for iteration (0, 0)\n",
      "I0819 13:39:25.960373 139670352070400 tpu_estimator.py:275] Outfeed finished for iteration (0, 207)\n",
      "I0819 13:40:26.208452 139670352070400 tpu_estimator.py:275] Outfeed finished for iteration (0, 414)\n",
      "I0819 13:41:26.456673 139670352070400 tpu_estimator.py:275] Outfeed finished for iteration (0, 621)\n",
      "I0819 13:42:26.704531 139670352070400 tpu_estimator.py:275] Outfeed finished for iteration (0, 828)\n",
      "I0819 13:43:17.150856 139671745042304 basic_session_run_hooks.py:606] Saving checkpoints for 11000 into gs://tputestingmnist/FUNIT/FUNIT_only_gen_11/model.ckpt.\n",
      "I0819 13:43:40.545223 139671745042304 basic_session_run_hooks.py:262] loss = 4.968913, step = 11000\n",
      "I0819 13:43:41.376819 139671745042304 tpu_estimator.py:598] Stop infeed thread controller\n",
      "I0819 13:43:41.377952 139671745042304 tpu_estimator.py:430] Shutting down InfeedController thread.\n",
      "I0819 13:43:41.385052 139670360463104 tpu_estimator.py:425] InfeedController received shutdown signal, stopping.\n",
      "I0819 13:43:41.387909 139670360463104 tpu_estimator.py:530] Infeed thread finished, shutting down.\n",
      "I0819 13:43:41.399707 139671745042304 error_handling.py:96] infeed marked as finished\n",
      "I0819 13:43:41.400844 139671745042304 tpu_estimator.py:602] Stop output thread controller\n",
      "I0819 13:43:41.401684 139671745042304 tpu_estimator.py:430] Shutting down OutfeedController thread.\n",
      "I0819 13:43:41.402958 139670352070400 tpu_estimator.py:425] OutfeedController received shutdown signal, stopping.\n",
      "I0819 13:43:41.403886 139670352070400 tpu_estimator.py:541] Outfeed thread finished, shutting down.\n",
      "I0819 13:43:41.406001 139671745042304 error_handling.py:96] outfeed marked as finished\n",
      "I0819 13:43:41.407263 139671745042304 tpu_estimator.py:606] Shutdown TPU system.\n",
      "I0819 13:43:43.390522 139671745042304 estimator.py:368] Loss for final step: 4.968913.\n",
      "I0819 13:43:43.391820 139671745042304 error_handling.py:96] training_loop marked as finished\n"
     ],
     "name": "stderr"
    },
    {
     "output_type": "stream",
     "text": [
      "Finished training step 11000\n"
     ],
     "name": "stdout"
    },
    {
     "output_type": "stream",
     "text": [
      "I0819 13:43:43.601107 139671745042304 estimator.py:1145] Calling model_fn.\n"
     ],
     "name": "stderr"
    },
    {
     "output_type": "stream",
     "text": [
      "(128, 1, 1, 2048)\n"
     ],
     "name": "stdout"
    },
    {
     "output_type": "stream",
     "text": [
      "I0819 13:43:47.698403 139671745042304 estimator.py:1147] Done calling model_fn.\n",
      "I0819 13:43:47.726015 139671745042304 evaluation.py:255] Starting evaluation at 2019-08-19T13:43:47Z\n",
      "I0819 13:43:47.727254 139671745042304 tpu_estimator.py:499] TPU job name tpu_worker\n",
      "I0819 13:43:48.076496 139671745042304 monitored_session.py:240] Graph was finalized.\n",
      "I0819 13:43:48.157272 139671745042304 saver.py:1280] Restoring parameters from gs://tputestingmnist/FUNIT/FUNIT_only_gen_11/model.ckpt-11000\n",
      "I0819 13:43:52.851183 139671745042304 session_manager.py:500] Running local_init_op.\n",
      "I0819 13:43:52.967548 139671745042304 session_manager.py:502] Done running local_init_op.\n",
      "I0819 13:43:53.206890 139671745042304 tpu_estimator.py:557] Init TPU system\n",
      "I0819 13:44:01.105810 139671745042304 tpu_estimator.py:566] Initialized TPU in 7 seconds\n",
      "I0819 13:44:01.107706 139670360463104 tpu_estimator.py:514] Starting infeed thread controller.\n",
      "I0819 13:44:01.116555 139670352070400 tpu_estimator.py:533] Starting outfeed thread controller.\n",
      "I0819 13:44:01.244086 139671745042304 util.py:98] Initialized dataset iterators in 0 seconds\n",
      "I0819 13:44:01.340374 139671745042304 tpu_estimator.py:590] Enqueue next (1) batch(es) of data to infeed.\n",
      "I0819 13:44:01.341606 139671745042304 tpu_estimator.py:594] Dequeue next (1) batch(es) of data from outfeed.\n",
      "I0819 13:44:10.854726 139670352070400 tpu_estimator.py:275] Outfeed finished for iteration (0, 0)\n",
      "I0819 13:44:10.857189 139671745042304 evaluation.py:167] Evaluation [1/1]\n",
      "I0819 13:44:10.858503 139671745042304 tpu_estimator.py:598] Stop infeed thread controller\n",
      "I0819 13:44:10.859826 139671745042304 tpu_estimator.py:430] Shutting down InfeedController thread.\n",
      "I0819 13:44:10.861353 139670360463104 tpu_estimator.py:425] InfeedController received shutdown signal, stopping.\n",
      "I0819 13:44:10.864768 139670360463104 tpu_estimator.py:530] Infeed thread finished, shutting down.\n",
      "I0819 13:44:10.866619 139671745042304 error_handling.py:96] infeed marked as finished\n",
      "I0819 13:44:10.867704 139671745042304 tpu_estimator.py:602] Stop output thread controller\n",
      "I0819 13:44:10.868989 139671745042304 tpu_estimator.py:430] Shutting down OutfeedController thread.\n",
      "I0819 13:44:10.873395 139670352070400 tpu_estimator.py:425] OutfeedController received shutdown signal, stopping.\n",
      "I0819 13:44:10.875466 139670352070400 tpu_estimator.py:541] Outfeed thread finished, shutting down.\n",
      "I0819 13:44:10.878561 139671745042304 error_handling.py:96] outfeed marked as finished\n",
      "I0819 13:44:10.880219 139671745042304 tpu_estimator.py:606] Shutdown TPU system.\n",
      "I0819 13:44:11.489480 139671745042304 evaluation.py:275] Finished evaluation at 2019-08-19-13:44:11\n",
      "I0819 13:44:11.490876 139671745042304 estimator.py:2039] Saving dict for global step 11000: discriminator_gen_accuracy = 1.0, discriminator_loss = 0.60842323, discriminator_real_accuracy = 0.93847656, generator_loss = 4.384829, global_step = 11000, loss = 4.9700155\n",
      "I0819 13:44:11.809815 139671745042304 estimator.py:2099] Saving 'checkpoint_path' summary for global step 11000: gs://tputestingmnist/FUNIT/FUNIT_only_gen_11/model.ckpt-11000\n",
      "I0819 13:44:12.227678 139671745042304 error_handling.py:96] evaluation_loop marked as finished\n",
      "I0819 13:44:12.381108 139671745042304 estimator.py:1145] Calling model_fn.\n",
      "I0819 13:44:12.382399 139671745042304 tpu_estimator.py:2965] Running infer on CPU\n"
     ],
     "name": "stderr"
    },
    {
     "output_type": "stream",
     "text": [
      "Finished evaluating\n",
      "{'discriminator_gen_accuracy': 1.0, 'discriminator_loss': 0.60842323, 'discriminator_real_accuracy': 0.93847656, 'generator_loss': 4.384829, 'loss': 4.9700155, 'global_step': 11000}\n",
      "(12, 1, 1, 2048)\n"
     ],
     "name": "stdout"
    },
    {
     "output_type": "stream",
     "text": [
      "I0819 13:44:13.070062 139671745042304 estimator.py:1147] Done calling model_fn.\n",
      "I0819 13:44:13.286008 139671745042304 monitored_session.py:240] Graph was finalized.\n",
      "I0819 13:44:13.362187 139671745042304 saver.py:1280] Restoring parameters from gs://tputestingmnist/FUNIT/FUNIT_only_gen_11/model.ckpt-11000\n",
      "I0819 13:44:13.785810 139671745042304 session_manager.py:500] Running local_init_op.\n",
      "I0819 13:44:13.801445 139671745042304 session_manager.py:502] Done running local_init_op.\n",
      "I0819 13:44:14.139499 139671745042304 error_handling.py:96] prediction_loop marked as finished\n",
      "I0819 13:44:14.140712 139671745042304 error_handling.py:96] prediction_loop marked as finished\n"
     ],
     "name": "stderr"
    },
    {
     "output_type": "stream",
     "text": [
      "Finished generating images\n"
     ],
     "name": "stdout"
    },
    {
     "output_type": "stream",
     "text": [
      "I0819 13:44:15.373554 139671745042304 estimator.py:1145] Calling model_fn.\n"
     ],
     "name": "stderr"
    },
    {
     "output_type": "stream",
     "text": [
      "(128, 1, 1, 2048)\n"
     ],
     "name": "stdout"
    },
    {
     "output_type": "stream",
     "text": [
      "I0819 13:44:23.708293 139671745042304 basic_session_run_hooks.py:541] Create CheckpointSaverHook.\n",
      "I0819 13:44:23.933979 139671745042304 estimator.py:1147] Done calling model_fn.\n",
      "I0819 13:44:23.935338 139671745042304 tpu_estimator.py:499] TPU job name tpu_worker\n",
      "I0819 13:44:24.704091 139671745042304 monitored_session.py:240] Graph was finalized.\n",
      "I0819 13:44:24.863524 139671745042304 saver.py:1280] Restoring parameters from gs://tputestingmnist/FUNIT/FUNIT_only_gen_11/model.ckpt-11000\n",
      "I0819 13:44:33.536116 139671745042304 session_manager.py:500] Running local_init_op.\n",
      "I0819 13:44:33.924322 139671745042304 session_manager.py:502] Done running local_init_op.\n",
      "I0819 13:44:38.823391 139671745042304 basic_session_run_hooks.py:606] Saving checkpoints for 11000 into gs://tputestingmnist/FUNIT/FUNIT_only_gen_11/model.ckpt.\n",
      "I0819 13:44:55.214867 139671745042304 util.py:98] Initialized dataset iterators in 0 seconds\n",
      "I0819 13:44:55.216274 139671745042304 session_support.py:332] Installing graceful shutdown hook.\n",
      "I0819 13:44:55.227367 139671745042304 session_support.py:82] Creating heartbeat manager for ['/job:tpu_worker/replica:0/task:0/device:CPU:0']\n",
      "I0819 13:44:55.231907 139671745042304 session_support.py:105] Configuring worker heartbeat: shutdown_mode: WAIT_FOR_COORDINATOR\n",
      "\n",
      "I0819 13:44:55.238975 139671745042304 tpu_estimator.py:557] Init TPU system\n",
      "I0819 13:45:05.752765 139671745042304 tpu_estimator.py:566] Initialized TPU in 10 seconds\n",
      "I0819 13:45:05.754762 139670360463104 tpu_estimator.py:514] Starting infeed thread controller.\n",
      "I0819 13:45:05.757131 139670352070400 tpu_estimator.py:533] Starting outfeed thread controller.\n",
      "I0819 13:45:06.152376 139671745042304 tpu_estimator.py:590] Enqueue next (1000) batch(es) of data to infeed.\n",
      "I0819 13:45:06.154139 139671745042304 tpu_estimator.py:594] Dequeue next (1000) batch(es) of data from outfeed.\n",
      "I0819 13:45:31.228225 139670352070400 tpu_estimator.py:275] Outfeed finished for iteration (0, 0)\n",
      "I0819 13:46:31.476789 139670352070400 tpu_estimator.py:275] Outfeed finished for iteration (0, 207)\n",
      "I0819 13:47:31.725286 139670352070400 tpu_estimator.py:275] Outfeed finished for iteration (0, 414)\n",
      "I0819 13:48:31.973657 139670352070400 tpu_estimator.py:275] Outfeed finished for iteration (0, 621)\n",
      "I0819 13:49:32.221274 139670352070400 tpu_estimator.py:275] Outfeed finished for iteration (0, 828)\n",
      "I0819 13:50:22.678718 139671745042304 basic_session_run_hooks.py:606] Saving checkpoints for 12000 into gs://tputestingmnist/FUNIT/FUNIT_only_gen_11/model.ckpt.\n",
      "I0819 13:50:40.144478 139671745042304 basic_session_run_hooks.py:262] loss = 5.395589, step = 12000\n",
      "I0819 13:50:41.118196 139671745042304 tpu_estimator.py:598] Stop infeed thread controller\n",
      "I0819 13:50:41.119579 139671745042304 tpu_estimator.py:430] Shutting down InfeedController thread.\n",
      "I0819 13:50:41.127866 139670360463104 tpu_estimator.py:425] InfeedController received shutdown signal, stopping.\n",
      "I0819 13:50:41.132555 139670360463104 tpu_estimator.py:530] Infeed thread finished, shutting down.\n",
      "I0819 13:50:41.134097 139671745042304 error_handling.py:96] infeed marked as finished\n",
      "I0819 13:50:41.136358 139671745042304 tpu_estimator.py:602] Stop output thread controller\n",
      "I0819 13:50:41.139509 139671745042304 tpu_estimator.py:430] Shutting down OutfeedController thread.\n",
      "I0819 13:50:41.142907 139670352070400 tpu_estimator.py:425] OutfeedController received shutdown signal, stopping.\n",
      "I0819 13:50:41.146588 139670352070400 tpu_estimator.py:541] Outfeed thread finished, shutting down.\n",
      "I0819 13:50:41.150284 139671745042304 error_handling.py:96] outfeed marked as finished\n",
      "I0819 13:50:41.154899 139671745042304 tpu_estimator.py:606] Shutdown TPU system.\n",
      "I0819 13:50:42.981568 139671745042304 estimator.py:368] Loss for final step: 5.395589.\n",
      "I0819 13:50:42.982962 139671745042304 error_handling.py:96] training_loop marked as finished\n"
     ],
     "name": "stderr"
    },
    {
     "output_type": "stream",
     "text": [
      "Finished training step 12000\n"
     ],
     "name": "stdout"
    },
    {
     "output_type": "stream",
     "text": [
      "I0819 13:50:43.224806 139671745042304 estimator.py:1145] Calling model_fn.\n"
     ],
     "name": "stderr"
    },
    {
     "output_type": "stream",
     "text": [
      "(128, 1, 1, 2048)\n"
     ],
     "name": "stdout"
    },
    {
     "output_type": "stream",
     "text": [
      "I0819 13:50:47.522378 139671745042304 estimator.py:1147] Done calling model_fn.\n",
      "I0819 13:50:47.550791 139671745042304 evaluation.py:255] Starting evaluation at 2019-08-19T13:50:47Z\n",
      "I0819 13:50:47.551899 139671745042304 tpu_estimator.py:499] TPU job name tpu_worker\n",
      "I0819 13:50:47.897113 139671745042304 monitored_session.py:240] Graph was finalized.\n",
      "I0819 13:50:47.992912 139671745042304 saver.py:1280] Restoring parameters from gs://tputestingmnist/FUNIT/FUNIT_only_gen_11/model.ckpt-12000\n",
      "I0819 13:50:52.585551 139671745042304 session_manager.py:500] Running local_init_op.\n",
      "I0819 13:50:52.694515 139671745042304 session_manager.py:502] Done running local_init_op.\n",
      "I0819 13:50:52.954704 139671745042304 tpu_estimator.py:557] Init TPU system\n",
      "I0819 13:51:00.781405 139671745042304 tpu_estimator.py:566] Initialized TPU in 7 seconds\n",
      "I0819 13:51:00.786786 139670360463104 tpu_estimator.py:514] Starting infeed thread controller.\n",
      "I0819 13:51:00.791866 139670352070400 tpu_estimator.py:533] Starting outfeed thread controller.\n",
      "I0819 13:51:00.909569 139671745042304 util.py:98] Initialized dataset iterators in 0 seconds\n",
      "I0819 13:51:01.020138 139671745042304 tpu_estimator.py:590] Enqueue next (1) batch(es) of data to infeed.\n",
      "I0819 13:51:01.021694 139671745042304 tpu_estimator.py:594] Dequeue next (1) batch(es) of data from outfeed.\n",
      "I0819 13:51:10.600315 139670352070400 tpu_estimator.py:275] Outfeed finished for iteration (0, 0)\n",
      "I0819 13:51:10.600989 139671745042304 evaluation.py:167] Evaluation [1/1]\n",
      "I0819 13:51:10.605009 139671745042304 tpu_estimator.py:598] Stop infeed thread controller\n",
      "I0819 13:51:10.607188 139671745042304 tpu_estimator.py:430] Shutting down InfeedController thread.\n",
      "I0819 13:51:10.608868 139670360463104 tpu_estimator.py:425] InfeedController received shutdown signal, stopping.\n",
      "I0819 13:51:10.611966 139670360463104 tpu_estimator.py:530] Infeed thread finished, shutting down.\n",
      "I0819 13:51:10.614940 139671745042304 error_handling.py:96] infeed marked as finished\n",
      "I0819 13:51:10.620156 139671745042304 tpu_estimator.py:602] Stop output thread controller\n",
      "I0819 13:51:10.621749 139671745042304 tpu_estimator.py:430] Shutting down OutfeedController thread.\n",
      "I0819 13:51:10.623227 139670352070400 tpu_estimator.py:425] OutfeedController received shutdown signal, stopping.\n",
      "I0819 13:51:10.625755 139670352070400 tpu_estimator.py:541] Outfeed thread finished, shutting down.\n",
      "I0819 13:51:10.629251 139671745042304 error_handling.py:96] outfeed marked as finished\n",
      "I0819 13:51:10.630955 139671745042304 tpu_estimator.py:606] Shutdown TPU system.\n",
      "I0819 13:51:11.250191 139671745042304 evaluation.py:275] Finished evaluation at 2019-08-19-13:51:11\n",
      "I0819 13:51:11.251552 139671745042304 estimator.py:2039] Saving dict for global step 12000: discriminator_gen_accuracy = 1.0, discriminator_loss = 0.47541592, discriminator_real_accuracy = 0.96777344, generator_loss = 4.7302155, global_step = 12000, loss = 5.1816745\n",
      "I0819 13:51:11.511487 139671745042304 estimator.py:2099] Saving 'checkpoint_path' summary for global step 12000: gs://tputestingmnist/FUNIT/FUNIT_only_gen_11/model.ckpt-12000\n",
      "I0819 13:51:11.763746 139671745042304 error_handling.py:96] evaluation_loop marked as finished\n",
      "I0819 13:51:11.932693 139671745042304 estimator.py:1145] Calling model_fn.\n",
      "I0819 13:51:11.933937 139671745042304 tpu_estimator.py:2965] Running infer on CPU\n"
     ],
     "name": "stderr"
    },
    {
     "output_type": "stream",
     "text": [
      "Finished evaluating\n",
      "{'discriminator_gen_accuracy': 1.0, 'discriminator_loss': 0.47541592, 'discriminator_real_accuracy': 0.96777344, 'generator_loss': 4.7302155, 'loss': 5.1816745, 'global_step': 12000}\n",
      "(12, 1, 1, 2048)\n"
     ],
     "name": "stdout"
    },
    {
     "output_type": "stream",
     "text": [
      "I0819 13:51:12.622977 139671745042304 estimator.py:1147] Done calling model_fn.\n",
      "I0819 13:51:12.837586 139671745042304 monitored_session.py:240] Graph was finalized.\n",
      "I0819 13:51:12.905461 139671745042304 saver.py:1280] Restoring parameters from gs://tputestingmnist/FUNIT/FUNIT_only_gen_11/model.ckpt-12000\n",
      "I0819 13:51:13.622076 139671745042304 session_manager.py:500] Running local_init_op.\n",
      "I0819 13:51:13.638674 139671745042304 session_manager.py:502] Done running local_init_op.\n",
      "I0819 13:51:13.965884 139671745042304 error_handling.py:96] prediction_loop marked as finished\n",
      "I0819 13:51:13.967223 139671745042304 error_handling.py:96] prediction_loop marked as finished\n"
     ],
     "name": "stderr"
    },
    {
     "output_type": "stream",
     "text": [
      "Finished generating images\n"
     ],
     "name": "stdout"
    },
    {
     "output_type": "stream",
     "text": [
      "I0819 13:51:15.074587 139671745042304 estimator.py:1145] Calling model_fn.\n"
     ],
     "name": "stderr"
    },
    {
     "output_type": "stream",
     "text": [
      "(128, 1, 1, 2048)\n"
     ],
     "name": "stdout"
    },
    {
     "output_type": "stream",
     "text": [
      "I0819 13:51:23.500060 139671745042304 basic_session_run_hooks.py:541] Create CheckpointSaverHook.\n",
      "I0819 13:51:23.726838 139671745042304 estimator.py:1147] Done calling model_fn.\n",
      "I0819 13:51:23.728360 139671745042304 tpu_estimator.py:499] TPU job name tpu_worker\n",
      "I0819 13:51:24.499086 139671745042304 monitored_session.py:240] Graph was finalized.\n",
      "I0819 13:51:24.665107 139671745042304 saver.py:1280] Restoring parameters from gs://tputestingmnist/FUNIT/FUNIT_only_gen_11/model.ckpt-12000\n",
      "I0819 13:51:30.984973 139671745042304 session_manager.py:500] Running local_init_op.\n",
      "I0819 13:51:31.365762 139671745042304 session_manager.py:502] Done running local_init_op.\n",
      "I0819 13:51:36.364151 139671745042304 basic_session_run_hooks.py:606] Saving checkpoints for 12000 into gs://tputestingmnist/FUNIT/FUNIT_only_gen_11/model.ckpt.\n",
      "I0819 13:51:53.908021 139671745042304 util.py:98] Initialized dataset iterators in 0 seconds\n",
      "I0819 13:51:53.909465 139671745042304 session_support.py:332] Installing graceful shutdown hook.\n",
      "I0819 13:51:53.919539 139671745042304 session_support.py:82] Creating heartbeat manager for ['/job:tpu_worker/replica:0/task:0/device:CPU:0']\n",
      "I0819 13:51:53.924008 139671745042304 session_support.py:105] Configuring worker heartbeat: shutdown_mode: WAIT_FOR_COORDINATOR\n",
      "\n",
      "I0819 13:51:53.930904 139671745042304 tpu_estimator.py:557] Init TPU system\n",
      "I0819 13:52:05.190889 139671745042304 tpu_estimator.py:566] Initialized TPU in 11 seconds\n",
      "I0819 13:52:05.192710 139670368855808 tpu_estimator.py:514] Starting infeed thread controller.\n",
      "I0819 13:52:05.193240 139670360463104 tpu_estimator.py:533] Starting outfeed thread controller.\n",
      "I0819 13:52:05.603631 139671745042304 tpu_estimator.py:590] Enqueue next (1000) batch(es) of data to infeed.\n",
      "I0819 13:52:05.605039 139671745042304 tpu_estimator.py:594] Dequeue next (1000) batch(es) of data from outfeed.\n",
      "I0819 13:52:30.805891 139670360463104 tpu_estimator.py:275] Outfeed finished for iteration (0, 0)\n",
      "I0819 13:53:31.052058 139670360463104 tpu_estimator.py:275] Outfeed finished for iteration (0, 207)\n",
      "I0819 13:54:31.300095 139670360463104 tpu_estimator.py:275] Outfeed finished for iteration (0, 414)\n",
      "I0819 13:55:31.548198 139670360463104 tpu_estimator.py:275] Outfeed finished for iteration (0, 621)\n",
      "I0819 13:56:31.796546 139670360463104 tpu_estimator.py:275] Outfeed finished for iteration (0, 828)\n",
      "I0819 13:57:22.235934 139671745042304 basic_session_run_hooks.py:606] Saving checkpoints for 13000 into gs://tputestingmnist/FUNIT/FUNIT_only_gen_11/model.ckpt.\n",
      "I0819 13:57:41.430279 139671745042304 basic_session_run_hooks.py:262] loss = 5.2819076, step = 13000\n",
      "I0819 13:57:42.563180 139671745042304 tpu_estimator.py:598] Stop infeed thread controller\n",
      "I0819 13:57:42.564569 139671745042304 tpu_estimator.py:430] Shutting down InfeedController thread.\n",
      "I0819 13:57:42.571188 139670368855808 tpu_estimator.py:425] InfeedController received shutdown signal, stopping.\n",
      "I0819 13:57:42.574542 139670368855808 tpu_estimator.py:530] Infeed thread finished, shutting down.\n",
      "I0819 13:57:42.580127 139671745042304 error_handling.py:96] infeed marked as finished\n",
      "I0819 13:57:42.581925 139671745042304 tpu_estimator.py:602] Stop output thread controller\n",
      "I0819 13:57:42.583893 139671745042304 tpu_estimator.py:430] Shutting down OutfeedController thread.\n",
      "I0819 13:57:42.587136 139670360463104 tpu_estimator.py:425] OutfeedController received shutdown signal, stopping.\n",
      "I0819 13:57:42.588110 139670360463104 tpu_estimator.py:541] Outfeed thread finished, shutting down.\n",
      "I0819 13:57:42.590888 139671745042304 error_handling.py:96] outfeed marked as finished\n",
      "I0819 13:57:42.592764 139671745042304 tpu_estimator.py:606] Shutdown TPU system.\n",
      "I0819 13:57:44.325513 139671745042304 estimator.py:368] Loss for final step: 5.2819076.\n",
      "I0819 13:57:44.327021 139671745042304 error_handling.py:96] training_loop marked as finished\n",
      "I0819 13:57:44.530567 139671745042304 estimator.py:1145] Calling model_fn.\n"
     ],
     "name": "stderr"
    },
    {
     "output_type": "stream",
     "text": [
      "Finished training step 13000\n",
      "(128, 1, 1, 2048)\n"
     ],
     "name": "stdout"
    },
    {
     "output_type": "stream",
     "text": [
      "I0819 13:57:48.740544 139671745042304 estimator.py:1147] Done calling model_fn.\n",
      "I0819 13:57:48.769320 139671745042304 evaluation.py:255] Starting evaluation at 2019-08-19T13:57:48Z\n",
      "I0819 13:57:48.770364 139671745042304 tpu_estimator.py:499] TPU job name tpu_worker\n",
      "I0819 13:57:49.112023 139671745042304 monitored_session.py:240] Graph was finalized.\n",
      "I0819 13:57:49.186723 139671745042304 saver.py:1280] Restoring parameters from gs://tputestingmnist/FUNIT/FUNIT_only_gen_11/model.ckpt-13000\n",
      "I0819 13:57:53.367949 139671745042304 session_manager.py:500] Running local_init_op.\n",
      "I0819 13:57:53.496038 139671745042304 session_manager.py:502] Done running local_init_op.\n",
      "I0819 13:57:53.761778 139671745042304 tpu_estimator.py:557] Init TPU system\n",
      "I0819 13:58:01.619428 139671745042304 tpu_estimator.py:566] Initialized TPU in 7 seconds\n",
      "I0819 13:58:01.621666 139670360463104 tpu_estimator.py:514] Starting infeed thread controller.\n",
      "I0819 13:58:01.628430 139670352070400 tpu_estimator.py:533] Starting outfeed thread controller.\n",
      "I0819 13:58:01.754322 139671745042304 util.py:98] Initialized dataset iterators in 0 seconds\n",
      "I0819 13:58:01.844265 139671745042304 tpu_estimator.py:590] Enqueue next (1) batch(es) of data to infeed.\n",
      "I0819 13:58:01.845662 139671745042304 tpu_estimator.py:594] Dequeue next (1) batch(es) of data from outfeed.\n",
      "I0819 13:58:11.433584 139670352070400 tpu_estimator.py:275] Outfeed finished for iteration (0, 0)\n",
      "I0819 13:58:11.434702 139671745042304 evaluation.py:167] Evaluation [1/1]\n",
      "I0819 13:58:11.436248 139671745042304 tpu_estimator.py:598] Stop infeed thread controller\n",
      "I0819 13:58:11.437594 139671745042304 tpu_estimator.py:430] Shutting down InfeedController thread.\n",
      "I0819 13:58:11.443812 139670360463104 tpu_estimator.py:425] InfeedController received shutdown signal, stopping.\n",
      "I0819 13:58:11.445839 139670360463104 tpu_estimator.py:530] Infeed thread finished, shutting down.\n",
      "I0819 13:58:11.448490 139671745042304 error_handling.py:96] infeed marked as finished\n",
      "I0819 13:58:11.450891 139671745042304 tpu_estimator.py:602] Stop output thread controller\n",
      "I0819 13:58:11.452730 139671745042304 tpu_estimator.py:430] Shutting down OutfeedController thread.\n",
      "I0819 13:58:11.454543 139670352070400 tpu_estimator.py:425] OutfeedController received shutdown signal, stopping.\n",
      "I0819 13:58:11.455914 139670352070400 tpu_estimator.py:541] Outfeed thread finished, shutting down.\n",
      "I0819 13:58:11.457771 139671745042304 error_handling.py:96] outfeed marked as finished\n",
      "I0819 13:58:11.459455 139671745042304 tpu_estimator.py:606] Shutdown TPU system.\n",
      "I0819 13:58:12.077469 139671745042304 evaluation.py:275] Finished evaluation at 2019-08-19-13:58:12\n",
      "I0819 13:58:12.078863 139671745042304 estimator.py:2039] Saving dict for global step 13000: discriminator_gen_accuracy = 0.9785156, discriminator_loss = 1.3847873, discriminator_real_accuracy = 0.8847656, generator_loss = 3.7051487, global_step = 13000, loss = 5.178332\n",
      "I0819 13:58:12.383877 139671745042304 estimator.py:2099] Saving 'checkpoint_path' summary for global step 13000: gs://tputestingmnist/FUNIT/FUNIT_only_gen_11/model.ckpt-13000\n",
      "I0819 13:58:12.723535 139671745042304 error_handling.py:96] evaluation_loop marked as finished\n",
      "I0819 13:58:12.908204 139671745042304 estimator.py:1145] Calling model_fn.\n",
      "I0819 13:58:12.909409 139671745042304 tpu_estimator.py:2965] Running infer on CPU\n"
     ],
     "name": "stderr"
    },
    {
     "output_type": "stream",
     "text": [
      "Finished evaluating\n",
      "{'discriminator_gen_accuracy': 0.9785156, 'discriminator_loss': 1.3847873, 'discriminator_real_accuracy': 0.8847656, 'generator_loss': 3.7051487, 'loss': 5.178332, 'global_step': 13000}\n",
      "(12, 1, 1, 2048)\n"
     ],
     "name": "stdout"
    },
    {
     "output_type": "stream",
     "text": [
      "I0819 13:58:13.598389 139671745042304 estimator.py:1147] Done calling model_fn.\n",
      "I0819 13:58:13.813739 139671745042304 monitored_session.py:240] Graph was finalized.\n",
      "I0819 13:58:13.883124 139671745042304 saver.py:1280] Restoring parameters from gs://tputestingmnist/FUNIT/FUNIT_only_gen_11/model.ckpt-13000\n",
      "I0819 13:58:14.260127 139671745042304 session_manager.py:500] Running local_init_op.\n",
      "I0819 13:58:14.276959 139671745042304 session_manager.py:502] Done running local_init_op.\n",
      "I0819 13:58:14.658412 139671745042304 error_handling.py:96] prediction_loop marked as finished\n",
      "I0819 13:58:14.659917 139671745042304 error_handling.py:96] prediction_loop marked as finished\n"
     ],
     "name": "stderr"
    },
    {
     "output_type": "stream",
     "text": [
      "Finished generating images\n"
     ],
     "name": "stdout"
    },
    {
     "output_type": "stream",
     "text": [
      "I0819 13:58:15.756978 139671745042304 estimator.py:1145] Calling model_fn.\n"
     ],
     "name": "stderr"
    },
    {
     "output_type": "stream",
     "text": [
      "(128, 1, 1, 2048)\n"
     ],
     "name": "stdout"
    },
    {
     "output_type": "stream",
     "text": [
      "I0819 13:58:24.180277 139671745042304 basic_session_run_hooks.py:541] Create CheckpointSaverHook.\n",
      "I0819 13:58:24.404744 139671745042304 estimator.py:1147] Done calling model_fn.\n",
      "I0819 13:58:24.406463 139671745042304 tpu_estimator.py:499] TPU job name tpu_worker\n",
      "I0819 13:58:25.182286 139671745042304 monitored_session.py:240] Graph was finalized.\n",
      "I0819 13:58:25.350146 139671745042304 saver.py:1280] Restoring parameters from gs://tputestingmnist/FUNIT/FUNIT_only_gen_11/model.ckpt-13000\n",
      "I0819 13:58:31.180902 139671745042304 session_manager.py:500] Running local_init_op.\n",
      "I0819 13:58:31.604724 139671745042304 session_manager.py:502] Done running local_init_op.\n",
      "I0819 13:58:36.527285 139671745042304 basic_session_run_hooks.py:606] Saving checkpoints for 13000 into gs://tputestingmnist/FUNIT/FUNIT_only_gen_11/model.ckpt.\n",
      "I0819 13:58:53.243943 139671745042304 util.py:98] Initialized dataset iterators in 0 seconds\n",
      "I0819 13:58:53.245519 139671745042304 session_support.py:332] Installing graceful shutdown hook.\n",
      "I0819 13:58:53.256795 139671745042304 session_support.py:82] Creating heartbeat manager for ['/job:tpu_worker/replica:0/task:0/device:CPU:0']\n",
      "I0819 13:58:53.261093 139671745042304 session_support.py:105] Configuring worker heartbeat: shutdown_mode: WAIT_FOR_COORDINATOR\n",
      "\n",
      "I0819 13:58:53.273051 139671745042304 tpu_estimator.py:557] Init TPU system\n",
      "I0819 13:59:03.571006 139671745042304 tpu_estimator.py:566] Initialized TPU in 10 seconds\n",
      "I0819 13:59:03.572902 139670360463104 tpu_estimator.py:514] Starting infeed thread controller.\n",
      "I0819 13:59:03.573429 139670352070400 tpu_estimator.py:533] Starting outfeed thread controller.\n",
      "I0819 13:59:03.975468 139671745042304 tpu_estimator.py:590] Enqueue next (1000) batch(es) of data to infeed.\n",
      "I0819 13:59:03.976764 139671745042304 tpu_estimator.py:594] Dequeue next (1000) batch(es) of data from outfeed.\n",
      "I0819 13:59:29.078039 139670352070400 tpu_estimator.py:275] Outfeed finished for iteration (0, 0)\n",
      "I0819 14:00:29.323873 139670352070400 tpu_estimator.py:275] Outfeed finished for iteration (0, 207)\n",
      "I0819 14:01:29.571027 139670352070400 tpu_estimator.py:275] Outfeed finished for iteration (0, 414)\n",
      "I0819 14:02:29.818775 139670352070400 tpu_estimator.py:275] Outfeed finished for iteration (0, 621)\n",
      "I0819 14:03:30.066451 139670352070400 tpu_estimator.py:275] Outfeed finished for iteration (0, 828)\n",
      "I0819 14:04:20.532137 139671745042304 basic_session_run_hooks.py:606] Saving checkpoints for 14000 into gs://tputestingmnist/FUNIT/FUNIT_only_gen_11/model.ckpt.\n",
      "I0819 14:04:39.221012 139671745042304 basic_session_run_hooks.py:262] loss = 5.6154566, step = 14000\n",
      "I0819 14:04:40.063801 139671745042304 tpu_estimator.py:598] Stop infeed thread controller\n",
      "I0819 14:04:40.065022 139671745042304 tpu_estimator.py:430] Shutting down InfeedController thread.\n",
      "I0819 14:04:40.066053 139670360463104 tpu_estimator.py:425] InfeedController received shutdown signal, stopping.\n",
      "I0819 14:04:40.067221 139670360463104 tpu_estimator.py:530] Infeed thread finished, shutting down.\n",
      "I0819 14:04:40.075932 139671745042304 error_handling.py:96] infeed marked as finished\n",
      "I0819 14:04:40.080810 139671745042304 tpu_estimator.py:602] Stop output thread controller\n",
      "I0819 14:04:40.085242 139671745042304 tpu_estimator.py:430] Shutting down OutfeedController thread.\n",
      "I0819 14:04:40.086395 139670352070400 tpu_estimator.py:425] OutfeedController received shutdown signal, stopping.\n",
      "I0819 14:04:40.087660 139670352070400 tpu_estimator.py:541] Outfeed thread finished, shutting down.\n",
      "I0819 14:04:40.089341 139671745042304 error_handling.py:96] outfeed marked as finished\n",
      "I0819 14:04:40.090945 139671745042304 tpu_estimator.py:606] Shutdown TPU system.\n",
      "I0819 14:04:41.853580 139671745042304 estimator.py:368] Loss for final step: 5.6154566.\n",
      "I0819 14:04:41.855017 139671745042304 error_handling.py:96] training_loop marked as finished\n",
      "I0819 14:04:42.045254 139671745042304 estimator.py:1145] Calling model_fn.\n"
     ],
     "name": "stderr"
    },
    {
     "output_type": "stream",
     "text": [
      "Finished training step 14000\n",
      "(128, 1, 1, 2048)\n"
     ],
     "name": "stdout"
    },
    {
     "output_type": "stream",
     "text": [
      "I0819 14:04:46.043831 139671745042304 estimator.py:1147] Done calling model_fn.\n",
      "I0819 14:04:46.070789 139671745042304 evaluation.py:255] Starting evaluation at 2019-08-19T14:04:46Z\n",
      "I0819 14:04:46.071889 139671745042304 tpu_estimator.py:499] TPU job name tpu_worker\n",
      "I0819 14:04:46.685702 139671745042304 monitored_session.py:240] Graph was finalized.\n",
      "I0819 14:04:46.755398 139671745042304 saver.py:1280] Restoring parameters from gs://tputestingmnist/FUNIT/FUNIT_only_gen_11/model.ckpt-14000\n",
      "I0819 14:04:53.231813 139671745042304 session_manager.py:500] Running local_init_op.\n",
      "I0819 14:04:53.357650 139671745042304 session_manager.py:502] Done running local_init_op.\n",
      "I0819 14:04:53.607373 139671745042304 tpu_estimator.py:557] Init TPU system\n",
      "I0819 14:05:01.489809 139671745042304 tpu_estimator.py:566] Initialized TPU in 7 seconds\n",
      "I0819 14:05:01.491631 139670360463104 tpu_estimator.py:514] Starting infeed thread controller.\n",
      "I0819 14:05:01.493853 139670352070400 tpu_estimator.py:533] Starting outfeed thread controller.\n",
      "I0819 14:05:01.613377 139671745042304 util.py:98] Initialized dataset iterators in 0 seconds\n",
      "I0819 14:05:01.734829 139671745042304 tpu_estimator.py:590] Enqueue next (1) batch(es) of data to infeed.\n",
      "I0819 14:05:01.736406 139671745042304 tpu_estimator.py:594] Dequeue next (1) batch(es) of data from outfeed.\n",
      "I0819 14:05:11.415111 139670352070400 tpu_estimator.py:275] Outfeed finished for iteration (0, 0)\n",
      "I0819 14:05:11.417848 139671745042304 evaluation.py:167] Evaluation [1/1]\n",
      "I0819 14:05:11.420308 139671745042304 tpu_estimator.py:598] Stop infeed thread controller\n",
      "I0819 14:05:11.423399 139671745042304 tpu_estimator.py:430] Shutting down InfeedController thread.\n",
      "I0819 14:05:11.426585 139670360463104 tpu_estimator.py:425] InfeedController received shutdown signal, stopping.\n",
      "I0819 14:05:11.428686 139670360463104 tpu_estimator.py:530] Infeed thread finished, shutting down.\n",
      "I0819 14:05:11.430179 139671745042304 error_handling.py:96] infeed marked as finished\n",
      "I0819 14:05:11.431870 139671745042304 tpu_estimator.py:602] Stop output thread controller\n",
      "I0819 14:05:11.433453 139671745042304 tpu_estimator.py:430] Shutting down OutfeedController thread.\n",
      "I0819 14:05:11.434915 139670352070400 tpu_estimator.py:425] OutfeedController received shutdown signal, stopping.\n",
      "I0819 14:05:11.438298 139670352070400 tpu_estimator.py:541] Outfeed thread finished, shutting down.\n",
      "I0819 14:05:11.441066 139671745042304 error_handling.py:96] outfeed marked as finished\n",
      "I0819 14:05:11.445736 139671745042304 tpu_estimator.py:606] Shutdown TPU system.\n",
      "I0819 14:05:12.060828 139671745042304 evaluation.py:275] Finished evaluation at 2019-08-19-14:05:12\n",
      "I0819 14:05:12.062286 139671745042304 estimator.py:2039] Saving dict for global step 14000: discriminator_gen_accuracy = 1.0, discriminator_loss = 0.7961278, discriminator_real_accuracy = 0.9267578, generator_loss = 4.930606, global_step = 14000, loss = 5.4459333\n",
      "I0819 14:05:12.400868 139671745042304 estimator.py:2099] Saving 'checkpoint_path' summary for global step 14000: gs://tputestingmnist/FUNIT/FUNIT_only_gen_11/model.ckpt-14000\n",
      "I0819 14:05:12.838729 139671745042304 error_handling.py:96] evaluation_loop marked as finished\n",
      "I0819 14:05:13.008988 139671745042304 estimator.py:1145] Calling model_fn.\n",
      "I0819 14:05:13.010316 139671745042304 tpu_estimator.py:2965] Running infer on CPU\n"
     ],
     "name": "stderr"
    },
    {
     "output_type": "stream",
     "text": [
      "Finished evaluating\n",
      "{'discriminator_gen_accuracy': 1.0, 'discriminator_loss': 0.7961278, 'discriminator_real_accuracy': 0.9267578, 'generator_loss': 4.930606, 'loss': 5.4459333, 'global_step': 14000}\n",
      "(12, 1, 1, 2048)\n"
     ],
     "name": "stdout"
    },
    {
     "output_type": "stream",
     "text": [
      "I0819 14:05:13.687708 139671745042304 estimator.py:1147] Done calling model_fn.\n",
      "I0819 14:05:13.900526 139671745042304 monitored_session.py:240] Graph was finalized.\n",
      "I0819 14:05:13.961634 139671745042304 saver.py:1280] Restoring parameters from gs://tputestingmnist/FUNIT/FUNIT_only_gen_11/model.ckpt-14000\n",
      "I0819 14:05:14.322941 139671745042304 session_manager.py:500] Running local_init_op.\n",
      "I0819 14:05:14.339509 139671745042304 session_manager.py:502] Done running local_init_op.\n",
      "I0819 14:05:14.717406 139671745042304 error_handling.py:96] prediction_loop marked as finished\n",
      "I0819 14:05:14.719316 139671745042304 error_handling.py:96] prediction_loop marked as finished\n"
     ],
     "name": "stderr"
    },
    {
     "output_type": "stream",
     "text": [
      "Finished generating images\n"
     ],
     "name": "stdout"
    },
    {
     "output_type": "stream",
     "text": [
      "I0819 14:05:15.909052 139671745042304 estimator.py:1145] Calling model_fn.\n"
     ],
     "name": "stderr"
    },
    {
     "output_type": "stream",
     "text": [
      "(128, 1, 1, 2048)\n"
     ],
     "name": "stdout"
    },
    {
     "output_type": "stream",
     "text": [
      "I0819 14:05:24.160901 139671745042304 basic_session_run_hooks.py:541] Create CheckpointSaverHook.\n",
      "I0819 14:05:24.388686 139671745042304 estimator.py:1147] Done calling model_fn.\n",
      "I0819 14:05:24.390291 139671745042304 tpu_estimator.py:499] TPU job name tpu_worker\n",
      "I0819 14:05:25.522947 139671745042304 monitored_session.py:240] Graph was finalized.\n",
      "I0819 14:05:25.690321 139671745042304 saver.py:1280] Restoring parameters from gs://tputestingmnist/FUNIT/FUNIT_only_gen_11/model.ckpt-14000\n",
      "I0819 14:05:31.983175 139671745042304 session_manager.py:500] Running local_init_op.\n",
      "I0819 14:05:32.415238 139671745042304 session_manager.py:502] Done running local_init_op.\n",
      "I0819 14:05:37.368784 139671745042304 basic_session_run_hooks.py:606] Saving checkpoints for 14000 into gs://tputestingmnist/FUNIT/FUNIT_only_gen_11/model.ckpt.\n",
      "I0819 14:05:58.305588 139671745042304 util.py:98] Initialized dataset iterators in 0 seconds\n",
      "I0819 14:05:58.306932 139671745042304 session_support.py:332] Installing graceful shutdown hook.\n",
      "I0819 14:05:58.314007 139671745042304 session_support.py:82] Creating heartbeat manager for ['/job:tpu_worker/replica:0/task:0/device:CPU:0']\n",
      "I0819 14:05:58.319728 139671745042304 session_support.py:105] Configuring worker heartbeat: shutdown_mode: WAIT_FOR_COORDINATOR\n",
      "\n",
      "I0819 14:05:58.329396 139671745042304 tpu_estimator.py:557] Init TPU system\n",
      "I0819 14:06:09.251250 139671745042304 tpu_estimator.py:566] Initialized TPU in 10 seconds\n",
      "I0819 14:06:09.253442 139670360463104 tpu_estimator.py:514] Starting infeed thread controller.\n",
      "I0819 14:06:09.263479 139670352070400 tpu_estimator.py:533] Starting outfeed thread controller.\n",
      "I0819 14:06:09.680423 139671745042304 tpu_estimator.py:590] Enqueue next (1000) batch(es) of data to infeed.\n",
      "I0819 14:06:09.681910 139671745042304 tpu_estimator.py:594] Dequeue next (1000) batch(es) of data from outfeed.\n",
      "I0819 14:06:34.829847 139670352070400 tpu_estimator.py:275] Outfeed finished for iteration (0, 0)\n",
      "I0819 14:07:35.075906 139670352070400 tpu_estimator.py:275] Outfeed finished for iteration (0, 207)\n",
      "I0819 14:08:35.323347 139670352070400 tpu_estimator.py:275] Outfeed finished for iteration (0, 414)\n",
      "I0819 14:09:35.571558 139670352070400 tpu_estimator.py:275] Outfeed finished for iteration (0, 621)\n",
      "I0819 14:10:35.820049 139670352070400 tpu_estimator.py:275] Outfeed finished for iteration (0, 828)\n",
      "I0819 14:11:26.264938 139671745042304 basic_session_run_hooks.py:606] Saving checkpoints for 15000 into gs://tputestingmnist/FUNIT/FUNIT_only_gen_11/model.ckpt.\n",
      "I0819 14:11:45.341009 139671745042304 basic_session_run_hooks.py:262] loss = 5.7106237, step = 15000\n",
      "I0819 14:11:46.363310 139671745042304 tpu_estimator.py:598] Stop infeed thread controller\n",
      "I0819 14:11:46.364449 139671745042304 tpu_estimator.py:430] Shutting down InfeedController thread.\n",
      "I0819 14:11:46.365583 139670360463104 tpu_estimator.py:425] InfeedController received shutdown signal, stopping.\n",
      "I0819 14:11:46.370661 139670360463104 tpu_estimator.py:530] Infeed thread finished, shutting down.\n",
      "I0819 14:11:46.378223 139671745042304 error_handling.py:96] infeed marked as finished\n",
      "I0819 14:11:46.381043 139671745042304 tpu_estimator.py:602] Stop output thread controller\n",
      "I0819 14:11:46.383351 139671745042304 tpu_estimator.py:430] Shutting down OutfeedController thread.\n",
      "I0819 14:11:46.386061 139670352070400 tpu_estimator.py:425] OutfeedController received shutdown signal, stopping.\n",
      "I0819 14:11:46.387004 139670352070400 tpu_estimator.py:541] Outfeed thread finished, shutting down.\n",
      "I0819 14:11:46.388860 139671745042304 error_handling.py:96] outfeed marked as finished\n",
      "I0819 14:11:46.390812 139671745042304 tpu_estimator.py:606] Shutdown TPU system.\n",
      "I0819 14:11:48.187835 139671745042304 estimator.py:368] Loss for final step: 5.7106237.\n",
      "I0819 14:11:48.189192 139671745042304 error_handling.py:96] training_loop marked as finished\n",
      "I0819 14:11:48.390507 139671745042304 estimator.py:1145] Calling model_fn.\n"
     ],
     "name": "stderr"
    },
    {
     "output_type": "stream",
     "text": [
      "Finished training step 15000\n",
      "(128, 1, 1, 2048)\n"
     ],
     "name": "stdout"
    },
    {
     "output_type": "stream",
     "text": [
      "I0819 14:11:52.440080 139671745042304 estimator.py:1147] Done calling model_fn.\n",
      "I0819 14:11:52.467967 139671745042304 evaluation.py:255] Starting evaluation at 2019-08-19T14:11:52Z\n",
      "I0819 14:11:52.469218 139671745042304 tpu_estimator.py:499] TPU job name tpu_worker\n",
      "I0819 14:11:52.814438 139671745042304 monitored_session.py:240] Graph was finalized.\n",
      "I0819 14:11:52.860589 139671745042304 saver.py:1280] Restoring parameters from gs://tputestingmnist/FUNIT/FUNIT_only_gen_11/model.ckpt-15000\n",
      "I0819 14:11:56.792201 139671745042304 session_manager.py:500] Running local_init_op.\n",
      "I0819 14:11:56.891736 139671745042304 session_manager.py:502] Done running local_init_op.\n",
      "I0819 14:11:57.113958 139671745042304 tpu_estimator.py:557] Init TPU system\n",
      "I0819 14:12:05.054737 139671745042304 tpu_estimator.py:566] Initialized TPU in 7 seconds\n",
      "I0819 14:12:05.056594 139670352070400 tpu_estimator.py:514] Starting infeed thread controller.\n",
      "I0819 14:12:05.057341 139670343677696 tpu_estimator.py:533] Starting outfeed thread controller.\n",
      "I0819 14:12:05.176748 139671745042304 util.py:98] Initialized dataset iterators in 0 seconds\n",
      "I0819 14:12:05.267168 139671745042304 tpu_estimator.py:590] Enqueue next (1) batch(es) of data to infeed.\n",
      "I0819 14:12:05.268543 139671745042304 tpu_estimator.py:594] Dequeue next (1) batch(es) of data from outfeed.\n",
      "I0819 14:12:14.880205 139670343677696 tpu_estimator.py:275] Outfeed finished for iteration (0, 0)\n",
      "I0819 14:12:14.882163 139671745042304 evaluation.py:167] Evaluation [1/1]\n",
      "I0819 14:12:14.883352 139671745042304 tpu_estimator.py:598] Stop infeed thread controller\n",
      "I0819 14:12:14.884786 139671745042304 tpu_estimator.py:430] Shutting down InfeedController thread.\n",
      "I0819 14:12:14.886409 139670352070400 tpu_estimator.py:425] InfeedController received shutdown signal, stopping.\n",
      "I0819 14:12:14.887886 139670352070400 tpu_estimator.py:530] Infeed thread finished, shutting down.\n",
      "I0819 14:12:14.890157 139671745042304 error_handling.py:96] infeed marked as finished\n",
      "I0819 14:12:14.891534 139671745042304 tpu_estimator.py:602] Stop output thread controller\n",
      "I0819 14:12:14.892448 139671745042304 tpu_estimator.py:430] Shutting down OutfeedController thread.\n",
      "I0819 14:12:14.893464 139670343677696 tpu_estimator.py:425] OutfeedController received shutdown signal, stopping.\n",
      "I0819 14:12:14.894406 139670343677696 tpu_estimator.py:541] Outfeed thread finished, shutting down.\n",
      "I0819 14:12:14.896035 139671745042304 error_handling.py:96] outfeed marked as finished\n",
      "I0819 14:12:14.897034 139671745042304 tpu_estimator.py:606] Shutdown TPU system.\n",
      "I0819 14:12:15.524879 139671745042304 evaluation.py:275] Finished evaluation at 2019-08-19-14:12:15\n",
      "I0819 14:12:15.526224 139671745042304 estimator.py:2039] Saving dict for global step 15000: discriminator_gen_accuracy = 1.0, discriminator_loss = 0.5852185, discriminator_real_accuracy = 0.9433594, generator_loss = 5.298527, global_step = 15000, loss = 5.5236754\n",
      "I0819 14:12:15.821917 139671745042304 estimator.py:2099] Saving 'checkpoint_path' summary for global step 15000: gs://tputestingmnist/FUNIT/FUNIT_only_gen_11/model.ckpt-15000\n",
      "I0819 14:12:16.237744 139671745042304 error_handling.py:96] evaluation_loop marked as finished\n",
      "I0819 14:12:16.391074 139671745042304 estimator.py:1145] Calling model_fn.\n",
      "I0819 14:12:16.392381 139671745042304 tpu_estimator.py:2965] Running infer on CPU\n"
     ],
     "name": "stderr"
    },
    {
     "output_type": "stream",
     "text": [
      "Finished evaluating\n",
      "{'discriminator_gen_accuracy': 1.0, 'discriminator_loss': 0.5852185, 'discriminator_real_accuracy': 0.9433594, 'generator_loss': 5.298527, 'loss': 5.5236754, 'global_step': 15000}\n",
      "(12, 1, 1, 2048)\n"
     ],
     "name": "stdout"
    },
    {
     "output_type": "stream",
     "text": [
      "I0819 14:12:17.072023 139671745042304 estimator.py:1147] Done calling model_fn.\n",
      "I0819 14:12:17.286216 139671745042304 monitored_session.py:240] Graph was finalized.\n",
      "I0819 14:12:17.357540 139671745042304 saver.py:1280] Restoring parameters from gs://tputestingmnist/FUNIT/FUNIT_only_gen_11/model.ckpt-15000\n",
      "I0819 14:12:17.747331 139671745042304 session_manager.py:500] Running local_init_op.\n",
      "I0819 14:12:17.774562 139671745042304 session_manager.py:502] Done running local_init_op.\n",
      "I0819 14:12:18.176283 139671745042304 error_handling.py:96] prediction_loop marked as finished\n",
      "I0819 14:12:18.177737 139671745042304 error_handling.py:96] prediction_loop marked as finished\n"
     ],
     "name": "stderr"
    },
    {
     "output_type": "stream",
     "text": [
      "Finished generating images\n"
     ],
     "name": "stdout"
    },
    {
     "output_type": "stream",
     "text": [
      "I0819 14:12:19.847071 139671745042304 estimator.py:1145] Calling model_fn.\n"
     ],
     "name": "stderr"
    },
    {
     "output_type": "stream",
     "text": [
      "(128, 1, 1, 2048)\n"
     ],
     "name": "stdout"
    },
    {
     "output_type": "stream",
     "text": [
      "I0819 14:12:27.920317 139671745042304 basic_session_run_hooks.py:541] Create CheckpointSaverHook.\n",
      "I0819 14:12:28.147816 139671745042304 estimator.py:1147] Done calling model_fn.\n",
      "I0819 14:12:28.149512 139671745042304 tpu_estimator.py:499] TPU job name tpu_worker\n",
      "I0819 14:12:28.936507 139671745042304 monitored_session.py:240] Graph was finalized.\n",
      "I0819 14:12:29.121369 139671745042304 saver.py:1280] Restoring parameters from gs://tputestingmnist/FUNIT/FUNIT_only_gen_11/model.ckpt-15000\n",
      "I0819 14:12:35.856030 139671745042304 session_manager.py:500] Running local_init_op.\n",
      "I0819 14:12:36.238538 139671745042304 session_manager.py:502] Done running local_init_op.\n",
      "I0819 14:12:41.468905 139671745042304 basic_session_run_hooks.py:606] Saving checkpoints for 15000 into gs://tputestingmnist/FUNIT/FUNIT_only_gen_11/model.ckpt.\n",
      "I0819 14:13:00.191474 139671745042304 util.py:98] Initialized dataset iterators in 0 seconds\n",
      "I0819 14:13:00.193513 139671745042304 session_support.py:332] Installing graceful shutdown hook.\n",
      "I0819 14:13:00.202841 139671745042304 session_support.py:82] Creating heartbeat manager for ['/job:tpu_worker/replica:0/task:0/device:CPU:0']\n",
      "I0819 14:13:00.209014 139671745042304 session_support.py:105] Configuring worker heartbeat: shutdown_mode: WAIT_FOR_COORDINATOR\n",
      "\n",
      "I0819 14:13:00.219713 139671745042304 tpu_estimator.py:557] Init TPU system\n",
      "I0819 14:13:10.479022 139671745042304 tpu_estimator.py:566] Initialized TPU in 10 seconds\n",
      "I0819 14:13:10.480924 139670352070400 tpu_estimator.py:514] Starting infeed thread controller.\n",
      "I0819 14:13:10.481535 139670343677696 tpu_estimator.py:533] Starting outfeed thread controller.\n",
      "I0819 14:13:10.894230 139671745042304 tpu_estimator.py:590] Enqueue next (1000) batch(es) of data to infeed.\n",
      "I0819 14:13:10.895381 139671745042304 tpu_estimator.py:594] Dequeue next (1000) batch(es) of data from outfeed.\n",
      "I0819 14:13:35.828078 139670343677696 tpu_estimator.py:275] Outfeed finished for iteration (0, 0)\n",
      "I0819 14:14:36.076316 139670343677696 tpu_estimator.py:275] Outfeed finished for iteration (0, 207)\n",
      "I0819 14:15:36.325591 139670343677696 tpu_estimator.py:275] Outfeed finished for iteration (0, 414)\n",
      "I0819 14:16:36.574820 139670343677696 tpu_estimator.py:275] Outfeed finished for iteration (0, 621)\n",
      "I0819 14:17:36.824751 139670343677696 tpu_estimator.py:275] Outfeed finished for iteration (0, 828)\n",
      "I0819 14:18:27.269688 139671745042304 basic_session_run_hooks.py:606] Saving checkpoints for 16000 into gs://tputestingmnist/FUNIT/FUNIT_only_gen_11/model.ckpt.\n",
      "I0819 14:18:45.187633 139671745042304 basic_session_run_hooks.py:262] loss = 3.8633327, step = 16000\n",
      "I0819 14:18:46.238572 139671745042304 tpu_estimator.py:598] Stop infeed thread controller\n",
      "I0819 14:18:46.239828 139671745042304 tpu_estimator.py:430] Shutting down InfeedController thread.\n",
      "I0819 14:18:46.247956 139670352070400 tpu_estimator.py:425] InfeedController received shutdown signal, stopping.\n",
      "I0819 14:18:46.252033 139670352070400 tpu_estimator.py:530] Infeed thread finished, shutting down.\n",
      "I0819 14:18:46.254567 139671745042304 error_handling.py:96] infeed marked as finished\n",
      "I0819 14:18:46.257649 139671745042304 tpu_estimator.py:602] Stop output thread controller\n",
      "I0819 14:18:46.260565 139671745042304 tpu_estimator.py:430] Shutting down OutfeedController thread.\n",
      "I0819 14:18:46.262893 139670343677696 tpu_estimator.py:425] OutfeedController received shutdown signal, stopping.\n",
      "I0819 14:18:46.264462 139670343677696 tpu_estimator.py:541] Outfeed thread finished, shutting down.\n",
      "I0819 14:18:46.266922 139671745042304 error_handling.py:96] outfeed marked as finished\n",
      "I0819 14:18:46.268437 139671745042304 tpu_estimator.py:606] Shutdown TPU system.\n",
      "I0819 14:18:48.196021 139671745042304 estimator.py:368] Loss for final step: 3.8633327.\n",
      "I0819 14:18:48.197326 139671745042304 error_handling.py:96] training_loop marked as finished\n"
     ],
     "name": "stderr"
    },
    {
     "output_type": "stream",
     "text": [
      "Finished training step 16000\n"
     ],
     "name": "stdout"
    },
    {
     "output_type": "stream",
     "text": [
      "I0819 14:18:48.415302 139671745042304 estimator.py:1145] Calling model_fn.\n"
     ],
     "name": "stderr"
    },
    {
     "output_type": "stream",
     "text": [
      "(128, 1, 1, 2048)\n"
     ],
     "name": "stdout"
    },
    {
     "output_type": "stream",
     "text": [
      "I0819 14:18:52.735701 139671745042304 estimator.py:1147] Done calling model_fn.\n",
      "I0819 14:18:52.762263 139671745042304 evaluation.py:255] Starting evaluation at 2019-08-19T14:18:52Z\n",
      "I0819 14:18:52.763521 139671745042304 tpu_estimator.py:499] TPU job name tpu_worker\n",
      "I0819 14:18:53.108560 139671745042304 monitored_session.py:240] Graph was finalized.\n",
      "I0819 14:18:53.169348 139671745042304 saver.py:1280] Restoring parameters from gs://tputestingmnist/FUNIT/FUNIT_only_gen_11/model.ckpt-16000\n",
      "I0819 14:18:57.597849 139671745042304 session_manager.py:500] Running local_init_op.\n",
      "I0819 14:18:57.725444 139671745042304 session_manager.py:502] Done running local_init_op.\n",
      "I0819 14:18:57.982497 139671745042304 tpu_estimator.py:557] Init TPU system\n",
      "I0819 14:19:05.710387 139671745042304 tpu_estimator.py:566] Initialized TPU in 7 seconds\n",
      "I0819 14:19:05.712424 139670352070400 tpu_estimator.py:514] Starting infeed thread controller.\n",
      "I0819 14:19:05.716727 139670343677696 tpu_estimator.py:533] Starting outfeed thread controller.\n",
      "I0819 14:19:05.836947 139671745042304 util.py:98] Initialized dataset iterators in 0 seconds\n",
      "I0819 14:19:05.928301 139671745042304 tpu_estimator.py:590] Enqueue next (1) batch(es) of data to infeed.\n",
      "I0819 14:19:05.929765 139671745042304 tpu_estimator.py:594] Dequeue next (1) batch(es) of data from outfeed.\n",
      "I0819 14:19:15.335752 139670343677696 tpu_estimator.py:275] Outfeed finished for iteration (0, 0)\n",
      "I0819 14:19:15.343116 139671745042304 evaluation.py:167] Evaluation [1/1]\n",
      "I0819 14:19:15.345468 139671745042304 tpu_estimator.py:598] Stop infeed thread controller\n",
      "I0819 14:19:15.346775 139671745042304 tpu_estimator.py:430] Shutting down InfeedController thread.\n",
      "I0819 14:19:15.349700 139670352070400 tpu_estimator.py:425] InfeedController received shutdown signal, stopping.\n",
      "I0819 14:19:15.352397 139670352070400 tpu_estimator.py:530] Infeed thread finished, shutting down.\n",
      "I0819 14:19:15.353749 139671745042304 error_handling.py:96] infeed marked as finished\n",
      "I0819 14:19:15.355839 139671745042304 tpu_estimator.py:602] Stop output thread controller\n",
      "I0819 14:19:15.357910 139671745042304 tpu_estimator.py:430] Shutting down OutfeedController thread.\n",
      "I0819 14:19:15.359811 139670343677696 tpu_estimator.py:425] OutfeedController received shutdown signal, stopping.\n",
      "I0819 14:19:15.361021 139670343677696 tpu_estimator.py:541] Outfeed thread finished, shutting down.\n",
      "I0819 14:19:15.362518 139671745042304 error_handling.py:96] outfeed marked as finished\n",
      "I0819 14:19:15.364274 139671745042304 tpu_estimator.py:606] Shutdown TPU system.\n",
      "I0819 14:19:16.029060 139671745042304 evaluation.py:275] Finished evaluation at 2019-08-19-14:19:16\n",
      "I0819 14:19:16.030806 139671745042304 estimator.py:2039] Saving dict for global step 16000: discriminator_gen_accuracy = 1.0, discriminator_loss = 1.1759531, discriminator_real_accuracy = 0.60253906, generator_loss = 1.6610472, global_step = 16000, loss = 2.9374988\n",
      "I0819 14:19:16.307038 139671745042304 estimator.py:2099] Saving 'checkpoint_path' summary for global step 16000: gs://tputestingmnist/FUNIT/FUNIT_only_gen_11/model.ckpt-16000\n",
      "I0819 14:19:16.587146 139671745042304 error_handling.py:96] evaluation_loop marked as finished\n",
      "I0819 14:19:16.763434 139671745042304 estimator.py:1145] Calling model_fn.\n",
      "I0819 14:19:16.764811 139671745042304 tpu_estimator.py:2965] Running infer on CPU\n"
     ],
     "name": "stderr"
    },
    {
     "output_type": "stream",
     "text": [
      "Finished evaluating\n",
      "{'discriminator_gen_accuracy': 1.0, 'discriminator_loss': 1.1759531, 'discriminator_real_accuracy': 0.60253906, 'generator_loss': 1.6610472, 'loss': 2.9374988, 'global_step': 16000}\n",
      "(12, 1, 1, 2048)\n"
     ],
     "name": "stdout"
    },
    {
     "output_type": "stream",
     "text": [
      "I0819 14:19:17.456014 139671745042304 estimator.py:1147] Done calling model_fn.\n",
      "I0819 14:19:17.673492 139671745042304 monitored_session.py:240] Graph was finalized.\n",
      "I0819 14:19:17.732894 139671745042304 saver.py:1280] Restoring parameters from gs://tputestingmnist/FUNIT/FUNIT_only_gen_11/model.ckpt-16000\n",
      "I0819 14:19:18.113122 139671745042304 session_manager.py:500] Running local_init_op.\n",
      "I0819 14:19:18.134400 139671745042304 session_manager.py:502] Done running local_init_op.\n",
      "I0819 14:19:18.515351 139671745042304 error_handling.py:96] prediction_loop marked as finished\n",
      "I0819 14:19:18.516670 139671745042304 error_handling.py:96] prediction_loop marked as finished\n"
     ],
     "name": "stderr"
    },
    {
     "output_type": "stream",
     "text": [
      "Finished generating images\n"
     ],
     "name": "stdout"
    },
    {
     "output_type": "stream",
     "text": [
      "I0819 14:19:19.744875 139671745042304 estimator.py:1145] Calling model_fn.\n"
     ],
     "name": "stderr"
    },
    {
     "output_type": "stream",
     "text": [
      "(128, 1, 1, 2048)\n"
     ],
     "name": "stdout"
    },
    {
     "output_type": "stream",
     "text": [
      "I0819 14:19:27.993874 139671745042304 basic_session_run_hooks.py:541] Create CheckpointSaverHook.\n",
      "I0819 14:19:28.219284 139671745042304 estimator.py:1147] Done calling model_fn.\n",
      "I0819 14:19:28.221042 139671745042304 tpu_estimator.py:499] TPU job name tpu_worker\n",
      "I0819 14:19:29.347347 139671745042304 monitored_session.py:240] Graph was finalized.\n",
      "I0819 14:19:29.532732 139671745042304 saver.py:1280] Restoring parameters from gs://tputestingmnist/FUNIT/FUNIT_only_gen_11/model.ckpt-16000\n",
      "I0819 14:19:36.693127 139671745042304 session_manager.py:500] Running local_init_op.\n",
      "I0819 14:19:37.131428 139671745042304 session_manager.py:502] Done running local_init_op.\n",
      "I0819 14:19:42.155424 139671745042304 basic_session_run_hooks.py:606] Saving checkpoints for 16000 into gs://tputestingmnist/FUNIT/FUNIT_only_gen_11/model.ckpt.\n",
      "I0819 14:19:58.722825 139671745042304 util.py:98] Initialized dataset iterators in 0 seconds\n",
      "I0819 14:19:58.724331 139671745042304 session_support.py:332] Installing graceful shutdown hook.\n",
      "I0819 14:19:58.737073 139671745042304 session_support.py:82] Creating heartbeat manager for ['/job:tpu_worker/replica:0/task:0/device:CPU:0']\n",
      "I0819 14:19:58.740957 139671745042304 session_support.py:105] Configuring worker heartbeat: shutdown_mode: WAIT_FOR_COORDINATOR\n",
      "\n",
      "I0819 14:19:58.750187 139671745042304 tpu_estimator.py:557] Init TPU system\n",
      "I0819 14:20:09.800226 139671745042304 tpu_estimator.py:566] Initialized TPU in 11 seconds\n",
      "I0819 14:20:09.802324 139670352070400 tpu_estimator.py:514] Starting infeed thread controller.\n",
      "I0819 14:20:09.812360 139670343677696 tpu_estimator.py:533] Starting outfeed thread controller.\n",
      "I0819 14:20:10.226325 139671745042304 tpu_estimator.py:590] Enqueue next (1000) batch(es) of data to infeed.\n",
      "I0819 14:20:10.227707 139671745042304 tpu_estimator.py:594] Dequeue next (1000) batch(es) of data from outfeed.\n",
      "I0819 14:20:35.526902 139670343677696 tpu_estimator.py:275] Outfeed finished for iteration (0, 0)\n",
      "I0819 14:21:35.774510 139670343677696 tpu_estimator.py:275] Outfeed finished for iteration (0, 207)\n",
      "I0819 14:22:36.022916 139670343677696 tpu_estimator.py:275] Outfeed finished for iteration (0, 414)\n",
      "I0819 14:23:36.271701 139670343677696 tpu_estimator.py:275] Outfeed finished for iteration (0, 621)\n",
      "I0819 14:24:36.520025 139670343677696 tpu_estimator.py:275] Outfeed finished for iteration (0, 828)\n",
      "I0819 14:25:26.954170 139671745042304 basic_session_run_hooks.py:606] Saving checkpoints for 17000 into gs://tputestingmnist/FUNIT/FUNIT_only_gen_11/model.ckpt.\n",
      "I0819 14:25:43.010005 139671745042304 basic_session_run_hooks.py:262] loss = 3.159719, step = 17000\n",
      "I0819 14:25:43.951667 139671745042304 tpu_estimator.py:598] Stop infeed thread controller\n",
      "I0819 14:25:43.952950 139671745042304 tpu_estimator.py:430] Shutting down InfeedController thread.\n",
      "I0819 14:25:43.958878 139670352070400 tpu_estimator.py:425] InfeedController received shutdown signal, stopping.\n",
      "I0819 14:25:43.961260 139670352070400 tpu_estimator.py:530] Infeed thread finished, shutting down.\n",
      "I0819 14:25:43.964008 139671745042304 error_handling.py:96] infeed marked as finished\n",
      "I0819 14:25:43.968909 139671745042304 tpu_estimator.py:602] Stop output thread controller\n",
      "I0819 14:25:43.969639 139671745042304 tpu_estimator.py:430] Shutting down OutfeedController thread.\n",
      "I0819 14:25:43.970755 139670343677696 tpu_estimator.py:425] OutfeedController received shutdown signal, stopping.\n",
      "I0819 14:25:43.972975 139670343677696 tpu_estimator.py:541] Outfeed thread finished, shutting down.\n",
      "I0819 14:25:43.975555 139671745042304 error_handling.py:96] outfeed marked as finished\n",
      "I0819 14:25:43.976577 139671745042304 tpu_estimator.py:606] Shutdown TPU system.\n",
      "I0819 14:25:45.974304 139671745042304 estimator.py:368] Loss for final step: 3.159719.\n",
      "I0819 14:25:45.975721 139671745042304 error_handling.py:96] training_loop marked as finished\n",
      "I0819 14:25:46.175693 139671745042304 estimator.py:1145] Calling model_fn.\n"
     ],
     "name": "stderr"
    },
    {
     "output_type": "stream",
     "text": [
      "Finished training step 17000\n",
      "(128, 1, 1, 2048)\n"
     ],
     "name": "stdout"
    },
    {
     "output_type": "stream",
     "text": [
      "I0819 14:25:50.214247 139671745042304 estimator.py:1147] Done calling model_fn.\n",
      "I0819 14:25:50.242203 139671745042304 evaluation.py:255] Starting evaluation at 2019-08-19T14:25:50Z\n",
      "I0819 14:25:50.243329 139671745042304 tpu_estimator.py:499] TPU job name tpu_worker\n",
      "I0819 14:25:50.587311 139671745042304 monitored_session.py:240] Graph was finalized.\n",
      "I0819 14:25:50.665746 139671745042304 saver.py:1280] Restoring parameters from gs://tputestingmnist/FUNIT/FUNIT_only_gen_11/model.ckpt-17000\n",
      "I0819 14:25:57.986768 139671745042304 session_manager.py:500] Running local_init_op.\n",
      "I0819 14:25:58.108569 139671745042304 session_manager.py:502] Done running local_init_op.\n",
      "I0819 14:25:58.356902 139671745042304 tpu_estimator.py:557] Init TPU system\n",
      "I0819 14:26:06.269456 139671745042304 tpu_estimator.py:566] Initialized TPU in 7 seconds\n",
      "I0819 14:26:06.271077 139670352070400 tpu_estimator.py:514] Starting infeed thread controller.\n",
      "I0819 14:26:06.281770 139670343677696 tpu_estimator.py:533] Starting outfeed thread controller.\n",
      "I0819 14:26:06.407271 139671745042304 util.py:98] Initialized dataset iterators in 0 seconds\n",
      "I0819 14:26:06.524304 139671745042304 tpu_estimator.py:590] Enqueue next (1) batch(es) of data to infeed.\n",
      "I0819 14:26:06.525796 139671745042304 tpu_estimator.py:594] Dequeue next (1) batch(es) of data from outfeed.\n",
      "I0819 14:26:16.090651 139670343677696 tpu_estimator.py:275] Outfeed finished for iteration (0, 0)\n",
      "I0819 14:26:16.092351 139671745042304 evaluation.py:167] Evaluation [1/1]\n",
      "I0819 14:26:16.093701 139671745042304 tpu_estimator.py:598] Stop infeed thread controller\n",
      "I0819 14:26:16.095321 139671745042304 tpu_estimator.py:430] Shutting down InfeedController thread.\n",
      "I0819 14:26:16.096747 139670352070400 tpu_estimator.py:425] InfeedController received shutdown signal, stopping.\n",
      "I0819 14:26:16.099693 139670352070400 tpu_estimator.py:530] Infeed thread finished, shutting down.\n",
      "I0819 14:26:16.103183 139671745042304 error_handling.py:96] infeed marked as finished\n",
      "I0819 14:26:16.122228 139671745042304 tpu_estimator.py:602] Stop output thread controller\n",
      "I0819 14:26:16.125884 139671745042304 tpu_estimator.py:430] Shutting down OutfeedController thread.\n",
      "I0819 14:26:16.127638 139670343677696 tpu_estimator.py:425] OutfeedController received shutdown signal, stopping.\n",
      "I0819 14:26:16.128909 139670343677696 tpu_estimator.py:541] Outfeed thread finished, shutting down.\n",
      "I0819 14:26:16.130794 139671745042304 error_handling.py:96] outfeed marked as finished\n",
      "I0819 14:26:16.132707 139671745042304 tpu_estimator.py:606] Shutdown TPU system.\n",
      "I0819 14:26:16.776717 139671745042304 evaluation.py:275] Finished evaluation at 2019-08-19-14:26:16\n",
      "I0819 14:26:16.778171 139671745042304 estimator.py:2039] Saving dict for global step 17000: discriminator_gen_accuracy = 1.0, discriminator_loss = 0.59164274, discriminator_real_accuracy = 0.91308594, generator_loss = 2.517266, global_step = 17000, loss = 3.0558476\n",
      "I0819 14:26:17.115783 139671745042304 estimator.py:2099] Saving 'checkpoint_path' summary for global step 17000: gs://tputestingmnist/FUNIT/FUNIT_only_gen_11/model.ckpt-17000\n",
      "I0819 14:26:17.518311 139671745042304 error_handling.py:96] evaluation_loop marked as finished\n",
      "I0819 14:26:17.688432 139671745042304 estimator.py:1145] Calling model_fn.\n",
      "I0819 14:26:17.689611 139671745042304 tpu_estimator.py:2965] Running infer on CPU\n"
     ],
     "name": "stderr"
    },
    {
     "output_type": "stream",
     "text": [
      "Finished evaluating\n",
      "{'discriminator_gen_accuracy': 1.0, 'discriminator_loss': 0.59164274, 'discriminator_real_accuracy': 0.91308594, 'generator_loss': 2.517266, 'loss': 3.0558476, 'global_step': 17000}\n",
      "(12, 1, 1, 2048)\n"
     ],
     "name": "stdout"
    },
    {
     "output_type": "stream",
     "text": [
      "I0819 14:26:18.753279 139671745042304 estimator.py:1147] Done calling model_fn.\n",
      "I0819 14:26:18.973715 139671745042304 monitored_session.py:240] Graph was finalized.\n",
      "I0819 14:26:19.040237 139671745042304 saver.py:1280] Restoring parameters from gs://tputestingmnist/FUNIT/FUNIT_only_gen_11/model.ckpt-17000\n",
      "I0819 14:26:19.417642 139671745042304 session_manager.py:500] Running local_init_op.\n",
      "I0819 14:26:19.436133 139671745042304 session_manager.py:502] Done running local_init_op.\n",
      "I0819 14:26:19.774898 139671745042304 error_handling.py:96] prediction_loop marked as finished\n",
      "I0819 14:26:19.776354 139671745042304 error_handling.py:96] prediction_loop marked as finished\n"
     ],
     "name": "stderr"
    },
    {
     "output_type": "stream",
     "text": [
      "Finished generating images\n"
     ],
     "name": "stdout"
    },
    {
     "output_type": "stream",
     "text": [
      "I0819 14:26:20.971008 139671745042304 estimator.py:1145] Calling model_fn.\n"
     ],
     "name": "stderr"
    },
    {
     "output_type": "stream",
     "text": [
      "(128, 1, 1, 2048)\n"
     ],
     "name": "stdout"
    },
    {
     "output_type": "stream",
     "text": [
      "I0819 14:26:29.083381 139671745042304 basic_session_run_hooks.py:541] Create CheckpointSaverHook.\n",
      "I0819 14:26:29.306866 139671745042304 estimator.py:1147] Done calling model_fn.\n",
      "I0819 14:26:29.308288 139671745042304 tpu_estimator.py:499] TPU job name tpu_worker\n",
      "I0819 14:26:30.067031 139671745042304 monitored_session.py:240] Graph was finalized.\n",
      "I0819 14:26:30.240094 139671745042304 saver.py:1280] Restoring parameters from gs://tputestingmnist/FUNIT/FUNIT_only_gen_11/model.ckpt-17000\n",
      "I0819 14:26:36.804814 139671745042304 session_manager.py:500] Running local_init_op.\n",
      "I0819 14:26:37.208566 139671745042304 session_manager.py:502] Done running local_init_op.\n",
      "I0819 14:26:42.235765 139671745042304 basic_session_run_hooks.py:606] Saving checkpoints for 17000 into gs://tputestingmnist/FUNIT/FUNIT_only_gen_11/model.ckpt.\n",
      "I0819 14:27:00.239629 139671745042304 util.py:98] Initialized dataset iterators in 0 seconds\n",
      "I0819 14:27:00.241187 139671745042304 session_support.py:332] Installing graceful shutdown hook.\n",
      "I0819 14:27:00.249437 139671745042304 session_support.py:82] Creating heartbeat manager for ['/job:tpu_worker/replica:0/task:0/device:CPU:0']\n",
      "I0819 14:27:00.254445 139671745042304 session_support.py:105] Configuring worker heartbeat: shutdown_mode: WAIT_FOR_COORDINATOR\n",
      "\n",
      "I0819 14:27:00.265345 139671745042304 tpu_estimator.py:557] Init TPU system\n",
      "I0819 14:27:10.480135 139671745042304 tpu_estimator.py:566] Initialized TPU in 10 seconds\n",
      "I0819 14:27:10.481896 139670352070400 tpu_estimator.py:514] Starting infeed thread controller.\n",
      "I0819 14:27:10.483975 139670343677696 tpu_estimator.py:533] Starting outfeed thread controller.\n",
      "I0819 14:27:10.902358 139671745042304 tpu_estimator.py:590] Enqueue next (1000) batch(es) of data to infeed.\n",
      "I0819 14:27:10.903642 139671745042304 tpu_estimator.py:594] Dequeue next (1000) batch(es) of data from outfeed.\n",
      "I0819 14:27:36.195895 139670343677696 tpu_estimator.py:275] Outfeed finished for iteration (0, 0)\n",
      "I0819 14:28:36.443425 139670343677696 tpu_estimator.py:275] Outfeed finished for iteration (0, 207)\n",
      "I0819 14:29:36.692224 139670343677696 tpu_estimator.py:275] Outfeed finished for iteration (0, 414)\n",
      "I0819 14:30:36.940171 139670343677696 tpu_estimator.py:275] Outfeed finished for iteration (0, 621)\n",
      "I0819 14:31:37.187266 139670343677696 tpu_estimator.py:275] Outfeed finished for iteration (0, 828)\n",
      "I0819 14:32:27.628920 139671745042304 basic_session_run_hooks.py:606] Saving checkpoints for 18000 into gs://tputestingmnist/FUNIT/FUNIT_only_gen_11/model.ckpt.\n",
      "I0819 14:32:46.136502 139671745042304 basic_session_run_hooks.py:262] loss = 2.2301548, step = 18000\n",
      "I0819 14:32:47.365256 139671745042304 tpu_estimator.py:598] Stop infeed thread controller\n",
      "I0819 14:32:47.366646 139671745042304 tpu_estimator.py:430] Shutting down InfeedController thread.\n",
      "I0819 14:32:47.373760 139670352070400 tpu_estimator.py:425] InfeedController received shutdown signal, stopping.\n",
      "I0819 14:32:47.375128 139670352070400 tpu_estimator.py:530] Infeed thread finished, shutting down.\n",
      "I0819 14:32:47.380748 139671745042304 error_handling.py:96] infeed marked as finished\n",
      "I0819 14:32:47.382456 139671745042304 tpu_estimator.py:602] Stop output thread controller\n",
      "I0819 14:32:47.385103 139671745042304 tpu_estimator.py:430] Shutting down OutfeedController thread.\n",
      "I0819 14:32:47.387346 139670343677696 tpu_estimator.py:425] OutfeedController received shutdown signal, stopping.\n",
      "I0819 14:32:47.388566 139670343677696 tpu_estimator.py:541] Outfeed thread finished, shutting down.\n",
      "I0819 14:32:47.391146 139671745042304 error_handling.py:96] outfeed marked as finished\n",
      "I0819 14:32:47.392995 139671745042304 tpu_estimator.py:606] Shutdown TPU system.\n",
      "I0819 14:32:49.178474 139671745042304 estimator.py:368] Loss for final step: 2.2301548.\n",
      "I0819 14:32:49.179956 139671745042304 error_handling.py:96] training_loop marked as finished\n",
      "I0819 14:32:49.369387 139671745042304 estimator.py:1145] Calling model_fn.\n"
     ],
     "name": "stderr"
    },
    {
     "output_type": "stream",
     "text": [
      "Finished training step 18000\n",
      "(128, 1, 1, 2048)\n"
     ],
     "name": "stdout"
    },
    {
     "output_type": "stream",
     "text": [
      "I0819 14:32:53.362467 139671745042304 estimator.py:1147] Done calling model_fn.\n",
      "I0819 14:32:53.390573 139671745042304 evaluation.py:255] Starting evaluation at 2019-08-19T14:32:53Z\n",
      "I0819 14:32:53.391765 139671745042304 tpu_estimator.py:499] TPU job name tpu_worker\n",
      "I0819 14:32:54.030243 139671745042304 monitored_session.py:240] Graph was finalized.\n",
      "I0819 14:32:54.103526 139671745042304 saver.py:1280] Restoring parameters from gs://tputestingmnist/FUNIT/FUNIT_only_gen_11/model.ckpt-18000\n",
      "I0819 14:33:00.393767 139671745042304 session_manager.py:500] Running local_init_op.\n",
      "I0819 14:33:00.516700 139671745042304 session_manager.py:502] Done running local_init_op.\n",
      "I0819 14:33:00.758263 139671745042304 tpu_estimator.py:557] Init TPU system\n",
      "I0819 14:33:08.513643 139671745042304 tpu_estimator.py:566] Initialized TPU in 7 seconds\n",
      "I0819 14:33:08.515666 139670352070400 tpu_estimator.py:514] Starting infeed thread controller.\n",
      "I0819 14:33:08.517582 139670343677696 tpu_estimator.py:533] Starting outfeed thread controller.\n",
      "I0819 14:33:08.634981 139671745042304 util.py:98] Initialized dataset iterators in 0 seconds\n",
      "I0819 14:33:08.732360 139671745042304 tpu_estimator.py:590] Enqueue next (1) batch(es) of data to infeed.\n",
      "I0819 14:33:08.733659 139671745042304 tpu_estimator.py:594] Dequeue next (1) batch(es) of data from outfeed.\n",
      "I0819 14:33:18.298580 139670343677696 tpu_estimator.py:275] Outfeed finished for iteration (0, 0)\n",
      "I0819 14:33:18.299748 139671745042304 evaluation.py:167] Evaluation [1/1]\n",
      "I0819 14:33:18.302009 139671745042304 tpu_estimator.py:598] Stop infeed thread controller\n",
      "I0819 14:33:18.304279 139671745042304 tpu_estimator.py:430] Shutting down InfeedController thread.\n",
      "I0819 14:33:18.305541 139670352070400 tpu_estimator.py:425] InfeedController received shutdown signal, stopping.\n",
      "I0819 14:33:18.307069 139670352070400 tpu_estimator.py:530] Infeed thread finished, shutting down.\n",
      "I0819 14:33:18.309470 139671745042304 error_handling.py:96] infeed marked as finished\n",
      "I0819 14:33:18.312216 139671745042304 tpu_estimator.py:602] Stop output thread controller\n",
      "I0819 14:33:18.316740 139671745042304 tpu_estimator.py:430] Shutting down OutfeedController thread.\n",
      "I0819 14:33:18.319958 139670343677696 tpu_estimator.py:425] OutfeedController received shutdown signal, stopping.\n",
      "I0819 14:33:18.321256 139670343677696 tpu_estimator.py:541] Outfeed thread finished, shutting down.\n",
      "I0819 14:33:18.324382 139671745042304 error_handling.py:96] outfeed marked as finished\n",
      "I0819 14:33:18.327033 139671745042304 tpu_estimator.py:606] Shutdown TPU system.\n",
      "I0819 14:33:18.982161 139671745042304 evaluation.py:275] Finished evaluation at 2019-08-19-14:33:18\n",
      "I0819 14:33:18.983586 139671745042304 estimator.py:2039] Saving dict for global step 18000: discriminator_gen_accuracy = 1.0, discriminator_loss = 0.9471566, discriminator_real_accuracy = 0.7910156, generator_loss = 1.2412431, global_step = 18000, loss = 2.153688\n",
      "I0819 14:33:19.459567 139671745042304 estimator.py:2099] Saving 'checkpoint_path' summary for global step 18000: gs://tputestingmnist/FUNIT/FUNIT_only_gen_11/model.ckpt-18000\n",
      "I0819 14:33:19.796301 139671745042304 error_handling.py:96] evaluation_loop marked as finished\n",
      "I0819 14:33:19.974073 139671745042304 estimator.py:1145] Calling model_fn.\n",
      "I0819 14:33:19.975455 139671745042304 tpu_estimator.py:2965] Running infer on CPU\n"
     ],
     "name": "stderr"
    },
    {
     "output_type": "stream",
     "text": [
      "Finished evaluating\n",
      "{'discriminator_gen_accuracy': 1.0, 'discriminator_loss': 0.9471566, 'discriminator_real_accuracy': 0.7910156, 'generator_loss': 1.2412431, 'loss': 2.153688, 'global_step': 18000}\n",
      "(12, 1, 1, 2048)\n"
     ],
     "name": "stdout"
    },
    {
     "output_type": "stream",
     "text": [
      "I0819 14:33:20.676765 139671745042304 estimator.py:1147] Done calling model_fn.\n",
      "I0819 14:33:20.898159 139671745042304 monitored_session.py:240] Graph was finalized.\n",
      "I0819 14:33:20.979430 139671745042304 saver.py:1280] Restoring parameters from gs://tputestingmnist/FUNIT/FUNIT_only_gen_11/model.ckpt-18000\n",
      "I0819 14:33:21.403291 139671745042304 session_manager.py:500] Running local_init_op.\n",
      "I0819 14:33:21.428578 139671745042304 session_manager.py:502] Done running local_init_op.\n",
      "I0819 14:33:21.768509 139671745042304 error_handling.py:96] prediction_loop marked as finished\n",
      "I0819 14:33:21.769887 139671745042304 error_handling.py:96] prediction_loop marked as finished\n"
     ],
     "name": "stderr"
    },
    {
     "output_type": "stream",
     "text": [
      "Finished generating images\n"
     ],
     "name": "stdout"
    },
    {
     "output_type": "stream",
     "text": [
      "I0819 14:33:22.843530 139671745042304 estimator.py:1145] Calling model_fn.\n"
     ],
     "name": "stderr"
    },
    {
     "output_type": "stream",
     "text": [
      "(128, 1, 1, 2048)\n"
     ],
     "name": "stdout"
    },
    {
     "output_type": "stream",
     "text": [
      "I0819 14:33:31.211273 139671745042304 basic_session_run_hooks.py:541] Create CheckpointSaverHook.\n",
      "I0819 14:33:31.449036 139671745042304 estimator.py:1147] Done calling model_fn.\n",
      "I0819 14:33:31.450828 139671745042304 tpu_estimator.py:499] TPU job name tpu_worker\n",
      "I0819 14:33:32.240301 139671745042304 monitored_session.py:240] Graph was finalized.\n",
      "I0819 14:33:32.431994 139671745042304 saver.py:1280] Restoring parameters from gs://tputestingmnist/FUNIT/FUNIT_only_gen_11/model.ckpt-18000\n",
      "I0819 14:33:38.432398 139671745042304 session_manager.py:500] Running local_init_op.\n",
      "I0819 14:33:38.831622 139671745042304 session_manager.py:502] Done running local_init_op.\n",
      "I0819 14:33:43.842905 139671745042304 basic_session_run_hooks.py:606] Saving checkpoints for 18000 into gs://tputestingmnist/FUNIT/FUNIT_only_gen_11/model.ckpt.\n",
      "I0819 14:34:11.418866 139671745042304 util.py:98] Initialized dataset iterators in 0 seconds\n",
      "I0819 14:34:11.420344 139671745042304 session_support.py:332] Installing graceful shutdown hook.\n",
      "I0819 14:34:11.430448 139671745042304 session_support.py:82] Creating heartbeat manager for ['/job:tpu_worker/replica:0/task:0/device:CPU:0']\n",
      "I0819 14:34:11.437570 139671745042304 session_support.py:105] Configuring worker heartbeat: shutdown_mode: WAIT_FOR_COORDINATOR\n",
      "\n",
      "I0819 14:34:11.443143 139671745042304 tpu_estimator.py:557] Init TPU system\n",
      "I0819 14:34:21.943655 139671745042304 tpu_estimator.py:566] Initialized TPU in 10 seconds\n",
      "I0819 14:34:21.945407 139670352070400 tpu_estimator.py:514] Starting infeed thread controller.\n",
      "I0819 14:34:21.946048 139670343677696 tpu_estimator.py:533] Starting outfeed thread controller.\n",
      "I0819 14:34:22.360053 139671745042304 tpu_estimator.py:590] Enqueue next (1000) batch(es) of data to infeed.\n",
      "I0819 14:34:22.361261 139671745042304 tpu_estimator.py:594] Dequeue next (1000) batch(es) of data from outfeed.\n",
      "I0819 14:34:47.793701 139670343677696 tpu_estimator.py:275] Outfeed finished for iteration (0, 0)\n",
      "I0819 14:35:48.041890 139670343677696 tpu_estimator.py:275] Outfeed finished for iteration (0, 207)\n",
      "I0819 14:36:48.290864 139670343677696 tpu_estimator.py:275] Outfeed finished for iteration (0, 414)\n",
      "I0819 14:37:48.539793 139670343677696 tpu_estimator.py:275] Outfeed finished for iteration (0, 621)\n",
      "I0819 14:38:48.788974 139670343677696 tpu_estimator.py:275] Outfeed finished for iteration (0, 828)\n",
      "I0819 14:39:39.244124 139671745042304 basic_session_run_hooks.py:606] Saving checkpoints for 19000 into gs://tputestingmnist/FUNIT/FUNIT_only_gen_11/model.ckpt.\n",
      "I0819 14:39:58.133186 139671745042304 basic_session_run_hooks.py:262] loss = 2.6778812, step = 19000\n",
      "I0819 14:39:59.315885 139671745042304 tpu_estimator.py:598] Stop infeed thread controller\n",
      "I0819 14:39:59.317158 139671745042304 tpu_estimator.py:430] Shutting down InfeedController thread.\n",
      "I0819 14:39:59.323485 139670352070400 tpu_estimator.py:425] InfeedController received shutdown signal, stopping.\n",
      "I0819 14:39:59.327349 139670352070400 tpu_estimator.py:530] Infeed thread finished, shutting down.\n",
      "I0819 14:39:59.332834 139671745042304 error_handling.py:96] infeed marked as finished\n",
      "I0819 14:39:59.334984 139671745042304 tpu_estimator.py:602] Stop output thread controller\n",
      "I0819 14:39:59.337013 139671745042304 tpu_estimator.py:430] Shutting down OutfeedController thread.\n",
      "I0819 14:39:59.338770 139670343677696 tpu_estimator.py:425] OutfeedController received shutdown signal, stopping.\n",
      "I0819 14:39:59.339732 139670343677696 tpu_estimator.py:541] Outfeed thread finished, shutting down.\n",
      "I0819 14:39:59.341869 139671745042304 error_handling.py:96] outfeed marked as finished\n",
      "I0819 14:39:59.342952 139671745042304 tpu_estimator.py:606] Shutdown TPU system.\n",
      "I0819 14:40:01.098478 139671745042304 estimator.py:368] Loss for final step: 2.6778812.\n",
      "I0819 14:40:01.099961 139671745042304 error_handling.py:96] training_loop marked as finished\n"
     ],
     "name": "stderr"
    },
    {
     "output_type": "stream",
     "text": [
      "Finished training step 19000\n"
     ],
     "name": "stdout"
    },
    {
     "output_type": "stream",
     "text": [
      "I0819 14:40:01.311303 139671745042304 estimator.py:1145] Calling model_fn.\n"
     ],
     "name": "stderr"
    },
    {
     "output_type": "stream",
     "text": [
      "(128, 1, 1, 2048)\n"
     ],
     "name": "stdout"
    },
    {
     "output_type": "stream",
     "text": [
      "I0819 14:40:05.743821 139671745042304 estimator.py:1147] Done calling model_fn.\n",
      "I0819 14:40:05.769421 139671745042304 evaluation.py:255] Starting evaluation at 2019-08-19T14:40:05Z\n",
      "I0819 14:40:05.770759 139671745042304 tpu_estimator.py:499] TPU job name tpu_worker\n",
      "I0819 14:40:06.116763 139671745042304 monitored_session.py:240] Graph was finalized.\n",
      "I0819 14:40:06.183578 139671745042304 saver.py:1280] Restoring parameters from gs://tputestingmnist/FUNIT/FUNIT_only_gen_11/model.ckpt-19000\n",
      "I0819 14:40:10.345174 139671745042304 session_manager.py:500] Running local_init_op.\n",
      "I0819 14:40:10.456066 139671745042304 session_manager.py:502] Done running local_init_op.\n",
      "I0819 14:40:10.737404 139671745042304 tpu_estimator.py:557] Init TPU system\n",
      "I0819 14:40:18.625459 139671745042304 tpu_estimator.py:566] Initialized TPU in 7 seconds\n",
      "I0819 14:40:18.627348 139670352070400 tpu_estimator.py:514] Starting infeed thread controller.\n",
      "I0819 14:40:18.630046 139670343677696 tpu_estimator.py:533] Starting outfeed thread controller.\n",
      "I0819 14:40:18.765422 139671745042304 util.py:98] Initialized dataset iterators in 0 seconds\n",
      "I0819 14:40:18.870655 139671745042304 tpu_estimator.py:590] Enqueue next (1) batch(es) of data to infeed.\n",
      "I0819 14:40:18.872041 139671745042304 tpu_estimator.py:594] Dequeue next (1) batch(es) of data from outfeed.\n",
      "I0819 14:40:28.414861 139670343677696 tpu_estimator.py:275] Outfeed finished for iteration (0, 0)\n",
      "I0819 14:40:28.416178 139671745042304 evaluation.py:167] Evaluation [1/1]\n",
      "I0819 14:40:28.417546 139671745042304 tpu_estimator.py:598] Stop infeed thread controller\n",
      "I0819 14:40:28.418466 139671745042304 tpu_estimator.py:430] Shutting down InfeedController thread.\n",
      "I0819 14:40:28.419694 139670352070400 tpu_estimator.py:425] InfeedController received shutdown signal, stopping.\n",
      "I0819 14:40:28.421741 139670352070400 tpu_estimator.py:530] Infeed thread finished, shutting down.\n",
      "I0819 14:40:28.423326 139671745042304 error_handling.py:96] infeed marked as finished\n",
      "I0819 14:40:28.424482 139671745042304 tpu_estimator.py:602] Stop output thread controller\n",
      "I0819 14:40:28.426759 139671745042304 tpu_estimator.py:430] Shutting down OutfeedController thread.\n",
      "I0819 14:40:28.428964 139670343677696 tpu_estimator.py:425] OutfeedController received shutdown signal, stopping.\n",
      "I0819 14:40:28.430678 139670343677696 tpu_estimator.py:541] Outfeed thread finished, shutting down.\n",
      "I0819 14:40:28.434449 139671745042304 error_handling.py:96] outfeed marked as finished\n",
      "I0819 14:40:28.435446 139671745042304 tpu_estimator.py:606] Shutdown TPU system.\n",
      "I0819 14:40:29.123895 139671745042304 evaluation.py:275] Finished evaluation at 2019-08-19-14:40:29\n",
      "I0819 14:40:29.125216 139671745042304 estimator.py:2039] Saving dict for global step 19000: discriminator_gen_accuracy = 1.0, discriminator_loss = 0.80915046, discriminator_real_accuracy = 0.7675781, generator_loss = 1.7915748, global_step = 19000, loss = 2.661258\n",
      "I0819 14:40:29.465941 139671745042304 estimator.py:2099] Saving 'checkpoint_path' summary for global step 19000: gs://tputestingmnist/FUNIT/FUNIT_only_gen_11/model.ckpt-19000\n",
      "I0819 14:40:29.750979 139671745042304 error_handling.py:96] evaluation_loop marked as finished\n",
      "I0819 14:40:29.939335 139671745042304 estimator.py:1145] Calling model_fn.\n",
      "I0819 14:40:29.940650 139671745042304 tpu_estimator.py:2965] Running infer on CPU\n"
     ],
     "name": "stderr"
    },
    {
     "output_type": "stream",
     "text": [
      "Finished evaluating\n",
      "{'discriminator_gen_accuracy': 1.0, 'discriminator_loss': 0.80915046, 'discriminator_real_accuracy': 0.7675781, 'generator_loss': 1.7915748, 'loss': 2.661258, 'global_step': 19000}\n",
      "(12, 1, 1, 2048)\n"
     ],
     "name": "stdout"
    },
    {
     "output_type": "stream",
     "text": [
      "I0819 14:40:30.648145 139671745042304 estimator.py:1147] Done calling model_fn.\n",
      "I0819 14:40:31.265550 139671745042304 monitored_session.py:240] Graph was finalized.\n",
      "I0819 14:40:31.334281 139671745042304 saver.py:1280] Restoring parameters from gs://tputestingmnist/FUNIT/FUNIT_only_gen_11/model.ckpt-19000\n",
      "I0819 14:40:31.745716 139671745042304 session_manager.py:500] Running local_init_op.\n",
      "I0819 14:40:31.762565 139671745042304 session_manager.py:502] Done running local_init_op.\n",
      "I0819 14:40:32.138403 139671745042304 error_handling.py:96] prediction_loop marked as finished\n",
      "I0819 14:40:32.139635 139671745042304 error_handling.py:96] prediction_loop marked as finished\n"
     ],
     "name": "stderr"
    },
    {
     "output_type": "stream",
     "text": [
      "Finished generating images\n"
     ],
     "name": "stdout"
    },
    {
     "output_type": "stream",
     "text": [
      "I0819 14:40:33.334380 139671745042304 estimator.py:1145] Calling model_fn.\n"
     ],
     "name": "stderr"
    },
    {
     "output_type": "stream",
     "text": [
      "(128, 1, 1, 2048)\n"
     ],
     "name": "stdout"
    },
    {
     "output_type": "stream",
     "text": [
      "I0819 14:40:41.294769 139671745042304 basic_session_run_hooks.py:541] Create CheckpointSaverHook.\n",
      "I0819 14:40:41.883698 139671745042304 estimator.py:1147] Done calling model_fn.\n",
      "I0819 14:40:41.885261 139671745042304 tpu_estimator.py:499] TPU job name tpu_worker\n",
      "I0819 14:40:42.662871 139671745042304 monitored_session.py:240] Graph was finalized.\n",
      "I0819 14:40:42.842723 139671745042304 saver.py:1280] Restoring parameters from gs://tputestingmnist/FUNIT/FUNIT_only_gen_11/model.ckpt-19000\n",
      "I0819 14:40:49.657706 139671745042304 session_manager.py:500] Running local_init_op.\n",
      "I0819 14:40:50.099687 139671745042304 session_manager.py:502] Done running local_init_op.\n",
      "I0819 14:40:55.128825 139671745042304 basic_session_run_hooks.py:606] Saving checkpoints for 19000 into gs://tputestingmnist/FUNIT/FUNIT_only_gen_11/model.ckpt.\n",
      "I0819 14:41:11.131726 139671745042304 util.py:98] Initialized dataset iterators in 0 seconds\n",
      "I0819 14:41:11.133145 139671745042304 session_support.py:332] Installing graceful shutdown hook.\n",
      "I0819 14:41:11.144780 139671745042304 session_support.py:82] Creating heartbeat manager for ['/job:tpu_worker/replica:0/task:0/device:CPU:0']\n",
      "I0819 14:41:11.151736 139671745042304 session_support.py:105] Configuring worker heartbeat: shutdown_mode: WAIT_FOR_COORDINATOR\n",
      "\n",
      "I0819 14:41:11.158864 139671745042304 tpu_estimator.py:557] Init TPU system\n",
      "I0819 14:41:21.185283 139671745042304 tpu_estimator.py:566] Initialized TPU in 10 seconds\n",
      "I0819 14:41:21.187100 139670352070400 tpu_estimator.py:514] Starting infeed thread controller.\n",
      "I0819 14:41:21.187846 139670343677696 tpu_estimator.py:533] Starting outfeed thread controller.\n",
      "I0819 14:41:21.616841 139671745042304 tpu_estimator.py:590] Enqueue next (1000) batch(es) of data to infeed.\n",
      "I0819 14:41:21.618505 139671745042304 tpu_estimator.py:594] Dequeue next (1000) batch(es) of data from outfeed.\n",
      "I0819 14:41:47.237141 139670343677696 tpu_estimator.py:275] Outfeed finished for iteration (0, 0)\n",
      "I0819 14:42:47.483525 139670343677696 tpu_estimator.py:275] Outfeed finished for iteration (0, 207)\n",
      "I0819 14:43:47.730876 139670343677696 tpu_estimator.py:275] Outfeed finished for iteration (0, 414)\n",
      "I0819 14:44:47.978080 139670343677696 tpu_estimator.py:275] Outfeed finished for iteration (0, 621)\n",
      "I0819 14:45:48.225958 139670343677696 tpu_estimator.py:275] Outfeed finished for iteration (0, 828)\n",
      "I0819 14:46:38.690718 139671745042304 basic_session_run_hooks.py:606] Saving checkpoints for 20000 into gs://tputestingmnist/FUNIT/FUNIT_only_gen_11/model.ckpt.\n",
      "I0819 14:46:54.797962 139671745042304 basic_session_run_hooks.py:262] loss = 2.891707, step = 20000\n",
      "I0819 14:46:56.002788 139671745042304 tpu_estimator.py:598] Stop infeed thread controller\n",
      "I0819 14:46:56.003927 139671745042304 tpu_estimator.py:430] Shutting down InfeedController thread.\n",
      "I0819 14:46:56.009415 139670352070400 tpu_estimator.py:425] InfeedController received shutdown signal, stopping.\n",
      "I0819 14:46:56.011674 139670352070400 tpu_estimator.py:530] Infeed thread finished, shutting down.\n",
      "I0819 14:46:56.014376 139671745042304 error_handling.py:96] infeed marked as finished\n",
      "I0819 14:46:56.016459 139671745042304 tpu_estimator.py:602] Stop output thread controller\n",
      "I0819 14:46:56.018330 139671745042304 tpu_estimator.py:430] Shutting down OutfeedController thread.\n",
      "I0819 14:46:56.020287 139670343677696 tpu_estimator.py:425] OutfeedController received shutdown signal, stopping.\n",
      "I0819 14:46:56.024004 139670343677696 tpu_estimator.py:541] Outfeed thread finished, shutting down.\n",
      "I0819 14:46:56.025982 139671745042304 error_handling.py:96] outfeed marked as finished\n",
      "I0819 14:46:56.027077 139671745042304 tpu_estimator.py:606] Shutdown TPU system.\n",
      "I0819 14:46:57.852510 139671745042304 estimator.py:368] Loss for final step: 2.891707.\n",
      "I0819 14:46:57.854432 139671745042304 error_handling.py:96] training_loop marked as finished\n"
     ],
     "name": "stderr"
    },
    {
     "output_type": "stream",
     "text": [
      "Finished training step 20000\n"
     ],
     "name": "stdout"
    },
    {
     "output_type": "stream",
     "text": [
      "I0819 14:46:58.093434 139671745042304 estimator.py:1145] Calling model_fn.\n"
     ],
     "name": "stderr"
    },
    {
     "output_type": "stream",
     "text": [
      "(128, 1, 1, 2048)\n"
     ],
     "name": "stdout"
    },
    {
     "output_type": "stream",
     "text": [
      "I0819 14:47:02.227468 139671745042304 estimator.py:1147] Done calling model_fn.\n",
      "I0819 14:47:02.254336 139671745042304 evaluation.py:255] Starting evaluation at 2019-08-19T14:47:02Z\n",
      "I0819 14:47:02.255457 139671745042304 tpu_estimator.py:499] TPU job name tpu_worker\n",
      "I0819 14:47:02.604440 139671745042304 monitored_session.py:240] Graph was finalized.\n",
      "I0819 14:47:02.680245 139671745042304 saver.py:1280] Restoring parameters from gs://tputestingmnist/FUNIT/FUNIT_only_gen_11/model.ckpt-20000\n",
      "I0819 14:47:07.383298 139671745042304 session_manager.py:500] Running local_init_op.\n",
      "I0819 14:47:07.509755 139671745042304 session_manager.py:502] Done running local_init_op.\n",
      "I0819 14:47:07.770564 139671745042304 tpu_estimator.py:557] Init TPU system\n",
      "I0819 14:47:15.473678 139671745042304 tpu_estimator.py:566] Initialized TPU in 7 seconds\n",
      "I0819 14:47:15.475623 139670343677696 tpu_estimator.py:514] Starting infeed thread controller.\n",
      "I0819 14:47:15.481266 139670335284992 tpu_estimator.py:533] Starting outfeed thread controller.\n",
      "I0819 14:47:15.613271 139671745042304 util.py:98] Initialized dataset iterators in 0 seconds\n",
      "I0819 14:47:15.719727 139671745042304 tpu_estimator.py:590] Enqueue next (1) batch(es) of data to infeed.\n",
      "I0819 14:47:15.721163 139671745042304 tpu_estimator.py:594] Dequeue next (1) batch(es) of data from outfeed.\n",
      "I0819 14:47:25.194229 139670335284992 tpu_estimator.py:275] Outfeed finished for iteration (0, 0)\n",
      "I0819 14:47:25.196677 139671745042304 evaluation.py:167] Evaluation [1/1]\n",
      "I0819 14:47:25.198300 139671745042304 tpu_estimator.py:598] Stop infeed thread controller\n",
      "I0819 14:47:25.202240 139671745042304 tpu_estimator.py:430] Shutting down InfeedController thread.\n",
      "I0819 14:47:25.207730 139670343677696 tpu_estimator.py:425] InfeedController received shutdown signal, stopping.\n",
      "I0819 14:47:25.208860 139670343677696 tpu_estimator.py:530] Infeed thread finished, shutting down.\n",
      "I0819 14:47:25.212005 139671745042304 error_handling.py:96] infeed marked as finished\n",
      "I0819 14:47:25.213198 139671745042304 tpu_estimator.py:602] Stop output thread controller\n",
      "I0819 14:47:25.214105 139671745042304 tpu_estimator.py:430] Shutting down OutfeedController thread.\n",
      "I0819 14:47:25.215583 139670335284992 tpu_estimator.py:425] OutfeedController received shutdown signal, stopping.\n",
      "I0819 14:47:25.216884 139670335284992 tpu_estimator.py:541] Outfeed thread finished, shutting down.\n",
      "I0819 14:47:25.217931 139671745042304 error_handling.py:96] outfeed marked as finished\n",
      "I0819 14:47:25.221582 139671745042304 tpu_estimator.py:606] Shutdown TPU system.\n",
      "I0819 14:47:25.864308 139671745042304 evaluation.py:275] Finished evaluation at 2019-08-19-14:47:25\n",
      "I0819 14:47:25.865807 139671745042304 estimator.py:2039] Saving dict for global step 20000: discriminator_gen_accuracy = 1.0, discriminator_loss = 0.5658929, discriminator_real_accuracy = 0.88183594, generator_loss = 3.0454478, global_step = 20000, loss = 3.5691485\n",
      "I0819 14:47:26.269413 139671745042304 estimator.py:2099] Saving 'checkpoint_path' summary for global step 20000: gs://tputestingmnist/FUNIT/FUNIT_only_gen_11/model.ckpt-20000\n",
      "I0819 14:47:26.571110 139671745042304 error_handling.py:96] evaluation_loop marked as finished\n",
      "I0819 14:47:26.747416 139671745042304 estimator.py:1145] Calling model_fn.\n",
      "I0819 14:47:26.748654 139671745042304 tpu_estimator.py:2965] Running infer on CPU\n"
     ],
     "name": "stderr"
    },
    {
     "output_type": "stream",
     "text": [
      "Finished evaluating\n",
      "{'discriminator_gen_accuracy': 1.0, 'discriminator_loss': 0.5658929, 'discriminator_real_accuracy': 0.88183594, 'generator_loss': 3.0454478, 'loss': 3.5691485, 'global_step': 20000}\n",
      "(12, 1, 1, 2048)\n"
     ],
     "name": "stdout"
    },
    {
     "output_type": "stream",
     "text": [
      "I0819 14:47:27.860474 139671745042304 estimator.py:1147] Done calling model_fn.\n",
      "I0819 14:47:28.088434 139671745042304 monitored_session.py:240] Graph was finalized.\n",
      "I0819 14:47:28.164529 139671745042304 saver.py:1280] Restoring parameters from gs://tputestingmnist/FUNIT/FUNIT_only_gen_11/model.ckpt-20000\n",
      "I0819 14:47:28.562445 139671745042304 session_manager.py:500] Running local_init_op.\n",
      "I0819 14:47:28.588398 139671745042304 session_manager.py:502] Done running local_init_op.\n",
      "I0819 14:47:29.032729 139671745042304 error_handling.py:96] prediction_loop marked as finished\n",
      "I0819 14:47:29.034012 139671745042304 error_handling.py:96] prediction_loop marked as finished\n"
     ],
     "name": "stderr"
    },
    {
     "output_type": "stream",
     "text": [
      "Finished generating images\n"
     ],
     "name": "stdout"
    },
    {
     "output_type": "stream",
     "text": [
      "I0819 14:47:30.441125 139671745042304 estimator.py:1145] Calling model_fn.\n"
     ],
     "name": "stderr"
    },
    {
     "output_type": "stream",
     "text": [
      "(128, 1, 1, 2048)\n"
     ],
     "name": "stdout"
    },
    {
     "output_type": "stream",
     "text": [
      "I0819 14:47:38.763968 139671745042304 basic_session_run_hooks.py:541] Create CheckpointSaverHook.\n",
      "I0819 14:47:38.992700 139671745042304 estimator.py:1147] Done calling model_fn.\n",
      "I0819 14:47:38.994184 139671745042304 tpu_estimator.py:499] TPU job name tpu_worker\n",
      "I0819 14:47:39.761579 139671745042304 monitored_session.py:240] Graph was finalized.\n",
      "I0819 14:47:39.916184 139671745042304 saver.py:1280] Restoring parameters from gs://tputestingmnist/FUNIT/FUNIT_only_gen_11/model.ckpt-20000\n",
      "I0819 14:47:47.333185 139671745042304 session_manager.py:500] Running local_init_op.\n",
      "I0819 14:47:47.732442 139671745042304 session_manager.py:502] Done running local_init_op.\n",
      "I0819 14:47:52.612861 139671745042304 basic_session_run_hooks.py:606] Saving checkpoints for 20000 into gs://tputestingmnist/FUNIT/FUNIT_only_gen_11/model.ckpt.\n",
      "I0819 14:48:07.310081 139671745042304 util.py:98] Initialized dataset iterators in 0 seconds\n",
      "I0819 14:48:07.311620 139671745042304 session_support.py:332] Installing graceful shutdown hook.\n",
      "I0819 14:48:07.321967 139671745042304 session_support.py:82] Creating heartbeat manager for ['/job:tpu_worker/replica:0/task:0/device:CPU:0']\n",
      "I0819 14:48:07.328784 139671745042304 session_support.py:105] Configuring worker heartbeat: shutdown_mode: WAIT_FOR_COORDINATOR\n",
      "\n",
      "I0819 14:48:07.335960 139671745042304 tpu_estimator.py:557] Init TPU system\n",
      "I0819 14:48:17.509783 139671745042304 tpu_estimator.py:566] Initialized TPU in 10 seconds\n",
      "I0819 14:48:17.511826 139670352070400 tpu_estimator.py:514] Starting infeed thread controller.\n",
      "I0819 14:48:17.517004 139670343677696 tpu_estimator.py:533] Starting outfeed thread controller.\n",
      "I0819 14:48:17.930523 139671745042304 tpu_estimator.py:590] Enqueue next (1000) batch(es) of data to infeed.\n",
      "I0819 14:48:17.932067 139671745042304 tpu_estimator.py:594] Dequeue next (1000) batch(es) of data from outfeed.\n",
      "I0819 14:48:43.378773 139670343677696 tpu_estimator.py:275] Outfeed finished for iteration (0, 0)\n",
      "I0819 14:49:43.624827 139670343677696 tpu_estimator.py:275] Outfeed finished for iteration (0, 207)\n",
      "I0819 14:50:43.871850 139670343677696 tpu_estimator.py:275] Outfeed finished for iteration (0, 414)\n",
      "I0819 14:51:44.119752 139670343677696 tpu_estimator.py:275] Outfeed finished for iteration (0, 621)\n",
      "I0819 14:52:44.368373 139670343677696 tpu_estimator.py:275] Outfeed finished for iteration (0, 828)\n",
      "I0819 14:53:34.825274 139671745042304 basic_session_run_hooks.py:606] Saving checkpoints for 21000 into gs://tputestingmnist/FUNIT/FUNIT_only_gen_11/model.ckpt.\n",
      "I0819 14:53:51.853219 139671745042304 basic_session_run_hooks.py:262] loss = 2.1443596, step = 21000\n",
      "I0819 14:53:53.092424 139671745042304 tpu_estimator.py:598] Stop infeed thread controller\n",
      "I0819 14:53:53.093556 139671745042304 tpu_estimator.py:430] Shutting down InfeedController thread.\n",
      "I0819 14:53:53.101339 139670352070400 tpu_estimator.py:425] InfeedController received shutdown signal, stopping.\n",
      "I0819 14:53:53.103812 139670352070400 tpu_estimator.py:530] Infeed thread finished, shutting down.\n",
      "I0819 14:53:53.106794 139671745042304 error_handling.py:96] infeed marked as finished\n",
      "I0819 14:53:53.113659 139671745042304 tpu_estimator.py:602] Stop output thread controller\n",
      "I0819 14:53:53.115206 139671745042304 tpu_estimator.py:430] Shutting down OutfeedController thread.\n",
      "I0819 14:53:53.117098 139670343677696 tpu_estimator.py:425] OutfeedController received shutdown signal, stopping.\n",
      "I0819 14:53:53.119098 139670343677696 tpu_estimator.py:541] Outfeed thread finished, shutting down.\n",
      "I0819 14:53:53.121945 139671745042304 error_handling.py:96] outfeed marked as finished\n",
      "I0819 14:53:53.124799 139671745042304 tpu_estimator.py:606] Shutdown TPU system.\n",
      "I0819 14:53:54.843036 139671745042304 estimator.py:368] Loss for final step: 2.1443596.\n",
      "I0819 14:53:54.844446 139671745042304 error_handling.py:96] training_loop marked as finished\n",
      "I0819 14:53:55.033669 139671745042304 estimator.py:1145] Calling model_fn.\n"
     ],
     "name": "stderr"
    },
    {
     "output_type": "stream",
     "text": [
      "Finished training step 21000\n",
      "(128, 1, 1, 2048)\n"
     ],
     "name": "stdout"
    },
    {
     "output_type": "stream",
     "text": [
      "I0819 14:53:59.040529 139671745042304 estimator.py:1147] Done calling model_fn.\n",
      "I0819 14:53:59.067866 139671745042304 evaluation.py:255] Starting evaluation at 2019-08-19T14:53:59Z\n",
      "I0819 14:53:59.069036 139671745042304 tpu_estimator.py:499] TPU job name tpu_worker\n",
      "I0819 14:53:59.723571 139671745042304 monitored_session.py:240] Graph was finalized.\n",
      "I0819 14:53:59.785825 139671745042304 saver.py:1280] Restoring parameters from gs://tputestingmnist/FUNIT/FUNIT_only_gen_11/model.ckpt-21000\n",
      "I0819 14:54:06.009526 139671745042304 session_manager.py:500] Running local_init_op.\n",
      "I0819 14:54:06.114078 139671745042304 session_manager.py:502] Done running local_init_op.\n",
      "I0819 14:54:06.347582 139671745042304 tpu_estimator.py:557] Init TPU system\n",
      "I0819 14:54:14.241882 139671745042304 tpu_estimator.py:566] Initialized TPU in 7 seconds\n",
      "I0819 14:54:14.243951 139670343677696 tpu_estimator.py:514] Starting infeed thread controller.\n",
      "I0819 14:54:14.245358 139670335284992 tpu_estimator.py:533] Starting outfeed thread controller.\n",
      "I0819 14:54:14.372706 139671745042304 util.py:98] Initialized dataset iterators in 0 seconds\n",
      "I0819 14:54:14.470520 139671745042304 tpu_estimator.py:590] Enqueue next (1) batch(es) of data to infeed.\n",
      "I0819 14:54:14.471772 139671745042304 tpu_estimator.py:594] Dequeue next (1) batch(es) of data from outfeed.\n",
      "I0819 14:54:23.832490 139670335284992 tpu_estimator.py:275] Outfeed finished for iteration (0, 0)\n",
      "I0819 14:54:23.834679 139671745042304 evaluation.py:167] Evaluation [1/1]\n",
      "I0819 14:54:23.836995 139671745042304 tpu_estimator.py:598] Stop infeed thread controller\n",
      "I0819 14:54:23.838443 139671745042304 tpu_estimator.py:430] Shutting down InfeedController thread.\n",
      "I0819 14:54:23.840731 139670343677696 tpu_estimator.py:425] InfeedController received shutdown signal, stopping.\n",
      "I0819 14:54:23.843004 139670343677696 tpu_estimator.py:530] Infeed thread finished, shutting down.\n",
      "I0819 14:54:23.845488 139671745042304 error_handling.py:96] infeed marked as finished\n",
      "I0819 14:54:23.847824 139671745042304 tpu_estimator.py:602] Stop output thread controller\n",
      "I0819 14:54:23.850334 139671745042304 tpu_estimator.py:430] Shutting down OutfeedController thread.\n",
      "I0819 14:54:23.854263 139670335284992 tpu_estimator.py:425] OutfeedController received shutdown signal, stopping.\n",
      "I0819 14:54:23.855324 139670335284992 tpu_estimator.py:541] Outfeed thread finished, shutting down.\n",
      "I0819 14:54:23.857145 139671745042304 error_handling.py:96] outfeed marked as finished\n",
      "I0819 14:54:23.858099 139671745042304 tpu_estimator.py:606] Shutdown TPU system.\n",
      "I0819 14:54:24.498589 139671745042304 evaluation.py:275] Finished evaluation at 2019-08-19-14:54:24\n",
      "I0819 14:54:24.500087 139671745042304 estimator.py:2039] Saving dict for global step 21000: discriminator_gen_accuracy = 0.6455078, discriminator_loss = 1.4015759, discriminator_real_accuracy = 0.3515625, generator_loss = 0.8483244, global_step = 21000, loss = 2.2619853\n",
      "I0819 14:54:24.821158 139671745042304 estimator.py:2099] Saving 'checkpoint_path' summary for global step 21000: gs://tputestingmnist/FUNIT/FUNIT_only_gen_11/model.ckpt-21000\n",
      "I0819 14:54:25.111760 139671745042304 error_handling.py:96] evaluation_loop marked as finished\n",
      "I0819 14:54:25.296710 139671745042304 estimator.py:1145] Calling model_fn.\n",
      "I0819 14:54:25.298672 139671745042304 tpu_estimator.py:2965] Running infer on CPU\n"
     ],
     "name": "stderr"
    },
    {
     "output_type": "stream",
     "text": [
      "Finished evaluating\n",
      "{'discriminator_gen_accuracy': 0.6455078, 'discriminator_loss': 1.4015759, 'discriminator_real_accuracy': 0.3515625, 'generator_loss': 0.8483244, 'loss': 2.2619853, 'global_step': 21000}\n",
      "(12, 1, 1, 2048)\n"
     ],
     "name": "stdout"
    },
    {
     "output_type": "stream",
     "text": [
      "I0819 14:54:25.967446 139671745042304 estimator.py:1147] Done calling model_fn.\n",
      "I0819 14:54:26.180109 139671745042304 monitored_session.py:240] Graph was finalized.\n",
      "I0819 14:54:26.251110 139671745042304 saver.py:1280] Restoring parameters from gs://tputestingmnist/FUNIT/FUNIT_only_gen_11/model.ckpt-21000\n",
      "I0819 14:54:26.642008 139671745042304 session_manager.py:500] Running local_init_op.\n",
      "I0819 14:54:26.659411 139671745042304 session_manager.py:502] Done running local_init_op.\n",
      "I0819 14:54:26.984354 139671745042304 error_handling.py:96] prediction_loop marked as finished\n",
      "I0819 14:54:26.985697 139671745042304 error_handling.py:96] prediction_loop marked as finished\n"
     ],
     "name": "stderr"
    },
    {
     "output_type": "stream",
     "text": [
      "Finished generating images\n"
     ],
     "name": "stdout"
    },
    {
     "output_type": "stream",
     "text": [
      "I0819 14:54:28.039632 139671745042304 estimator.py:1145] Calling model_fn.\n"
     ],
     "name": "stderr"
    },
    {
     "output_type": "stream",
     "text": [
      "(128, 1, 1, 2048)\n"
     ],
     "name": "stdout"
    },
    {
     "output_type": "stream",
     "text": [
      "I0819 14:54:36.284756 139671745042304 basic_session_run_hooks.py:541] Create CheckpointSaverHook.\n",
      "I0819 14:54:36.505902 139671745042304 estimator.py:1147] Done calling model_fn.\n",
      "I0819 14:54:36.507519 139671745042304 tpu_estimator.py:499] TPU job name tpu_worker\n",
      "I0819 14:54:37.264678 139671745042304 monitored_session.py:240] Graph was finalized.\n",
      "I0819 14:54:37.417165 139671745042304 saver.py:1280] Restoring parameters from gs://tputestingmnist/FUNIT/FUNIT_only_gen_11/model.ckpt-21000\n",
      "I0819 14:54:43.091649 139671745042304 session_manager.py:500] Running local_init_op.\n",
      "I0819 14:54:43.535043 139671745042304 session_manager.py:502] Done running local_init_op.\n",
      "I0819 14:54:48.545244 139671745042304 basic_session_run_hooks.py:606] Saving checkpoints for 21000 into gs://tputestingmnist/FUNIT/FUNIT_only_gen_11/model.ckpt.\n",
      "I0819 14:55:05.285571 139671745042304 util.py:98] Initialized dataset iterators in 0 seconds\n",
      "I0819 14:55:05.287230 139671745042304 session_support.py:332] Installing graceful shutdown hook.\n",
      "I0819 14:55:05.293001 139671745042304 session_support.py:82] Creating heartbeat manager for ['/job:tpu_worker/replica:0/task:0/device:CPU:0']\n",
      "I0819 14:55:05.297823 139671745042304 session_support.py:105] Configuring worker heartbeat: shutdown_mode: WAIT_FOR_COORDINATOR\n",
      "\n",
      "I0819 14:55:05.303030 139671745042304 tpu_estimator.py:557] Init TPU system\n",
      "I0819 14:55:15.649624 139671745042304 tpu_estimator.py:566] Initialized TPU in 10 seconds\n",
      "I0819 14:55:15.651308 139670343677696 tpu_estimator.py:514] Starting infeed thread controller.\n",
      "I0819 14:55:15.652973 139670335284992 tpu_estimator.py:533] Starting outfeed thread controller.\n",
      "I0819 14:55:16.067951 139671745042304 tpu_estimator.py:590] Enqueue next (1000) batch(es) of data to infeed.\n",
      "I0819 14:55:16.069489 139671745042304 tpu_estimator.py:594] Dequeue next (1000) batch(es) of data from outfeed.\n",
      "I0819 14:55:41.716282 139670335284992 tpu_estimator.py:275] Outfeed finished for iteration (0, 0)\n",
      "I0819 14:56:41.963042 139670335284992 tpu_estimator.py:275] Outfeed finished for iteration (0, 207)\n",
      "I0819 14:57:42.211061 139670335284992 tpu_estimator.py:275] Outfeed finished for iteration (0, 414)\n",
      "I0819 14:58:42.460024 139670335284992 tpu_estimator.py:275] Outfeed finished for iteration (0, 621)\n",
      "I0819 14:59:42.709001 139670335284992 tpu_estimator.py:275] Outfeed finished for iteration (0, 828)\n",
      "I0819 15:00:33.160377 139671745042304 basic_session_run_hooks.py:606] Saving checkpoints for 22000 into gs://tputestingmnist/FUNIT/FUNIT_only_gen_11/model.ckpt.\n",
      "I0819 15:00:49.798711 139671745042304 basic_session_run_hooks.py:262] loss = 66.14215, step = 22000\n",
      "I0819 15:00:51.208391 139671745042304 tpu_estimator.py:598] Stop infeed thread controller\n",
      "I0819 15:00:51.209612 139671745042304 tpu_estimator.py:430] Shutting down InfeedController thread.\n",
      "I0819 15:00:51.215739 139670343677696 tpu_estimator.py:425] InfeedController received shutdown signal, stopping.\n",
      "I0819 15:00:51.217501 139670343677696 tpu_estimator.py:530] Infeed thread finished, shutting down.\n",
      "I0819 15:00:51.219004 139671745042304 error_handling.py:96] infeed marked as finished\n",
      "I0819 15:00:51.221338 139671745042304 tpu_estimator.py:602] Stop output thread controller\n",
      "I0819 15:00:51.224364 139671745042304 tpu_estimator.py:430] Shutting down OutfeedController thread.\n",
      "I0819 15:00:51.227485 139670335284992 tpu_estimator.py:425] OutfeedController received shutdown signal, stopping.\n",
      "I0819 15:00:51.228423 139670335284992 tpu_estimator.py:541] Outfeed thread finished, shutting down.\n",
      "I0819 15:00:51.231468 139671745042304 error_handling.py:96] outfeed marked as finished\n",
      "I0819 15:00:51.232480 139671745042304 tpu_estimator.py:606] Shutdown TPU system.\n",
      "I0819 15:00:53.019163 139671745042304 estimator.py:368] Loss for final step: 66.14215.\n",
      "I0819 15:00:53.020324 139671745042304 error_handling.py:96] training_loop marked as finished\n",
      "I0819 15:00:53.205357 139671745042304 estimator.py:1145] Calling model_fn.\n"
     ],
     "name": "stderr"
    },
    {
     "output_type": "stream",
     "text": [
      "Finished training step 22000\n",
      "(128, 1, 1, 2048)\n"
     ],
     "name": "stdout"
    },
    {
     "output_type": "stream",
     "text": [
      "I0819 15:00:57.275481 139671745042304 estimator.py:1147] Done calling model_fn.\n",
      "I0819 15:00:57.301044 139671745042304 evaluation.py:255] Starting evaluation at 2019-08-19T15:00:57Z\n",
      "I0819 15:00:57.302132 139671745042304 tpu_estimator.py:499] TPU job name tpu_worker\n",
      "I0819 15:00:57.645947 139671745042304 monitored_session.py:240] Graph was finalized.\n",
      "I0819 15:00:57.727201 139671745042304 saver.py:1280] Restoring parameters from gs://tputestingmnist/FUNIT/FUNIT_only_gen_11/model.ckpt-22000\n",
      "I0819 15:01:03.050889 139671745042304 session_manager.py:500] Running local_init_op.\n",
      "I0819 15:01:03.158842 139671745042304 session_manager.py:502] Done running local_init_op.\n",
      "I0819 15:01:03.419217 139671745042304 tpu_estimator.py:557] Init TPU system\n",
      "I0819 15:01:11.069501 139671745042304 tpu_estimator.py:566] Initialized TPU in 7 seconds\n",
      "I0819 15:01:11.071436 139670343677696 tpu_estimator.py:514] Starting infeed thread controller.\n",
      "I0819 15:01:11.081766 139670335284992 tpu_estimator.py:533] Starting outfeed thread controller.\n",
      "I0819 15:01:11.207714 139671745042304 util.py:98] Initialized dataset iterators in 0 seconds\n",
      "I0819 15:01:11.303860 139671745042304 tpu_estimator.py:590] Enqueue next (1) batch(es) of data to infeed.\n",
      "I0819 15:01:11.305285 139671745042304 tpu_estimator.py:594] Dequeue next (1) batch(es) of data from outfeed.\n",
      "I0819 15:01:21.072736 139670335284992 tpu_estimator.py:275] Outfeed finished for iteration (0, 0)\n",
      "I0819 15:01:21.079909 139671745042304 evaluation.py:167] Evaluation [1/1]\n",
      "I0819 15:01:21.081379 139671745042304 tpu_estimator.py:598] Stop infeed thread controller\n",
      "I0819 15:01:21.082499 139671745042304 tpu_estimator.py:430] Shutting down InfeedController thread.\n",
      "I0819 15:01:21.085690 139670343677696 tpu_estimator.py:425] InfeedController received shutdown signal, stopping.\n",
      "I0819 15:01:21.088056 139670343677696 tpu_estimator.py:530] Infeed thread finished, shutting down.\n",
      "I0819 15:01:21.090131 139671745042304 error_handling.py:96] infeed marked as finished\n",
      "I0819 15:01:21.092198 139671745042304 tpu_estimator.py:602] Stop output thread controller\n",
      "I0819 15:01:21.093919 139671745042304 tpu_estimator.py:430] Shutting down OutfeedController thread.\n",
      "I0819 15:01:21.098486 139670335284992 tpu_estimator.py:425] OutfeedController received shutdown signal, stopping.\n",
      "I0819 15:01:21.100694 139670335284992 tpu_estimator.py:541] Outfeed thread finished, shutting down.\n",
      "I0819 15:01:21.102204 139671745042304 error_handling.py:96] outfeed marked as finished\n",
      "I0819 15:01:21.103209 139671745042304 tpu_estimator.py:606] Shutdown TPU system.\n",
      "I0819 15:01:21.781412 139671745042304 evaluation.py:275] Finished evaluation at 2019-08-19-15:01:21\n",
      "I0819 15:01:21.782887 139671745042304 estimator.py:2039] Saving dict for global step 22000: discriminator_gen_accuracy = 0.71875, discriminator_loss = 42.937443, discriminator_real_accuracy = 0.6621094, generator_loss = 54.618763, global_step = 22000, loss = 101.17934\n",
      "I0819 15:01:22.099137 139671745042304 estimator.py:2099] Saving 'checkpoint_path' summary for global step 22000: gs://tputestingmnist/FUNIT/FUNIT_only_gen_11/model.ckpt-22000\n",
      "I0819 15:01:22.374426 139671745042304 error_handling.py:96] evaluation_loop marked as finished\n",
      "I0819 15:01:22.546957 139671745042304 estimator.py:1145] Calling model_fn.\n",
      "I0819 15:01:22.548424 139671745042304 tpu_estimator.py:2965] Running infer on CPU\n"
     ],
     "name": "stderr"
    },
    {
     "output_type": "stream",
     "text": [
      "Finished evaluating\n",
      "{'discriminator_gen_accuracy': 0.71875, 'discriminator_loss': 42.937443, 'discriminator_real_accuracy': 0.6621094, 'generator_loss': 54.618763, 'loss': 101.17934, 'global_step': 22000}\n",
      "(12, 1, 1, 2048)\n"
     ],
     "name": "stdout"
    },
    {
     "output_type": "stream",
     "text": [
      "I0819 15:01:23.681957 139671745042304 estimator.py:1147] Done calling model_fn.\n",
      "I0819 15:01:23.902271 139671745042304 monitored_session.py:240] Graph was finalized.\n",
      "I0819 15:01:23.951571 139671745042304 saver.py:1280] Restoring parameters from gs://tputestingmnist/FUNIT/FUNIT_only_gen_11/model.ckpt-22000\n",
      "I0819 15:01:24.347646 139671745042304 session_manager.py:500] Running local_init_op.\n",
      "I0819 15:01:24.368400 139671745042304 session_manager.py:502] Done running local_init_op.\n",
      "I0819 15:01:24.738209 139671745042304 error_handling.py:96] prediction_loop marked as finished\n",
      "I0819 15:01:24.739545 139671745042304 error_handling.py:96] prediction_loop marked as finished\n"
     ],
     "name": "stderr"
    },
    {
     "output_type": "stream",
     "text": [
      "Finished generating images\n"
     ],
     "name": "stdout"
    },
    {
     "output_type": "stream",
     "text": [
      "I0819 15:01:25.811815 139671745042304 estimator.py:1145] Calling model_fn.\n"
     ],
     "name": "stderr"
    },
    {
     "output_type": "stream",
     "text": [
      "(128, 1, 1, 2048)\n"
     ],
     "name": "stdout"
    },
    {
     "output_type": "stream",
     "text": [
      "I0819 15:01:34.179119 139671745042304 basic_session_run_hooks.py:541] Create CheckpointSaverHook.\n",
      "I0819 15:01:34.407430 139671745042304 estimator.py:1147] Done calling model_fn.\n",
      "I0819 15:01:34.408942 139671745042304 tpu_estimator.py:499] TPU job name tpu_worker\n",
      "I0819 15:01:35.174234 139671745042304 monitored_session.py:240] Graph was finalized.\n",
      "I0819 15:01:35.366076 139671745042304 saver.py:1280] Restoring parameters from gs://tputestingmnist/FUNIT/FUNIT_only_gen_11/model.ckpt-22000\n",
      "I0819 15:01:41.378991 139671745042304 session_manager.py:500] Running local_init_op.\n",
      "I0819 15:01:41.819199 139671745042304 session_manager.py:502] Done running local_init_op.\n",
      "I0819 15:01:46.817963 139671745042304 basic_session_run_hooks.py:606] Saving checkpoints for 22000 into gs://tputestingmnist/FUNIT/FUNIT_only_gen_11/model.ckpt.\n",
      "I0819 15:02:03.905831 139671745042304 util.py:98] Initialized dataset iterators in 0 seconds\n",
      "I0819 15:02:03.907249 139671745042304 session_support.py:332] Installing graceful shutdown hook.\n",
      "I0819 15:02:03.918990 139671745042304 session_support.py:82] Creating heartbeat manager for ['/job:tpu_worker/replica:0/task:0/device:CPU:0']\n",
      "I0819 15:02:03.922755 139671745042304 session_support.py:105] Configuring worker heartbeat: shutdown_mode: WAIT_FOR_COORDINATOR\n",
      "\n",
      "I0819 15:02:03.928920 139671745042304 tpu_estimator.py:557] Init TPU system\n",
      "I0819 15:02:14.000258 139671745042304 tpu_estimator.py:566] Initialized TPU in 10 seconds\n",
      "I0819 15:02:14.002191 139670343677696 tpu_estimator.py:514] Starting infeed thread controller.\n",
      "I0819 15:02:14.002909 139670335284992 tpu_estimator.py:533] Starting outfeed thread controller.\n",
      "I0819 15:02:14.437817 139671745042304 tpu_estimator.py:590] Enqueue next (1000) batch(es) of data to infeed.\n",
      "I0819 15:02:14.439088 139671745042304 tpu_estimator.py:594] Dequeue next (1000) batch(es) of data from outfeed.\n",
      "I0819 15:02:39.712019 139670335284992 tpu_estimator.py:275] Outfeed finished for iteration (0, 0)\n",
      "I0819 15:03:39.959398 139670335284992 tpu_estimator.py:275] Outfeed finished for iteration (0, 207)\n",
      "I0819 15:04:40.207952 139670335284992 tpu_estimator.py:275] Outfeed finished for iteration (0, 414)\n",
      "I0819 15:05:40.456712 139670335284992 tpu_estimator.py:275] Outfeed finished for iteration (0, 621)\n",
      "I0819 15:06:40.705935 139670335284992 tpu_estimator.py:275] Outfeed finished for iteration (0, 828)\n",
      "I0819 15:07:31.161457 139671745042304 basic_session_run_hooks.py:606] Saving checkpoints for 23000 into gs://tputestingmnist/FUNIT/FUNIT_only_gen_11/model.ckpt.\n",
      "I0819 15:07:47.943767 139671745042304 basic_session_run_hooks.py:262] loss = 39.52844, step = 23000\n",
      "I0819 15:07:49.068323 139671745042304 tpu_estimator.py:598] Stop infeed thread controller\n",
      "I0819 15:07:49.069646 139671745042304 tpu_estimator.py:430] Shutting down InfeedController thread.\n",
      "I0819 15:07:49.077414 139670343677696 tpu_estimator.py:425] InfeedController received shutdown signal, stopping.\n",
      "I0819 15:07:49.081248 139670343677696 tpu_estimator.py:530] Infeed thread finished, shutting down.\n",
      "I0819 15:07:49.084839 139671745042304 error_handling.py:96] infeed marked as finished\n",
      "I0819 15:07:49.088595 139671745042304 tpu_estimator.py:602] Stop output thread controller\n",
      "I0819 15:07:49.094453 139671745042304 tpu_estimator.py:430] Shutting down OutfeedController thread.\n",
      "I0819 15:07:49.098794 139670335284992 tpu_estimator.py:425] OutfeedController received shutdown signal, stopping.\n",
      "I0819 15:07:49.103493 139670335284992 tpu_estimator.py:541] Outfeed thread finished, shutting down.\n",
      "I0819 15:07:49.108475 139671745042304 error_handling.py:96] outfeed marked as finished\n",
      "I0819 15:07:49.112714 139671745042304 tpu_estimator.py:606] Shutdown TPU system.\n",
      "I0819 15:07:50.861810 139671745042304 estimator.py:368] Loss for final step: 39.52844.\n",
      "I0819 15:07:50.863267 139671745042304 error_handling.py:96] training_loop marked as finished\n"
     ],
     "name": "stderr"
    },
    {
     "output_type": "stream",
     "text": [
      "Finished training step 23000\n"
     ],
     "name": "stdout"
    },
    {
     "output_type": "stream",
     "text": [
      "I0819 15:07:51.087109 139671745042304 estimator.py:1145] Calling model_fn.\n"
     ],
     "name": "stderr"
    },
    {
     "output_type": "stream",
     "text": [
      "(128, 1, 1, 2048)\n"
     ],
     "name": "stdout"
    },
    {
     "output_type": "stream",
     "text": [
      "I0819 15:07:55.329792 139671745042304 estimator.py:1147] Done calling model_fn.\n",
      "I0819 15:07:55.358831 139671745042304 evaluation.py:255] Starting evaluation at 2019-08-19T15:07:55Z\n",
      "I0819 15:07:55.359933 139671745042304 tpu_estimator.py:499] TPU job name tpu_worker\n",
      "I0819 15:07:56.072195 139671745042304 monitored_session.py:240] Graph was finalized.\n",
      "I0819 15:07:56.151757 139671745042304 saver.py:1280] Restoring parameters from gs://tputestingmnist/FUNIT/FUNIT_only_gen_11/model.ckpt-23000\n",
      "I0819 15:08:01.185225 139671745042304 session_manager.py:500] Running local_init_op.\n",
      "I0819 15:08:01.289410 139671745042304 session_manager.py:502] Done running local_init_op.\n",
      "I0819 15:08:01.531297 139671745042304 tpu_estimator.py:557] Init TPU system\n",
      "I0819 15:08:09.365566 139671745042304 tpu_estimator.py:566] Initialized TPU in 7 seconds\n",
      "I0819 15:08:09.367526 139670385907456 tpu_estimator.py:514] Starting infeed thread controller.\n",
      "I0819 15:08:09.369447 139670343677696 tpu_estimator.py:533] Starting outfeed thread controller.\n",
      "I0819 15:08:09.493111 139671745042304 util.py:98] Initialized dataset iterators in 0 seconds\n",
      "I0819 15:08:09.593516 139671745042304 tpu_estimator.py:590] Enqueue next (1) batch(es) of data to infeed.\n",
      "I0819 15:08:09.594854 139671745042304 tpu_estimator.py:594] Dequeue next (1) batch(es) of data from outfeed.\n",
      "I0819 15:08:19.213366 139670343677696 tpu_estimator.py:275] Outfeed finished for iteration (0, 0)\n",
      "I0819 15:08:19.214956 139671745042304 evaluation.py:167] Evaluation [1/1]\n",
      "I0819 15:08:19.218639 139671745042304 tpu_estimator.py:598] Stop infeed thread controller\n",
      "I0819 15:08:19.233242 139671745042304 tpu_estimator.py:430] Shutting down InfeedController thread.\n",
      "I0819 15:08:19.235620 139670385907456 tpu_estimator.py:425] InfeedController received shutdown signal, stopping.\n",
      "I0819 15:08:19.237418 139670385907456 tpu_estimator.py:530] Infeed thread finished, shutting down.\n",
      "I0819 15:08:19.241195 139671745042304 error_handling.py:96] infeed marked as finished\n",
      "I0819 15:08:19.244088 139671745042304 tpu_estimator.py:602] Stop output thread controller\n",
      "I0819 15:08:19.245574 139671745042304 tpu_estimator.py:430] Shutting down OutfeedController thread.\n",
      "I0819 15:08:19.248315 139670343677696 tpu_estimator.py:425] OutfeedController received shutdown signal, stopping.\n",
      "I0819 15:08:19.249517 139670343677696 tpu_estimator.py:541] Outfeed thread finished, shutting down.\n",
      "I0819 15:08:19.252798 139671745042304 error_handling.py:96] outfeed marked as finished\n",
      "I0819 15:08:19.254968 139671745042304 tpu_estimator.py:606] Shutdown TPU system.\n",
      "I0819 15:08:19.910072 139671745042304 evaluation.py:275] Finished evaluation at 2019-08-19-15:08:19\n",
      "I0819 15:08:19.911484 139671745042304 estimator.py:2039] Saving dict for global step 23000: discriminator_gen_accuracy = 1.0, discriminator_loss = 4.7568474, discriminator_real_accuracy = 0.8613281, generator_loss = 30.089338, global_step = 23000, loss = 36.04188\n",
      "I0819 15:08:20.273221 139671745042304 estimator.py:2099] Saving 'checkpoint_path' summary for global step 23000: gs://tputestingmnist/FUNIT/FUNIT_only_gen_11/model.ckpt-23000\n",
      "I0819 15:08:20.600148 139671745042304 error_handling.py:96] evaluation_loop marked as finished\n",
      "I0819 15:08:20.779143 139671745042304 estimator.py:1145] Calling model_fn.\n",
      "I0819 15:08:20.780624 139671745042304 tpu_estimator.py:2965] Running infer on CPU\n"
     ],
     "name": "stderr"
    },
    {
     "output_type": "stream",
     "text": [
      "Finished evaluating\n",
      "{'discriminator_gen_accuracy': 1.0, 'discriminator_loss': 4.7568474, 'discriminator_real_accuracy': 0.8613281, 'generator_loss': 30.089338, 'loss': 36.04188, 'global_step': 23000}\n",
      "(12, 1, 1, 2048)\n"
     ],
     "name": "stdout"
    },
    {
     "output_type": "stream",
     "text": [
      "I0819 15:08:21.506586 139671745042304 estimator.py:1147] Done calling model_fn.\n",
      "I0819 15:08:21.728411 139671745042304 monitored_session.py:240] Graph was finalized.\n",
      "I0819 15:08:21.802553 139671745042304 saver.py:1280] Restoring parameters from gs://tputestingmnist/FUNIT/FUNIT_only_gen_11/model.ckpt-23000\n",
      "I0819 15:08:22.182648 139671745042304 session_manager.py:500] Running local_init_op.\n",
      "I0819 15:08:22.200703 139671745042304 session_manager.py:502] Done running local_init_op.\n",
      "I0819 15:08:22.552786 139671745042304 error_handling.py:96] prediction_loop marked as finished\n",
      "I0819 15:08:22.554265 139671745042304 error_handling.py:96] prediction_loop marked as finished\n"
     ],
     "name": "stderr"
    },
    {
     "output_type": "stream",
     "text": [
      "Finished generating images\n"
     ],
     "name": "stdout"
    },
    {
     "output_type": "stream",
     "text": [
      "I0819 15:08:23.931077 139671745042304 estimator.py:1145] Calling model_fn.\n"
     ],
     "name": "stderr"
    },
    {
     "output_type": "stream",
     "text": [
      "(128, 1, 1, 2048)\n"
     ],
     "name": "stdout"
    },
    {
     "output_type": "stream",
     "text": [
      "I0819 15:08:32.711253 139671745042304 basic_session_run_hooks.py:541] Create CheckpointSaverHook.\n",
      "I0819 15:08:32.944383 139671745042304 estimator.py:1147] Done calling model_fn.\n",
      "I0819 15:08:32.945918 139671745042304 tpu_estimator.py:499] TPU job name tpu_worker\n",
      "I0819 15:08:33.726395 139671745042304 monitored_session.py:240] Graph was finalized.\n",
      "I0819 15:08:33.896978 139671745042304 saver.py:1280] Restoring parameters from gs://tputestingmnist/FUNIT/FUNIT_only_gen_11/model.ckpt-23000\n",
      "I0819 15:08:40.854089 139671745042304 session_manager.py:500] Running local_init_op.\n",
      "I0819 15:08:41.288543 139671745042304 session_manager.py:502] Done running local_init_op.\n",
      "I0819 15:08:46.317786 139671745042304 basic_session_run_hooks.py:606] Saving checkpoints for 23000 into gs://tputestingmnist/FUNIT/FUNIT_only_gen_11/model.ckpt.\n",
      "I0819 15:09:05.341160 139671745042304 util.py:98] Initialized dataset iterators in 0 seconds\n",
      "I0819 15:09:05.342691 139671745042304 session_support.py:332] Installing graceful shutdown hook.\n",
      "I0819 15:09:05.353956 139671745042304 session_support.py:82] Creating heartbeat manager for ['/job:tpu_worker/replica:0/task:0/device:CPU:0']\n",
      "I0819 15:09:05.360110 139671745042304 session_support.py:105] Configuring worker heartbeat: shutdown_mode: WAIT_FOR_COORDINATOR\n",
      "\n",
      "I0819 15:09:05.366675 139671745042304 tpu_estimator.py:557] Init TPU system\n",
      "I0819 15:09:15.566192 139671745042304 tpu_estimator.py:566] Initialized TPU in 10 seconds\n",
      "I0819 15:09:15.568043 139670343677696 tpu_estimator.py:514] Starting infeed thread controller.\n",
      "I0819 15:09:15.570749 139670335284992 tpu_estimator.py:533] Starting outfeed thread controller.\n",
      "I0819 15:09:16.019234 139671745042304 tpu_estimator.py:590] Enqueue next (1000) batch(es) of data to infeed.\n",
      "I0819 15:09:16.021249 139671745042304 tpu_estimator.py:594] Dequeue next (1000) batch(es) of data from outfeed.\n",
      "I0819 15:09:41.361143 139670335284992 tpu_estimator.py:275] Outfeed finished for iteration (0, 0)\n",
      "I0819 15:10:41.610346 139670335284992 tpu_estimator.py:275] Outfeed finished for iteration (0, 207)\n",
      "I0819 15:11:41.856917 139670335284992 tpu_estimator.py:275] Outfeed finished for iteration (0, 414)\n",
      "I0819 15:12:42.105548 139670335284992 tpu_estimator.py:275] Outfeed finished for iteration (0, 621)\n",
      "I0819 15:13:42.354433 139670335284992 tpu_estimator.py:275] Outfeed finished for iteration (0, 828)\n",
      "I0819 15:14:32.793489 139671745042304 basic_session_run_hooks.py:606] Saving checkpoints for 24000 into gs://tputestingmnist/FUNIT/FUNIT_only_gen_11/model.ckpt.\n",
      "I0819 15:14:50.763270 139671745042304 basic_session_run_hooks.py:262] loss = 35.503223, step = 24000\n",
      "I0819 15:14:52.326493 139671745042304 tpu_estimator.py:598] Stop infeed thread controller\n",
      "I0819 15:14:52.327908 139671745042304 tpu_estimator.py:430] Shutting down InfeedController thread.\n",
      "I0819 15:14:52.336572 139670343677696 tpu_estimator.py:425] InfeedController received shutdown signal, stopping.\n",
      "I0819 15:14:52.338493 139670343677696 tpu_estimator.py:530] Infeed thread finished, shutting down.\n",
      "I0819 15:14:52.350200 139671745042304 error_handling.py:96] infeed marked as finished\n",
      "I0819 15:14:52.352389 139671745042304 tpu_estimator.py:602] Stop output thread controller\n",
      "I0819 15:14:52.353912 139671745042304 tpu_estimator.py:430] Shutting down OutfeedController thread.\n",
      "I0819 15:14:52.355674 139670335284992 tpu_estimator.py:425] OutfeedController received shutdown signal, stopping.\n",
      "I0819 15:14:52.357162 139670335284992 tpu_estimator.py:541] Outfeed thread finished, shutting down.\n",
      "I0819 15:14:52.359070 139671745042304 error_handling.py:96] outfeed marked as finished\n",
      "I0819 15:14:52.360354 139671745042304 tpu_estimator.py:606] Shutdown TPU system.\n",
      "I0819 15:14:54.370602 139671745042304 estimator.py:368] Loss for final step: 35.503223.\n",
      "I0819 15:14:54.371993 139671745042304 error_handling.py:96] training_loop marked as finished\n",
      "I0819 15:14:54.562215 139671745042304 estimator.py:1145] Calling model_fn.\n"
     ],
     "name": "stderr"
    },
    {
     "output_type": "stream",
     "text": [
      "Finished training step 24000\n",
      "(128, 1, 1, 2048)\n"
     ],
     "name": "stdout"
    },
    {
     "output_type": "stream",
     "text": [
      "I0819 15:14:58.689714 139671745042304 estimator.py:1147] Done calling model_fn.\n",
      "I0819 15:14:58.717035 139671745042304 evaluation.py:255] Starting evaluation at 2019-08-19T15:14:58Z\n",
      "I0819 15:14:58.718657 139671745042304 tpu_estimator.py:499] TPU job name tpu_worker\n",
      "I0819 15:14:59.062151 139671745042304 monitored_session.py:240] Graph was finalized.\n",
      "I0819 15:14:59.111999 139671745042304 saver.py:1280] Restoring parameters from gs://tputestingmnist/FUNIT/FUNIT_only_gen_11/model.ckpt-24000\n",
      "I0819 15:15:04.691586 139671745042304 session_manager.py:500] Running local_init_op.\n",
      "I0819 15:15:04.817734 139671745042304 session_manager.py:502] Done running local_init_op.\n",
      "I0819 15:15:05.090210 139671745042304 tpu_estimator.py:557] Init TPU system\n",
      "I0819 15:15:12.792160 139671745042304 tpu_estimator.py:566] Initialized TPU in 7 seconds\n",
      "I0819 15:15:12.793944 139670343677696 tpu_estimator.py:514] Starting infeed thread controller.\n",
      "I0819 15:15:12.794561 139670335284992 tpu_estimator.py:533] Starting outfeed thread controller.\n",
      "I0819 15:15:12.924669 139671745042304 util.py:98] Initialized dataset iterators in 0 seconds\n",
      "I0819 15:15:13.031098 139671745042304 tpu_estimator.py:590] Enqueue next (1) batch(es) of data to infeed.\n",
      "I0819 15:15:13.032351 139671745042304 tpu_estimator.py:594] Dequeue next (1) batch(es) of data from outfeed.\n",
      "I0819 15:15:22.484808 139670335284992 tpu_estimator.py:275] Outfeed finished for iteration (0, 0)\n",
      "I0819 15:15:22.486502 139671745042304 evaluation.py:167] Evaluation [1/1]\n",
      "I0819 15:15:22.487860 139671745042304 tpu_estimator.py:598] Stop infeed thread controller\n",
      "I0819 15:15:22.488967 139671745042304 tpu_estimator.py:430] Shutting down InfeedController thread.\n",
      "I0819 15:15:22.490213 139670343677696 tpu_estimator.py:425] InfeedController received shutdown signal, stopping.\n",
      "I0819 15:15:22.491191 139670343677696 tpu_estimator.py:530] Infeed thread finished, shutting down.\n",
      "I0819 15:15:22.493195 139671745042304 error_handling.py:96] infeed marked as finished\n",
      "I0819 15:15:22.494723 139671745042304 tpu_estimator.py:602] Stop output thread controller\n",
      "I0819 15:15:22.496987 139671745042304 tpu_estimator.py:430] Shutting down OutfeedController thread.\n",
      "I0819 15:15:22.499093 139670335284992 tpu_estimator.py:425] OutfeedController received shutdown signal, stopping.\n",
      "I0819 15:15:22.503957 139670335284992 tpu_estimator.py:541] Outfeed thread finished, shutting down.\n",
      "I0819 15:15:22.506069 139671745042304 error_handling.py:96] outfeed marked as finished\n",
      "I0819 15:15:22.507243 139671745042304 tpu_estimator.py:606] Shutdown TPU system.\n",
      "I0819 15:15:23.184545 139671745042304 evaluation.py:275] Finished evaluation at 2019-08-19-15:15:23\n",
      "I0819 15:15:23.186040 139671745042304 estimator.py:2039] Saving dict for global step 24000: discriminator_gen_accuracy = 1.0, discriminator_loss = 3.2516465, discriminator_real_accuracy = 0.99609375, generator_loss = 31.045547, global_step = 24000, loss = 32.72916\n",
      "I0819 15:15:23.528689 139671745042304 estimator.py:2099] Saving 'checkpoint_path' summary for global step 24000: gs://tputestingmnist/FUNIT/FUNIT_only_gen_11/model.ckpt-24000\n",
      "I0819 15:15:23.877510 139671745042304 error_handling.py:96] evaluation_loop marked as finished\n"
     ],
     "name": "stderr"
    },
    {
     "output_type": "stream",
     "text": [
      "Finished evaluating\n",
      "{'discriminator_gen_accuracy': 1.0, 'discriminator_loss': 3.2516465, 'discriminator_real_accuracy': 0.99609375, 'generator_loss': 31.045547, 'loss': 32.72916, 'global_step': 24000}\n"
     ],
     "name": "stdout"
    },
    {
     "output_type": "stream",
     "text": [
      "I0819 15:15:24.091508 139671745042304 estimator.py:1145] Calling model_fn.\n",
      "I0819 15:15:24.092728 139671745042304 tpu_estimator.py:2965] Running infer on CPU\n"
     ],
     "name": "stderr"
    },
    {
     "output_type": "stream",
     "text": [
      "(12, 1, 1, 2048)\n"
     ],
     "name": "stdout"
    },
    {
     "output_type": "stream",
     "text": [
      "I0819 15:15:25.174497 139671745042304 estimator.py:1147] Done calling model_fn.\n",
      "I0819 15:15:25.392456 139671745042304 monitored_session.py:240] Graph was finalized.\n",
      "I0819 15:15:25.462153 139671745042304 saver.py:1280] Restoring parameters from gs://tputestingmnist/FUNIT/FUNIT_only_gen_11/model.ckpt-24000\n",
      "I0819 15:15:25.875540 139671745042304 session_manager.py:500] Running local_init_op.\n",
      "I0819 15:15:25.901558 139671745042304 session_manager.py:502] Done running local_init_op.\n",
      "I0819 15:15:26.284977 139671745042304 error_handling.py:96] prediction_loop marked as finished\n",
      "I0819 15:15:26.286149 139671745042304 error_handling.py:96] prediction_loop marked as finished\n"
     ],
     "name": "stderr"
    },
    {
     "output_type": "stream",
     "text": [
      "Finished generating images\n"
     ],
     "name": "stdout"
    },
    {
     "output_type": "stream",
     "text": [
      "I0819 15:15:27.421364 139671745042304 estimator.py:1145] Calling model_fn.\n"
     ],
     "name": "stderr"
    },
    {
     "output_type": "stream",
     "text": [
      "(128, 1, 1, 2048)\n"
     ],
     "name": "stdout"
    },
    {
     "output_type": "stream",
     "text": [
      "I0819 15:15:35.622564 139671745042304 basic_session_run_hooks.py:541] Create CheckpointSaverHook.\n",
      "I0819 15:15:35.845277 139671745042304 estimator.py:1147] Done calling model_fn.\n",
      "I0819 15:15:35.846668 139671745042304 tpu_estimator.py:499] TPU job name tpu_worker\n",
      "I0819 15:15:36.604722 139671745042304 monitored_session.py:240] Graph was finalized.\n",
      "I0819 15:15:36.772542 139671745042304 saver.py:1280] Restoring parameters from gs://tputestingmnist/FUNIT/FUNIT_only_gen_11/model.ckpt-24000\n",
      "I0819 15:15:43.583879 139671745042304 session_manager.py:500] Running local_init_op.\n",
      "I0819 15:15:43.993787 139671745042304 session_manager.py:502] Done running local_init_op.\n",
      "I0819 15:15:48.870970 139671745042304 basic_session_run_hooks.py:606] Saving checkpoints for 24000 into gs://tputestingmnist/FUNIT/FUNIT_only_gen_11/model.ckpt.\n",
      "I0819 15:16:06.563341 139671745042304 util.py:98] Initialized dataset iterators in 0 seconds\n",
      "I0819 15:16:06.564768 139671745042304 session_support.py:332] Installing graceful shutdown hook.\n",
      "I0819 15:16:06.573131 139671745042304 session_support.py:82] Creating heartbeat manager for ['/job:tpu_worker/replica:0/task:0/device:CPU:0']\n",
      "I0819 15:16:06.579170 139671745042304 session_support.py:105] Configuring worker heartbeat: shutdown_mode: WAIT_FOR_COORDINATOR\n",
      "\n",
      "I0819 15:16:06.588713 139671745042304 tpu_estimator.py:557] Init TPU system\n",
      "I0819 15:16:16.829684 139671745042304 tpu_estimator.py:566] Initialized TPU in 10 seconds\n",
      "I0819 15:16:16.831453 139670343677696 tpu_estimator.py:514] Starting infeed thread controller.\n",
      "I0819 15:16:16.832110 139670335284992 tpu_estimator.py:533] Starting outfeed thread controller.\n",
      "I0819 15:16:17.249578 139671745042304 tpu_estimator.py:590] Enqueue next (1000) batch(es) of data to infeed.\n",
      "I0819 15:16:17.250950 139671745042304 tpu_estimator.py:594] Dequeue next (1000) batch(es) of data from outfeed.\n",
      "I0819 15:16:42.785923 139670335284992 tpu_estimator.py:275] Outfeed finished for iteration (0, 0)\n",
      "I0819 15:17:43.034222 139670335284992 tpu_estimator.py:275] Outfeed finished for iteration (0, 207)\n",
      "I0819 15:18:43.283654 139670335284992 tpu_estimator.py:275] Outfeed finished for iteration (0, 414)\n",
      "I0819 15:19:43.532060 139670335284992 tpu_estimator.py:275] Outfeed finished for iteration (0, 621)\n",
      "I0819 15:20:43.780800 139670335284992 tpu_estimator.py:275] Outfeed finished for iteration (0, 828)\n",
      "I0819 15:21:34.216266 139671745042304 basic_session_run_hooks.py:606] Saving checkpoints for 25000 into gs://tputestingmnist/FUNIT/FUNIT_only_gen_11/model.ckpt.\n",
      "I0819 15:21:51.155708 139671745042304 basic_session_run_hooks.py:262] loss = 32.848106, step = 25000\n",
      "I0819 15:21:52.593515 139671745042304 tpu_estimator.py:598] Stop infeed thread controller\n",
      "I0819 15:21:52.594842 139671745042304 tpu_estimator.py:430] Shutting down InfeedController thread.\n",
      "I0819 15:21:52.595749 139670343677696 tpu_estimator.py:425] InfeedController received shutdown signal, stopping.\n",
      "I0819 15:21:52.596930 139670343677696 tpu_estimator.py:530] Infeed thread finished, shutting down.\n",
      "I0819 15:21:52.610923 139671745042304 error_handling.py:96] infeed marked as finished\n",
      "I0819 15:21:52.612762 139671745042304 tpu_estimator.py:602] Stop output thread controller\n",
      "I0819 15:21:52.614096 139671745042304 tpu_estimator.py:430] Shutting down OutfeedController thread.\n",
      "I0819 15:21:52.616229 139670335284992 tpu_estimator.py:425] OutfeedController received shutdown signal, stopping.\n",
      "I0819 15:21:52.617452 139670335284992 tpu_estimator.py:541] Outfeed thread finished, shutting down.\n",
      "I0819 15:21:52.619751 139671745042304 error_handling.py:96] outfeed marked as finished\n",
      "I0819 15:21:52.621299 139671745042304 tpu_estimator.py:606] Shutdown TPU system.\n",
      "I0819 15:21:54.433716 139671745042304 estimator.py:368] Loss for final step: 32.848106.\n",
      "I0819 15:21:54.435141 139671745042304 error_handling.py:96] training_loop marked as finished\n",
      "I0819 15:21:54.625565 139671745042304 estimator.py:1145] Calling model_fn.\n"
     ],
     "name": "stderr"
    },
    {
     "output_type": "stream",
     "text": [
      "Finished training step 25000\n",
      "(128, 1, 1, 2048)\n"
     ],
     "name": "stdout"
    },
    {
     "output_type": "stream",
     "text": [
      "I0819 15:21:58.752461 139671745042304 estimator.py:1147] Done calling model_fn.\n",
      "I0819 15:21:58.778934 139671745042304 evaluation.py:255] Starting evaluation at 2019-08-19T15:21:58Z\n",
      "I0819 15:21:58.780397 139671745042304 tpu_estimator.py:499] TPU job name tpu_worker\n",
      "I0819 15:21:59.123862 139671745042304 monitored_session.py:240] Graph was finalized.\n",
      "I0819 15:21:59.172744 139671745042304 saver.py:1280] Restoring parameters from gs://tputestingmnist/FUNIT/FUNIT_only_gen_11/model.ckpt-25000\n",
      "I0819 15:22:07.087272 139671745042304 session_manager.py:500] Running local_init_op.\n",
      "I0819 15:22:07.203409 139671745042304 session_manager.py:502] Done running local_init_op.\n",
      "I0819 15:22:07.482562 139671745042304 tpu_estimator.py:557] Init TPU system\n",
      "I0819 15:22:15.374352 139671745042304 tpu_estimator.py:566] Initialized TPU in 7 seconds\n",
      "I0819 15:22:15.376491 139670343677696 tpu_estimator.py:514] Starting infeed thread controller.\n",
      "I0819 15:22:15.378543 139670335284992 tpu_estimator.py:533] Starting outfeed thread controller.\n",
      "I0819 15:22:15.514344 139671745042304 util.py:98] Initialized dataset iterators in 0 seconds\n",
      "I0819 15:22:15.631094 139671745042304 tpu_estimator.py:590] Enqueue next (1) batch(es) of data to infeed.\n",
      "I0819 15:22:15.632452 139671745042304 tpu_estimator.py:594] Dequeue next (1) batch(es) of data from outfeed.\n",
      "I0819 15:22:25.038273 139670335284992 tpu_estimator.py:275] Outfeed finished for iteration (0, 0)\n",
      "I0819 15:22:25.040729 139671745042304 evaluation.py:167] Evaluation [1/1]\n",
      "I0819 15:22:25.045557 139671745042304 tpu_estimator.py:598] Stop infeed thread controller\n",
      "I0819 15:22:25.047330 139671745042304 tpu_estimator.py:430] Shutting down InfeedController thread.\n",
      "I0819 15:22:25.049069 139670343677696 tpu_estimator.py:425] InfeedController received shutdown signal, stopping.\n",
      "I0819 15:22:25.051207 139670343677696 tpu_estimator.py:530] Infeed thread finished, shutting down.\n",
      "I0819 15:22:25.054120 139671745042304 error_handling.py:96] infeed marked as finished\n",
      "I0819 15:22:25.055591 139671745042304 tpu_estimator.py:602] Stop output thread controller\n",
      "I0819 15:22:25.057660 139671745042304 tpu_estimator.py:430] Shutting down OutfeedController thread.\n",
      "I0819 15:22:25.061483 139670335284992 tpu_estimator.py:425] OutfeedController received shutdown signal, stopping.\n",
      "I0819 15:22:25.064871 139670335284992 tpu_estimator.py:541] Outfeed thread finished, shutting down.\n",
      "I0819 15:22:25.066560 139671745042304 error_handling.py:96] outfeed marked as finished\n",
      "I0819 15:22:25.067694 139671745042304 tpu_estimator.py:606] Shutdown TPU system.\n",
      "I0819 15:22:25.716780 139671745042304 evaluation.py:275] Finished evaluation at 2019-08-19-15:22:25\n",
      "I0819 15:22:25.718182 139671745042304 estimator.py:2039] Saving dict for global step 25000: discriminator_gen_accuracy = 1.0, discriminator_loss = 1.5100567, discriminator_real_accuracy = 0.9394531, generator_loss = 31.365929, global_step = 25000, loss = 32.791687\n",
      "I0819 15:22:26.062355 139671745042304 estimator.py:2099] Saving 'checkpoint_path' summary for global step 25000: gs://tputestingmnist/FUNIT/FUNIT_only_gen_11/model.ckpt-25000\n",
      "I0819 15:22:26.331996 139671745042304 error_handling.py:96] evaluation_loop marked as finished\n",
      "I0819 15:22:26.507344 139671745042304 estimator.py:1145] Calling model_fn.\n",
      "I0819 15:22:26.508615 139671745042304 tpu_estimator.py:2965] Running infer on CPU\n"
     ],
     "name": "stderr"
    },
    {
     "output_type": "stream",
     "text": [
      "Finished evaluating\n",
      "{'discriminator_gen_accuracy': 1.0, 'discriminator_loss': 1.5100567, 'discriminator_real_accuracy': 0.9394531, 'generator_loss': 31.365929, 'loss': 32.791687, 'global_step': 25000}\n",
      "(12, 1, 1, 2048)\n"
     ],
     "name": "stdout"
    },
    {
     "output_type": "stream",
     "text": [
      "I0819 15:22:27.658862 139671745042304 estimator.py:1147] Done calling model_fn.\n",
      "I0819 15:22:27.875746 139671745042304 monitored_session.py:240] Graph was finalized.\n",
      "I0819 15:22:27.939296 139671745042304 saver.py:1280] Restoring parameters from gs://tputestingmnist/FUNIT/FUNIT_only_gen_11/model.ckpt-25000\n",
      "I0819 15:22:28.326026 139671745042304 session_manager.py:500] Running local_init_op.\n",
      "I0819 15:22:28.351971 139671745042304 session_manager.py:502] Done running local_init_op.\n",
      "I0819 15:22:28.700656 139671745042304 error_handling.py:96] prediction_loop marked as finished\n",
      "I0819 15:22:28.702144 139671745042304 error_handling.py:96] prediction_loop marked as finished\n"
     ],
     "name": "stderr"
    },
    {
     "output_type": "stream",
     "text": [
      "Finished generating images\n"
     ],
     "name": "stdout"
    },
    {
     "output_type": "stream",
     "text": [
      "I0819 15:22:29.805438 139671745042304 estimator.py:1145] Calling model_fn.\n"
     ],
     "name": "stderr"
    },
    {
     "output_type": "stream",
     "text": [
      "(128, 1, 1, 2048)\n"
     ],
     "name": "stdout"
    },
    {
     "output_type": "stream",
     "text": [
      "I0819 15:22:37.923961 139671745042304 basic_session_run_hooks.py:541] Create CheckpointSaverHook.\n",
      "I0819 15:22:38.569941 139671745042304 estimator.py:1147] Done calling model_fn.\n",
      "I0819 15:22:38.571433 139671745042304 tpu_estimator.py:499] TPU job name tpu_worker\n",
      "I0819 15:22:39.352172 139671745042304 monitored_session.py:240] Graph was finalized.\n",
      "I0819 15:22:39.516009 139671745042304 saver.py:1280] Restoring parameters from gs://tputestingmnist/FUNIT/FUNIT_only_gen_11/model.ckpt-25000\n",
      "I0819 15:22:49.114340 139671745042304 session_manager.py:500] Running local_init_op.\n",
      "I0819 15:22:49.547030 139671745042304 session_manager.py:502] Done running local_init_op.\n",
      "I0819 15:22:54.578724 139671745042304 basic_session_run_hooks.py:606] Saving checkpoints for 25000 into gs://tputestingmnist/FUNIT/FUNIT_only_gen_11/model.ckpt.\n",
      "I0819 15:23:15.228447 139671745042304 util.py:98] Initialized dataset iterators in 0 seconds\n",
      "I0819 15:23:15.229854 139671745042304 session_support.py:332] Installing graceful shutdown hook.\n",
      "I0819 15:23:15.240823 139671745042304 session_support.py:82] Creating heartbeat manager for ['/job:tpu_worker/replica:0/task:0/device:CPU:0']\n",
      "I0819 15:23:15.248411 139671745042304 session_support.py:105] Configuring worker heartbeat: shutdown_mode: WAIT_FOR_COORDINATOR\n",
      "\n",
      "I0819 15:23:15.257184 139671745042304 tpu_estimator.py:557] Init TPU system\n",
      "I0819 15:23:25.429647 139671745042304 tpu_estimator.py:566] Initialized TPU in 10 seconds\n",
      "I0819 15:23:25.431324 139670343677696 tpu_estimator.py:514] Starting infeed thread controller.\n",
      "I0819 15:23:25.432766 139670335284992 tpu_estimator.py:533] Starting outfeed thread controller.\n",
      "I0819 15:23:25.871809 139671745042304 tpu_estimator.py:590] Enqueue next (1000) batch(es) of data to infeed.\n",
      "I0819 15:23:25.873014 139671745042304 tpu_estimator.py:594] Dequeue next (1000) batch(es) of data from outfeed.\n",
      "I0819 15:23:51.649266 139670335284992 tpu_estimator.py:275] Outfeed finished for iteration (0, 0)\n",
      "I0819 15:24:51.896582 139670335284992 tpu_estimator.py:275] Outfeed finished for iteration (0, 207)\n",
      "I0819 15:25:52.146581 139670335284992 tpu_estimator.py:275] Outfeed finished for iteration (0, 414)\n",
      "I0819 15:26:52.395185 139670335284992 tpu_estimator.py:275] Outfeed finished for iteration (0, 621)\n",
      "I0819 15:27:52.643717 139670335284992 tpu_estimator.py:275] Outfeed finished for iteration (0, 828)\n",
      "I0819 15:28:43.092161 139671745042304 basic_session_run_hooks.py:606] Saving checkpoints for 26000 into gs://tputestingmnist/FUNIT/FUNIT_only_gen_11/model.ckpt.\n",
      "I0819 15:29:02.034118 139671745042304 basic_session_run_hooks.py:262] loss = 309.7047, step = 26000\n",
      "I0819 15:29:03.920300 139671745042304 tpu_estimator.py:598] Stop infeed thread controller\n",
      "I0819 15:29:03.921666 139671745042304 tpu_estimator.py:430] Shutting down InfeedController thread.\n",
      "I0819 15:29:03.922870 139670343677696 tpu_estimator.py:425] InfeedController received shutdown signal, stopping.\n",
      "I0819 15:29:03.931168 139670343677696 tpu_estimator.py:530] Infeed thread finished, shutting down.\n",
      "I0819 15:29:03.934577 139671745042304 error_handling.py:96] infeed marked as finished\n",
      "I0819 15:29:03.936713 139671745042304 tpu_estimator.py:602] Stop output thread controller\n",
      "I0819 15:29:03.939184 139671745042304 tpu_estimator.py:430] Shutting down OutfeedController thread.\n",
      "I0819 15:29:03.941820 139670335284992 tpu_estimator.py:425] OutfeedController received shutdown signal, stopping.\n",
      "I0819 15:29:03.942829 139670335284992 tpu_estimator.py:541] Outfeed thread finished, shutting down.\n",
      "I0819 15:29:03.946563 139671745042304 error_handling.py:96] outfeed marked as finished\n",
      "I0819 15:29:03.947419 139671745042304 tpu_estimator.py:606] Shutdown TPU system.\n",
      "I0819 15:29:05.797048 139671745042304 estimator.py:368] Loss for final step: 309.7047.\n",
      "I0819 15:29:05.798472 139671745042304 error_handling.py:96] training_loop marked as finished\n",
      "I0819 15:29:05.979243 139671745042304 estimator.py:1145] Calling model_fn.\n"
     ],
     "name": "stderr"
    },
    {
     "output_type": "stream",
     "text": [
      "Finished training step 26000\n",
      "(128, 1, 1, 2048)\n"
     ],
     "name": "stdout"
    },
    {
     "output_type": "stream",
     "text": [
      "I0819 15:29:10.039168 139671745042304 estimator.py:1147] Done calling model_fn.\n",
      "I0819 15:29:10.063791 139671745042304 evaluation.py:255] Starting evaluation at 2019-08-19T15:29:10Z\n",
      "I0819 15:29:10.064818 139671745042304 tpu_estimator.py:499] TPU job name tpu_worker\n",
      "I0819 15:29:10.399745 139671745042304 monitored_session.py:240] Graph was finalized.\n",
      "I0819 15:29:10.531264 139671745042304 saver.py:1280] Restoring parameters from gs://tputestingmnist/FUNIT/FUNIT_only_gen_11/model.ckpt-26000\n",
      "I0819 15:29:15.745940 139671745042304 session_manager.py:500] Running local_init_op.\n",
      "I0819 15:29:15.871108 139671745042304 session_manager.py:502] Done running local_init_op.\n",
      "I0819 15:29:16.146139 139671745042304 tpu_estimator.py:557] Init TPU system\n",
      "I0819 15:29:23.826755 139671745042304 tpu_estimator.py:566] Initialized TPU in 7 seconds\n",
      "I0819 15:29:23.831792 139670335284992 tpu_estimator.py:514] Starting infeed thread controller.\n",
      "I0819 15:29:23.835731 139670326892288 tpu_estimator.py:533] Starting outfeed thread controller.\n",
      "I0819 15:29:23.967990 139671745042304 util.py:98] Initialized dataset iterators in 0 seconds\n",
      "I0819 15:29:24.081162 139671745042304 tpu_estimator.py:590] Enqueue next (1) batch(es) of data to infeed.\n",
      "I0819 15:29:24.082663 139671745042304 tpu_estimator.py:594] Dequeue next (1) batch(es) of data from outfeed.\n",
      "I0819 15:29:33.703547 139670326892288 tpu_estimator.py:275] Outfeed finished for iteration (0, 0)\n",
      "I0819 15:29:33.707059 139671745042304 evaluation.py:167] Evaluation [1/1]\n",
      "I0819 15:29:33.708491 139671745042304 tpu_estimator.py:598] Stop infeed thread controller\n",
      "I0819 15:29:33.709533 139671745042304 tpu_estimator.py:430] Shutting down InfeedController thread.\n",
      "I0819 15:29:33.710751 139670335284992 tpu_estimator.py:425] InfeedController received shutdown signal, stopping.\n",
      "I0819 15:29:33.712212 139670335284992 tpu_estimator.py:530] Infeed thread finished, shutting down.\n",
      "I0819 15:29:33.728432 139671745042304 error_handling.py:96] infeed marked as finished\n",
      "I0819 15:29:33.732787 139671745042304 tpu_estimator.py:602] Stop output thread controller\n",
      "I0819 15:29:33.737165 139671745042304 tpu_estimator.py:430] Shutting down OutfeedController thread.\n",
      "I0819 15:29:33.740632 139670326892288 tpu_estimator.py:425] OutfeedController received shutdown signal, stopping.\n",
      "I0819 15:29:33.743766 139670326892288 tpu_estimator.py:541] Outfeed thread finished, shutting down.\n",
      "I0819 15:29:33.745015 139671745042304 error_handling.py:96] outfeed marked as finished\n",
      "I0819 15:29:33.746905 139671745042304 tpu_estimator.py:606] Shutdown TPU system.\n",
      "I0819 15:29:34.432151 139671745042304 evaluation.py:275] Finished evaluation at 2019-08-19-15:29:34\n",
      "I0819 15:29:34.433564 139671745042304 estimator.py:2039] Saving dict for global step 26000: discriminator_gen_accuracy = 0.71972656, discriminator_loss = 149.13406, discriminator_real_accuracy = 0.3466797, generator_loss = 111.486404, global_step = 26000, loss = 276.1808\n",
      "I0819 15:29:34.730765 139671745042304 estimator.py:2099] Saving 'checkpoint_path' summary for global step 26000: gs://tputestingmnist/FUNIT/FUNIT_only_gen_11/model.ckpt-26000\n",
      "I0819 15:29:35.024533 139671745042304 error_handling.py:96] evaluation_loop marked as finished\n",
      "I0819 15:29:35.213562 139671745042304 estimator.py:1145] Calling model_fn.\n",
      "I0819 15:29:35.215519 139671745042304 tpu_estimator.py:2965] Running infer on CPU\n"
     ],
     "name": "stderr"
    },
    {
     "output_type": "stream",
     "text": [
      "Finished evaluating\n",
      "{'discriminator_gen_accuracy': 0.71972656, 'discriminator_loss': 149.13406, 'discriminator_real_accuracy': 0.3466797, 'generator_loss': 111.486404, 'loss': 276.1808, 'global_step': 26000}\n",
      "(12, 1, 1, 2048)\n"
     ],
     "name": "stdout"
    },
    {
     "output_type": "stream",
     "text": [
      "I0819 15:29:35.888219 139671745042304 estimator.py:1147] Done calling model_fn.\n",
      "I0819 15:29:36.103027 139671745042304 monitored_session.py:240] Graph was finalized.\n",
      "I0819 15:29:36.171232 139671745042304 saver.py:1280] Restoring parameters from gs://tputestingmnist/FUNIT/FUNIT_only_gen_11/model.ckpt-26000\n",
      "I0819 15:29:36.551953 139671745042304 session_manager.py:500] Running local_init_op.\n",
      "I0819 15:29:36.579823 139671745042304 session_manager.py:502] Done running local_init_op.\n",
      "I0819 15:29:36.915709 139671745042304 error_handling.py:96] prediction_loop marked as finished\n",
      "I0819 15:29:36.916999 139671745042304 error_handling.py:96] prediction_loop marked as finished\n"
     ],
     "name": "stderr"
    },
    {
     "output_type": "stream",
     "text": [
      "Finished generating images\n"
     ],
     "name": "stdout"
    },
    {
     "output_type": "stream",
     "text": [
      "I0819 15:29:38.580419 139671745042304 estimator.py:1145] Calling model_fn.\n"
     ],
     "name": "stderr"
    },
    {
     "output_type": "stream",
     "text": [
      "(128, 1, 1, 2048)\n"
     ],
     "name": "stdout"
    },
    {
     "output_type": "stream",
     "text": [
      "I0819 15:29:46.380279 139671745042304 basic_session_run_hooks.py:541] Create CheckpointSaverHook.\n",
      "I0819 15:29:46.607539 139671745042304 estimator.py:1147] Done calling model_fn.\n",
      "I0819 15:29:46.608800 139671745042304 tpu_estimator.py:499] TPU job name tpu_worker\n",
      "I0819 15:29:47.776319 139671745042304 monitored_session.py:240] Graph was finalized.\n",
      "I0819 15:29:47.909082 139671745042304 saver.py:1280] Restoring parameters from gs://tputestingmnist/FUNIT/FUNIT_only_gen_11/model.ckpt-26000\n",
      "I0819 15:29:54.834749 139671745042304 session_manager.py:500] Running local_init_op.\n",
      "I0819 15:29:55.239540 139671745042304 session_manager.py:502] Done running local_init_op.\n",
      "I0819 15:30:00.124281 139671745042304 basic_session_run_hooks.py:606] Saving checkpoints for 26000 into gs://tputestingmnist/FUNIT/FUNIT_only_gen_11/model.ckpt.\n",
      "I0819 15:30:19.800580 139671745042304 util.py:98] Initialized dataset iterators in 0 seconds\n",
      "I0819 15:30:19.802564 139671745042304 session_support.py:332] Installing graceful shutdown hook.\n",
      "I0819 15:30:19.815112 139671745042304 session_support.py:82] Creating heartbeat manager for ['/job:tpu_worker/replica:0/task:0/device:CPU:0']\n",
      "I0819 15:30:19.819574 139671745042304 session_support.py:105] Configuring worker heartbeat: shutdown_mode: WAIT_FOR_COORDINATOR\n",
      "\n",
      "I0819 15:30:19.826252 139671745042304 tpu_estimator.py:557] Init TPU system\n",
      "I0819 15:30:30.238230 139671745042304 tpu_estimator.py:566] Initialized TPU in 10 seconds\n",
      "I0819 15:30:30.240365 139670335284992 tpu_estimator.py:514] Starting infeed thread controller.\n",
      "I0819 15:30:30.242333 139670326892288 tpu_estimator.py:533] Starting outfeed thread controller.\n",
      "I0819 15:30:30.709112 139671745042304 tpu_estimator.py:590] Enqueue next (1000) batch(es) of data to infeed.\n",
      "I0819 15:30:30.710876 139671745042304 tpu_estimator.py:594] Dequeue next (1000) batch(es) of data from outfeed.\n",
      "I0819 15:30:56.002632 139670326892288 tpu_estimator.py:275] Outfeed finished for iteration (0, 0)\n",
      "I0819 15:31:56.250781 139670326892288 tpu_estimator.py:275] Outfeed finished for iteration (0, 207)\n",
      "I0819 15:32:56.498967 139670326892288 tpu_estimator.py:275] Outfeed finished for iteration (0, 414)\n",
      "I0819 15:33:56.746966 139670326892288 tpu_estimator.py:275] Outfeed finished for iteration (0, 621)\n",
      "I0819 15:34:56.996082 139670326892288 tpu_estimator.py:275] Outfeed finished for iteration (0, 828)\n",
      "I0819 15:35:47.450959 139671745042304 basic_session_run_hooks.py:606] Saving checkpoints for 27000 into gs://tputestingmnist/FUNIT/FUNIT_only_gen_11/model.ckpt.\n",
      "I0819 15:36:05.591455 139671745042304 basic_session_run_hooks.py:262] loss = 19.628778, step = 27000\n",
      "I0819 15:36:07.155452 139671745042304 tpu_estimator.py:598] Stop infeed thread controller\n",
      "I0819 15:36:07.157872 139671745042304 tpu_estimator.py:430] Shutting down InfeedController thread.\n",
      "I0819 15:36:07.161255 139670335284992 tpu_estimator.py:425] InfeedController received shutdown signal, stopping.\n",
      "I0819 15:36:07.161935 139670335284992 tpu_estimator.py:530] Infeed thread finished, shutting down.\n",
      "I0819 15:36:07.163147 139671745042304 error_handling.py:96] infeed marked as finished\n",
      "I0819 15:36:07.163969 139671745042304 tpu_estimator.py:602] Stop output thread controller\n",
      "I0819 15:36:07.165149 139671745042304 tpu_estimator.py:430] Shutting down OutfeedController thread.\n",
      "I0819 15:36:07.166408 139670326892288 tpu_estimator.py:425] OutfeedController received shutdown signal, stopping.\n",
      "I0819 15:36:07.168448 139670326892288 tpu_estimator.py:541] Outfeed thread finished, shutting down.\n",
      "I0819 15:36:07.170205 139671745042304 error_handling.py:96] outfeed marked as finished\n",
      "I0819 15:36:07.171439 139671745042304 tpu_estimator.py:606] Shutdown TPU system.\n",
      "I0819 15:36:09.011751 139671745042304 estimator.py:368] Loss for final step: 19.628778.\n",
      "I0819 15:36:09.013353 139671745042304 error_handling.py:96] training_loop marked as finished\n",
      "I0819 15:36:09.212517 139671745042304 estimator.py:1145] Calling model_fn.\n"
     ],
     "name": "stderr"
    },
    {
     "output_type": "stream",
     "text": [
      "Finished training step 27000\n",
      "(128, 1, 1, 2048)\n"
     ],
     "name": "stdout"
    },
    {
     "output_type": "stream",
     "text": [
      "I0819 15:36:12.912532 139671745042304 estimator.py:1147] Done calling model_fn.\n",
      "I0819 15:36:12.941009 139671745042304 evaluation.py:255] Starting evaluation at 2019-08-19T15:36:12Z\n",
      "I0819 15:36:12.942171 139671745042304 tpu_estimator.py:499] TPU job name tpu_worker\n",
      "I0819 15:36:13.301116 139671745042304 monitored_session.py:240] Graph was finalized.\n",
      "I0819 15:36:13.560894 139671745042304 saver.py:1280] Restoring parameters from gs://tputestingmnist/FUNIT/FUNIT_only_gen_11/model.ckpt-27000\n",
      "I0819 15:36:19.867506 139671745042304 session_manager.py:500] Running local_init_op.\n",
      "I0819 15:36:19.996129 139671745042304 session_manager.py:502] Done running local_init_op.\n",
      "I0819 15:36:20.279055 139671745042304 tpu_estimator.py:557] Init TPU system\n",
      "I0819 15:36:28.195588 139671745042304 tpu_estimator.py:566] Initialized TPU in 7 seconds\n",
      "I0819 15:36:28.197491 139670319027968 tpu_estimator.py:514] Starting infeed thread controller.\n",
      "I0819 15:36:28.203823 139670310635264 tpu_estimator.py:533] Starting outfeed thread controller.\n",
      "I0819 15:36:28.339469 139671745042304 util.py:98] Initialized dataset iterators in 0 seconds\n",
      "I0819 15:36:28.447083 139671745042304 tpu_estimator.py:590] Enqueue next (1) batch(es) of data to infeed.\n",
      "I0819 15:36:28.448361 139671745042304 tpu_estimator.py:594] Dequeue next (1) batch(es) of data from outfeed.\n",
      "I0819 15:36:38.048623 139670310635264 tpu_estimator.py:275] Outfeed finished for iteration (0, 0)\n",
      "I0819 15:36:38.052584 139671745042304 evaluation.py:167] Evaluation [1/1]\n",
      "I0819 15:36:38.055235 139671745042304 tpu_estimator.py:598] Stop infeed thread controller\n",
      "I0819 15:36:38.058034 139671745042304 tpu_estimator.py:430] Shutting down InfeedController thread.\n",
      "I0819 15:36:38.059343 139670319027968 tpu_estimator.py:425] InfeedController received shutdown signal, stopping.\n",
      "I0819 15:36:38.061131 139670319027968 tpu_estimator.py:530] Infeed thread finished, shutting down.\n",
      "I0819 15:36:38.066918 139671745042304 error_handling.py:96] infeed marked as finished\n",
      "I0819 15:36:38.068421 139671745042304 tpu_estimator.py:602] Stop output thread controller\n",
      "I0819 15:36:38.069809 139671745042304 tpu_estimator.py:430] Shutting down OutfeedController thread.\n",
      "I0819 15:36:38.071220 139670310635264 tpu_estimator.py:425] OutfeedController received shutdown signal, stopping.\n",
      "I0819 15:36:38.072389 139670310635264 tpu_estimator.py:541] Outfeed thread finished, shutting down.\n",
      "I0819 15:36:38.074064 139671745042304 error_handling.py:96] outfeed marked as finished\n",
      "I0819 15:36:38.076000 139671745042304 tpu_estimator.py:606] Shutdown TPU system.\n",
      "I0819 15:36:38.781099 139671745042304 evaluation.py:275] Finished evaluation at 2019-08-19-15:36:38\n",
      "I0819 15:36:38.782440 139671745042304 estimator.py:2039] Saving dict for global step 27000: discriminator_gen_accuracy = 1.0, discriminator_loss = 0.73856723, discriminator_real_accuracy = 0.83496094, generator_loss = 21.661993, global_step = 27000, loss = 23.597477\n",
      "I0819 15:36:39.091593 139671745042304 estimator.py:2099] Saving 'checkpoint_path' summary for global step 27000: gs://tputestingmnist/FUNIT/FUNIT_only_gen_11/model.ckpt-27000\n",
      "I0819 15:36:39.434518 139671745042304 error_handling.py:96] evaluation_loop marked as finished\n",
      "I0819 15:36:39.597992 139671745042304 estimator.py:1145] Calling model_fn.\n",
      "I0819 15:36:39.599158 139671745042304 tpu_estimator.py:2965] Running infer on CPU\n"
     ],
     "name": "stderr"
    },
    {
     "output_type": "stream",
     "text": [
      "Finished evaluating\n",
      "{'discriminator_gen_accuracy': 1.0, 'discriminator_loss': 0.73856723, 'discriminator_real_accuracy': 0.83496094, 'generator_loss': 21.661993, 'loss': 23.597477, 'global_step': 27000}\n",
      "(12, 1, 1, 2048)\n"
     ],
     "name": "stdout"
    },
    {
     "output_type": "stream",
     "text": [
      "I0819 15:36:41.065702 139671745042304 estimator.py:1147] Done calling model_fn.\n",
      "I0819 15:36:41.282284 139671745042304 monitored_session.py:240] Graph was finalized.\n",
      "I0819 15:36:41.356988 139671745042304 saver.py:1280] Restoring parameters from gs://tputestingmnist/FUNIT/FUNIT_only_gen_11/model.ckpt-27000\n",
      "I0819 15:36:41.751924 139671745042304 session_manager.py:500] Running local_init_op.\n",
      "I0819 15:36:41.769801 139671745042304 session_manager.py:502] Done running local_init_op.\n",
      "I0819 15:36:42.124645 139671745042304 error_handling.py:96] prediction_loop marked as finished\n",
      "I0819 15:36:42.125959 139671745042304 error_handling.py:96] prediction_loop marked as finished\n"
     ],
     "name": "stderr"
    },
    {
     "output_type": "stream",
     "text": [
      "Finished generating images\n"
     ],
     "name": "stdout"
    },
    {
     "output_type": "stream",
     "text": [
      "I0819 15:36:43.176853 139671745042304 estimator.py:1145] Calling model_fn.\n"
     ],
     "name": "stderr"
    },
    {
     "output_type": "stream",
     "text": [
      "(128, 1, 1, 2048)\n"
     ],
     "name": "stdout"
    },
    {
     "output_type": "stream",
     "text": [
      "I0819 15:36:51.573343 139671745042304 basic_session_run_hooks.py:541] Create CheckpointSaverHook.\n",
      "I0819 15:36:51.799829 139671745042304 estimator.py:1147] Done calling model_fn.\n",
      "I0819 15:36:51.801261 139671745042304 tpu_estimator.py:499] TPU job name tpu_worker\n",
      "I0819 15:36:52.576749 139671745042304 monitored_session.py:240] Graph was finalized.\n",
      "I0819 15:36:52.752827 139671745042304 saver.py:1280] Restoring parameters from gs://tputestingmnist/FUNIT/FUNIT_only_gen_11/model.ckpt-27000\n",
      "I0819 15:36:58.456017 139671745042304 session_manager.py:500] Running local_init_op.\n",
      "I0819 15:36:58.874022 139671745042304 session_manager.py:502] Done running local_init_op.\n",
      "I0819 15:37:04.009757 139671745042304 basic_session_run_hooks.py:606] Saving checkpoints for 27000 into gs://tputestingmnist/FUNIT/FUNIT_only_gen_11/model.ckpt.\n",
      "I0819 15:37:23.247526 139671745042304 util.py:98] Initialized dataset iterators in 0 seconds\n",
      "I0819 15:37:23.248784 139671745042304 session_support.py:332] Installing graceful shutdown hook.\n",
      "I0819 15:37:23.261451 139671745042304 session_support.py:82] Creating heartbeat manager for ['/job:tpu_worker/replica:0/task:0/device:CPU:0']\n",
      "I0819 15:37:23.268214 139671745042304 session_support.py:105] Configuring worker heartbeat: shutdown_mode: WAIT_FOR_COORDINATOR\n",
      "\n",
      "I0819 15:37:23.277037 139671745042304 tpu_estimator.py:557] Init TPU system\n",
      "I0819 15:37:33.495712 139671745042304 tpu_estimator.py:566] Initialized TPU in 10 seconds\n",
      "I0819 15:37:33.497369 139670318241536 tpu_estimator.py:514] Starting infeed thread controller.\n",
      "I0819 15:37:33.507484 139670309848832 tpu_estimator.py:533] Starting outfeed thread controller.\n",
      "I0819 15:37:33.938837 139671745042304 tpu_estimator.py:590] Enqueue next (1000) batch(es) of data to infeed.\n",
      "I0819 15:37:33.940240 139671745042304 tpu_estimator.py:594] Dequeue next (1000) batch(es) of data from outfeed.\n",
      "I0819 15:37:59.592056 139670309848832 tpu_estimator.py:275] Outfeed finished for iteration (0, 0)\n",
      "I0819 15:38:59.847157 139670309848832 tpu_estimator.py:275] Outfeed finished for iteration (0, 207)\n",
      "I0819 15:40:00.089024 139670309848832 tpu_estimator.py:275] Outfeed finished for iteration (0, 414)\n",
      "I0819 15:41:00.338199 139670309848832 tpu_estimator.py:275] Outfeed finished for iteration (0, 621)\n",
      "I0819 15:42:00.587112 139670309848832 tpu_estimator.py:275] Outfeed finished for iteration (0, 828)\n",
      "I0819 15:42:51.043420 139671745042304 basic_session_run_hooks.py:606] Saving checkpoints for 28000 into gs://tputestingmnist/FUNIT/FUNIT_only_gen_11/model.ckpt.\n",
      "I0819 15:43:09.547002 139671745042304 basic_session_run_hooks.py:262] loss = 8.054468, step = 28000\n",
      "I0819 15:43:11.182583 139671745042304 tpu_estimator.py:598] Stop infeed thread controller\n",
      "I0819 15:43:11.183834 139671745042304 tpu_estimator.py:430] Shutting down InfeedController thread.\n",
      "I0819 15:43:11.190277 139670318241536 tpu_estimator.py:425] InfeedController received shutdown signal, stopping.\n",
      "I0819 15:43:11.197643 139670318241536 tpu_estimator.py:530] Infeed thread finished, shutting down.\n",
      "I0819 15:43:11.200458 139671745042304 error_handling.py:96] infeed marked as finished\n",
      "I0819 15:43:11.202868 139671745042304 tpu_estimator.py:602] Stop output thread controller\n",
      "I0819 15:43:11.205205 139671745042304 tpu_estimator.py:430] Shutting down OutfeedController thread.\n",
      "I0819 15:43:11.208647 139670309848832 tpu_estimator.py:425] OutfeedController received shutdown signal, stopping.\n",
      "I0819 15:43:11.209818 139670309848832 tpu_estimator.py:541] Outfeed thread finished, shutting down.\n",
      "I0819 15:43:11.212188 139671745042304 error_handling.py:96] outfeed marked as finished\n",
      "I0819 15:43:11.213982 139671745042304 tpu_estimator.py:606] Shutdown TPU system.\n",
      "I0819 15:43:12.987350 139671745042304 estimator.py:368] Loss for final step: 8.054468.\n",
      "I0819 15:43:12.989039 139671745042304 error_handling.py:96] training_loop marked as finished\n"
     ],
     "name": "stderr"
    },
    {
     "output_type": "stream",
     "text": [
      "Finished training step 28000\n"
     ],
     "name": "stdout"
    },
    {
     "output_type": "stream",
     "text": [
      "I0819 15:43:13.275528 139671745042304 estimator.py:1145] Calling model_fn.\n"
     ],
     "name": "stderr"
    },
    {
     "output_type": "stream",
     "text": [
      "(128, 1, 1, 2048)\n"
     ],
     "name": "stdout"
    },
    {
     "output_type": "stream",
     "text": [
      "I0819 15:43:17.520794 139671745042304 estimator.py:1147] Done calling model_fn.\n",
      "I0819 15:43:17.548719 139671745042304 evaluation.py:255] Starting evaluation at 2019-08-19T15:43:17Z\n",
      "I0819 15:43:17.549831 139671745042304 tpu_estimator.py:499] TPU job name tpu_worker\n",
      "I0819 15:43:17.896776 139671745042304 monitored_session.py:240] Graph was finalized.\n",
      "I0819 15:43:17.969146 139671745042304 saver.py:1280] Restoring parameters from gs://tputestingmnist/FUNIT/FUNIT_only_gen_11/model.ckpt-28000\n",
      "I0819 15:43:24.351453 139671745042304 session_manager.py:500] Running local_init_op.\n",
      "I0819 15:43:24.466828 139671745042304 session_manager.py:502] Done running local_init_op.\n",
      "I0819 15:43:24.720808 139671745042304 tpu_estimator.py:557] Init TPU system\n",
      "I0819 15:43:32.420987 139671745042304 tpu_estimator.py:566] Initialized TPU in 7 seconds\n",
      "I0819 15:43:32.423295 139670318241536 tpu_estimator.py:514] Starting infeed thread controller.\n",
      "I0819 15:43:32.432862 139670309848832 tpu_estimator.py:533] Starting outfeed thread controller.\n",
      "I0819 15:43:32.561338 139671745042304 util.py:98] Initialized dataset iterators in 0 seconds\n",
      "I0819 15:43:32.662128 139671745042304 tpu_estimator.py:590] Enqueue next (1) batch(es) of data to infeed.\n",
      "I0819 15:43:32.663697 139671745042304 tpu_estimator.py:594] Dequeue next (1) batch(es) of data from outfeed.\n",
      "I0819 15:43:42.146428 139670309848832 tpu_estimator.py:275] Outfeed finished for iteration (0, 0)\n",
      "I0819 15:43:42.150207 139671745042304 evaluation.py:167] Evaluation [1/1]\n",
      "I0819 15:43:42.153723 139671745042304 tpu_estimator.py:598] Stop infeed thread controller\n",
      "I0819 15:43:42.155646 139671745042304 tpu_estimator.py:430] Shutting down InfeedController thread.\n",
      "I0819 15:43:42.156934 139670318241536 tpu_estimator.py:425] InfeedController received shutdown signal, stopping.\n",
      "I0819 15:43:42.158089 139670318241536 tpu_estimator.py:530] Infeed thread finished, shutting down.\n",
      "I0819 15:43:42.159695 139671745042304 error_handling.py:96] infeed marked as finished\n",
      "I0819 15:43:42.160771 139671745042304 tpu_estimator.py:602] Stop output thread controller\n",
      "I0819 15:43:42.162818 139671745042304 tpu_estimator.py:430] Shutting down OutfeedController thread.\n",
      "I0819 15:43:42.163935 139670309848832 tpu_estimator.py:425] OutfeedController received shutdown signal, stopping.\n",
      "I0819 15:43:42.164882 139670309848832 tpu_estimator.py:541] Outfeed thread finished, shutting down.\n",
      "I0819 15:43:42.172340 139671745042304 error_handling.py:96] outfeed marked as finished\n",
      "I0819 15:43:42.183669 139671745042304 tpu_estimator.py:606] Shutdown TPU system.\n",
      "I0819 15:43:42.853529 139671745042304 evaluation.py:275] Finished evaluation at 2019-08-19-15:43:42\n",
      "I0819 15:43:42.855201 139671745042304 estimator.py:2039] Saving dict for global step 28000: discriminator_gen_accuracy = 1.0, discriminator_loss = 0.5090649, discriminator_real_accuracy = 0.9628906, generator_loss = 7.6610537, global_step = 28000, loss = 8.8493185\n",
      "I0819 15:43:43.246974 139671745042304 estimator.py:2099] Saving 'checkpoint_path' summary for global step 28000: gs://tputestingmnist/FUNIT/FUNIT_only_gen_11/model.ckpt-28000\n",
      "I0819 15:43:43.626455 139671745042304 error_handling.py:96] evaluation_loop marked as finished\n",
      "I0819 15:43:43.817386 139671745042304 estimator.py:1145] Calling model_fn.\n",
      "I0819 15:43:43.818932 139671745042304 tpu_estimator.py:2965] Running infer on CPU\n"
     ],
     "name": "stderr"
    },
    {
     "output_type": "stream",
     "text": [
      "Finished evaluating\n",
      "{'discriminator_gen_accuracy': 1.0, 'discriminator_loss': 0.5090649, 'discriminator_real_accuracy': 0.9628906, 'generator_loss': 7.6610537, 'loss': 8.8493185, 'global_step': 28000}\n",
      "(12, 1, 1, 2048)\n"
     ],
     "name": "stdout"
    },
    {
     "output_type": "stream",
     "text": [
      "I0819 15:43:44.612782 139671745042304 estimator.py:1147] Done calling model_fn.\n",
      "I0819 15:43:45.516569 139671745042304 monitored_session.py:240] Graph was finalized.\n",
      "I0819 15:43:45.602261 139671745042304 saver.py:1280] Restoring parameters from gs://tputestingmnist/FUNIT/FUNIT_only_gen_11/model.ckpt-28000\n",
      "I0819 15:43:45.986280 139671745042304 session_manager.py:500] Running local_init_op.\n",
      "I0819 15:43:46.006740 139671745042304 session_manager.py:502] Done running local_init_op.\n",
      "I0819 15:43:46.370730 139671745042304 error_handling.py:96] prediction_loop marked as finished\n",
      "I0819 15:43:46.372089 139671745042304 error_handling.py:96] prediction_loop marked as finished\n"
     ],
     "name": "stderr"
    },
    {
     "output_type": "stream",
     "text": [
      "Finished generating images\n"
     ],
     "name": "stdout"
    },
    {
     "output_type": "stream",
     "text": [
      "I0819 15:43:47.567555 139671745042304 estimator.py:1145] Calling model_fn.\n"
     ],
     "name": "stderr"
    },
    {
     "output_type": "stream",
     "text": [
      "(128, 1, 1, 2048)\n"
     ],
     "name": "stdout"
    },
    {
     "output_type": "stream",
     "text": [
      "I0819 15:43:55.738423 139671745042304 basic_session_run_hooks.py:541] Create CheckpointSaverHook.\n",
      "I0819 15:43:55.964771 139671745042304 estimator.py:1147] Done calling model_fn.\n",
      "I0819 15:43:55.966465 139671745042304 tpu_estimator.py:499] TPU job name tpu_worker\n",
      "I0819 15:43:56.735476 139671745042304 monitored_session.py:240] Graph was finalized.\n",
      "I0819 15:43:57.012348 139671745042304 saver.py:1280] Restoring parameters from gs://tputestingmnist/FUNIT/FUNIT_only_gen_11/model.ckpt-28000\n",
      "I0819 15:44:03.462814 139671745042304 session_manager.py:500] Running local_init_op.\n",
      "I0819 15:44:03.878435 139671745042304 session_manager.py:502] Done running local_init_op.\n",
      "I0819 15:44:09.328227 139671745042304 basic_session_run_hooks.py:606] Saving checkpoints for 28000 into gs://tputestingmnist/FUNIT/FUNIT_only_gen_11/model.ckpt.\n",
      "I0819 15:44:26.302753 139671745042304 util.py:98] Initialized dataset iterators in 0 seconds\n",
      "I0819 15:44:26.307902 139671745042304 session_support.py:332] Installing graceful shutdown hook.\n",
      "I0819 15:44:26.313895 139671745042304 session_support.py:82] Creating heartbeat manager for ['/job:tpu_worker/replica:0/task:0/device:CPU:0']\n",
      "I0819 15:44:26.320801 139671745042304 session_support.py:105] Configuring worker heartbeat: shutdown_mode: WAIT_FOR_COORDINATOR\n",
      "\n",
      "I0819 15:44:26.329620 139671745042304 tpu_estimator.py:557] Init TPU system\n",
      "I0819 15:44:36.539935 139671745042304 tpu_estimator.py:566] Initialized TPU in 10 seconds\n",
      "I0819 15:44:36.543484 139670318241536 tpu_estimator.py:514] Starting infeed thread controller.\n",
      "I0819 15:44:36.544382 139670309848832 tpu_estimator.py:533] Starting outfeed thread controller.\n",
      "I0819 15:44:37.019775 139671745042304 tpu_estimator.py:590] Enqueue next (1000) batch(es) of data to infeed.\n",
      "I0819 15:44:37.021461 139671745042304 tpu_estimator.py:594] Dequeue next (1000) batch(es) of data from outfeed.\n",
      "I0819 15:45:02.907857 139670309848832 tpu_estimator.py:275] Outfeed finished for iteration (0, 0)\n",
      "I0819 15:46:03.154309 139670309848832 tpu_estimator.py:275] Outfeed finished for iteration (0, 207)\n",
      "I0819 15:47:03.402411 139670309848832 tpu_estimator.py:275] Outfeed finished for iteration (0, 414)\n",
      "I0819 15:48:03.651823 139670309848832 tpu_estimator.py:275] Outfeed finished for iteration (0, 621)\n",
      "I0819 15:49:03.900016 139670309848832 tpu_estimator.py:275] Outfeed finished for iteration (0, 828)\n",
      "I0819 15:49:54.366443 139671745042304 basic_session_run_hooks.py:606] Saving checkpoints for 29000 into gs://tputestingmnist/FUNIT/FUNIT_only_gen_11/model.ckpt.\n",
      "I0819 15:50:11.558357 139671745042304 basic_session_run_hooks.py:262] loss = 8.515472, step = 29000\n",
      "I0819 15:50:13.296920 139671745042304 tpu_estimator.py:598] Stop infeed thread controller\n",
      "I0819 15:50:13.298621 139671745042304 tpu_estimator.py:430] Shutting down InfeedController thread.\n",
      "I0819 15:50:13.299857 139670318241536 tpu_estimator.py:425] InfeedController received shutdown signal, stopping.\n",
      "I0819 15:50:13.305613 139670318241536 tpu_estimator.py:530] Infeed thread finished, shutting down.\n",
      "I0819 15:50:13.309288 139671745042304 error_handling.py:96] infeed marked as finished\n",
      "I0819 15:50:13.311506 139671745042304 tpu_estimator.py:602] Stop output thread controller\n",
      "I0819 15:50:13.314852 139671745042304 tpu_estimator.py:430] Shutting down OutfeedController thread.\n",
      "I0819 15:50:13.319169 139670309848832 tpu_estimator.py:425] OutfeedController received shutdown signal, stopping.\n",
      "I0819 15:50:13.324876 139670309848832 tpu_estimator.py:541] Outfeed thread finished, shutting down.\n",
      "I0819 15:50:13.329020 139671745042304 error_handling.py:96] outfeed marked as finished\n",
      "I0819 15:50:13.331100 139671745042304 tpu_estimator.py:606] Shutdown TPU system.\n",
      "I0819 15:50:15.173777 139671745042304 estimator.py:368] Loss for final step: 8.515472.\n",
      "I0819 15:50:15.175143 139671745042304 error_handling.py:96] training_loop marked as finished\n"
     ],
     "name": "stderr"
    },
    {
     "output_type": "stream",
     "text": [
      "Finished training step 29000\n"
     ],
     "name": "stdout"
    },
    {
     "output_type": "stream",
     "text": [
      "I0819 15:50:15.388319 139671745042304 estimator.py:1145] Calling model_fn.\n"
     ],
     "name": "stderr"
    },
    {
     "output_type": "stream",
     "text": [
      "(128, 1, 1, 2048)\n"
     ],
     "name": "stdout"
    },
    {
     "output_type": "stream",
     "text": [
      "I0819 15:50:18.930901 139671745042304 estimator.py:1147] Done calling model_fn.\n",
      "I0819 15:50:18.958526 139671745042304 evaluation.py:255] Starting evaluation at 2019-08-19T15:50:18Z\n",
      "I0819 15:50:18.959648 139671745042304 tpu_estimator.py:499] TPU job name tpu_worker\n",
      "I0819 15:50:19.308914 139671745042304 monitored_session.py:240] Graph was finalized.\n",
      "I0819 15:50:19.373595 139671745042304 saver.py:1280] Restoring parameters from gs://tputestingmnist/FUNIT/FUNIT_only_gen_11/model.ckpt-29000\n",
      "I0819 15:50:23.512794 139671745042304 session_manager.py:500] Running local_init_op.\n",
      "I0819 15:50:23.626251 139671745042304 session_manager.py:502] Done running local_init_op.\n",
      "I0819 15:50:23.921128 139671745042304 tpu_estimator.py:557] Init TPU system\n",
      "I0819 15:50:31.770206 139671745042304 tpu_estimator.py:566] Initialized TPU in 7 seconds\n",
      "I0819 15:50:31.772280 139670314833664 tpu_estimator.py:514] Starting infeed thread controller.\n",
      "I0819 15:50:31.773947 139670306440960 tpu_estimator.py:533] Starting outfeed thread controller.\n",
      "I0819 15:50:31.901313 139671745042304 util.py:98] Initialized dataset iterators in 0 seconds\n",
      "I0819 15:50:32.003163 139671745042304 tpu_estimator.py:590] Enqueue next (1) batch(es) of data to infeed.\n",
      "I0819 15:50:32.004949 139671745042304 tpu_estimator.py:594] Dequeue next (1) batch(es) of data from outfeed.\n",
      "I0819 15:50:41.602548 139670306440960 tpu_estimator.py:275] Outfeed finished for iteration (0, 0)\n",
      "I0819 15:50:41.603678 139671745042304 evaluation.py:167] Evaluation [1/1]\n",
      "I0819 15:50:41.605632 139671745042304 tpu_estimator.py:598] Stop infeed thread controller\n",
      "I0819 15:50:41.606854 139671745042304 tpu_estimator.py:430] Shutting down InfeedController thread.\n",
      "I0819 15:50:41.608091 139670314833664 tpu_estimator.py:425] InfeedController received shutdown signal, stopping.\n",
      "I0819 15:50:41.609232 139670314833664 tpu_estimator.py:530] Infeed thread finished, shutting down.\n",
      "I0819 15:50:41.610524 139671745042304 error_handling.py:96] infeed marked as finished\n",
      "I0819 15:50:41.613933 139671745042304 tpu_estimator.py:602] Stop output thread controller\n",
      "I0819 15:50:41.617151 139671745042304 tpu_estimator.py:430] Shutting down OutfeedController thread.\n",
      "I0819 15:50:41.619830 139670306440960 tpu_estimator.py:425] OutfeedController received shutdown signal, stopping.\n",
      "I0819 15:50:41.621914 139670306440960 tpu_estimator.py:541] Outfeed thread finished, shutting down.\n",
      "I0819 15:50:41.627982 139671745042304 error_handling.py:96] outfeed marked as finished\n",
      "I0819 15:50:41.629667 139671745042304 tpu_estimator.py:606] Shutdown TPU system.\n",
      "I0819 15:50:42.313721 139671745042304 evaluation.py:275] Finished evaluation at 2019-08-19-15:50:42\n",
      "I0819 15:50:42.314945 139671745042304 estimator.py:2039] Saving dict for global step 29000: discriminator_gen_accuracy = 1.0, discriminator_loss = 0.45317376, discriminator_real_accuracy = 0.9970703, generator_loss = 6.1996098, global_step = 29000, loss = 7.1208615\n",
      "I0819 15:50:42.638652 139671745042304 estimator.py:2099] Saving 'checkpoint_path' summary for global step 29000: gs://tputestingmnist/FUNIT/FUNIT_only_gen_11/model.ckpt-29000\n",
      "I0819 15:50:42.937095 139671745042304 error_handling.py:96] evaluation_loop marked as finished\n",
      "I0819 15:50:43.090345 139671745042304 estimator.py:1145] Calling model_fn.\n",
      "I0819 15:50:43.091486 139671745042304 tpu_estimator.py:2965] Running infer on CPU\n"
     ],
     "name": "stderr"
    },
    {
     "output_type": "stream",
     "text": [
      "Finished evaluating\n",
      "{'discriminator_gen_accuracy': 1.0, 'discriminator_loss': 0.45317376, 'discriminator_real_accuracy': 0.9970703, 'generator_loss': 6.1996098, 'loss': 7.1208615, 'global_step': 29000}\n",
      "(12, 1, 1, 2048)\n"
     ],
     "name": "stdout"
    },
    {
     "output_type": "stream",
     "text": [
      "I0819 15:50:44.588625 139671745042304 estimator.py:1147] Done calling model_fn.\n",
      "I0819 15:50:44.813965 139671745042304 monitored_session.py:240] Graph was finalized.\n",
      "I0819 15:50:44.884909 139671745042304 saver.py:1280] Restoring parameters from gs://tputestingmnist/FUNIT/FUNIT_only_gen_11/model.ckpt-29000\n",
      "I0819 15:50:45.249374 139671745042304 session_manager.py:500] Running local_init_op.\n",
      "I0819 15:50:45.267199 139671745042304 session_manager.py:502] Done running local_init_op.\n",
      "I0819 15:50:45.648379 139671745042304 error_handling.py:96] prediction_loop marked as finished\n",
      "I0819 15:50:45.649679 139671745042304 error_handling.py:96] prediction_loop marked as finished\n"
     ],
     "name": "stderr"
    },
    {
     "output_type": "stream",
     "text": [
      "Finished generating images\n"
     ],
     "name": "stdout"
    },
    {
     "output_type": "stream",
     "text": [
      "I0819 15:50:46.767003 139671745042304 estimator.py:1145] Calling model_fn.\n"
     ],
     "name": "stderr"
    },
    {
     "output_type": "stream",
     "text": [
      "(128, 1, 1, 2048)\n"
     ],
     "name": "stdout"
    },
    {
     "output_type": "stream",
     "text": [
      "I0819 15:50:54.792139 139671745042304 basic_session_run_hooks.py:541] Create CheckpointSaverHook.\n",
      "I0819 15:50:55.016178 139671745042304 estimator.py:1147] Done calling model_fn.\n",
      "I0819 15:50:55.017812 139671745042304 tpu_estimator.py:499] TPU job name tpu_worker\n",
      "I0819 15:50:55.775186 139671745042304 monitored_session.py:240] Graph was finalized.\n",
      "I0819 15:50:55.933775 139671745042304 saver.py:1280] Restoring parameters from gs://tputestingmnist/FUNIT/FUNIT_only_gen_11/model.ckpt-29000\n",
      "I0819 15:51:01.482537 139671745042304 session_manager.py:500] Running local_init_op.\n",
      "I0819 15:51:01.898434 139671745042304 session_manager.py:502] Done running local_init_op.\n",
      "I0819 15:51:07.431120 139671745042304 basic_session_run_hooks.py:606] Saving checkpoints for 29000 into gs://tputestingmnist/FUNIT/FUNIT_only_gen_11/model.ckpt.\n",
      "I0819 15:51:25.390823 139671745042304 util.py:98] Initialized dataset iterators in 0 seconds\n",
      "I0819 15:51:25.392150 139671745042304 session_support.py:332] Installing graceful shutdown hook.\n",
      "I0819 15:51:25.403444 139671745042304 session_support.py:82] Creating heartbeat manager for ['/job:tpu_worker/replica:0/task:0/device:CPU:0']\n",
      "I0819 15:51:25.409215 139671745042304 session_support.py:105] Configuring worker heartbeat: shutdown_mode: WAIT_FOR_COORDINATOR\n",
      "\n",
      "I0819 15:51:25.417382 139671745042304 tpu_estimator.py:557] Init TPU system\n",
      "I0819 15:51:35.493123 139671745042304 tpu_estimator.py:566] Initialized TPU in 10 seconds\n",
      "I0819 15:51:35.495016 139670306440960 tpu_estimator.py:514] Starting infeed thread controller.\n",
      "I0819 15:51:35.496719 139670298048256 tpu_estimator.py:533] Starting outfeed thread controller.\n",
      "I0819 15:51:35.916066 139671745042304 tpu_estimator.py:590] Enqueue next (1000) batch(es) of data to infeed.\n",
      "I0819 15:51:35.917395 139671745042304 tpu_estimator.py:594] Dequeue next (1000) batch(es) of data from outfeed.\n",
      "I0819 15:52:01.261766 139670298048256 tpu_estimator.py:275] Outfeed finished for iteration (0, 0)\n",
      "I0819 15:53:01.507794 139670298048256 tpu_estimator.py:275] Outfeed finished for iteration (0, 207)\n",
      "I0819 15:54:01.755759 139670298048256 tpu_estimator.py:275] Outfeed finished for iteration (0, 414)\n",
      "I0819 15:55:02.004836 139670298048256 tpu_estimator.py:275] Outfeed finished for iteration (0, 621)\n",
      "I0819 15:56:02.253057 139670298048256 tpu_estimator.py:275] Outfeed finished for iteration (0, 828)\n",
      "I0819 15:56:52.709823 139671745042304 basic_session_run_hooks.py:606] Saving checkpoints for 30000 into gs://tputestingmnist/FUNIT/FUNIT_only_gen_11/model.ckpt.\n",
      "I0819 15:57:11.481672 139671745042304 basic_session_run_hooks.py:262] loss = 9.839167, step = 30000\n",
      "I0819 15:57:12.919395 139671745042304 tpu_estimator.py:598] Stop infeed thread controller\n",
      "I0819 15:57:12.920682 139671745042304 tpu_estimator.py:430] Shutting down InfeedController thread.\n",
      "I0819 15:57:12.921652 139670306440960 tpu_estimator.py:425] InfeedController received shutdown signal, stopping.\n",
      "I0819 15:57:12.927705 139670306440960 tpu_estimator.py:530] Infeed thread finished, shutting down.\n",
      "I0819 15:57:12.930776 139671745042304 error_handling.py:96] infeed marked as finished\n",
      "I0819 15:57:12.932091 139671745042304 tpu_estimator.py:602] Stop output thread controller\n",
      "I0819 15:57:12.945362 139671745042304 tpu_estimator.py:430] Shutting down OutfeedController thread.\n",
      "I0819 15:57:12.947222 139670298048256 tpu_estimator.py:425] OutfeedController received shutdown signal, stopping.\n",
      "I0819 15:57:12.948208 139670298048256 tpu_estimator.py:541] Outfeed thread finished, shutting down.\n",
      "I0819 15:57:12.950342 139671745042304 error_handling.py:96] outfeed marked as finished\n",
      "I0819 15:57:12.952895 139671745042304 tpu_estimator.py:606] Shutdown TPU system.\n",
      "I0819 15:57:14.793747 139671745042304 estimator.py:368] Loss for final step: 9.839167.\n",
      "I0819 15:57:14.794909 139671745042304 error_handling.py:96] training_loop marked as finished\n"
     ],
     "name": "stderr"
    },
    {
     "output_type": "stream",
     "text": [
      "Finished training step 30000\n"
     ],
     "name": "stdout"
    },
    {
     "output_type": "stream",
     "text": [
      "I0819 15:57:15.012066 139671745042304 estimator.py:1145] Calling model_fn.\n"
     ],
     "name": "stderr"
    },
    {
     "output_type": "stream",
     "text": [
      "(128, 1, 1, 2048)\n"
     ],
     "name": "stdout"
    },
    {
     "output_type": "stream",
     "text": [
      "I0819 15:57:18.377369 139671745042304 estimator.py:1147] Done calling model_fn.\n",
      "I0819 15:57:18.404422 139671745042304 evaluation.py:255] Starting evaluation at 2019-08-19T15:57:18Z\n",
      "I0819 15:57:18.405574 139671745042304 tpu_estimator.py:499] TPU job name tpu_worker\n",
      "I0819 15:57:18.754767 139671745042304 monitored_session.py:240] Graph was finalized.\n",
      "I0819 15:57:18.823451 139671745042304 saver.py:1280] Restoring parameters from gs://tputestingmnist/FUNIT/FUNIT_only_gen_11/model.ckpt-30000\n",
      "I0819 15:57:24.846428 139671745042304 session_manager.py:500] Running local_init_op.\n",
      "I0819 15:57:24.983278 139671745042304 session_manager.py:502] Done running local_init_op.\n",
      "I0819 15:57:25.250314 139671745042304 tpu_estimator.py:557] Init TPU system\n",
      "I0819 15:57:32.904879 139671745042304 tpu_estimator.py:566] Initialized TPU in 7 seconds\n",
      "I0819 15:57:32.906584 139670298048256 tpu_estimator.py:514] Starting infeed thread controller.\n",
      "I0819 15:57:32.907253 139670289655552 tpu_estimator.py:533] Starting outfeed thread controller.\n",
      "I0819 15:57:33.044883 139671745042304 util.py:98] Initialized dataset iterators in 0 seconds\n",
      "I0819 15:57:33.163555 139671745042304 tpu_estimator.py:590] Enqueue next (1) batch(es) of data to infeed.\n",
      "I0819 15:57:33.164846 139671745042304 tpu_estimator.py:594] Dequeue next (1) batch(es) of data from outfeed.\n",
      "I0819 15:57:42.990433 139670289655552 tpu_estimator.py:275] Outfeed finished for iteration (0, 0)\n",
      "I0819 15:57:42.994765 139671745042304 evaluation.py:167] Evaluation [1/1]\n",
      "I0819 15:57:42.998365 139671745042304 tpu_estimator.py:598] Stop infeed thread controller\n",
      "I0819 15:57:42.999505 139671745042304 tpu_estimator.py:430] Shutting down InfeedController thread.\n",
      "I0819 15:57:43.001253 139670298048256 tpu_estimator.py:425] InfeedController received shutdown signal, stopping.\n",
      "I0819 15:57:43.003227 139670298048256 tpu_estimator.py:530] Infeed thread finished, shutting down.\n",
      "I0819 15:57:43.009494 139671745042304 error_handling.py:96] infeed marked as finished\n",
      "I0819 15:57:43.011063 139671745042304 tpu_estimator.py:602] Stop output thread controller\n",
      "I0819 15:57:43.012455 139671745042304 tpu_estimator.py:430] Shutting down OutfeedController thread.\n",
      "I0819 15:57:43.013895 139670289655552 tpu_estimator.py:425] OutfeedController received shutdown signal, stopping.\n",
      "I0819 15:57:43.014923 139670289655552 tpu_estimator.py:541] Outfeed thread finished, shutting down.\n",
      "I0819 15:57:43.016567 139671745042304 error_handling.py:96] outfeed marked as finished\n",
      "I0819 15:57:43.018674 139671745042304 tpu_estimator.py:606] Shutdown TPU system.\n",
      "I0819 15:57:43.677058 139671745042304 evaluation.py:275] Finished evaluation at 2019-08-19-15:57:43\n",
      "I0819 15:57:43.678243 139671745042304 estimator.py:2039] Saving dict for global step 30000: discriminator_gen_accuracy = 1.0, discriminator_loss = 0.3697263, discriminator_real_accuracy = 0.99316406, generator_loss = 9.279173, global_step = 30000, loss = 9.287279\n",
      "I0819 15:57:43.995781 139671745042304 estimator.py:2099] Saving 'checkpoint_path' summary for global step 30000: gs://tputestingmnist/FUNIT/FUNIT_only_gen_11/model.ckpt-30000\n",
      "I0819 15:57:44.331146 139671745042304 error_handling.py:96] evaluation_loop marked as finished\n",
      "I0819 15:57:44.494915 139671745042304 estimator.py:1145] Calling model_fn.\n",
      "I0819 15:57:44.496643 139671745042304 tpu_estimator.py:2965] Running infer on CPU\n"
     ],
     "name": "stderr"
    },
    {
     "output_type": "stream",
     "text": [
      "Finished evaluating\n",
      "{'discriminator_gen_accuracy': 1.0, 'discriminator_loss': 0.3697263, 'discriminator_real_accuracy': 0.99316406, 'generator_loss': 9.279173, 'loss': 9.287279, 'global_step': 30000}\n",
      "(12, 1, 1, 2048)\n"
     ],
     "name": "stdout"
    },
    {
     "output_type": "stream",
     "text": [
      "I0819 15:57:45.926738 139671745042304 estimator.py:1147] Done calling model_fn.\n",
      "I0819 15:57:46.145518 139671745042304 monitored_session.py:240] Graph was finalized.\n",
      "I0819 15:57:46.212687 139671745042304 saver.py:1280] Restoring parameters from gs://tputestingmnist/FUNIT/FUNIT_only_gen_11/model.ckpt-30000\n",
      "I0819 15:57:46.603781 139671745042304 session_manager.py:500] Running local_init_op.\n",
      "I0819 15:57:46.630749 139671745042304 session_manager.py:502] Done running local_init_op.\n",
      "I0819 15:57:46.990774 139671745042304 error_handling.py:96] prediction_loop marked as finished\n",
      "I0819 15:57:46.992132 139671745042304 error_handling.py:96] prediction_loop marked as finished\n"
     ],
     "name": "stderr"
    },
    {
     "output_type": "stream",
     "text": [
      "Finished generating images\n"
     ],
     "name": "stdout"
    },
    {
     "output_type": "stream",
     "text": [
      "I0819 15:57:48.031970 139671745042304 estimator.py:1145] Calling model_fn.\n"
     ],
     "name": "stderr"
    },
    {
     "output_type": "stream",
     "text": [
      "(128, 1, 1, 2048)\n"
     ],
     "name": "stdout"
    },
    {
     "output_type": "stream",
     "text": [
      "I0819 15:57:55.775604 139671745042304 basic_session_run_hooks.py:541] Create CheckpointSaverHook.\n",
      "I0819 15:57:55.998952 139671745042304 estimator.py:1147] Done calling model_fn.\n",
      "I0819 15:57:56.000358 139671745042304 tpu_estimator.py:499] TPU job name tpu_worker\n",
      "I0819 15:57:57.193859 139671745042304 monitored_session.py:240] Graph was finalized.\n",
      "I0819 15:57:57.354051 139671745042304 saver.py:1280] Restoring parameters from gs://tputestingmnist/FUNIT/FUNIT_only_gen_11/model.ckpt-30000\n",
      "I0819 15:58:03.887354 139671745042304 session_manager.py:500] Running local_init_op.\n",
      "I0819 15:58:04.302627 139671745042304 session_manager.py:502] Done running local_init_op.\n",
      "I0819 15:58:09.235659 139671745042304 basic_session_run_hooks.py:606] Saving checkpoints for 30000 into gs://tputestingmnist/FUNIT/FUNIT_only_gen_11/model.ckpt.\n",
      "I0819 15:58:31.548221 139671745042304 util.py:98] Initialized dataset iterators in 0 seconds\n",
      "I0819 15:58:31.549591 139671745042304 session_support.py:332] Installing graceful shutdown hook.\n",
      "I0819 15:58:31.559117 139671745042304 session_support.py:82] Creating heartbeat manager for ['/job:tpu_worker/replica:0/task:0/device:CPU:0']\n",
      "I0819 15:58:31.565666 139671745042304 session_support.py:105] Configuring worker heartbeat: shutdown_mode: WAIT_FOR_COORDINATOR\n",
      "\n",
      "I0819 15:58:31.572169 139671745042304 tpu_estimator.py:557] Init TPU system\n",
      "I0819 15:58:41.761673 139671745042304 tpu_estimator.py:566] Initialized TPU in 10 seconds\n",
      "I0819 15:58:41.763239 139670298048256 tpu_estimator.py:514] Starting infeed thread controller.\n",
      "I0819 15:58:41.764171 139670289655552 tpu_estimator.py:533] Starting outfeed thread controller.\n",
      "I0819 15:58:42.226766 139671745042304 tpu_estimator.py:590] Enqueue next (1000) batch(es) of data to infeed.\n",
      "I0819 15:58:42.228150 139671745042304 tpu_estimator.py:594] Dequeue next (1000) batch(es) of data from outfeed.\n",
      "I0819 15:59:08.098793 139670289655552 tpu_estimator.py:275] Outfeed finished for iteration (0, 0)\n",
      "I0819 16:00:08.345187 139670289655552 tpu_estimator.py:275] Outfeed finished for iteration (0, 207)\n",
      "I0819 16:01:08.593024 139670289655552 tpu_estimator.py:275] Outfeed finished for iteration (0, 414)\n",
      "I0819 16:02:08.841190 139670289655552 tpu_estimator.py:275] Outfeed finished for iteration (0, 621)\n",
      "I0819 16:03:09.088745 139670289655552 tpu_estimator.py:275] Outfeed finished for iteration (0, 828)\n",
      "I0819 16:03:59.541996 139671745042304 basic_session_run_hooks.py:606] Saving checkpoints for 31000 into gs://tputestingmnist/FUNIT/FUNIT_only_gen_11/model.ckpt.\n",
      "I0819 16:04:17.405988 139671745042304 basic_session_run_hooks.py:262] loss = 6.950624, step = 31000\n",
      "I0819 16:04:19.222332 139671745042304 tpu_estimator.py:598] Stop infeed thread controller\n",
      "I0819 16:04:19.223412 139671745042304 tpu_estimator.py:430] Shutting down InfeedController thread.\n",
      "I0819 16:04:19.230080 139670298048256 tpu_estimator.py:425] InfeedController received shutdown signal, stopping.\n",
      "I0819 16:04:19.232379 139670298048256 tpu_estimator.py:530] Infeed thread finished, shutting down.\n",
      "I0819 16:04:19.235071 139671745042304 error_handling.py:96] infeed marked as finished\n",
      "I0819 16:04:19.239450 139671745042304 tpu_estimator.py:602] Stop output thread controller\n",
      "I0819 16:04:19.241731 139671745042304 tpu_estimator.py:430] Shutting down OutfeedController thread.\n",
      "I0819 16:04:19.245068 139670289655552 tpu_estimator.py:425] OutfeedController received shutdown signal, stopping.\n",
      "I0819 16:04:19.246031 139670289655552 tpu_estimator.py:541] Outfeed thread finished, shutting down.\n",
      "I0819 16:04:19.248670 139671745042304 error_handling.py:96] outfeed marked as finished\n",
      "I0819 16:04:19.251172 139671745042304 tpu_estimator.py:606] Shutdown TPU system.\n",
      "I0819 16:04:21.003292 139671745042304 estimator.py:368] Loss for final step: 6.950624.\n",
      "I0819 16:04:21.004561 139671745042304 error_handling.py:96] training_loop marked as finished\n",
      "I0819 16:04:21.198246 139671745042304 estimator.py:1145] Calling model_fn.\n"
     ],
     "name": "stderr"
    },
    {
     "output_type": "stream",
     "text": [
      "Finished training step 31000\n",
      "(128, 1, 1, 2048)\n"
     ],
     "name": "stdout"
    },
    {
     "output_type": "stream",
     "text": [
      "I0819 16:04:24.691159 139671745042304 estimator.py:1147] Done calling model_fn.\n",
      "I0819 16:04:24.719483 139671745042304 evaluation.py:255] Starting evaluation at 2019-08-19T16:04:24Z\n",
      "I0819 16:04:24.721126 139671745042304 tpu_estimator.py:499] TPU job name tpu_worker\n",
      "I0819 16:04:25.070959 139671745042304 monitored_session.py:240] Graph was finalized.\n",
      "I0819 16:04:25.138855 139671745042304 saver.py:1280] Restoring parameters from gs://tputestingmnist/FUNIT/FUNIT_only_gen_11/model.ckpt-31000\n",
      "I0819 16:04:30.975265 139671745042304 session_manager.py:500] Running local_init_op.\n",
      "I0819 16:04:31.082100 139671745042304 session_manager.py:502] Done running local_init_op.\n",
      "I0819 16:04:31.326486 139671745042304 tpu_estimator.py:557] Init TPU system\n",
      "I0819 16:04:39.213865 139671745042304 tpu_estimator.py:566] Initialized TPU in 7 seconds\n",
      "I0819 16:04:39.215560 139670298048256 tpu_estimator.py:514] Starting infeed thread controller.\n",
      "I0819 16:04:39.216151 139670289655552 tpu_estimator.py:533] Starting outfeed thread controller.\n",
      "I0819 16:04:39.349167 139671745042304 util.py:98] Initialized dataset iterators in 0 seconds\n",
      "I0819 16:04:39.450954 139671745042304 tpu_estimator.py:590] Enqueue next (1) batch(es) of data to infeed.\n",
      "I0819 16:04:39.452394 139671745042304 tpu_estimator.py:594] Dequeue next (1) batch(es) of data from outfeed.\n",
      "I0819 16:04:49.070274 139670289655552 tpu_estimator.py:275] Outfeed finished for iteration (0, 0)\n",
      "I0819 16:04:49.073028 139671745042304 evaluation.py:167] Evaluation [1/1]\n",
      "I0819 16:04:49.075345 139671745042304 tpu_estimator.py:598] Stop infeed thread controller\n",
      "I0819 16:04:49.077118 139671745042304 tpu_estimator.py:430] Shutting down InfeedController thread.\n",
      "I0819 16:04:49.078981 139670298048256 tpu_estimator.py:425] InfeedController received shutdown signal, stopping.\n",
      "I0819 16:04:49.080374 139670298048256 tpu_estimator.py:530] Infeed thread finished, shutting down.\n",
      "I0819 16:04:49.082213 139671745042304 error_handling.py:96] infeed marked as finished\n",
      "I0819 16:04:49.086034 139671745042304 tpu_estimator.py:602] Stop output thread controller\n",
      "I0819 16:04:49.087449 139671745042304 tpu_estimator.py:430] Shutting down OutfeedController thread.\n",
      "I0819 16:04:49.088913 139670289655552 tpu_estimator.py:425] OutfeedController received shutdown signal, stopping.\n",
      "I0819 16:04:49.090331 139670289655552 tpu_estimator.py:541] Outfeed thread finished, shutting down.\n",
      "I0819 16:04:49.092440 139671745042304 error_handling.py:96] outfeed marked as finished\n",
      "I0819 16:04:49.094368 139671745042304 tpu_estimator.py:606] Shutdown TPU system.\n",
      "I0819 16:04:49.743103 139671745042304 evaluation.py:275] Finished evaluation at 2019-08-19-16:04:49\n",
      "I0819 16:04:49.744343 139671745042304 estimator.py:2039] Saving dict for global step 31000: discriminator_gen_accuracy = 1.0, discriminator_loss = 0.396563, discriminator_real_accuracy = 0.9902344, generator_loss = 5.625817, global_step = 31000, loss = 6.0284715\n",
      "I0819 16:04:50.115678 139671745042304 estimator.py:2099] Saving 'checkpoint_path' summary for global step 31000: gs://tputestingmnist/FUNIT/FUNIT_only_gen_11/model.ckpt-31000\n",
      "I0819 16:04:50.409318 139671745042304 error_handling.py:96] evaluation_loop marked as finished\n",
      "I0819 16:04:50.587868 139671745042304 estimator.py:1145] Calling model_fn.\n",
      "I0819 16:04:50.589017 139671745042304 tpu_estimator.py:2965] Running infer on CPU\n"
     ],
     "name": "stderr"
    },
    {
     "output_type": "stream",
     "text": [
      "Finished evaluating\n",
      "{'discriminator_gen_accuracy': 1.0, 'discriminator_loss': 0.396563, 'discriminator_real_accuracy': 0.9902344, 'generator_loss': 5.625817, 'loss': 6.0284715, 'global_step': 31000}\n",
      "(12, 1, 1, 2048)\n"
     ],
     "name": "stdout"
    },
    {
     "output_type": "stream",
     "text": [
      "I0819 16:04:52.036346 139671745042304 estimator.py:1147] Done calling model_fn.\n",
      "I0819 16:04:52.255454 139671745042304 monitored_session.py:240] Graph was finalized.\n",
      "I0819 16:04:52.349343 139671745042304 saver.py:1280] Restoring parameters from gs://tputestingmnist/FUNIT/FUNIT_only_gen_11/model.ckpt-31000\n",
      "I0819 16:04:52.747745 139671745042304 session_manager.py:500] Running local_init_op.\n",
      "I0819 16:04:52.777665 139671745042304 session_manager.py:502] Done running local_init_op.\n",
      "I0819 16:04:53.142121 139671745042304 error_handling.py:96] prediction_loop marked as finished\n",
      "I0819 16:04:53.144010 139671745042304 error_handling.py:96] prediction_loop marked as finished\n"
     ],
     "name": "stderr"
    },
    {
     "output_type": "stream",
     "text": [
      "Finished generating images\n"
     ],
     "name": "stdout"
    },
    {
     "output_type": "stream",
     "text": [
      "I0819 16:04:54.360350 139671745042304 estimator.py:1145] Calling model_fn.\n"
     ],
     "name": "stderr"
    },
    {
     "output_type": "stream",
     "text": [
      "(128, 1, 1, 2048)\n"
     ],
     "name": "stdout"
    },
    {
     "output_type": "stream",
     "text": [
      "I0819 16:05:02.497782 139671745042304 basic_session_run_hooks.py:541] Create CheckpointSaverHook.\n",
      "I0819 16:05:02.732475 139671745042304 estimator.py:1147] Done calling model_fn.\n",
      "I0819 16:05:02.733860 139671745042304 tpu_estimator.py:499] TPU job name tpu_worker\n",
      "I0819 16:05:03.954100 139671745042304 monitored_session.py:240] Graph was finalized.\n",
      "I0819 16:05:04.109594 139671745042304 saver.py:1280] Restoring parameters from gs://tputestingmnist/FUNIT/FUNIT_only_gen_11/model.ckpt-31000\n",
      "I0819 16:05:11.641761 139671745042304 session_manager.py:500] Running local_init_op.\n",
      "I0819 16:05:12.107692 139671745042304 session_manager.py:502] Done running local_init_op.\n",
      "I0819 16:05:17.113769 139671745042304 basic_session_run_hooks.py:606] Saving checkpoints for 31000 into gs://tputestingmnist/FUNIT/FUNIT_only_gen_11/model.ckpt.\n",
      "I0819 16:05:36.933298 139671745042304 util.py:98] Initialized dataset iterators in 0 seconds\n",
      "I0819 16:05:36.934948 139671745042304 session_support.py:332] Installing graceful shutdown hook.\n",
      "I0819 16:05:36.939686 139671745042304 session_support.py:82] Creating heartbeat manager for ['/job:tpu_worker/replica:0/task:0/device:CPU:0']\n",
      "I0819 16:05:36.945239 139671745042304 session_support.py:105] Configuring worker heartbeat: shutdown_mode: WAIT_FOR_COORDINATOR\n",
      "\n",
      "I0819 16:05:36.955651 139671745042304 tpu_estimator.py:557] Init TPU system\n",
      "I0819 16:05:47.353295 139671745042304 tpu_estimator.py:566] Initialized TPU in 10 seconds\n",
      "I0819 16:05:47.354978 139670298048256 tpu_estimator.py:514] Starting infeed thread controller.\n",
      "I0819 16:05:47.355557 139670289655552 tpu_estimator.py:533] Starting outfeed thread controller.\n",
      "I0819 16:05:47.782458 139671745042304 tpu_estimator.py:590] Enqueue next (1000) batch(es) of data to infeed.\n",
      "I0819 16:05:47.783731 139671745042304 tpu_estimator.py:594] Dequeue next (1000) batch(es) of data from outfeed.\n",
      "I0819 16:06:13.494886 139670289655552 tpu_estimator.py:275] Outfeed finished for iteration (0, 0)\n",
      "I0819 16:07:13.743261 139670289655552 tpu_estimator.py:275] Outfeed finished for iteration (0, 207)\n",
      "I0819 16:08:13.992275 139670289655552 tpu_estimator.py:275] Outfeed finished for iteration (0, 414)\n",
      "I0819 16:09:14.241580 139670289655552 tpu_estimator.py:275] Outfeed finished for iteration (0, 621)\n",
      "I0819 16:10:14.491521 139670289655552 tpu_estimator.py:275] Outfeed finished for iteration (0, 828)\n",
      "I0819 16:11:04.964009 139671745042304 basic_session_run_hooks.py:606] Saving checkpoints for 32000 into gs://tputestingmnist/FUNIT/FUNIT_only_gen_11/model.ckpt.\n",
      "I0819 16:11:25.736524 139671745042304 basic_session_run_hooks.py:262] loss = 5.884516, step = 32000\n",
      "I0819 16:11:27.481673 139671745042304 tpu_estimator.py:598] Stop infeed thread controller\n",
      "I0819 16:11:27.483036 139671745042304 tpu_estimator.py:430] Shutting down InfeedController thread.\n",
      "I0819 16:11:27.492238 139670298048256 tpu_estimator.py:425] InfeedController received shutdown signal, stopping.\n",
      "I0819 16:11:27.497910 139670298048256 tpu_estimator.py:530] Infeed thread finished, shutting down.\n",
      "I0819 16:11:27.500315 139671745042304 error_handling.py:96] infeed marked as finished\n",
      "I0819 16:11:27.504216 139671745042304 tpu_estimator.py:602] Stop output thread controller\n",
      "I0819 16:11:27.510776 139671745042304 tpu_estimator.py:430] Shutting down OutfeedController thread.\n",
      "I0819 16:11:27.516801 139670289655552 tpu_estimator.py:425] OutfeedController received shutdown signal, stopping.\n",
      "I0819 16:11:27.522288 139670289655552 tpu_estimator.py:541] Outfeed thread finished, shutting down.\n",
      "I0819 16:11:27.524238 139671745042304 error_handling.py:96] outfeed marked as finished\n",
      "I0819 16:11:27.527711 139671745042304 tpu_estimator.py:606] Shutdown TPU system.\n",
      "I0819 16:11:29.619443 139671745042304 estimator.py:368] Loss for final step: 5.884516.\n",
      "I0819 16:11:29.621157 139671745042304 error_handling.py:96] training_loop marked as finished\n"
     ],
     "name": "stderr"
    },
    {
     "output_type": "stream",
     "text": [
      "Finished training step 32000\n"
     ],
     "name": "stdout"
    },
    {
     "output_type": "stream",
     "text": [
      "I0819 16:11:29.843243 139671745042304 estimator.py:1145] Calling model_fn.\n"
     ],
     "name": "stderr"
    },
    {
     "output_type": "stream",
     "text": [
      "(128, 1, 1, 2048)\n"
     ],
     "name": "stdout"
    },
    {
     "output_type": "stream",
     "text": [
      "I0819 16:11:34.311124 139671745042304 estimator.py:1147] Done calling model_fn.\n",
      "I0819 16:11:34.337904 139671745042304 evaluation.py:255] Starting evaluation at 2019-08-19T16:11:34Z\n",
      "I0819 16:11:34.339128 139671745042304 tpu_estimator.py:499] TPU job name tpu_worker\n",
      "I0819 16:11:34.688861 139671745042304 monitored_session.py:240] Graph was finalized.\n",
      "I0819 16:11:34.763078 139671745042304 saver.py:1280] Restoring parameters from gs://tputestingmnist/FUNIT/FUNIT_only_gen_11/model.ckpt-32000\n",
      "I0819 16:11:39.410159 139671745042304 session_manager.py:500] Running local_init_op.\n",
      "I0819 16:11:39.525887 139671745042304 session_manager.py:502] Done running local_init_op.\n",
      "I0819 16:11:39.813230 139671745042304 tpu_estimator.py:557] Init TPU system\n",
      "I0819 16:11:47.518135 139671745042304 tpu_estimator.py:566] Initialized TPU in 7 seconds\n",
      "I0819 16:11:47.520054 139670298048256 tpu_estimator.py:514] Starting infeed thread controller.\n",
      "I0819 16:11:47.523826 139670289655552 tpu_estimator.py:533] Starting outfeed thread controller.\n",
      "I0819 16:11:47.662317 139671745042304 util.py:98] Initialized dataset iterators in 0 seconds\n",
      "I0819 16:11:47.772391 139671745042304 tpu_estimator.py:590] Enqueue next (1) batch(es) of data to infeed.\n",
      "I0819 16:11:47.773645 139671745042304 tpu_estimator.py:594] Dequeue next (1) batch(es) of data from outfeed.\n",
      "I0819 16:11:57.578824 139670289655552 tpu_estimator.py:275] Outfeed finished for iteration (0, 0)\n",
      "I0819 16:11:57.580438 139671745042304 evaluation.py:167] Evaluation [1/1]\n",
      "I0819 16:11:57.581862 139671745042304 tpu_estimator.py:598] Stop infeed thread controller\n",
      "I0819 16:11:57.582954 139671745042304 tpu_estimator.py:430] Shutting down InfeedController thread.\n",
      "I0819 16:11:57.589118 139670298048256 tpu_estimator.py:425] InfeedController received shutdown signal, stopping.\n",
      "I0819 16:11:57.590534 139670298048256 tpu_estimator.py:530] Infeed thread finished, shutting down.\n",
      "I0819 16:11:57.591706 139671745042304 error_handling.py:96] infeed marked as finished\n",
      "I0819 16:11:57.592635 139671745042304 tpu_estimator.py:602] Stop output thread controller\n",
      "I0819 16:11:57.593587 139671745042304 tpu_estimator.py:430] Shutting down OutfeedController thread.\n",
      "I0819 16:11:57.595331 139670289655552 tpu_estimator.py:425] OutfeedController received shutdown signal, stopping.\n",
      "I0819 16:11:57.596859 139670289655552 tpu_estimator.py:541] Outfeed thread finished, shutting down.\n",
      "I0819 16:11:57.609508 139671745042304 error_handling.py:96] outfeed marked as finished\n",
      "I0819 16:11:57.611294 139671745042304 tpu_estimator.py:606] Shutdown TPU system.\n",
      "I0819 16:11:58.270851 139671745042304 evaluation.py:275] Finished evaluation at 2019-08-19-16:11:58\n",
      "I0819 16:11:58.272510 139671745042304 estimator.py:2039] Saving dict for global step 32000: discriminator_gen_accuracy = 1.0, discriminator_loss = 0.36080247, discriminator_real_accuracy = 0.9863281, generator_loss = 5.385177, global_step = 32000, loss = 5.7492805\n",
      "I0819 16:12:18.627090 139671745042304 estimator.py:2099] Saving 'checkpoint_path' summary for global step 32000: gs://tputestingmnist/FUNIT/FUNIT_only_gen_11/model.ckpt-32000\n",
      "I0819 16:12:19.318075 139671745042304 error_handling.py:96] evaluation_loop marked as finished\n",
      "I0819 16:12:19.522549 139671745042304 estimator.py:1145] Calling model_fn.\n",
      "I0819 16:12:19.524507 139671745042304 tpu_estimator.py:2965] Running infer on CPU\n"
     ],
     "name": "stderr"
    },
    {
     "output_type": "stream",
     "text": [
      "Finished evaluating\n",
      "{'discriminator_gen_accuracy': 1.0, 'discriminator_loss': 0.36080247, 'discriminator_real_accuracy': 0.9863281, 'generator_loss': 5.385177, 'loss': 5.7492805, 'global_step': 32000}\n",
      "(12, 1, 1, 2048)\n"
     ],
     "name": "stdout"
    },
    {
     "output_type": "stream",
     "text": [
      "I0819 16:12:20.284514 139671745042304 estimator.py:1147] Done calling model_fn.\n",
      "I0819 16:12:20.516744 139671745042304 monitored_session.py:240] Graph was finalized.\n",
      "I0819 16:12:20.587576 139671745042304 saver.py:1280] Restoring parameters from gs://tputestingmnist/FUNIT/FUNIT_only_gen_11/model.ckpt-32000\n",
      "I0819 16:12:20.993563 139671745042304 session_manager.py:500] Running local_init_op.\n",
      "I0819 16:12:21.019773 139671745042304 session_manager.py:502] Done running local_init_op.\n",
      "I0819 16:12:21.409572 139671745042304 error_handling.py:96] prediction_loop marked as finished\n",
      "I0819 16:12:21.411179 139671745042304 error_handling.py:96] prediction_loop marked as finished\n"
     ],
     "name": "stderr"
    },
    {
     "output_type": "stream",
     "text": [
      "Finished generating images\n"
     ],
     "name": "stdout"
    },
    {
     "output_type": "stream",
     "text": [
      "I0819 16:12:22.607212 139671745042304 estimator.py:1145] Calling model_fn.\n"
     ],
     "name": "stderr"
    },
    {
     "output_type": "stream",
     "text": [
      "(128, 1, 1, 2048)\n"
     ],
     "name": "stdout"
    },
    {
     "output_type": "stream",
     "text": [
      "I0819 16:12:31.357198 139671745042304 basic_session_run_hooks.py:541] Create CheckpointSaverHook.\n",
      "I0819 16:12:31.592328 139671745042304 estimator.py:1147] Done calling model_fn.\n",
      "I0819 16:12:31.593733 139671745042304 tpu_estimator.py:499] TPU job name tpu_worker\n",
      "I0819 16:12:32.822441 139671745042304 monitored_session.py:240] Graph was finalized.\n",
      "I0819 16:12:33.035341 139671745042304 saver.py:1280] Restoring parameters from gs://tputestingmnist/FUNIT/FUNIT_only_gen_11/model.ckpt-32000\n",
      "I0819 16:12:38.645263 139671745042304 session_manager.py:500] Running local_init_op.\n",
      "I0819 16:12:39.107698 139671745042304 session_manager.py:502] Done running local_init_op.\n",
      "I0819 16:12:44.148120 139671745042304 basic_session_run_hooks.py:606] Saving checkpoints for 32000 into gs://tputestingmnist/FUNIT/FUNIT_only_gen_11/model.ckpt.\n",
      "I0819 16:13:00.067480 139671745042304 util.py:98] Initialized dataset iterators in 0 seconds\n",
      "I0819 16:13:00.069588 139671745042304 session_support.py:332] Installing graceful shutdown hook.\n",
      "I0819 16:13:00.073402 139671745042304 session_support.py:82] Creating heartbeat manager for ['/job:tpu_worker/replica:0/task:0/device:CPU:0']\n",
      "I0819 16:13:00.085123 139671745042304 session_support.py:105] Configuring worker heartbeat: shutdown_mode: WAIT_FOR_COORDINATOR\n",
      "\n",
      "I0819 16:13:00.091253 139671745042304 tpu_estimator.py:557] Init TPU system\n",
      "I0819 16:13:10.282357 139671745042304 tpu_estimator.py:566] Initialized TPU in 10 seconds\n",
      "I0819 16:13:10.284323 139670298048256 tpu_estimator.py:514] Starting infeed thread controller.\n",
      "I0819 16:13:10.287580 139670289655552 tpu_estimator.py:533] Starting outfeed thread controller.\n",
      "I0819 16:13:10.725034 139671745042304 tpu_estimator.py:590] Enqueue next (1000) batch(es) of data to infeed.\n",
      "I0819 16:13:10.726308 139671745042304 tpu_estimator.py:594] Dequeue next (1000) batch(es) of data from outfeed.\n",
      "I0819 16:13:36.334483 139670289655552 tpu_estimator.py:275] Outfeed finished for iteration (0, 0)\n",
      "I0819 16:14:36.581576 139670289655552 tpu_estimator.py:275] Outfeed finished for iteration (0, 207)\n",
      "I0819 16:15:36.831576 139670289655552 tpu_estimator.py:275] Outfeed finished for iteration (0, 414)\n",
      "I0819 16:16:37.083567 139670289655552 tpu_estimator.py:275] Outfeed finished for iteration (0, 621)\n",
      "I0819 16:17:37.329768 139670289655552 tpu_estimator.py:275] Outfeed finished for iteration (0, 828)\n",
      "I0819 16:18:27.793670 139671745042304 basic_session_run_hooks.py:606] Saving checkpoints for 33000 into gs://tputestingmnist/FUNIT/FUNIT_only_gen_11/model.ckpt.\n",
      "I0819 16:18:43.793196 139671745042304 basic_session_run_hooks.py:262] loss = 5.571702, step = 33000\n",
      "I0819 16:18:45.707031 139671745042304 tpu_estimator.py:598] Stop infeed thread controller\n",
      "I0819 16:18:45.708545 139671745042304 tpu_estimator.py:430] Shutting down InfeedController thread.\n",
      "I0819 16:18:45.717216 139670298048256 tpu_estimator.py:425] InfeedController received shutdown signal, stopping.\n",
      "I0819 16:18:45.719101 139670298048256 tpu_estimator.py:530] Infeed thread finished, shutting down.\n",
      "I0819 16:18:45.723954 139671745042304 error_handling.py:96] infeed marked as finished\n",
      "I0819 16:18:45.727509 139671745042304 tpu_estimator.py:602] Stop output thread controller\n",
      "I0819 16:18:45.728915 139671745042304 tpu_estimator.py:430] Shutting down OutfeedController thread.\n",
      "I0819 16:18:45.730332 139670289655552 tpu_estimator.py:425] OutfeedController received shutdown signal, stopping.\n",
      "I0819 16:18:45.732851 139670289655552 tpu_estimator.py:541] Outfeed thread finished, shutting down.\n",
      "I0819 16:18:45.734327 139671745042304 error_handling.py:96] outfeed marked as finished\n",
      "I0819 16:18:45.736449 139671745042304 tpu_estimator.py:606] Shutdown TPU system.\n",
      "I0819 16:18:47.517147 139671745042304 estimator.py:368] Loss for final step: 5.571702.\n",
      "I0819 16:18:47.518657 139671745042304 error_handling.py:96] training_loop marked as finished\n"
     ],
     "name": "stderr"
    },
    {
     "output_type": "stream",
     "text": [
      "Finished training step 33000\n"
     ],
     "name": "stdout"
    },
    {
     "output_type": "stream",
     "text": [
      "I0819 16:18:47.732454 139671745042304 estimator.py:1145] Calling model_fn.\n"
     ],
     "name": "stderr"
    },
    {
     "output_type": "stream",
     "text": [
      "(128, 1, 1, 2048)\n"
     ],
     "name": "stdout"
    },
    {
     "output_type": "stream",
     "text": [
      "I0819 16:18:51.886996 139671745042304 estimator.py:1147] Done calling model_fn.\n",
      "I0819 16:18:51.912025 139671745042304 evaluation.py:255] Starting evaluation at 2019-08-19T16:18:51Z\n",
      "I0819 16:18:51.913225 139671745042304 tpu_estimator.py:499] TPU job name tpu_worker\n",
      "I0819 16:18:52.254823 139671745042304 monitored_session.py:240] Graph was finalized.\n",
      "I0819 16:18:52.348684 139671745042304 saver.py:1280] Restoring parameters from gs://tputestingmnist/FUNIT/FUNIT_only_gen_11/model.ckpt-33000\n",
      "I0819 16:18:56.833516 139671745042304 session_manager.py:500] Running local_init_op.\n",
      "I0819 16:18:56.966481 139671745042304 session_manager.py:502] Done running local_init_op.\n",
      "I0819 16:18:57.241210 139671745042304 tpu_estimator.py:557] Init TPU system\n",
      "I0819 16:19:05.226319 139671745042304 tpu_estimator.py:566] Initialized TPU in 7 seconds\n",
      "I0819 16:19:05.228320 139670298048256 tpu_estimator.py:514] Starting infeed thread controller.\n",
      "I0819 16:19:05.231525 139670289655552 tpu_estimator.py:533] Starting outfeed thread controller.\n",
      "I0819 16:19:05.358300 139671745042304 util.py:98] Initialized dataset iterators in 0 seconds\n",
      "I0819 16:19:05.462980 139671745042304 tpu_estimator.py:590] Enqueue next (1) batch(es) of data to infeed.\n",
      "I0819 16:19:05.464164 139671745042304 tpu_estimator.py:594] Dequeue next (1) batch(es) of data from outfeed.\n",
      "I0819 16:19:15.172927 139670289655552 tpu_estimator.py:275] Outfeed finished for iteration (0, 0)\n",
      "I0819 16:19:15.174678 139671745042304 evaluation.py:167] Evaluation [1/1]\n",
      "I0819 16:19:15.175786 139671745042304 tpu_estimator.py:598] Stop infeed thread controller\n",
      "I0819 16:19:15.177161 139671745042304 tpu_estimator.py:430] Shutting down InfeedController thread.\n",
      "I0819 16:19:15.179212 139670298048256 tpu_estimator.py:425] InfeedController received shutdown signal, stopping.\n",
      "I0819 16:19:15.180876 139670298048256 tpu_estimator.py:530] Infeed thread finished, shutting down.\n",
      "I0819 16:19:15.183223 139671745042304 error_handling.py:96] infeed marked as finished\n",
      "I0819 16:19:15.184223 139671745042304 tpu_estimator.py:602] Stop output thread controller\n",
      "I0819 16:19:15.185576 139671745042304 tpu_estimator.py:430] Shutting down OutfeedController thread.\n",
      "I0819 16:19:15.186663 139670289655552 tpu_estimator.py:425] OutfeedController received shutdown signal, stopping.\n",
      "I0819 16:19:15.187931 139670289655552 tpu_estimator.py:541] Outfeed thread finished, shutting down.\n",
      "I0819 16:19:15.189241 139671745042304 error_handling.py:96] outfeed marked as finished\n",
      "I0819 16:19:15.190680 139671745042304 tpu_estimator.py:606] Shutdown TPU system.\n",
      "I0819 16:19:15.858477 139671745042304 evaluation.py:275] Finished evaluation at 2019-08-19-16:19:15\n",
      "I0819 16:19:15.859821 139671745042304 estimator.py:2039] Saving dict for global step 33000: discriminator_gen_accuracy = 1.0, discriminator_loss = 0.34992412, discriminator_real_accuracy = 0.99121094, generator_loss = 5.3276634, global_step = 33000, loss = 5.6454697\n",
      "I0819 16:19:16.185940 139671745042304 estimator.py:2099] Saving 'checkpoint_path' summary for global step 33000: gs://tputestingmnist/FUNIT/FUNIT_only_gen_11/model.ckpt-33000\n",
      "I0819 16:19:16.483085 139671745042304 error_handling.py:96] evaluation_loop marked as finished\n",
      "I0819 16:19:16.649249 139671745042304 estimator.py:1145] Calling model_fn.\n",
      "I0819 16:19:16.650392 139671745042304 tpu_estimator.py:2965] Running infer on CPU\n"
     ],
     "name": "stderr"
    },
    {
     "output_type": "stream",
     "text": [
      "Finished evaluating\n",
      "{'discriminator_gen_accuracy': 1.0, 'discriminator_loss': 0.34992412, 'discriminator_real_accuracy': 0.99121094, 'generator_loss': 5.3276634, 'loss': 5.6454697, 'global_step': 33000}\n",
      "(12, 1, 1, 2048)\n"
     ],
     "name": "stdout"
    },
    {
     "output_type": "stream",
     "text": [
      "I0819 16:19:17.308261 139671745042304 estimator.py:1147] Done calling model_fn.\n",
      "I0819 16:19:17.521766 139671745042304 monitored_session.py:240] Graph was finalized.\n",
      "I0819 16:19:17.585929 139671745042304 saver.py:1280] Restoring parameters from gs://tputestingmnist/FUNIT/FUNIT_only_gen_11/model.ckpt-33000\n",
      "I0819 16:19:17.990969 139671745042304 session_manager.py:500] Running local_init_op.\n",
      "I0819 16:19:18.008854 139671745042304 session_manager.py:502] Done running local_init_op.\n",
      "I0819 16:19:18.349465 139671745042304 error_handling.py:96] prediction_loop marked as finished\n",
      "I0819 16:19:18.350729 139671745042304 error_handling.py:96] prediction_loop marked as finished\n"
     ],
     "name": "stderr"
    },
    {
     "output_type": "stream",
     "text": [
      "Finished generating images\n"
     ],
     "name": "stdout"
    },
    {
     "output_type": "stream",
     "text": [
      "I0819 16:19:19.508785 139671745042304 estimator.py:1145] Calling model_fn.\n"
     ],
     "name": "stderr"
    },
    {
     "output_type": "stream",
     "text": [
      "(128, 1, 1, 2048)\n"
     ],
     "name": "stdout"
    },
    {
     "output_type": "stream",
     "text": [
      "I0819 16:19:27.856652 139671745042304 basic_session_run_hooks.py:541] Create CheckpointSaverHook.\n",
      "I0819 16:19:28.076695 139671745042304 estimator.py:1147] Done calling model_fn.\n",
      "I0819 16:19:28.078243 139671745042304 tpu_estimator.py:499] TPU job name tpu_worker\n",
      "I0819 16:19:29.289186 139671745042304 monitored_session.py:240] Graph was finalized.\n",
      "I0819 16:19:29.447819 139671745042304 saver.py:1280] Restoring parameters from gs://tputestingmnist/FUNIT/FUNIT_only_gen_11/model.ckpt-33000\n",
      "I0819 16:19:35.551280 139671745042304 session_manager.py:500] Running local_init_op.\n",
      "I0819 16:19:35.980874 139671745042304 session_manager.py:502] Done running local_init_op.\n",
      "I0819 16:19:41.027007 139671745042304 basic_session_run_hooks.py:606] Saving checkpoints for 33000 into gs://tputestingmnist/FUNIT/FUNIT_only_gen_11/model.ckpt.\n",
      "I0819 16:20:00.290089 139671745042304 util.py:98] Initialized dataset iterators in 0 seconds\n",
      "I0819 16:20:00.291868 139671745042304 session_support.py:332] Installing graceful shutdown hook.\n",
      "I0819 16:20:00.298605 139671745042304 session_support.py:82] Creating heartbeat manager for ['/job:tpu_worker/replica:0/task:0/device:CPU:0']\n",
      "I0819 16:20:00.307028 139671745042304 session_support.py:105] Configuring worker heartbeat: shutdown_mode: WAIT_FOR_COORDINATOR\n",
      "\n",
      "I0819 16:20:00.314723 139671745042304 tpu_estimator.py:557] Init TPU system\n",
      "I0819 16:20:10.520832 139671745042304 tpu_estimator.py:566] Initialized TPU in 10 seconds\n",
      "I0819 16:20:10.523186 139670298048256 tpu_estimator.py:514] Starting infeed thread controller.\n",
      "I0819 16:20:10.523977 139670289655552 tpu_estimator.py:533] Starting outfeed thread controller.\n",
      "I0819 16:20:10.970972 139671745042304 tpu_estimator.py:590] Enqueue next (1000) batch(es) of data to infeed.\n",
      "I0819 16:20:10.972347 139671745042304 tpu_estimator.py:594] Dequeue next (1000) batch(es) of data from outfeed.\n",
      "I0819 16:20:36.883059 139670289655552 tpu_estimator.py:275] Outfeed finished for iteration (0, 0)\n",
      "I0819 16:21:37.129699 139670289655552 tpu_estimator.py:275] Outfeed finished for iteration (0, 207)\n",
      "I0819 16:22:37.377805 139670289655552 tpu_estimator.py:275] Outfeed finished for iteration (0, 414)\n",
      "I0819 16:23:37.625187 139670289655552 tpu_estimator.py:275] Outfeed finished for iteration (0, 621)\n",
      "I0819 16:24:37.872835 139670289655552 tpu_estimator.py:275] Outfeed finished for iteration (0, 828)\n",
      "I0819 16:25:28.320099 139671745042304 basic_session_run_hooks.py:606] Saving checkpoints for 34000 into gs://tputestingmnist/FUNIT/FUNIT_only_gen_11/model.ckpt.\n",
      "I0819 16:25:48.239219 139671745042304 basic_session_run_hooks.py:262] loss = 3.643405, step = 34000\n",
      "I0819 16:25:50.318610 139671745042304 tpu_estimator.py:598] Stop infeed thread controller\n",
      "I0819 16:25:50.320173 139671745042304 tpu_estimator.py:430] Shutting down InfeedController thread.\n",
      "I0819 16:25:50.326308 139670298048256 tpu_estimator.py:425] InfeedController received shutdown signal, stopping.\n",
      "I0819 16:25:50.330276 139670298048256 tpu_estimator.py:530] Infeed thread finished, shutting down.\n",
      "I0819 16:25:50.335572 139671745042304 error_handling.py:96] infeed marked as finished\n",
      "I0819 16:25:50.338354 139671745042304 tpu_estimator.py:602] Stop output thread controller\n",
      "I0819 16:25:50.339165 139671745042304 tpu_estimator.py:430] Shutting down OutfeedController thread.\n",
      "I0819 16:25:50.340265 139670289655552 tpu_estimator.py:425] OutfeedController received shutdown signal, stopping.\n",
      "I0819 16:25:50.342258 139670289655552 tpu_estimator.py:541] Outfeed thread finished, shutting down.\n",
      "I0819 16:25:50.346479 139671745042304 error_handling.py:96] outfeed marked as finished\n",
      "I0819 16:25:50.347630 139671745042304 tpu_estimator.py:606] Shutdown TPU system.\n",
      "I0819 16:25:52.135052 139671745042304 estimator.py:368] Loss for final step: 3.643405.\n",
      "I0819 16:25:52.136455 139671745042304 error_handling.py:96] training_loop marked as finished\n",
      "I0819 16:25:52.327080 139671745042304 estimator.py:1145] Calling model_fn.\n"
     ],
     "name": "stderr"
    },
    {
     "output_type": "stream",
     "text": [
      "Finished training step 34000\n",
      "(128, 1, 1, 2048)\n"
     ],
     "name": "stdout"
    },
    {
     "output_type": "stream",
     "text": [
      "I0819 16:25:56.481538 139671745042304 estimator.py:1147] Done calling model_fn.\n",
      "I0819 16:25:56.508168 139671745042304 evaluation.py:255] Starting evaluation at 2019-08-19T16:25:56Z\n",
      "I0819 16:25:56.509321 139671745042304 tpu_estimator.py:499] TPU job name tpu_worker\n",
      "I0819 16:25:56.851663 139671745042304 monitored_session.py:240] Graph was finalized.\n",
      "I0819 16:25:56.914422 139671745042304 saver.py:1280] Restoring parameters from gs://tputestingmnist/FUNIT/FUNIT_only_gen_11/model.ckpt-34000\n",
      "I0819 16:26:03.012637 139671745042304 session_manager.py:500] Running local_init_op.\n",
      "I0819 16:26:03.142385 139671745042304 session_manager.py:502] Done running local_init_op.\n",
      "I0819 16:26:03.429754 139671745042304 tpu_estimator.py:557] Init TPU system\n",
      "I0819 16:26:11.299437 139671745042304 tpu_estimator.py:566] Initialized TPU in 7 seconds\n",
      "I0819 16:26:11.301118 139670298048256 tpu_estimator.py:514] Starting infeed thread controller.\n",
      "I0819 16:26:11.301713 139670289655552 tpu_estimator.py:533] Starting outfeed thread controller.\n",
      "I0819 16:26:11.439668 139671745042304 util.py:98] Initialized dataset iterators in 0 seconds\n",
      "I0819 16:26:11.545781 139671745042304 tpu_estimator.py:590] Enqueue next (1) batch(es) of data to infeed.\n",
      "I0819 16:26:11.546975 139671745042304 tpu_estimator.py:594] Dequeue next (1) batch(es) of data from outfeed.\n",
      "I0819 16:26:21.416639 139670289655552 tpu_estimator.py:275] Outfeed finished for iteration (0, 0)\n",
      "I0819 16:26:21.419793 139671745042304 evaluation.py:167] Evaluation [1/1]\n",
      "I0819 16:26:21.422227 139671745042304 tpu_estimator.py:598] Stop infeed thread controller\n",
      "I0819 16:26:21.425928 139671745042304 tpu_estimator.py:430] Shutting down InfeedController thread.\n",
      "I0819 16:26:21.428105 139670298048256 tpu_estimator.py:425] InfeedController received shutdown signal, stopping.\n",
      "I0819 16:26:21.430004 139670298048256 tpu_estimator.py:530] Infeed thread finished, shutting down.\n",
      "I0819 16:26:21.434772 139671745042304 error_handling.py:96] infeed marked as finished\n",
      "I0819 16:26:21.436343 139671745042304 tpu_estimator.py:602] Stop output thread controller\n",
      "I0819 16:26:21.437323 139671745042304 tpu_estimator.py:430] Shutting down OutfeedController thread.\n",
      "I0819 16:26:21.439570 139670289655552 tpu_estimator.py:425] OutfeedController received shutdown signal, stopping.\n",
      "I0819 16:26:21.440645 139670289655552 tpu_estimator.py:541] Outfeed thread finished, shutting down.\n",
      "I0819 16:26:21.442214 139671745042304 error_handling.py:96] outfeed marked as finished\n",
      "I0819 16:26:21.443230 139671745042304 tpu_estimator.py:606] Shutdown TPU system.\n",
      "I0819 16:26:22.115262 139671745042304 evaluation.py:275] Finished evaluation at 2019-08-19-16:26:22\n",
      "I0819 16:26:22.116492 139671745042304 estimator.py:2039] Saving dict for global step 34000: discriminator_gen_accuracy = 0.8828125, discriminator_loss = 1.1086335, discriminator_real_accuracy = 0.69628906, generator_loss = 1.0005037, global_step = 34000, loss = 2.1263523\n",
      "I0819 16:26:22.427050 139671745042304 estimator.py:2099] Saving 'checkpoint_path' summary for global step 34000: gs://tputestingmnist/FUNIT/FUNIT_only_gen_11/model.ckpt-34000\n",
      "I0819 16:26:22.718080 139671745042304 error_handling.py:96] evaluation_loop marked as finished\n",
      "I0819 16:26:22.899097 139671745042304 estimator.py:1145] Calling model_fn.\n",
      "I0819 16:26:22.900665 139671745042304 tpu_estimator.py:2965] Running infer on CPU\n"
     ],
     "name": "stderr"
    },
    {
     "output_type": "stream",
     "text": [
      "Finished evaluating\n",
      "{'discriminator_gen_accuracy': 0.8828125, 'discriminator_loss': 1.1086335, 'discriminator_real_accuracy': 0.69628906, 'generator_loss': 1.0005037, 'loss': 2.1263523, 'global_step': 34000}\n",
      "(12, 1, 1, 2048)\n"
     ],
     "name": "stdout"
    },
    {
     "output_type": "stream",
     "text": [
      "I0819 16:26:23.583893 139671745042304 estimator.py:1147] Done calling model_fn.\n",
      "I0819 16:26:23.802126 139671745042304 monitored_session.py:240] Graph was finalized.\n",
      "I0819 16:26:23.908220 139671745042304 saver.py:1280] Restoring parameters from gs://tputestingmnist/FUNIT/FUNIT_only_gen_11/model.ckpt-34000\n",
      "I0819 16:26:24.338022 139671745042304 session_manager.py:500] Running local_init_op.\n",
      "I0819 16:26:24.357293 139671745042304 session_manager.py:502] Done running local_init_op.\n",
      "I0819 16:26:24.729179 139671745042304 error_handling.py:96] prediction_loop marked as finished\n",
      "I0819 16:26:24.730669 139671745042304 error_handling.py:96] prediction_loop marked as finished\n"
     ],
     "name": "stderr"
    },
    {
     "output_type": "stream",
     "text": [
      "Finished generating images\n"
     ],
     "name": "stdout"
    },
    {
     "output_type": "stream",
     "text": [
      "I0819 16:26:26.006023 139671745042304 estimator.py:1145] Calling model_fn.\n"
     ],
     "name": "stderr"
    },
    {
     "output_type": "stream",
     "text": [
      "(128, 1, 1, 2048)\n"
     ],
     "name": "stdout"
    },
    {
     "output_type": "stream",
     "text": [
      "I0819 16:26:34.422046 139671745042304 basic_session_run_hooks.py:541] Create CheckpointSaverHook.\n",
      "I0819 16:26:34.646319 139671745042304 estimator.py:1147] Done calling model_fn.\n",
      "I0819 16:26:34.647673 139671745042304 tpu_estimator.py:499] TPU job name tpu_worker\n",
      "I0819 16:26:35.874238 139671745042304 monitored_session.py:240] Graph was finalized.\n",
      "I0819 16:26:36.034484 139671745042304 saver.py:1280] Restoring parameters from gs://tputestingmnist/FUNIT/FUNIT_only_gen_11/model.ckpt-34000\n",
      "I0819 16:26:42.203928 139671745042304 session_manager.py:500] Running local_init_op.\n",
      "I0819 16:26:42.653964 139671745042304 session_manager.py:502] Done running local_init_op.\n",
      "I0819 16:26:47.864357 139671745042304 basic_session_run_hooks.py:606] Saving checkpoints for 34000 into gs://tputestingmnist/FUNIT/FUNIT_only_gen_11/model.ckpt.\n",
      "I0819 16:27:08.545719 139671745042304 util.py:98] Initialized dataset iterators in 0 seconds\n",
      "I0819 16:27:08.547037 139671745042304 session_support.py:332] Installing graceful shutdown hook.\n",
      "I0819 16:27:08.552329 139671745042304 session_support.py:82] Creating heartbeat manager for ['/job:tpu_worker/replica:0/task:0/device:CPU:0']\n",
      "I0819 16:27:08.558356 139671745042304 session_support.py:105] Configuring worker heartbeat: shutdown_mode: WAIT_FOR_COORDINATOR\n",
      "\n",
      "I0819 16:27:08.564014 139671745042304 tpu_estimator.py:557] Init TPU system\n",
      "I0819 16:27:18.962970 139671745042304 tpu_estimator.py:566] Initialized TPU in 10 seconds\n",
      "I0819 16:27:18.964543 139670298048256 tpu_estimator.py:514] Starting infeed thread controller.\n",
      "I0819 16:27:18.966729 139670289655552 tpu_estimator.py:533] Starting outfeed thread controller.\n",
      "I0819 16:27:19.442339 139671745042304 tpu_estimator.py:590] Enqueue next (1000) batch(es) of data to infeed.\n",
      "I0819 16:27:19.443612 139671745042304 tpu_estimator.py:594] Dequeue next (1000) batch(es) of data from outfeed.\n",
      "I0819 16:27:44.977803 139670289655552 tpu_estimator.py:275] Outfeed finished for iteration (0, 0)\n",
      "I0819 16:28:45.225256 139670289655552 tpu_estimator.py:275] Outfeed finished for iteration (0, 207)\n",
      "I0819 16:29:45.474689 139670289655552 tpu_estimator.py:275] Outfeed finished for iteration (0, 414)\n",
      "I0819 16:30:45.722214 139670289655552 tpu_estimator.py:275] Outfeed finished for iteration (0, 621)\n",
      "I0819 16:31:45.970540 139670289655552 tpu_estimator.py:275] Outfeed finished for iteration (0, 828)\n",
      "I0819 16:32:36.414251 139671745042304 basic_session_run_hooks.py:606] Saving checkpoints for 35000 into gs://tputestingmnist/FUNIT/FUNIT_only_gen_11/model.ckpt.\n",
      "I0819 16:32:59.729905 139671745042304 basic_session_run_hooks.py:262] loss = 2.4659076, step = 35000\n",
      "I0819 16:33:01.631468 139671745042304 tpu_estimator.py:598] Stop infeed thread controller\n",
      "I0819 16:33:01.632567 139671745042304 tpu_estimator.py:430] Shutting down InfeedController thread.\n",
      "I0819 16:33:01.637734 139670298048256 tpu_estimator.py:425] InfeedController received shutdown signal, stopping.\n",
      "I0819 16:33:01.639223 139670298048256 tpu_estimator.py:530] Infeed thread finished, shutting down.\n",
      "I0819 16:33:01.641413 139671745042304 error_handling.py:96] infeed marked as finished\n",
      "I0819 16:33:01.642376 139671745042304 tpu_estimator.py:602] Stop output thread controller\n",
      "I0819 16:33:01.645832 139671745042304 tpu_estimator.py:430] Shutting down OutfeedController thread.\n",
      "I0819 16:33:01.649377 139670289655552 tpu_estimator.py:425] OutfeedController received shutdown signal, stopping.\n",
      "I0819 16:33:01.651371 139670289655552 tpu_estimator.py:541] Outfeed thread finished, shutting down.\n",
      "I0819 16:33:01.653799 139671745042304 error_handling.py:96] outfeed marked as finished\n",
      "I0819 16:33:01.655074 139671745042304 tpu_estimator.py:606] Shutdown TPU system.\n",
      "I0819 16:33:03.460648 139671745042304 estimator.py:368] Loss for final step: 2.4659076.\n",
      "I0819 16:33:03.461992 139671745042304 error_handling.py:96] training_loop marked as finished\n",
      "I0819 16:33:03.646458 139671745042304 estimator.py:1145] Calling model_fn.\n"
     ],
     "name": "stderr"
    },
    {
     "output_type": "stream",
     "text": [
      "Finished training step 35000\n",
      "(128, 1, 1, 2048)\n"
     ],
     "name": "stdout"
    },
    {
     "output_type": "stream",
     "text": [
      "I0819 16:33:07.029081 139671745042304 estimator.py:1147] Done calling model_fn.\n",
      "I0819 16:33:07.053788 139671745042304 evaluation.py:255] Starting evaluation at 2019-08-19T16:33:07Z\n",
      "I0819 16:33:07.054890 139671745042304 tpu_estimator.py:499] TPU job name tpu_worker\n",
      "I0819 16:33:07.395532 139671745042304 monitored_session.py:240] Graph was finalized.\n",
      "I0819 16:33:07.461101 139671745042304 saver.py:1280] Restoring parameters from gs://tputestingmnist/FUNIT/FUNIT_only_gen_11/model.ckpt-35000\n",
      "I0819 16:33:13.661526 139671745042304 session_manager.py:500] Running local_init_op.\n",
      "I0819 16:33:13.796868 139671745042304 session_manager.py:502] Done running local_init_op.\n",
      "I0819 16:33:14.078544 139671745042304 tpu_estimator.py:557] Init TPU system\n",
      "I0819 16:33:21.959846 139671745042304 tpu_estimator.py:566] Initialized TPU in 7 seconds\n",
      "I0819 16:33:21.961433 139670314833664 tpu_estimator.py:514] Starting infeed thread controller.\n",
      "I0819 16:33:21.970689 139670298048256 tpu_estimator.py:533] Starting outfeed thread controller.\n",
      "I0819 16:33:22.102733 139671745042304 util.py:98] Initialized dataset iterators in 0 seconds\n",
      "I0819 16:33:22.206353 139671745042304 tpu_estimator.py:590] Enqueue next (1) batch(es) of data to infeed.\n",
      "I0819 16:33:22.207739 139671745042304 tpu_estimator.py:594] Dequeue next (1) batch(es) of data from outfeed.\n",
      "I0819 16:33:31.910298 139670298048256 tpu_estimator.py:275] Outfeed finished for iteration (0, 0)\n",
      "I0819 16:33:31.912002 139671745042304 evaluation.py:167] Evaluation [1/1]\n",
      "I0819 16:33:31.913689 139671745042304 tpu_estimator.py:598] Stop infeed thread controller\n",
      "I0819 16:33:31.914839 139671745042304 tpu_estimator.py:430] Shutting down InfeedController thread.\n",
      "I0819 16:33:31.916678 139670314833664 tpu_estimator.py:425] InfeedController received shutdown signal, stopping.\n",
      "I0819 16:33:31.918774 139670314833664 tpu_estimator.py:530] Infeed thread finished, shutting down.\n",
      "I0819 16:33:31.920963 139671745042304 error_handling.py:96] infeed marked as finished\n",
      "I0819 16:33:31.922942 139671745042304 tpu_estimator.py:602] Stop output thread controller\n",
      "I0819 16:33:31.924231 139671745042304 tpu_estimator.py:430] Shutting down OutfeedController thread.\n",
      "I0819 16:33:31.927066 139670298048256 tpu_estimator.py:425] OutfeedController received shutdown signal, stopping.\n",
      "I0819 16:33:31.928707 139670298048256 tpu_estimator.py:541] Outfeed thread finished, shutting down.\n",
      "I0819 16:33:31.930478 139671745042304 error_handling.py:96] outfeed marked as finished\n",
      "I0819 16:33:31.932959 139671745042304 tpu_estimator.py:606] Shutdown TPU system.\n",
      "I0819 16:33:32.605740 139671745042304 evaluation.py:275] Finished evaluation at 2019-08-19-16:33:32\n",
      "I0819 16:33:32.606961 139671745042304 estimator.py:2039] Saving dict for global step 35000: discriminator_gen_accuracy = 1.0, discriminator_loss = 1.0195954, discriminator_real_accuracy = 0.69628906, generator_loss = 1.2111359, global_step = 35000, loss = 2.210104\n",
      "I0819 16:33:32.967664 139671745042304 estimator.py:2099] Saving 'checkpoint_path' summary for global step 35000: gs://tputestingmnist/FUNIT/FUNIT_only_gen_11/model.ckpt-35000\n",
      "I0819 16:33:33.294908 139671745042304 error_handling.py:96] evaluation_loop marked as finished\n",
      "I0819 16:33:33.471395 139671745042304 estimator.py:1145] Calling model_fn.\n",
      "I0819 16:33:33.472701 139671745042304 tpu_estimator.py:2965] Running infer on CPU\n"
     ],
     "name": "stderr"
    },
    {
     "output_type": "stream",
     "text": [
      "Finished evaluating\n",
      "{'discriminator_gen_accuracy': 1.0, 'discriminator_loss': 1.0195954, 'discriminator_real_accuracy': 0.69628906, 'generator_loss': 1.2111359, 'loss': 2.210104, 'global_step': 35000}\n",
      "(12, 1, 1, 2048)\n"
     ],
     "name": "stdout"
    },
    {
     "output_type": "stream",
     "text": [
      "I0819 16:33:34.927185 139671745042304 estimator.py:1147] Done calling model_fn.\n",
      "I0819 16:33:35.137685 139671745042304 monitored_session.py:240] Graph was finalized.\n",
      "I0819 16:33:35.189836 139671745042304 saver.py:1280] Restoring parameters from gs://tputestingmnist/FUNIT/FUNIT_only_gen_11/model.ckpt-35000\n",
      "I0819 16:33:35.586087 139671745042304 session_manager.py:500] Running local_init_op.\n",
      "I0819 16:33:35.605025 139671745042304 session_manager.py:502] Done running local_init_op.\n",
      "I0819 16:33:36.015740 139671745042304 error_handling.py:96] prediction_loop marked as finished\n",
      "I0819 16:33:36.017414 139671745042304 error_handling.py:96] prediction_loop marked as finished\n"
     ],
     "name": "stderr"
    },
    {
     "output_type": "stream",
     "text": [
      "Finished generating images\n"
     ],
     "name": "stdout"
    },
    {
     "output_type": "stream",
     "text": [
      "I0819 16:33:37.144871 139671745042304 estimator.py:1145] Calling model_fn.\n"
     ],
     "name": "stderr"
    },
    {
     "output_type": "stream",
     "text": [
      "(128, 1, 1, 2048)\n"
     ],
     "name": "stdout"
    },
    {
     "output_type": "stream",
     "text": [
      "I0819 16:33:45.000563 139671745042304 basic_session_run_hooks.py:541] Create CheckpointSaverHook.\n",
      "I0819 16:33:45.221693 139671745042304 estimator.py:1147] Done calling model_fn.\n",
      "I0819 16:33:45.223232 139671745042304 tpu_estimator.py:499] TPU job name tpu_worker\n",
      "I0819 16:33:46.447943 139671745042304 monitored_session.py:240] Graph was finalized.\n",
      "I0819 16:33:46.678831 139671745042304 saver.py:1280] Restoring parameters from gs://tputestingmnist/FUNIT/FUNIT_only_gen_11/model.ckpt-35000\n",
      "I0819 16:33:52.842264 139671745042304 session_manager.py:500] Running local_init_op.\n",
      "I0819 16:33:53.292294 139671745042304 session_manager.py:502] Done running local_init_op.\n",
      "I0819 16:33:58.258042 139671745042304 basic_session_run_hooks.py:606] Saving checkpoints for 35000 into gs://tputestingmnist/FUNIT/FUNIT_only_gen_11/model.ckpt.\n",
      "I0819 16:34:15.108809 139671745042304 util.py:98] Initialized dataset iterators in 0 seconds\n",
      "I0819 16:34:15.110160 139671745042304 session_support.py:332] Installing graceful shutdown hook.\n",
      "I0819 16:34:15.120821 139671745042304 session_support.py:82] Creating heartbeat manager for ['/job:tpu_worker/replica:0/task:0/device:CPU:0']\n",
      "I0819 16:34:15.126211 139671745042304 session_support.py:105] Configuring worker heartbeat: shutdown_mode: WAIT_FOR_COORDINATOR\n",
      "\n",
      "I0819 16:34:15.132045 139671745042304 tpu_estimator.py:557] Init TPU system\n",
      "I0819 16:34:25.281915 139671745042304 tpu_estimator.py:566] Initialized TPU in 10 seconds\n",
      "I0819 16:34:25.283822 139670298048256 tpu_estimator.py:514] Starting infeed thread controller.\n",
      "I0819 16:34:25.285392 139670289655552 tpu_estimator.py:533] Starting outfeed thread controller.\n",
      "I0819 16:34:25.722942 139671745042304 tpu_estimator.py:590] Enqueue next (1000) batch(es) of data to infeed.\n",
      "I0819 16:34:25.724250 139671745042304 tpu_estimator.py:594] Dequeue next (1000) batch(es) of data from outfeed.\n",
      "I0819 16:34:51.476080 139670289655552 tpu_estimator.py:275] Outfeed finished for iteration (0, 0)\n",
      "I0819 16:35:51.724163 139670289655552 tpu_estimator.py:275] Outfeed finished for iteration (0, 207)\n",
      "I0819 16:36:51.972753 139670289655552 tpu_estimator.py:275] Outfeed finished for iteration (0, 414)\n",
      "I0819 16:37:52.221004 139670289655552 tpu_estimator.py:275] Outfeed finished for iteration (0, 621)\n",
      "I0819 16:38:52.469274 139670289655552 tpu_estimator.py:275] Outfeed finished for iteration (0, 828)\n",
      "I0819 16:39:42.944813 139671745042304 basic_session_run_hooks.py:606] Saving checkpoints for 36000 into gs://tputestingmnist/FUNIT/FUNIT_only_gen_11/model.ckpt.\n",
      "I0819 16:40:04.694074 139671745042304 basic_session_run_hooks.py:262] loss = 9162.03, step = 36000\n",
      "I0819 16:40:06.559859 139671745042304 tpu_estimator.py:598] Stop infeed thread controller\n",
      "I0819 16:40:06.560971 139671745042304 tpu_estimator.py:430] Shutting down InfeedController thread.\n",
      "I0819 16:40:06.570553 139670298048256 tpu_estimator.py:425] InfeedController received shutdown signal, stopping.\n",
      "I0819 16:40:06.571914 139670298048256 tpu_estimator.py:530] Infeed thread finished, shutting down.\n",
      "I0819 16:40:06.573147 139671745042304 error_handling.py:96] infeed marked as finished\n",
      "I0819 16:40:06.575696 139671745042304 tpu_estimator.py:602] Stop output thread controller\n",
      "I0819 16:40:06.577560 139671745042304 tpu_estimator.py:430] Shutting down OutfeedController thread.\n",
      "I0819 16:40:06.580181 139670289655552 tpu_estimator.py:425] OutfeedController received shutdown signal, stopping.\n",
      "I0819 16:40:06.581362 139670289655552 tpu_estimator.py:541] Outfeed thread finished, shutting down.\n",
      "I0819 16:40:06.583823 139671745042304 error_handling.py:96] outfeed marked as finished\n",
      "I0819 16:40:06.585452 139671745042304 tpu_estimator.py:606] Shutdown TPU system.\n",
      "I0819 16:40:08.363560 139671745042304 estimator.py:368] Loss for final step: 9162.03.\n",
      "I0819 16:40:08.364892 139671745042304 error_handling.py:96] training_loop marked as finished\n",
      "I0819 16:40:08.554421 139671745042304 estimator.py:1145] Calling model_fn.\n"
     ],
     "name": "stderr"
    },
    {
     "output_type": "stream",
     "text": [
      "Finished training step 36000\n",
      "(128, 1, 1, 2048)\n"
     ],
     "name": "stdout"
    },
    {
     "output_type": "stream",
     "text": [
      "I0819 16:40:11.962723 139671745042304 estimator.py:1147] Done calling model_fn.\n",
      "I0819 16:40:11.990694 139671745042304 evaluation.py:255] Starting evaluation at 2019-08-19T16:40:11Z\n",
      "I0819 16:40:11.991750 139671745042304 tpu_estimator.py:499] TPU job name tpu_worker\n",
      "I0819 16:40:12.342074 139671745042304 monitored_session.py:240] Graph was finalized.\n",
      "I0819 16:40:12.412759 139671745042304 saver.py:1280] Restoring parameters from gs://tputestingmnist/FUNIT/FUNIT_only_gen_11/model.ckpt-36000\n",
      "I0819 16:40:16.899108 139671745042304 session_manager.py:500] Running local_init_op.\n",
      "I0819 16:40:17.007869 139671745042304 session_manager.py:502] Done running local_init_op.\n",
      "I0819 16:40:17.253406 139671745042304 tpu_estimator.py:557] Init TPU system\n",
      "I0819 16:40:24.865922 139671745042304 tpu_estimator.py:566] Initialized TPU in 7 seconds\n",
      "I0819 16:40:24.867744 139670314833664 tpu_estimator.py:514] Starting infeed thread controller.\n",
      "I0819 16:40:24.869479 139670298048256 tpu_estimator.py:533] Starting outfeed thread controller.\n",
      "I0819 16:40:24.995487 139671745042304 util.py:98] Initialized dataset iterators in 0 seconds\n",
      "I0819 16:40:25.092350 139671745042304 tpu_estimator.py:590] Enqueue next (1) batch(es) of data to infeed.\n",
      "I0819 16:40:25.093534 139671745042304 tpu_estimator.py:594] Dequeue next (1) batch(es) of data from outfeed.\n",
      "I0819 16:40:34.804797 139670298048256 tpu_estimator.py:275] Outfeed finished for iteration (0, 0)\n",
      "I0819 16:40:34.807084 139671745042304 evaluation.py:167] Evaluation [1/1]\n",
      "I0819 16:40:34.808312 139671745042304 tpu_estimator.py:598] Stop infeed thread controller\n",
      "I0819 16:40:34.809456 139671745042304 tpu_estimator.py:430] Shutting down InfeedController thread.\n",
      "I0819 16:40:34.811223 139670314833664 tpu_estimator.py:425] InfeedController received shutdown signal, stopping.\n",
      "I0819 16:40:34.812580 139670314833664 tpu_estimator.py:530] Infeed thread finished, shutting down.\n",
      "I0819 16:40:34.814208 139671745042304 error_handling.py:96] infeed marked as finished\n",
      "I0819 16:40:34.816417 139671745042304 tpu_estimator.py:602] Stop output thread controller\n",
      "I0819 16:40:34.817823 139671745042304 tpu_estimator.py:430] Shutting down OutfeedController thread.\n",
      "I0819 16:40:34.819340 139670298048256 tpu_estimator.py:425] OutfeedController received shutdown signal, stopping.\n",
      "I0819 16:40:34.820354 139670298048256 tpu_estimator.py:541] Outfeed thread finished, shutting down.\n",
      "I0819 16:40:34.823476 139671745042304 error_handling.py:96] outfeed marked as finished\n",
      "I0819 16:40:34.824820 139671745042304 tpu_estimator.py:606] Shutdown TPU system.\n",
      "I0819 16:40:35.523854 139671745042304 evaluation.py:275] Finished evaluation at 2019-08-19-16:40:35\n",
      "I0819 16:40:35.525497 139671745042304 estimator.py:2039] Saving dict for global step 36000: discriminator_gen_accuracy = 1.0, discriminator_loss = 213.22598, discriminator_real_accuracy = 0.8457031, generator_loss = 8577.422, global_step = 36000, loss = 7732.7583\n",
      "I0819 16:40:36.051822 139671745042304 estimator.py:2099] Saving 'checkpoint_path' summary for global step 36000: gs://tputestingmnist/FUNIT/FUNIT_only_gen_11/model.ckpt-36000\n",
      "I0819 16:40:36.314331 139671745042304 error_handling.py:96] evaluation_loop marked as finished\n",
      "I0819 16:40:36.503006 139671745042304 estimator.py:1145] Calling model_fn.\n",
      "I0819 16:40:36.504291 139671745042304 tpu_estimator.py:2965] Running infer on CPU\n"
     ],
     "name": "stderr"
    },
    {
     "output_type": "stream",
     "text": [
      "Finished evaluating\n",
      "{'discriminator_gen_accuracy': 1.0, 'discriminator_loss': 213.22598, 'discriminator_real_accuracy': 0.8457031, 'generator_loss': 8577.422, 'loss': 7732.7583, 'global_step': 36000}\n",
      "(12, 1, 1, 2048)\n"
     ],
     "name": "stdout"
    },
    {
     "output_type": "stream",
     "text": [
      "I0819 16:40:37.971370 139671745042304 estimator.py:1147] Done calling model_fn.\n",
      "I0819 16:40:38.184172 139671745042304 monitored_session.py:240] Graph was finalized.\n",
      "I0819 16:40:38.249058 139671745042304 saver.py:1280] Restoring parameters from gs://tputestingmnist/FUNIT/FUNIT_only_gen_11/model.ckpt-36000\n",
      "I0819 16:40:38.652432 139671745042304 session_manager.py:500] Running local_init_op.\n",
      "I0819 16:40:38.681413 139671745042304 session_manager.py:502] Done running local_init_op.\n",
      "I0819 16:40:39.056814 139671745042304 error_handling.py:96] prediction_loop marked as finished\n",
      "I0819 16:40:39.058286 139671745042304 error_handling.py:96] prediction_loop marked as finished\n"
     ],
     "name": "stderr"
    },
    {
     "output_type": "stream",
     "text": [
      "Finished generating images\n"
     ],
     "name": "stdout"
    },
    {
     "output_type": "stream",
     "text": [
      "I0819 16:40:40.265713 139671745042304 estimator.py:1145] Calling model_fn.\n"
     ],
     "name": "stderr"
    },
    {
     "output_type": "stream",
     "text": [
      "(128, 1, 1, 2048)\n"
     ],
     "name": "stdout"
    },
    {
     "output_type": "stream",
     "text": [
      "I0819 16:40:48.109449 139671745042304 basic_session_run_hooks.py:541] Create CheckpointSaverHook.\n",
      "I0819 16:40:48.339366 139671745042304 estimator.py:1147] Done calling model_fn.\n",
      "I0819 16:40:48.340898 139671745042304 tpu_estimator.py:499] TPU job name tpu_worker\n",
      "I0819 16:40:49.096298 139671745042304 monitored_session.py:240] Graph was finalized.\n",
      "I0819 16:40:49.277637 139671745042304 saver.py:1280] Restoring parameters from gs://tputestingmnist/FUNIT/FUNIT_only_gen_11/model.ckpt-36000\n",
      "I0819 16:40:55.475375 139671745042304 session_manager.py:500] Running local_init_op.\n",
      "I0819 16:40:55.940564 139671745042304 session_manager.py:502] Done running local_init_op.\n",
      "I0819 16:41:01.006751 139671745042304 basic_session_run_hooks.py:606] Saving checkpoints for 36000 into gs://tputestingmnist/FUNIT/FUNIT_only_gen_11/model.ckpt.\n",
      "I0819 16:41:19.605697 139671745042304 util.py:98] Initialized dataset iterators in 0 seconds\n",
      "I0819 16:41:19.607129 139671745042304 session_support.py:332] Installing graceful shutdown hook.\n",
      "I0819 16:41:19.615733 139671745042304 session_support.py:82] Creating heartbeat manager for ['/job:tpu_worker/replica:0/task:0/device:CPU:0']\n",
      "I0819 16:41:19.622768 139671745042304 session_support.py:105] Configuring worker heartbeat: shutdown_mode: WAIT_FOR_COORDINATOR\n",
      "\n",
      "I0819 16:41:19.628710 139671745042304 tpu_estimator.py:557] Init TPU system\n",
      "I0819 16:41:29.942524 139671745042304 tpu_estimator.py:566] Initialized TPU in 10 seconds\n",
      "I0819 16:41:29.944132 139670289655552 tpu_estimator.py:514] Starting infeed thread controller.\n",
      "I0819 16:41:29.944718 139670281262848 tpu_estimator.py:533] Starting outfeed thread controller.\n",
      "I0819 16:41:30.412590 139671745042304 tpu_estimator.py:590] Enqueue next (1000) batch(es) of data to infeed.\n",
      "I0819 16:41:30.413935 139671745042304 tpu_estimator.py:594] Dequeue next (1000) batch(es) of data from outfeed.\n",
      "I0819 16:41:56.304579 139670281262848 tpu_estimator.py:275] Outfeed finished for iteration (0, 0)\n",
      "I0819 16:42:56.549578 139670281262848 tpu_estimator.py:275] Outfeed finished for iteration (0, 207)\n",
      "I0819 16:43:56.796661 139670281262848 tpu_estimator.py:275] Outfeed finished for iteration (0, 414)\n",
      "I0819 16:44:57.044898 139670281262848 tpu_estimator.py:275] Outfeed finished for iteration (0, 621)\n",
      "I0819 16:45:57.292201 139670281262848 tpu_estimator.py:275] Outfeed finished for iteration (0, 828)\n",
      "I0819 16:46:47.763443 139671745042304 basic_session_run_hooks.py:606] Saving checkpoints for 37000 into gs://tputestingmnist/FUNIT/FUNIT_only_gen_11/model.ckpt.\n",
      "I0819 16:47:07.026890 139671745042304 basic_session_run_hooks.py:262] loss = 34.903, step = 37000\n",
      "I0819 16:47:08.971256 139671745042304 tpu_estimator.py:598] Stop infeed thread controller\n",
      "I0819 16:47:08.972665 139671745042304 tpu_estimator.py:430] Shutting down InfeedController thread.\n",
      "I0819 16:47:08.976785 139670289655552 tpu_estimator.py:425] InfeedController received shutdown signal, stopping.\n",
      "I0819 16:47:08.978277 139670289655552 tpu_estimator.py:530] Infeed thread finished, shutting down.\n",
      "I0819 16:47:08.980499 139671745042304 error_handling.py:96] infeed marked as finished\n",
      "I0819 16:47:08.981886 139671745042304 tpu_estimator.py:602] Stop output thread controller\n",
      "I0819 16:47:08.982706 139671745042304 tpu_estimator.py:430] Shutting down OutfeedController thread.\n",
      "I0819 16:47:08.984597 139670281262848 tpu_estimator.py:425] OutfeedController received shutdown signal, stopping.\n",
      "I0819 16:47:08.986173 139670281262848 tpu_estimator.py:541] Outfeed thread finished, shutting down.\n",
      "I0819 16:47:08.987629 139671745042304 error_handling.py:96] outfeed marked as finished\n",
      "I0819 16:47:08.989350 139671745042304 tpu_estimator.py:606] Shutdown TPU system.\n",
      "I0819 16:47:10.814105 139671745042304 estimator.py:368] Loss for final step: 34.903.\n",
      "I0819 16:47:10.815886 139671745042304 error_handling.py:96] training_loop marked as finished\n",
      "I0819 16:47:10.996765 139671745042304 estimator.py:1145] Calling model_fn.\n"
     ],
     "name": "stderr"
    },
    {
     "output_type": "stream",
     "text": [
      "Finished training step 37000\n",
      "(128, 1, 1, 2048)\n"
     ],
     "name": "stdout"
    },
    {
     "output_type": "stream",
     "text": [
      "I0819 16:47:15.277388 139671745042304 estimator.py:1147] Done calling model_fn.\n",
      "I0819 16:47:15.305330 139671745042304 evaluation.py:255] Starting evaluation at 2019-08-19T16:47:15Z\n",
      "I0819 16:47:15.306475 139671745042304 tpu_estimator.py:499] TPU job name tpu_worker\n",
      "I0819 16:47:16.146645 139671745042304 monitored_session.py:240] Graph was finalized.\n",
      "I0819 16:47:16.215312 139671745042304 saver.py:1280] Restoring parameters from gs://tputestingmnist/FUNIT/FUNIT_only_gen_11/model.ckpt-37000\n",
      "I0819 16:47:20.189225 139671745042304 session_manager.py:500] Running local_init_op.\n",
      "I0819 16:47:20.306985 139671745042304 session_manager.py:502] Done running local_init_op.\n",
      "I0819 16:47:20.566207 139671745042304 tpu_estimator.py:557] Init TPU system\n",
      "I0819 16:47:28.388445 139671745042304 tpu_estimator.py:566] Initialized TPU in 7 seconds\n",
      "I0819 16:47:28.390208 139670289655552 tpu_estimator.py:514] Starting infeed thread controller.\n",
      "I0819 16:47:28.396730 139670281262848 tpu_estimator.py:533] Starting outfeed thread controller.\n",
      "I0819 16:47:28.533718 139671745042304 util.py:98] Initialized dataset iterators in 0 seconds\n",
      "I0819 16:47:28.657076 139671745042304 tpu_estimator.py:590] Enqueue next (1) batch(es) of data to infeed.\n",
      "I0819 16:47:28.658360 139671745042304 tpu_estimator.py:594] Dequeue next (1) batch(es) of data from outfeed.\n",
      "I0819 16:47:38.418682 139670281262848 tpu_estimator.py:275] Outfeed finished for iteration (0, 0)\n",
      "I0819 16:47:38.419372 139671745042304 evaluation.py:167] Evaluation [1/1]\n",
      "I0819 16:47:38.421789 139671745042304 tpu_estimator.py:598] Stop infeed thread controller\n",
      "I0819 16:47:38.423236 139671745042304 tpu_estimator.py:430] Shutting down InfeedController thread.\n",
      "I0819 16:47:38.425804 139670289655552 tpu_estimator.py:425] InfeedController received shutdown signal, stopping.\n",
      "I0819 16:47:38.432484 139670289655552 tpu_estimator.py:530] Infeed thread finished, shutting down.\n",
      "I0819 16:47:38.436117 139671745042304 error_handling.py:96] infeed marked as finished\n",
      "I0819 16:47:38.438026 139671745042304 tpu_estimator.py:602] Stop output thread controller\n",
      "I0819 16:47:38.442528 139671745042304 tpu_estimator.py:430] Shutting down OutfeedController thread.\n",
      "I0819 16:47:38.445849 139670281262848 tpu_estimator.py:425] OutfeedController received shutdown signal, stopping.\n",
      "I0819 16:47:38.447077 139670281262848 tpu_estimator.py:541] Outfeed thread finished, shutting down.\n",
      "I0819 16:47:38.450212 139671745042304 error_handling.py:96] outfeed marked as finished\n",
      "I0819 16:47:38.452157 139671745042304 tpu_estimator.py:606] Shutdown TPU system.\n",
      "I0819 16:47:39.127105 139671745042304 evaluation.py:275] Finished evaluation at 2019-08-19-16:47:39\n",
      "I0819 16:47:39.128462 139671745042304 estimator.py:2039] Saving dict for global step 37000: discriminator_gen_accuracy = 0.82128906, discriminator_loss = 29.500126, discriminator_real_accuracy = 0.7470703, generator_loss = 15.270185, global_step = 37000, loss = 38.35548\n",
      "I0819 16:47:39.405817 139671745042304 estimator.py:2099] Saving 'checkpoint_path' summary for global step 37000: gs://tputestingmnist/FUNIT/FUNIT_only_gen_11/model.ckpt-37000\n",
      "I0819 16:47:39.771979 139671745042304 error_handling.py:96] evaluation_loop marked as finished\n",
      "I0819 16:47:39.945715 139671745042304 estimator.py:1145] Calling model_fn.\n",
      "I0819 16:47:39.946919 139671745042304 tpu_estimator.py:2965] Running infer on CPU\n"
     ],
     "name": "stderr"
    },
    {
     "output_type": "stream",
     "text": [
      "Finished evaluating\n",
      "{'discriminator_gen_accuracy': 0.82128906, 'discriminator_loss': 29.500126, 'discriminator_real_accuracy': 0.7470703, 'generator_loss': 15.270185, 'loss': 38.35548, 'global_step': 37000}\n",
      "(12, 1, 1, 2048)\n"
     ],
     "name": "stdout"
    },
    {
     "output_type": "stream",
     "text": [
      "I0819 16:47:40.608403 139671745042304 estimator.py:1147] Done calling model_fn.\n",
      "I0819 16:47:40.821867 139671745042304 monitored_session.py:240] Graph was finalized.\n",
      "I0819 16:47:40.892709 139671745042304 saver.py:1280] Restoring parameters from gs://tputestingmnist/FUNIT/FUNIT_only_gen_11/model.ckpt-37000\n",
      "I0819 16:47:41.271358 139671745042304 session_manager.py:500] Running local_init_op.\n",
      "I0819 16:47:41.290343 139671745042304 session_manager.py:502] Done running local_init_op.\n",
      "I0819 16:47:41.665722 139671745042304 error_handling.py:96] prediction_loop marked as finished\n",
      "I0819 16:47:41.666985 139671745042304 error_handling.py:96] prediction_loop marked as finished\n"
     ],
     "name": "stderr"
    },
    {
     "output_type": "stream",
     "text": [
      "Finished generating images\n"
     ],
     "name": "stdout"
    },
    {
     "output_type": "stream",
     "text": [
      "I0819 16:47:42.742945 139671745042304 estimator.py:1145] Calling model_fn.\n"
     ],
     "name": "stderr"
    },
    {
     "output_type": "stream",
     "text": [
      "(128, 1, 1, 2048)\n"
     ],
     "name": "stdout"
    },
    {
     "output_type": "stream",
     "text": [
      "I0819 16:47:50.863488 139671745042304 basic_session_run_hooks.py:541] Create CheckpointSaverHook.\n",
      "I0819 16:47:51.085335 139671745042304 estimator.py:1147] Done calling model_fn.\n",
      "I0819 16:47:51.086724 139671745042304 tpu_estimator.py:499] TPU job name tpu_worker\n",
      "I0819 16:47:51.842511 139671745042304 monitored_session.py:240] Graph was finalized.\n",
      "I0819 16:47:51.996858 139671745042304 saver.py:1280] Restoring parameters from gs://tputestingmnist/FUNIT/FUNIT_only_gen_11/model.ckpt-37000\n",
      "I0819 16:47:57.771958 139671745042304 session_manager.py:500] Running local_init_op.\n",
      "I0819 16:47:58.211126 139671745042304 session_manager.py:502] Done running local_init_op.\n",
      "I0819 16:48:03.318373 139671745042304 basic_session_run_hooks.py:606] Saving checkpoints for 37000 into gs://tputestingmnist/FUNIT/FUNIT_only_gen_11/model.ckpt.\n",
      "I0819 16:48:30.958946 139671745042304 util.py:98] Initialized dataset iterators in 0 seconds\n",
      "I0819 16:48:30.960375 139671745042304 session_support.py:332] Installing graceful shutdown hook.\n",
      "I0819 16:48:30.971392 139671745042304 session_support.py:82] Creating heartbeat manager for ['/job:tpu_worker/replica:0/task:0/device:CPU:0']\n",
      "I0819 16:48:30.980922 139671745042304 session_support.py:105] Configuring worker heartbeat: shutdown_mode: WAIT_FOR_COORDINATOR\n",
      "\n",
      "I0819 16:48:30.992853 139671745042304 tpu_estimator.py:557] Init TPU system\n",
      "I0819 16:48:41.162447 139671745042304 tpu_estimator.py:566] Initialized TPU in 10 seconds\n",
      "I0819 16:48:41.164056 139670289655552 tpu_estimator.py:514] Starting infeed thread controller.\n",
      "I0819 16:48:41.164576 139670281262848 tpu_estimator.py:533] Starting outfeed thread controller.\n",
      "I0819 16:48:41.638461 139671745042304 tpu_estimator.py:590] Enqueue next (1000) batch(es) of data to infeed.\n",
      "I0819 16:48:41.639680 139671745042304 tpu_estimator.py:594] Dequeue next (1000) batch(es) of data from outfeed.\n",
      "I0819 16:49:07.430661 139670281262848 tpu_estimator.py:275] Outfeed finished for iteration (0, 0)\n",
      "I0819 16:50:07.679467 139670281262848 tpu_estimator.py:275] Outfeed finished for iteration (0, 207)\n",
      "I0819 16:51:07.928729 139670281262848 tpu_estimator.py:275] Outfeed finished for iteration (0, 414)\n",
      "I0819 16:52:08.177534 139670281262848 tpu_estimator.py:275] Outfeed finished for iteration (0, 621)\n",
      "I0819 16:53:08.426589 139670281262848 tpu_estimator.py:275] Outfeed finished for iteration (0, 828)\n",
      "I0819 16:53:58.857499 139671745042304 basic_session_run_hooks.py:606] Saving checkpoints for 38000 into gs://tputestingmnist/FUNIT/FUNIT_only_gen_11/model.ckpt.\n",
      "I0819 16:54:23.927116 139671745042304 basic_session_run_hooks.py:262] loss = 92.35643, step = 38000\n",
      "I0819 16:54:25.737759 139671745042304 tpu_estimator.py:598] Stop infeed thread controller\n",
      "I0819 16:54:25.738983 139671745042304 tpu_estimator.py:430] Shutting down InfeedController thread.\n",
      "I0819 16:54:25.747011 139670289655552 tpu_estimator.py:425] InfeedController received shutdown signal, stopping.\n",
      "I0819 16:54:25.748304 139670289655552 tpu_estimator.py:530] Infeed thread finished, shutting down.\n",
      "I0819 16:54:25.749478 139671745042304 error_handling.py:96] infeed marked as finished\n",
      "I0819 16:54:25.750910 139671745042304 tpu_estimator.py:602] Stop output thread controller\n",
      "I0819 16:54:25.752077 139671745042304 tpu_estimator.py:430] Shutting down OutfeedController thread.\n",
      "I0819 16:54:25.756040 139670281262848 tpu_estimator.py:425] OutfeedController received shutdown signal, stopping.\n",
      "I0819 16:54:25.756918 139670281262848 tpu_estimator.py:541] Outfeed thread finished, shutting down.\n",
      "I0819 16:54:25.759133 139671745042304 error_handling.py:96] outfeed marked as finished\n",
      "I0819 16:54:25.760794 139671745042304 tpu_estimator.py:606] Shutdown TPU system.\n",
      "I0819 16:54:27.546440 139671745042304 estimator.py:368] Loss for final step: 92.35643.\n",
      "I0819 16:54:27.547854 139671745042304 error_handling.py:96] training_loop marked as finished\n"
     ],
     "name": "stderr"
    },
    {
     "output_type": "stream",
     "text": [
      "Finished training step 38000\n"
     ],
     "name": "stdout"
    },
    {
     "output_type": "stream",
     "text": [
      "I0819 16:54:27.821133 139671745042304 estimator.py:1145] Calling model_fn.\n"
     ],
     "name": "stderr"
    },
    {
     "output_type": "stream",
     "text": [
      "(128, 1, 1, 2048)\n"
     ],
     "name": "stdout"
    },
    {
     "output_type": "stream",
     "text": [
      "I0819 16:54:32.503123 139671745042304 estimator.py:1147] Done calling model_fn.\n",
      "I0819 16:54:32.528042 139671745042304 evaluation.py:255] Starting evaluation at 2019-08-19T16:54:32Z\n",
      "I0819 16:54:32.529157 139671745042304 tpu_estimator.py:499] TPU job name tpu_worker\n",
      "I0819 16:54:32.878367 139671745042304 monitored_session.py:240] Graph was finalized.\n",
      "I0819 16:54:32.946351 139671745042304 saver.py:1280] Restoring parameters from gs://tputestingmnist/FUNIT/FUNIT_only_gen_11/model.ckpt-38000\n",
      "I0819 16:54:37.949976 139671745042304 session_manager.py:500] Running local_init_op.\n",
      "I0819 16:54:38.059471 139671745042304 session_manager.py:502] Done running local_init_op.\n",
      "I0819 16:54:38.299087 139671745042304 tpu_estimator.py:557] Init TPU system\n",
      "I0819 16:54:45.990459 139671745042304 tpu_estimator.py:566] Initialized TPU in 7 seconds\n",
      "I0819 16:54:45.992198 139670289655552 tpu_estimator.py:514] Starting infeed thread controller.\n",
      "I0819 16:54:45.993684 139670281262848 tpu_estimator.py:533] Starting outfeed thread controller.\n",
      "I0819 16:54:46.122077 139671745042304 util.py:98] Initialized dataset iterators in 0 seconds\n",
      "I0819 16:54:46.223818 139671745042304 tpu_estimator.py:590] Enqueue next (1) batch(es) of data to infeed.\n",
      "I0819 16:54:46.225328 139671745042304 tpu_estimator.py:594] Dequeue next (1) batch(es) of data from outfeed.\n",
      "I0819 16:54:55.932935 139670281262848 tpu_estimator.py:275] Outfeed finished for iteration (0, 0)\n",
      "I0819 16:54:55.937218 139671745042304 evaluation.py:167] Evaluation [1/1]\n",
      "I0819 16:54:55.939442 139671745042304 tpu_estimator.py:598] Stop infeed thread controller\n",
      "I0819 16:54:55.940448 139671745042304 tpu_estimator.py:430] Shutting down InfeedController thread.\n",
      "I0819 16:54:55.941449 139670289655552 tpu_estimator.py:425] InfeedController received shutdown signal, stopping.\n",
      "I0819 16:54:55.943681 139670289655552 tpu_estimator.py:530] Infeed thread finished, shutting down.\n",
      "I0819 16:54:55.945943 139671745042304 error_handling.py:96] infeed marked as finished\n",
      "I0819 16:54:55.947175 139671745042304 tpu_estimator.py:602] Stop output thread controller\n",
      "I0819 16:54:55.948484 139671745042304 tpu_estimator.py:430] Shutting down OutfeedController thread.\n",
      "I0819 16:54:55.949949 139670281262848 tpu_estimator.py:425] OutfeedController received shutdown signal, stopping.\n",
      "I0819 16:54:55.955575 139670281262848 tpu_estimator.py:541] Outfeed thread finished, shutting down.\n",
      "I0819 16:54:55.958271 139671745042304 error_handling.py:96] outfeed marked as finished\n",
      "I0819 16:54:55.960210 139671745042304 tpu_estimator.py:606] Shutdown TPU system.\n",
      "I0819 16:54:56.628589 139671745042304 evaluation.py:275] Finished evaluation at 2019-08-19-16:54:56\n",
      "I0819 16:54:56.629967 139671745042304 estimator.py:2039] Saving dict for global step 38000: discriminator_gen_accuracy = 0.84277344, discriminator_loss = 57.718056, discriminator_real_accuracy = 0.5800781, generator_loss = 77.11612, global_step = 38000, loss = 123.137314\n",
      "I0819 16:54:56.991490 139671745042304 estimator.py:2099] Saving 'checkpoint_path' summary for global step 38000: gs://tputestingmnist/FUNIT/FUNIT_only_gen_11/model.ckpt-38000\n",
      "I0819 16:54:57.318502 139671745042304 error_handling.py:96] evaluation_loop marked as finished\n",
      "I0819 16:54:57.494166 139671745042304 estimator.py:1145] Calling model_fn.\n",
      "I0819 16:54:57.495294 139671745042304 tpu_estimator.py:2965] Running infer on CPU\n"
     ],
     "name": "stderr"
    },
    {
     "output_type": "stream",
     "text": [
      "Finished evaluating\n",
      "{'discriminator_gen_accuracy': 0.84277344, 'discriminator_loss': 57.718056, 'discriminator_real_accuracy': 0.5800781, 'generator_loss': 77.11612, 'loss': 123.137314, 'global_step': 38000}\n",
      "(12, 1, 1, 2048)\n"
     ],
     "name": "stdout"
    },
    {
     "output_type": "stream",
     "text": [
      "I0819 16:54:58.155914 139671745042304 estimator.py:1147] Done calling model_fn.\n",
      "I0819 16:54:58.368056 139671745042304 monitored_session.py:240] Graph was finalized.\n",
      "I0819 16:54:58.434598 139671745042304 saver.py:1280] Restoring parameters from gs://tputestingmnist/FUNIT/FUNIT_only_gen_11/model.ckpt-38000\n",
      "I0819 16:54:58.806299 139671745042304 session_manager.py:500] Running local_init_op.\n",
      "I0819 16:54:58.833865 139671745042304 session_manager.py:502] Done running local_init_op.\n",
      "I0819 16:54:59.170345 139671745042304 error_handling.py:96] prediction_loop marked as finished\n",
      "I0819 16:54:59.172415 139671745042304 error_handling.py:96] prediction_loop marked as finished\n"
     ],
     "name": "stderr"
    },
    {
     "output_type": "stream",
     "text": [
      "Finished generating images\n"
     ],
     "name": "stdout"
    },
    {
     "output_type": "stream",
     "text": [
      "I0819 16:55:00.260336 139671745042304 estimator.py:1145] Calling model_fn.\n"
     ],
     "name": "stderr"
    },
    {
     "output_type": "stream",
     "text": [
      "(128, 1, 1, 2048)\n"
     ],
     "name": "stdout"
    },
    {
     "output_type": "stream",
     "text": [
      "I0819 16:55:08.348771 139671745042304 basic_session_run_hooks.py:541] Create CheckpointSaverHook.\n",
      "I0819 16:55:08.571317 139671745042304 estimator.py:1147] Done calling model_fn.\n",
      "I0819 16:55:08.572760 139671745042304 tpu_estimator.py:499] TPU job name tpu_worker\n",
      "I0819 16:55:09.325328 139671745042304 monitored_session.py:240] Graph was finalized.\n",
      "I0819 16:55:09.572214 139671745042304 saver.py:1280] Restoring parameters from gs://tputestingmnist/FUNIT/FUNIT_only_gen_11/model.ckpt-38000\n",
      "I0819 16:55:16.202883 139671745042304 session_manager.py:500] Running local_init_op.\n",
      "I0819 16:55:16.687572 139671745042304 session_manager.py:502] Done running local_init_op.\n",
      "I0819 16:55:22.270469 139671745042304 basic_session_run_hooks.py:606] Saving checkpoints for 38000 into gs://tputestingmnist/FUNIT/FUNIT_only_gen_11/model.ckpt.\n",
      "I0819 16:55:43.001943 139671745042304 util.py:98] Initialized dataset iterators in 0 seconds\n",
      "I0819 16:55:43.003223 139671745042304 session_support.py:332] Installing graceful shutdown hook.\n",
      "I0819 16:55:43.011296 139671745042304 session_support.py:82] Creating heartbeat manager for ['/job:tpu_worker/replica:0/task:0/device:CPU:0']\n",
      "I0819 16:55:43.016123 139671745042304 session_support.py:105] Configuring worker heartbeat: shutdown_mode: WAIT_FOR_COORDINATOR\n",
      "\n",
      "I0819 16:55:43.022758 139671745042304 tpu_estimator.py:557] Init TPU system\n",
      "I0819 16:55:53.181463 139671745042304 tpu_estimator.py:566] Initialized TPU in 10 seconds\n",
      "I0819 16:55:53.183424 139670289655552 tpu_estimator.py:514] Starting infeed thread controller.\n",
      "I0819 16:55:53.191928 139670281262848 tpu_estimator.py:533] Starting outfeed thread controller.\n",
      "I0819 16:55:53.646466 139671745042304 tpu_estimator.py:590] Enqueue next (1000) batch(es) of data to infeed.\n",
      "I0819 16:55:53.647696 139671745042304 tpu_estimator.py:594] Dequeue next (1000) batch(es) of data from outfeed.\n",
      "I0819 16:56:19.572236 139670281262848 tpu_estimator.py:275] Outfeed finished for iteration (0, 0)\n",
      "I0819 16:57:19.820332 139670281262848 tpu_estimator.py:275] Outfeed finished for iteration (0, 207)\n",
      "I0819 16:58:20.068870 139670281262848 tpu_estimator.py:275] Outfeed finished for iteration (0, 414)\n",
      "I0819 16:59:20.318036 139670281262848 tpu_estimator.py:275] Outfeed finished for iteration (0, 621)\n",
      "I0819 17:00:20.566761 139670281262848 tpu_estimator.py:275] Outfeed finished for iteration (0, 828)\n",
      "I0819 17:01:11.022805 139671745042304 basic_session_run_hooks.py:606] Saving checkpoints for 39000 into gs://tputestingmnist/FUNIT/FUNIT_only_gen_11/model.ckpt.\n",
      "I0819 17:01:31.123689 139671745042304 basic_session_run_hooks.py:262] loss = 110.39023, step = 39000\n",
      "I0819 17:01:33.040778 139671745042304 tpu_estimator.py:598] Stop infeed thread controller\n",
      "I0819 17:01:33.042219 139671745042304 tpu_estimator.py:430] Shutting down InfeedController thread.\n",
      "I0819 17:01:33.047091 139670289655552 tpu_estimator.py:425] InfeedController received shutdown signal, stopping.\n",
      "I0819 17:01:33.048686 139670289655552 tpu_estimator.py:530] Infeed thread finished, shutting down.\n",
      "I0819 17:01:33.051890 139671745042304 error_handling.py:96] infeed marked as finished\n",
      "I0819 17:01:33.055362 139671745042304 tpu_estimator.py:602] Stop output thread controller\n",
      "I0819 17:01:33.057207 139671745042304 tpu_estimator.py:430] Shutting down OutfeedController thread.\n",
      "I0819 17:01:33.059833 139670281262848 tpu_estimator.py:425] OutfeedController received shutdown signal, stopping.\n",
      "I0819 17:01:33.060854 139670281262848 tpu_estimator.py:541] Outfeed thread finished, shutting down.\n",
      "I0819 17:01:33.064995 139671745042304 error_handling.py:96] outfeed marked as finished\n",
      "I0819 17:01:33.066550 139671745042304 tpu_estimator.py:606] Shutdown TPU system.\n",
      "I0819 17:01:34.889141 139671745042304 estimator.py:368] Loss for final step: 110.39023.\n",
      "I0819 17:01:34.890857 139671745042304 error_handling.py:96] training_loop marked as finished\n"
     ],
     "name": "stderr"
    },
    {
     "output_type": "stream",
     "text": [
      "Finished training step 39000\n"
     ],
     "name": "stdout"
    },
    {
     "output_type": "stream",
     "text": [
      "I0819 17:01:35.115767 139671745042304 estimator.py:1145] Calling model_fn.\n"
     ],
     "name": "stderr"
    },
    {
     "output_type": "stream",
     "text": [
      "(128, 1, 1, 2048)\n"
     ],
     "name": "stdout"
    },
    {
     "output_type": "stream",
     "text": [
      "I0819 17:01:38.514559 139671745042304 estimator.py:1147] Done calling model_fn.\n",
      "I0819 17:01:38.542253 139671745042304 evaluation.py:255] Starting evaluation at 2019-08-19T17:01:38Z\n",
      "I0819 17:01:38.543526 139671745042304 tpu_estimator.py:499] TPU job name tpu_worker\n",
      "I0819 17:01:38.888051 139671745042304 monitored_session.py:240] Graph was finalized.\n",
      "I0819 17:01:38.978492 139671745042304 saver.py:1280] Restoring parameters from gs://tputestingmnist/FUNIT/FUNIT_only_gen_11/model.ckpt-39000\n",
      "I0819 17:01:44.868211 139671745042304 session_manager.py:500] Running local_init_op.\n",
      "I0819 17:01:44.986412 139671745042304 session_manager.py:502] Done running local_init_op.\n",
      "I0819 17:01:45.276437 139671745042304 tpu_estimator.py:557] Init TPU system\n",
      "I0819 17:01:53.011203 139671745042304 tpu_estimator.py:566] Initialized TPU in 7 seconds\n",
      "I0819 17:01:53.013045 139670281262848 tpu_estimator.py:514] Starting infeed thread controller.\n",
      "I0819 17:01:53.017734 139670272870144 tpu_estimator.py:533] Starting outfeed thread controller.\n",
      "I0819 17:01:53.151008 139671745042304 util.py:98] Initialized dataset iterators in 0 seconds\n",
      "I0819 17:01:53.279337 139671745042304 tpu_estimator.py:590] Enqueue next (1) batch(es) of data to infeed.\n",
      "I0819 17:01:53.280742 139671745042304 tpu_estimator.py:594] Dequeue next (1) batch(es) of data from outfeed.\n",
      "I0819 17:02:02.946825 139670272870144 tpu_estimator.py:275] Outfeed finished for iteration (0, 0)\n",
      "I0819 17:02:02.947298 139671745042304 evaluation.py:167] Evaluation [1/1]\n",
      "I0819 17:02:02.949779 139671745042304 tpu_estimator.py:598] Stop infeed thread controller\n",
      "I0819 17:02:02.953355 139671745042304 tpu_estimator.py:430] Shutting down InfeedController thread.\n",
      "I0819 17:02:02.954761 139670281262848 tpu_estimator.py:425] InfeedController received shutdown signal, stopping.\n",
      "I0819 17:02:02.955729 139670281262848 tpu_estimator.py:530] Infeed thread finished, shutting down.\n",
      "I0819 17:02:02.957911 139671745042304 error_handling.py:96] infeed marked as finished\n",
      "I0819 17:02:02.959286 139671745042304 tpu_estimator.py:602] Stop output thread controller\n",
      "I0819 17:02:02.960931 139671745042304 tpu_estimator.py:430] Shutting down OutfeedController thread.\n",
      "I0819 17:02:02.962462 139670272870144 tpu_estimator.py:425] OutfeedController received shutdown signal, stopping.\n",
      "I0819 17:02:02.967383 139670272870144 tpu_estimator.py:541] Outfeed thread finished, shutting down.\n",
      "I0819 17:02:02.968934 139671745042304 error_handling.py:96] outfeed marked as finished\n",
      "I0819 17:02:02.970085 139671745042304 tpu_estimator.py:606] Shutdown TPU system.\n",
      "I0819 17:02:03.651255 139671745042304 evaluation.py:275] Finished evaluation at 2019-08-19-17:02:03\n",
      "I0819 17:02:03.652583 139671745042304 estimator.py:2039] Saving dict for global step 39000: discriminator_gen_accuracy = 0.29589844, discriminator_loss = 67.150696, discriminator_real_accuracy = 0.9746094, generator_loss = 6.388816, global_step = 39000, loss = 67.52002\n",
      "I0819 17:02:03.949703 139671745042304 estimator.py:2099] Saving 'checkpoint_path' summary for global step 39000: gs://tputestingmnist/FUNIT/FUNIT_only_gen_11/model.ckpt-39000\n",
      "I0819 17:02:04.234684 139671745042304 error_handling.py:96] evaluation_loop marked as finished\n",
      "I0819 17:02:04.401520 139671745042304 estimator.py:1145] Calling model_fn.\n",
      "I0819 17:02:04.402643 139671745042304 tpu_estimator.py:2965] Running infer on CPU\n"
     ],
     "name": "stderr"
    },
    {
     "output_type": "stream",
     "text": [
      "Finished evaluating\n",
      "{'discriminator_gen_accuracy': 0.29589844, 'discriminator_loss': 67.150696, 'discriminator_real_accuracy': 0.9746094, 'generator_loss': 6.388816, 'loss': 67.52002, 'global_step': 39000}\n",
      "(12, 1, 1, 2048)\n"
     ],
     "name": "stdout"
    },
    {
     "output_type": "stream",
     "text": [
      "I0819 17:02:05.051298 139671745042304 estimator.py:1147] Done calling model_fn.\n",
      "I0819 17:02:05.266191 139671745042304 monitored_session.py:240] Graph was finalized.\n",
      "I0819 17:02:05.327286 139671745042304 saver.py:1280] Restoring parameters from gs://tputestingmnist/FUNIT/FUNIT_only_gen_11/model.ckpt-39000\n",
      "I0819 17:02:05.755018 139671745042304 session_manager.py:500] Running local_init_op.\n",
      "I0819 17:02:05.782786 139671745042304 session_manager.py:502] Done running local_init_op.\n",
      "I0819 17:02:06.149144 139671745042304 error_handling.py:96] prediction_loop marked as finished\n",
      "I0819 17:02:06.150808 139671745042304 error_handling.py:96] prediction_loop marked as finished\n"
     ],
     "name": "stderr"
    },
    {
     "output_type": "stream",
     "text": [
      "Finished generating images\n"
     ],
     "name": "stdout"
    },
    {
     "output_type": "stream",
     "text": [
      "I0819 17:02:08.031533 139671745042304 estimator.py:1145] Calling model_fn.\n"
     ],
     "name": "stderr"
    },
    {
     "output_type": "stream",
     "text": [
      "(128, 1, 1, 2048)\n"
     ],
     "name": "stdout"
    },
    {
     "output_type": "stream",
     "text": [
      "I0819 17:02:15.950811 139671745042304 basic_session_run_hooks.py:541] Create CheckpointSaverHook.\n",
      "I0819 17:02:16.171020 139671745042304 estimator.py:1147] Done calling model_fn.\n",
      "I0819 17:02:16.172319 139671745042304 tpu_estimator.py:499] TPU job name tpu_worker\n",
      "I0819 17:02:16.920995 139671745042304 monitored_session.py:240] Graph was finalized.\n",
      "I0819 17:02:17.099539 139671745042304 saver.py:1280] Restoring parameters from gs://tputestingmnist/FUNIT/FUNIT_only_gen_11/model.ckpt-39000\n",
      "I0819 17:02:23.599110 139671745042304 session_manager.py:500] Running local_init_op.\n",
      "I0819 17:02:24.079959 139671745042304 session_manager.py:502] Done running local_init_op.\n",
      "I0819 17:02:29.055741 139671745042304 basic_session_run_hooks.py:606] Saving checkpoints for 39000 into gs://tputestingmnist/FUNIT/FUNIT_only_gen_11/model.ckpt.\n",
      "I0819 17:02:46.793786 139671745042304 util.py:98] Initialized dataset iterators in 0 seconds\n",
      "I0819 17:02:46.795493 139671745042304 session_support.py:332] Installing graceful shutdown hook.\n",
      "I0819 17:02:46.803648 139671745042304 session_support.py:82] Creating heartbeat manager for ['/job:tpu_worker/replica:0/task:0/device:CPU:0']\n",
      "I0819 17:02:46.808694 139671745042304 session_support.py:105] Configuring worker heartbeat: shutdown_mode: WAIT_FOR_COORDINATOR\n",
      "\n",
      "I0819 17:02:46.817708 139671745042304 tpu_estimator.py:557] Init TPU system\n",
      "I0819 17:02:57.243757 139671745042304 tpu_estimator.py:566] Initialized TPU in 10 seconds\n",
      "I0819 17:02:57.246330 139670272870144 tpu_estimator.py:514] Starting infeed thread controller.\n",
      "I0819 17:02:57.247829 139670264477440 tpu_estimator.py:533] Starting outfeed thread controller.\n",
      "I0819 17:02:57.744714 139671745042304 tpu_estimator.py:590] Enqueue next (1000) batch(es) of data to infeed.\n",
      "I0819 17:02:57.746630 139671745042304 tpu_estimator.py:594] Dequeue next (1000) batch(es) of data from outfeed.\n",
      "I0819 17:03:23.845473 139670264477440 tpu_estimator.py:275] Outfeed finished for iteration (0, 0)\n",
      "I0819 17:04:24.092051 139670264477440 tpu_estimator.py:275] Outfeed finished for iteration (0, 207)\n",
      "I0819 17:05:24.339065 139670264477440 tpu_estimator.py:275] Outfeed finished for iteration (0, 414)\n",
      "I0819 17:06:24.586102 139670264477440 tpu_estimator.py:275] Outfeed finished for iteration (0, 621)\n",
      "I0819 17:07:24.833937 139670264477440 tpu_estimator.py:275] Outfeed finished for iteration (0, 828)\n",
      "I0819 17:08:15.267107 139671745042304 basic_session_run_hooks.py:606] Saving checkpoints for 40000 into gs://tputestingmnist/FUNIT/FUNIT_only_gen_11/model.ckpt.\n",
      "I0819 17:08:31.415454 139671745042304 basic_session_run_hooks.py:262] loss = 66.12433, step = 40000\n",
      "I0819 17:08:33.387432 139671745042304 tpu_estimator.py:598] Stop infeed thread controller\n",
      "I0819 17:08:33.389056 139671745042304 tpu_estimator.py:430] Shutting down InfeedController thread.\n",
      "I0819 17:08:33.400126 139670272870144 tpu_estimator.py:425] InfeedController received shutdown signal, stopping.\n",
      "I0819 17:08:33.401526 139670272870144 tpu_estimator.py:530] Infeed thread finished, shutting down.\n",
      "I0819 17:08:33.402823 139671745042304 error_handling.py:96] infeed marked as finished\n",
      "I0819 17:08:33.403554 139671745042304 tpu_estimator.py:602] Stop output thread controller\n",
      "I0819 17:08:33.404153 139671745042304 tpu_estimator.py:430] Shutting down OutfeedController thread.\n",
      "I0819 17:08:33.404909 139670264477440 tpu_estimator.py:425] OutfeedController received shutdown signal, stopping.\n",
      "I0819 17:08:33.405982 139670264477440 tpu_estimator.py:541] Outfeed thread finished, shutting down.\n",
      "I0819 17:08:33.407752 139671745042304 error_handling.py:96] outfeed marked as finished\n",
      "I0819 17:08:33.408542 139671745042304 tpu_estimator.py:606] Shutdown TPU system.\n",
      "I0819 17:08:35.299574 139671745042304 estimator.py:368] Loss for final step: 66.12433.\n",
      "I0819 17:08:35.301020 139671745042304 error_handling.py:96] training_loop marked as finished\n"
     ],
     "name": "stderr"
    },
    {
     "output_type": "stream",
     "text": [
      "Finished training step 40000\n"
     ],
     "name": "stdout"
    },
    {
     "output_type": "stream",
     "text": [
      "I0819 17:08:35.514020 139671745042304 estimator.py:1145] Calling model_fn.\n"
     ],
     "name": "stderr"
    },
    {
     "output_type": "stream",
     "text": [
      "(128, 1, 1, 2048)\n"
     ],
     "name": "stdout"
    },
    {
     "output_type": "stream",
     "text": [
      "I0819 17:08:39.955889 139671745042304 estimator.py:1147] Done calling model_fn.\n",
      "I0819 17:08:39.981544 139671745042304 evaluation.py:255] Starting evaluation at 2019-08-19T17:08:39Z\n",
      "I0819 17:08:39.982569 139671745042304 tpu_estimator.py:499] TPU job name tpu_worker\n",
      "I0819 17:08:40.323383 139671745042304 monitored_session.py:240] Graph was finalized.\n",
      "I0819 17:08:40.393952 139671745042304 saver.py:1280] Restoring parameters from gs://tputestingmnist/FUNIT/FUNIT_only_gen_11/model.ckpt-40000\n",
      "I0819 17:08:45.491671 139671745042304 session_manager.py:500] Running local_init_op.\n",
      "I0819 17:08:45.617636 139671745042304 session_manager.py:502] Done running local_init_op.\n",
      "I0819 17:08:45.910545 139671745042304 tpu_estimator.py:557] Init TPU system\n",
      "I0819 17:08:53.598433 139671745042304 tpu_estimator.py:566] Initialized TPU in 7 seconds\n",
      "I0819 17:08:53.600132 139670323226368 tpu_estimator.py:514] Starting infeed thread controller.\n",
      "I0819 17:08:53.600741 139670272870144 tpu_estimator.py:533] Starting outfeed thread controller.\n",
      "I0819 17:08:53.734543 139671745042304 util.py:98] Initialized dataset iterators in 0 seconds\n",
      "I0819 17:08:53.840195 139671745042304 tpu_estimator.py:590] Enqueue next (1) batch(es) of data to infeed.\n",
      "I0819 17:08:53.841499 139671745042304 tpu_estimator.py:594] Dequeue next (1) batch(es) of data from outfeed.\n",
      "I0819 17:09:03.953939 139670272870144 tpu_estimator.py:275] Outfeed finished for iteration (0, 0)\n",
      "I0819 17:09:03.956572 139671745042304 evaluation.py:167] Evaluation [1/1]\n",
      "I0819 17:09:03.957572 139671745042304 tpu_estimator.py:598] Stop infeed thread controller\n",
      "I0819 17:09:03.959920 139671745042304 tpu_estimator.py:430] Shutting down InfeedController thread.\n",
      "I0819 17:09:03.961117 139670323226368 tpu_estimator.py:425] InfeedController received shutdown signal, stopping.\n",
      "I0819 17:09:03.962232 139670323226368 tpu_estimator.py:530] Infeed thread finished, shutting down.\n",
      "I0819 17:09:03.964044 139671745042304 error_handling.py:96] infeed marked as finished\n",
      "I0819 17:09:03.965926 139671745042304 tpu_estimator.py:602] Stop output thread controller\n",
      "I0819 17:09:03.967249 139671745042304 tpu_estimator.py:430] Shutting down OutfeedController thread.\n",
      "I0819 17:09:03.969070 139670272870144 tpu_estimator.py:425] OutfeedController received shutdown signal, stopping.\n",
      "I0819 17:09:03.971054 139670272870144 tpu_estimator.py:541] Outfeed thread finished, shutting down.\n",
      "I0819 17:09:03.972006 139671745042304 error_handling.py:96] outfeed marked as finished\n",
      "I0819 17:09:03.973995 139671745042304 tpu_estimator.py:606] Shutdown TPU system.\n",
      "I0819 17:09:04.684924 139671745042304 evaluation.py:275] Finished evaluation at 2019-08-19-17:09:04\n",
      "I0819 17:09:04.686289 139671745042304 estimator.py:2039] Saving dict for global step 40000: discriminator_gen_accuracy = 0.9003906, discriminator_loss = 21.653069, discriminator_real_accuracy = 0.20800781, generator_loss = 17.578228, global_step = 40000, loss = 43.003437\n",
      "I0819 17:09:04.989822 139671745042304 estimator.py:2099] Saving 'checkpoint_path' summary for global step 40000: gs://tputestingmnist/FUNIT/FUNIT_only_gen_11/model.ckpt-40000\n",
      "I0819 17:09:05.246127 139671745042304 error_handling.py:96] evaluation_loop marked as finished\n",
      "I0819 17:09:05.430997 139671745042304 estimator.py:1145] Calling model_fn.\n",
      "I0819 17:09:05.432171 139671745042304 tpu_estimator.py:2965] Running infer on CPU\n"
     ],
     "name": "stderr"
    },
    {
     "output_type": "stream",
     "text": [
      "Finished evaluating\n",
      "{'discriminator_gen_accuracy': 0.9003906, 'discriminator_loss': 21.653069, 'discriminator_real_accuracy': 0.20800781, 'generator_loss': 17.578228, 'loss': 43.003437, 'global_step': 40000}\n",
      "(12, 1, 1, 2048)\n"
     ],
     "name": "stdout"
    },
    {
     "output_type": "stream",
     "text": [
      "I0819 17:09:06.098433 139671745042304 estimator.py:1147] Done calling model_fn.\n",
      "I0819 17:09:06.317243 139671745042304 monitored_session.py:240] Graph was finalized.\n",
      "I0819 17:09:06.392000 139671745042304 saver.py:1280] Restoring parameters from gs://tputestingmnist/FUNIT/FUNIT_only_gen_11/model.ckpt-40000\n",
      "I0819 17:09:06.803933 139671745042304 session_manager.py:500] Running local_init_op.\n",
      "I0819 17:09:06.822093 139671745042304 session_manager.py:502] Done running local_init_op.\n",
      "I0819 17:09:07.212874 139671745042304 error_handling.py:96] prediction_loop marked as finished\n",
      "I0819 17:09:07.217899 139671745042304 error_handling.py:96] prediction_loop marked as finished\n"
     ],
     "name": "stderr"
    },
    {
     "output_type": "stream",
     "text": [
      "Finished generating images\n"
     ],
     "name": "stdout"
    },
    {
     "output_type": "stream",
     "text": [
      "I0819 17:09:08.990859 139671745042304 estimator.py:1145] Calling model_fn.\n"
     ],
     "name": "stderr"
    },
    {
     "output_type": "stream",
     "text": [
      "(128, 1, 1, 2048)\n"
     ],
     "name": "stdout"
    },
    {
     "output_type": "stream",
     "text": [
      "I0819 17:09:16.958049 139671745042304 basic_session_run_hooks.py:541] Create CheckpointSaverHook.\n",
      "I0819 17:09:17.180843 139671745042304 estimator.py:1147] Done calling model_fn.\n",
      "I0819 17:09:17.182198 139671745042304 tpu_estimator.py:499] TPU job name tpu_worker\n",
      "I0819 17:09:17.941403 139671745042304 monitored_session.py:240] Graph was finalized.\n",
      "I0819 17:09:18.107650 139671745042304 saver.py:1280] Restoring parameters from gs://tputestingmnist/FUNIT/FUNIT_only_gen_11/model.ckpt-40000\n",
      "I0819 17:09:24.263321 139671745042304 session_manager.py:500] Running local_init_op.\n",
      "I0819 17:09:24.709926 139671745042304 session_manager.py:502] Done running local_init_op.\n",
      "I0819 17:09:29.745989 139671745042304 basic_session_run_hooks.py:606] Saving checkpoints for 40000 into gs://tputestingmnist/FUNIT/FUNIT_only_gen_11/model.ckpt.\n",
      "I0819 17:09:49.590817 139671745042304 util.py:98] Initialized dataset iterators in 0 seconds\n",
      "I0819 17:09:49.596021 139671745042304 session_support.py:332] Installing graceful shutdown hook.\n",
      "I0819 17:09:49.605164 139671745042304 session_support.py:82] Creating heartbeat manager for ['/job:tpu_worker/replica:0/task:0/device:CPU:0']\n",
      "I0819 17:09:49.611430 139671745042304 session_support.py:105] Configuring worker heartbeat: shutdown_mode: WAIT_FOR_COORDINATOR\n",
      "\n",
      "I0819 17:09:49.618645 139671745042304 tpu_estimator.py:557] Init TPU system\n",
      "I0819 17:09:59.874826 139671745042304 tpu_estimator.py:566] Initialized TPU in 10 seconds\n",
      "I0819 17:09:59.876752 139670272870144 tpu_estimator.py:514] Starting infeed thread controller.\n",
      "I0819 17:09:59.886938 139670264477440 tpu_estimator.py:533] Starting outfeed thread controller.\n",
      "I0819 17:10:00.338344 139671745042304 tpu_estimator.py:590] Enqueue next (1000) batch(es) of data to infeed.\n",
      "I0819 17:10:00.339709 139671745042304 tpu_estimator.py:594] Dequeue next (1000) batch(es) of data from outfeed.\n",
      "I0819 17:10:26.945006 139670264477440 tpu_estimator.py:275] Outfeed finished for iteration (0, 0)\n",
      "I0819 17:11:27.192152 139670264477440 tpu_estimator.py:275] Outfeed finished for iteration (0, 207)\n",
      "I0819 17:12:27.443830 139670264477440 tpu_estimator.py:275] Outfeed finished for iteration (0, 414)\n",
      "I0819 17:13:27.691159 139670264477440 tpu_estimator.py:275] Outfeed finished for iteration (0, 621)\n",
      "I0819 17:14:27.940005 139670264477440 tpu_estimator.py:275] Outfeed finished for iteration (0, 828)\n",
      "I0819 17:15:18.384359 139671745042304 basic_session_run_hooks.py:606] Saving checkpoints for 41000 into gs://tputestingmnist/FUNIT/FUNIT_only_gen_11/model.ckpt.\n",
      "I0819 17:15:35.142052 139671745042304 basic_session_run_hooks.py:262] loss = 16.460272, step = 41000\n",
      "I0819 17:15:36.708669 139671745042304 tpu_estimator.py:598] Stop infeed thread controller\n",
      "I0819 17:15:36.709653 139671745042304 tpu_estimator.py:430] Shutting down InfeedController thread.\n",
      "I0819 17:15:36.718784 139670272870144 tpu_estimator.py:425] InfeedController received shutdown signal, stopping.\n",
      "I0819 17:15:36.720817 139670272870144 tpu_estimator.py:530] Infeed thread finished, shutting down.\n",
      "I0819 17:15:36.721988 139671745042304 error_handling.py:96] infeed marked as finished\n",
      "I0819 17:15:36.723063 139671745042304 tpu_estimator.py:602] Stop output thread controller\n",
      "I0819 17:15:36.727113 139671745042304 tpu_estimator.py:430] Shutting down OutfeedController thread.\n",
      "I0819 17:15:36.729182 139670264477440 tpu_estimator.py:425] OutfeedController received shutdown signal, stopping.\n",
      "I0819 17:15:36.730743 139670264477440 tpu_estimator.py:541] Outfeed thread finished, shutting down.\n",
      "I0819 17:15:36.733045 139671745042304 error_handling.py:96] outfeed marked as finished\n",
      "I0819 17:15:36.734578 139671745042304 tpu_estimator.py:606] Shutdown TPU system.\n",
      "I0819 17:15:38.577138 139671745042304 estimator.py:368] Loss for final step: 16.460272.\n",
      "I0819 17:15:38.578492 139671745042304 error_handling.py:96] training_loop marked as finished\n"
     ],
     "name": "stderr"
    },
    {
     "output_type": "stream",
     "text": [
      "Finished training step 41000\n"
     ],
     "name": "stdout"
    },
    {
     "output_type": "stream",
     "text": [
      "I0819 17:15:38.807118 139671745042304 estimator.py:1145] Calling model_fn.\n"
     ],
     "name": "stderr"
    },
    {
     "output_type": "stream",
     "text": [
      "(128, 1, 1, 2048)\n"
     ],
     "name": "stdout"
    },
    {
     "output_type": "stream",
     "text": [
      "I0819 17:15:43.170078 139671745042304 estimator.py:1147] Done calling model_fn.\n",
      "I0819 17:15:43.196963 139671745042304 evaluation.py:255] Starting evaluation at 2019-08-19T17:15:43Z\n",
      "I0819 17:15:43.198150 139671745042304 tpu_estimator.py:499] TPU job name tpu_worker\n",
      "I0819 17:15:43.551892 139671745042304 monitored_session.py:240] Graph was finalized.\n",
      "I0819 17:15:43.631595 139671745042304 saver.py:1280] Restoring parameters from gs://tputestingmnist/FUNIT/FUNIT_only_gen_11/model.ckpt-41000\n",
      "I0819 17:15:47.430561 139671745042304 session_manager.py:500] Running local_init_op.\n",
      "I0819 17:15:47.566566 139671745042304 session_manager.py:502] Done running local_init_op.\n",
      "I0819 17:15:47.854083 139671745042304 tpu_estimator.py:557] Init TPU system\n",
      "I0819 17:15:55.724728 139671745042304 tpu_estimator.py:566] Initialized TPU in 7 seconds\n",
      "I0819 17:15:55.726424 139670272870144 tpu_estimator.py:514] Starting infeed thread controller.\n",
      "I0819 17:15:55.727040 139670264477440 tpu_estimator.py:533] Starting outfeed thread controller.\n",
      "I0819 17:15:55.858343 139671745042304 util.py:98] Initialized dataset iterators in 0 seconds\n",
      "I0819 17:15:55.957341 139671745042304 tpu_estimator.py:590] Enqueue next (1) batch(es) of data to infeed.\n",
      "I0819 17:15:55.958623 139671745042304 tpu_estimator.py:594] Dequeue next (1) batch(es) of data from outfeed.\n",
      "I0819 17:16:05.803574 139670264477440 tpu_estimator.py:275] Outfeed finished for iteration (0, 0)\n",
      "I0819 17:16:05.808214 139671745042304 evaluation.py:167] Evaluation [1/1]\n",
      "I0819 17:16:05.810322 139671745042304 tpu_estimator.py:598] Stop infeed thread controller\n",
      "I0819 17:16:05.811353 139671745042304 tpu_estimator.py:430] Shutting down InfeedController thread.\n",
      "I0819 17:16:05.813004 139670272870144 tpu_estimator.py:425] InfeedController received shutdown signal, stopping.\n",
      "I0819 17:16:05.816146 139670272870144 tpu_estimator.py:530] Infeed thread finished, shutting down.\n",
      "I0819 17:16:05.821994 139671745042304 error_handling.py:96] infeed marked as finished\n",
      "I0819 17:16:05.825682 139671745042304 tpu_estimator.py:602] Stop output thread controller\n",
      "I0819 17:16:05.827428 139671745042304 tpu_estimator.py:430] Shutting down OutfeedController thread.\n",
      "I0819 17:16:05.829826 139670264477440 tpu_estimator.py:425] OutfeedController received shutdown signal, stopping.\n",
      "I0819 17:16:05.831761 139670264477440 tpu_estimator.py:541] Outfeed thread finished, shutting down.\n",
      "I0819 17:16:05.833775 139671745042304 error_handling.py:96] outfeed marked as finished\n",
      "I0819 17:16:05.835990 139671745042304 tpu_estimator.py:606] Shutdown TPU system.\n",
      "I0819 17:16:06.549964 139671745042304 evaluation.py:275] Finished evaluation at 2019-08-19-17:16:06\n",
      "I0819 17:16:06.551229 139671745042304 estimator.py:2039] Saving dict for global step 41000: discriminator_gen_accuracy = 0.5107422, discriminator_loss = 10.021393, discriminator_real_accuracy = 0.45117188, generator_loss = 6.201095, global_step = 41000, loss = 15.872364\n",
      "I0819 17:16:06.925884 139671745042304 estimator.py:2099] Saving 'checkpoint_path' summary for global step 41000: gs://tputestingmnist/FUNIT/FUNIT_only_gen_11/model.ckpt-41000\n",
      "I0819 17:16:07.286779 139671745042304 error_handling.py:96] evaluation_loop marked as finished\n",
      "I0819 17:16:07.472894 139671745042304 estimator.py:1145] Calling model_fn.\n",
      "I0819 17:16:07.474418 139671745042304 tpu_estimator.py:2965] Running infer on CPU\n"
     ],
     "name": "stderr"
    },
    {
     "output_type": "stream",
     "text": [
      "Finished evaluating\n",
      "{'discriminator_gen_accuracy': 0.5107422, 'discriminator_loss': 10.021393, 'discriminator_real_accuracy': 0.45117188, 'generator_loss': 6.201095, 'loss': 15.872364, 'global_step': 41000}\n",
      "(12, 1, 1, 2048)\n"
     ],
     "name": "stdout"
    },
    {
     "output_type": "stream",
     "text": [
      "I0819 17:16:08.137524 139671745042304 estimator.py:1147] Done calling model_fn.\n",
      "I0819 17:16:08.363894 139671745042304 monitored_session.py:240] Graph was finalized.\n",
      "I0819 17:16:08.434072 139671745042304 saver.py:1280] Restoring parameters from gs://tputestingmnist/FUNIT/FUNIT_only_gen_11/model.ckpt-41000\n",
      "I0819 17:16:08.847972 139671745042304 session_manager.py:500] Running local_init_op.\n",
      "I0819 17:16:08.875151 139671745042304 session_manager.py:502] Done running local_init_op.\n",
      "I0819 17:16:09.206531 139671745042304 error_handling.py:96] prediction_loop marked as finished\n",
      "I0819 17:16:09.208753 139671745042304 error_handling.py:96] prediction_loop marked as finished\n"
     ],
     "name": "stderr"
    },
    {
     "output_type": "stream",
     "text": [
      "Finished generating images\n"
     ],
     "name": "stdout"
    },
    {
     "output_type": "stream",
     "text": [
      "I0819 17:16:10.304254 139671745042304 estimator.py:1145] Calling model_fn.\n"
     ],
     "name": "stderr"
    },
    {
     "output_type": "stream",
     "text": [
      "(128, 1, 1, 2048)\n"
     ],
     "name": "stdout"
    },
    {
     "output_type": "stream",
     "text": [
      "I0819 17:16:18.693866 139671745042304 basic_session_run_hooks.py:541] Create CheckpointSaverHook.\n",
      "I0819 17:16:18.917827 139671745042304 estimator.py:1147] Done calling model_fn.\n",
      "I0819 17:16:18.919736 139671745042304 tpu_estimator.py:499] TPU job name tpu_worker\n",
      "I0819 17:16:20.191603 139671745042304 monitored_session.py:240] Graph was finalized.\n",
      "I0819 17:16:20.376895 139671745042304 saver.py:1280] Restoring parameters from gs://tputestingmnist/FUNIT/FUNIT_only_gen_11/model.ckpt-41000\n",
      "I0819 17:16:27.674041 139671745042304 session_manager.py:500] Running local_init_op.\n",
      "I0819 17:16:28.153978 139671745042304 session_manager.py:502] Done running local_init_op.\n",
      "I0819 17:16:33.379447 139671745042304 basic_session_run_hooks.py:606] Saving checkpoints for 41000 into gs://tputestingmnist/FUNIT/FUNIT_only_gen_11/model.ckpt.\n",
      "I0819 17:16:53.595514 139671745042304 util.py:98] Initialized dataset iterators in 0 seconds\n",
      "I0819 17:16:53.597179 139671745042304 session_support.py:332] Installing graceful shutdown hook.\n",
      "I0819 17:16:53.609191 139671745042304 session_support.py:82] Creating heartbeat manager for ['/job:tpu_worker/replica:0/task:0/device:CPU:0']\n",
      "I0819 17:16:53.613384 139671745042304 session_support.py:105] Configuring worker heartbeat: shutdown_mode: WAIT_FOR_COORDINATOR\n",
      "\n",
      "I0819 17:16:53.619874 139671745042304 tpu_estimator.py:557] Init TPU system\n",
      "I0819 17:17:03.832810 139671745042304 tpu_estimator.py:566] Initialized TPU in 10 seconds\n",
      "I0819 17:17:03.835037 139670272870144 tpu_estimator.py:514] Starting infeed thread controller.\n",
      "I0819 17:17:03.836728 139670264477440 tpu_estimator.py:533] Starting outfeed thread controller.\n",
      "I0819 17:17:04.277355 139671745042304 tpu_estimator.py:590] Enqueue next (1000) batch(es) of data to infeed.\n",
      "I0819 17:17:04.279222 139671745042304 tpu_estimator.py:594] Dequeue next (1000) batch(es) of data from outfeed.\n",
      "I0819 17:17:30.047863 139670264477440 tpu_estimator.py:275] Outfeed finished for iteration (0, 0)\n",
      "I0819 17:18:30.295218 139670264477440 tpu_estimator.py:275] Outfeed finished for iteration (0, 207)\n",
      "I0819 17:19:30.542808 139670264477440 tpu_estimator.py:275] Outfeed finished for iteration (0, 414)\n",
      "I0819 17:20:30.790021 139670264477440 tpu_estimator.py:275] Outfeed finished for iteration (0, 621)\n",
      "I0819 17:21:31.038436 139670264477440 tpu_estimator.py:275] Outfeed finished for iteration (0, 828)\n",
      "I0819 17:22:21.473287 139671745042304 basic_session_run_hooks.py:606] Saving checkpoints for 42000 into gs://tputestingmnist/FUNIT/FUNIT_only_gen_11/model.ckpt.\n",
      "I0819 17:22:39.677524 139671745042304 basic_session_run_hooks.py:262] loss = 13.354427, step = 42000\n",
      "I0819 17:22:41.828141 139671745042304 tpu_estimator.py:598] Stop infeed thread controller\n",
      "I0819 17:22:41.829291 139671745042304 tpu_estimator.py:430] Shutting down InfeedController thread.\n",
      "I0819 17:22:41.838169 139670272870144 tpu_estimator.py:425] InfeedController received shutdown signal, stopping.\n",
      "I0819 17:22:41.840356 139670272870144 tpu_estimator.py:530] Infeed thread finished, shutting down.\n",
      "I0819 17:22:41.843716 139671745042304 error_handling.py:96] infeed marked as finished\n",
      "I0819 17:22:41.845363 139671745042304 tpu_estimator.py:602] Stop output thread controller\n",
      "I0819 17:22:41.848327 139671745042304 tpu_estimator.py:430] Shutting down OutfeedController thread.\n",
      "I0819 17:22:41.850153 139670264477440 tpu_estimator.py:425] OutfeedController received shutdown signal, stopping.\n",
      "I0819 17:22:41.853599 139670264477440 tpu_estimator.py:541] Outfeed thread finished, shutting down.\n",
      "I0819 17:22:41.857302 139671745042304 error_handling.py:96] outfeed marked as finished\n",
      "I0819 17:22:41.861159 139671745042304 tpu_estimator.py:606] Shutdown TPU system.\n",
      "I0819 17:22:43.741625 139671745042304 estimator.py:368] Loss for final step: 13.354427.\n",
      "I0819 17:22:43.742856 139671745042304 error_handling.py:96] training_loop marked as finished\n",
      "I0819 17:22:43.911304 139671745042304 estimator.py:1145] Calling model_fn.\n"
     ],
     "name": "stderr"
    },
    {
     "output_type": "stream",
     "text": [
      "Finished training step 42000\n",
      "(128, 1, 1, 2048)\n"
     ],
     "name": "stdout"
    },
    {
     "output_type": "stream",
     "text": [
      "I0819 17:22:47.320957 139671745042304 estimator.py:1147] Done calling model_fn.\n",
      "I0819 17:22:47.347049 139671745042304 evaluation.py:255] Starting evaluation at 2019-08-19T17:22:47Z\n",
      "I0819 17:22:47.348203 139671745042304 tpu_estimator.py:499] TPU job name tpu_worker\n",
      "I0819 17:22:48.460100 139671745042304 monitored_session.py:240] Graph was finalized.\n",
      "I0819 17:22:48.533121 139671745042304 saver.py:1280] Restoring parameters from gs://tputestingmnist/FUNIT/FUNIT_only_gen_11/model.ckpt-42000\n",
      "I0819 17:22:53.673402 139671745042304 session_manager.py:500] Running local_init_op.\n",
      "I0819 17:22:53.788938 139671745042304 session_manager.py:502] Done running local_init_op.\n",
      "I0819 17:22:54.071394 139671745042304 tpu_estimator.py:557] Init TPU system\n",
      "I0819 17:23:01.761478 139671745042304 tpu_estimator.py:566] Initialized TPU in 7 seconds\n",
      "I0819 17:23:01.763396 139670272870144 tpu_estimator.py:514] Starting infeed thread controller.\n",
      "I0819 17:23:01.768710 139670264477440 tpu_estimator.py:533] Starting outfeed thread controller.\n",
      "I0819 17:23:01.897216 139671745042304 util.py:98] Initialized dataset iterators in 0 seconds\n",
      "I0819 17:23:01.997680 139671745042304 tpu_estimator.py:590] Enqueue next (1) batch(es) of data to infeed.\n",
      "I0819 17:23:01.999162 139671745042304 tpu_estimator.py:594] Dequeue next (1) batch(es) of data from outfeed.\n",
      "I0819 17:23:12.123258 139670264477440 tpu_estimator.py:275] Outfeed finished for iteration (0, 0)\n",
      "I0819 17:23:12.125762 139671745042304 evaluation.py:167] Evaluation [1/1]\n",
      "I0819 17:23:12.127474 139671745042304 tpu_estimator.py:598] Stop infeed thread controller\n",
      "I0819 17:23:12.128603 139671745042304 tpu_estimator.py:430] Shutting down InfeedController thread.\n",
      "I0819 17:23:12.129931 139670272870144 tpu_estimator.py:425] InfeedController received shutdown signal, stopping.\n",
      "I0819 17:23:12.131151 139670272870144 tpu_estimator.py:530] Infeed thread finished, shutting down.\n",
      "I0819 17:23:12.134278 139671745042304 error_handling.py:96] infeed marked as finished\n",
      "I0819 17:23:12.141583 139671745042304 tpu_estimator.py:602] Stop output thread controller\n",
      "I0819 17:23:12.144520 139671745042304 tpu_estimator.py:430] Shutting down OutfeedController thread.\n",
      "I0819 17:23:12.145922 139670264477440 tpu_estimator.py:425] OutfeedController received shutdown signal, stopping.\n",
      "I0819 17:23:12.147881 139670264477440 tpu_estimator.py:541] Outfeed thread finished, shutting down.\n",
      "I0819 17:23:12.149646 139671745042304 error_handling.py:96] outfeed marked as finished\n",
      "I0819 17:23:12.150380 139671745042304 tpu_estimator.py:606] Shutdown TPU system.\n",
      "I0819 17:23:12.838693 139671745042304 evaluation.py:275] Finished evaluation at 2019-08-19-17:23:12\n",
      "I0819 17:23:12.840312 139671745042304 estimator.py:2039] Saving dict for global step 42000: discriminator_gen_accuracy = 0.5488281, discriminator_loss = 11.577982, discriminator_real_accuracy = 0.38183594, generator_loss = 11.589956, global_step = 42000, loss = 22.211754\n",
      "I0819 17:23:13.161781 139671745042304 estimator.py:2099] Saving 'checkpoint_path' summary for global step 42000: gs://tputestingmnist/FUNIT/FUNIT_only_gen_11/model.ckpt-42000\n",
      "I0819 17:23:13.502926 139671745042304 error_handling.py:96] evaluation_loop marked as finished\n"
     ],
     "name": "stderr"
    },
    {
     "output_type": "stream",
     "text": [
      "Finished evaluating\n",
      "{'discriminator_gen_accuracy': 0.5488281, 'discriminator_loss': 11.577982, 'discriminator_real_accuracy': 0.38183594, 'generator_loss': 11.589956, 'loss': 22.211754, 'global_step': 42000}\n"
     ],
     "name": "stdout"
    },
    {
     "output_type": "stream",
     "text": [
      "I0819 17:23:13.707336 139671745042304 estimator.py:1145] Calling model_fn.\n",
      "I0819 17:23:13.709996 139671745042304 tpu_estimator.py:2965] Running infer on CPU\n"
     ],
     "name": "stderr"
    },
    {
     "output_type": "stream",
     "text": [
      "(12, 1, 1, 2048)\n"
     ],
     "name": "stdout"
    },
    {
     "output_type": "stream",
     "text": [
      "I0819 17:23:14.396192 139671745042304 estimator.py:1147] Done calling model_fn.\n",
      "I0819 17:23:14.617727 139671745042304 monitored_session.py:240] Graph was finalized.\n",
      "I0819 17:23:14.688452 139671745042304 saver.py:1280] Restoring parameters from gs://tputestingmnist/FUNIT/FUNIT_only_gen_11/model.ckpt-42000\n",
      "I0819 17:23:15.076128 139671745042304 session_manager.py:500] Running local_init_op.\n",
      "I0819 17:23:15.104045 139671745042304 session_manager.py:502] Done running local_init_op.\n",
      "I0819 17:23:15.508708 139671745042304 error_handling.py:96] prediction_loop marked as finished\n",
      "I0819 17:23:15.510201 139671745042304 error_handling.py:96] prediction_loop marked as finished\n"
     ],
     "name": "stderr"
    },
    {
     "output_type": "stream",
     "text": [
      "Finished generating images\n"
     ],
     "name": "stdout"
    },
    {
     "output_type": "stream",
     "text": [
      "I0819 17:23:16.676210 139671745042304 estimator.py:1145] Calling model_fn.\n"
     ],
     "name": "stderr"
    },
    {
     "output_type": "stream",
     "text": [
      "(128, 1, 1, 2048)\n"
     ],
     "name": "stdout"
    },
    {
     "output_type": "stream",
     "text": [
      "I0819 17:23:25.238253 139671745042304 basic_session_run_hooks.py:541] Create CheckpointSaverHook.\n",
      "I0819 17:23:25.460431 139671745042304 estimator.py:1147] Done calling model_fn.\n",
      "I0819 17:23:25.461745 139671745042304 tpu_estimator.py:499] TPU job name tpu_worker\n",
      "I0819 17:23:26.215962 139671745042304 monitored_session.py:240] Graph was finalized.\n",
      "I0819 17:23:26.384417 139671745042304 saver.py:1280] Restoring parameters from gs://tputestingmnist/FUNIT/FUNIT_only_gen_11/model.ckpt-42000\n",
      "I0819 17:23:33.238716 139671745042304 session_manager.py:500] Running local_init_op.\n",
      "I0819 17:23:33.685155 139671745042304 session_manager.py:502] Done running local_init_op.\n",
      "I0819 17:23:38.832184 139671745042304 basic_session_run_hooks.py:606] Saving checkpoints for 42000 into gs://tputestingmnist/FUNIT/FUNIT_only_gen_11/model.ckpt.\n",
      "I0819 17:23:55.951212 139671745042304 util.py:98] Initialized dataset iterators in 0 seconds\n",
      "I0819 17:23:55.952732 139671745042304 session_support.py:332] Installing graceful shutdown hook.\n",
      "I0819 17:23:55.961487 139671745042304 session_support.py:82] Creating heartbeat manager for ['/job:tpu_worker/replica:0/task:0/device:CPU:0']\n",
      "I0819 17:23:55.968784 139671745042304 session_support.py:105] Configuring worker heartbeat: shutdown_mode: WAIT_FOR_COORDINATOR\n",
      "\n",
      "I0819 17:23:55.974665 139671745042304 tpu_estimator.py:557] Init TPU system\n",
      "I0819 17:24:06.415126 139671745042304 tpu_estimator.py:566] Initialized TPU in 10 seconds\n",
      "I0819 17:24:06.417709 139670272870144 tpu_estimator.py:514] Starting infeed thread controller.\n",
      "I0819 17:24:06.422289 139670264477440 tpu_estimator.py:533] Starting outfeed thread controller.\n",
      "I0819 17:24:06.889073 139671745042304 tpu_estimator.py:590] Enqueue next (1000) batch(es) of data to infeed.\n",
      "I0819 17:24:06.890839 139671745042304 tpu_estimator.py:594] Dequeue next (1000) batch(es) of data from outfeed.\n",
      "I0819 17:24:33.307084 139670264477440 tpu_estimator.py:275] Outfeed finished for iteration (0, 0)\n",
      "I0819 17:25:33.554284 139670264477440 tpu_estimator.py:275] Outfeed finished for iteration (0, 207)\n",
      "I0819 17:26:33.801059 139670264477440 tpu_estimator.py:275] Outfeed finished for iteration (0, 414)\n",
      "I0819 17:27:34.048344 139670264477440 tpu_estimator.py:275] Outfeed finished for iteration (0, 621)\n",
      "I0819 17:28:34.297523 139670264477440 tpu_estimator.py:275] Outfeed finished for iteration (0, 828)\n",
      "I0819 17:29:24.740334 139671745042304 basic_session_run_hooks.py:606] Saving checkpoints for 43000 into gs://tputestingmnist/FUNIT/FUNIT_only_gen_11/model.ckpt.\n",
      "I0819 17:29:41.866590 139671745042304 basic_session_run_hooks.py:262] loss = 7.1993265, step = 43000\n",
      "I0819 17:29:44.195308 139671745042304 tpu_estimator.py:598] Stop infeed thread controller\n",
      "I0819 17:29:44.196955 139671745042304 tpu_estimator.py:430] Shutting down InfeedController thread.\n",
      "I0819 17:29:44.198343 139670272870144 tpu_estimator.py:425] InfeedController received shutdown signal, stopping.\n",
      "I0819 17:29:44.201343 139670272870144 tpu_estimator.py:530] Infeed thread finished, shutting down.\n",
      "I0819 17:29:44.203304 139671745042304 error_handling.py:96] infeed marked as finished\n",
      "I0819 17:29:44.204343 139671745042304 tpu_estimator.py:602] Stop output thread controller\n",
      "I0819 17:29:44.205422 139671745042304 tpu_estimator.py:430] Shutting down OutfeedController thread.\n",
      "I0819 17:29:44.206337 139670264477440 tpu_estimator.py:425] OutfeedController received shutdown signal, stopping.\n",
      "I0819 17:29:44.207543 139670264477440 tpu_estimator.py:541] Outfeed thread finished, shutting down.\n",
      "I0819 17:29:44.209160 139671745042304 error_handling.py:96] outfeed marked as finished\n",
      "I0819 17:29:44.210419 139671745042304 tpu_estimator.py:606] Shutdown TPU system.\n",
      "I0819 17:29:46.105782 139671745042304 estimator.py:368] Loss for final step: 7.1993265.\n",
      "I0819 17:29:46.107523 139671745042304 error_handling.py:96] training_loop marked as finished\n",
      "I0819 17:29:46.286252 139671745042304 estimator.py:1145] Calling model_fn.\n"
     ],
     "name": "stderr"
    },
    {
     "output_type": "stream",
     "text": [
      "Finished training step 43000\n",
      "(128, 1, 1, 2048)\n"
     ],
     "name": "stdout"
    },
    {
     "output_type": "stream",
     "text": [
      "I0819 17:29:50.809458 139671745042304 estimator.py:1147] Done calling model_fn.\n",
      "I0819 17:29:50.837584 139671745042304 evaluation.py:255] Starting evaluation at 2019-08-19T17:29:50Z\n",
      "I0819 17:29:50.838701 139671745042304 tpu_estimator.py:499] TPU job name tpu_worker\n",
      "I0819 17:29:51.189108 139671745042304 monitored_session.py:240] Graph was finalized.\n",
      "I0819 17:29:51.257391 139671745042304 saver.py:1280] Restoring parameters from gs://tputestingmnist/FUNIT/FUNIT_only_gen_11/model.ckpt-43000\n",
      "I0819 17:29:57.450515 139671745042304 session_manager.py:500] Running local_init_op.\n",
      "I0819 17:29:57.572125 139671745042304 session_manager.py:502] Done running local_init_op.\n",
      "I0819 17:29:57.831934 139671745042304 tpu_estimator.py:557] Init TPU system\n",
      "I0819 17:30:05.566975 139671745042304 tpu_estimator.py:566] Initialized TPU in 7 seconds\n",
      "I0819 17:30:05.570736 139670272870144 tpu_estimator.py:514] Starting infeed thread controller.\n",
      "I0819 17:30:05.575266 139670264477440 tpu_estimator.py:533] Starting outfeed thread controller.\n",
      "I0819 17:30:05.709023 139671745042304 util.py:98] Initialized dataset iterators in 0 seconds\n",
      "I0819 17:30:05.813958 139671745042304 tpu_estimator.py:590] Enqueue next (1) batch(es) of data to infeed.\n",
      "I0819 17:30:05.815238 139671745042304 tpu_estimator.py:594] Dequeue next (1) batch(es) of data from outfeed.\n",
      "I0819 17:30:15.897943 139670264477440 tpu_estimator.py:275] Outfeed finished for iteration (0, 0)\n",
      "I0819 17:30:15.898498 139671745042304 evaluation.py:167] Evaluation [1/1]\n",
      "I0819 17:30:15.900696 139671745042304 tpu_estimator.py:598] Stop infeed thread controller\n",
      "I0819 17:30:15.904976 139671745042304 tpu_estimator.py:430] Shutting down InfeedController thread.\n",
      "I0819 17:30:15.906150 139670272870144 tpu_estimator.py:425] InfeedController received shutdown signal, stopping.\n",
      "I0819 17:30:15.910023 139670272870144 tpu_estimator.py:530] Infeed thread finished, shutting down.\n",
      "I0819 17:30:15.916008 139671745042304 error_handling.py:96] infeed marked as finished\n",
      "I0819 17:30:15.917171 139671745042304 tpu_estimator.py:602] Stop output thread controller\n",
      "I0819 17:30:15.918082 139671745042304 tpu_estimator.py:430] Shutting down OutfeedController thread.\n",
      "I0819 17:30:15.919032 139670264477440 tpu_estimator.py:425] OutfeedController received shutdown signal, stopping.\n",
      "I0819 17:30:15.920365 139670264477440 tpu_estimator.py:541] Outfeed thread finished, shutting down.\n",
      "I0819 17:30:15.921683 139671745042304 error_handling.py:96] outfeed marked as finished\n",
      "I0819 17:30:15.922760 139671745042304 tpu_estimator.py:606] Shutdown TPU system.\n",
      "I0819 17:30:16.587959 139671745042304 evaluation.py:275] Finished evaluation at 2019-08-19-17:30:16\n",
      "I0819 17:30:16.589265 139671745042304 estimator.py:2039] Saving dict for global step 43000: discriminator_gen_accuracy = 0.60058594, discriminator_loss = 3.4817977, discriminator_real_accuracy = 0.6201172, generator_loss = 2.6978602, global_step = 43000, loss = 5.863345\n",
      "I0819 17:30:16.879605 139671745042304 estimator.py:2099] Saving 'checkpoint_path' summary for global step 43000: gs://tputestingmnist/FUNIT/FUNIT_only_gen_11/model.ckpt-43000\n",
      "I0819 17:30:17.187479 139671745042304 error_handling.py:96] evaluation_loop marked as finished\n",
      "I0819 17:30:17.363081 139671745042304 estimator.py:1145] Calling model_fn.\n",
      "I0819 17:30:17.364789 139671745042304 tpu_estimator.py:2965] Running infer on CPU\n"
     ],
     "name": "stderr"
    },
    {
     "output_type": "stream",
     "text": [
      "Finished evaluating\n",
      "{'discriminator_gen_accuracy': 0.60058594, 'discriminator_loss': 3.4817977, 'discriminator_real_accuracy': 0.6201172, 'generator_loss': 2.6978602, 'loss': 5.863345, 'global_step': 43000}\n",
      "(12, 1, 1, 2048)\n"
     ],
     "name": "stdout"
    },
    {
     "output_type": "stream",
     "text": [
      "I0819 17:30:18.787511 139671745042304 estimator.py:1147] Done calling model_fn.\n",
      "I0819 17:30:19.004960 139671745042304 monitored_session.py:240] Graph was finalized.\n",
      "I0819 17:30:19.085040 139671745042304 saver.py:1280] Restoring parameters from gs://tputestingmnist/FUNIT/FUNIT_only_gen_11/model.ckpt-43000\n",
      "I0819 17:30:19.472448 139671745042304 session_manager.py:500] Running local_init_op.\n",
      "I0819 17:30:19.490450 139671745042304 session_manager.py:502] Done running local_init_op.\n",
      "I0819 17:30:19.860268 139671745042304 error_handling.py:96] prediction_loop marked as finished\n",
      "I0819 17:30:19.861684 139671745042304 error_handling.py:96] prediction_loop marked as finished\n"
     ],
     "name": "stderr"
    },
    {
     "output_type": "stream",
     "text": [
      "Finished generating images\n"
     ],
     "name": "stdout"
    },
    {
     "output_type": "stream",
     "text": [
      "I0819 17:30:21.071668 139671745042304 estimator.py:1145] Calling model_fn.\n"
     ],
     "name": "stderr"
    },
    {
     "output_type": "stream",
     "text": [
      "(128, 1, 1, 2048)\n"
     ],
     "name": "stdout"
    },
    {
     "output_type": "stream",
     "text": [
      "I0819 17:30:29.071053 139671745042304 basic_session_run_hooks.py:541] Create CheckpointSaverHook.\n",
      "I0819 17:30:29.294371 139671745042304 estimator.py:1147] Done calling model_fn.\n",
      "I0819 17:30:29.295722 139671745042304 tpu_estimator.py:499] TPU job name tpu_worker\n",
      "I0819 17:30:30.050852 139671745042304 monitored_session.py:240] Graph was finalized.\n",
      "I0819 17:30:30.218809 139671745042304 saver.py:1280] Restoring parameters from gs://tputestingmnist/FUNIT/FUNIT_only_gen_11/model.ckpt-43000\n",
      "I0819 17:30:37.574313 139671745042304 session_manager.py:500] Running local_init_op.\n",
      "I0819 17:30:38.065515 139671745042304 session_manager.py:502] Done running local_init_op.\n",
      "I0819 17:30:43.316197 139671745042304 basic_session_run_hooks.py:606] Saving checkpoints for 43000 into gs://tputestingmnist/FUNIT/FUNIT_only_gen_11/model.ckpt.\n",
      "I0819 17:30:59.637719 139671745042304 util.py:98] Initialized dataset iterators in 0 seconds\n",
      "I0819 17:30:59.639076 139671745042304 session_support.py:332] Installing graceful shutdown hook.\n",
      "I0819 17:30:59.645360 139671745042304 session_support.py:82] Creating heartbeat manager for ['/job:tpu_worker/replica:0/task:0/device:CPU:0']\n",
      "I0819 17:30:59.649746 139671745042304 session_support.py:105] Configuring worker heartbeat: shutdown_mode: WAIT_FOR_COORDINATOR\n",
      "\n",
      "I0819 17:30:59.656121 139671745042304 tpu_estimator.py:557] Init TPU system\n",
      "I0819 17:31:09.925266 139671745042304 tpu_estimator.py:566] Initialized TPU in 10 seconds\n",
      "I0819 17:31:09.927155 139670281262848 tpu_estimator.py:514] Starting infeed thread controller.\n",
      "I0819 17:31:09.931528 139670272870144 tpu_estimator.py:533] Starting outfeed thread controller.\n",
      "I0819 17:31:10.389003 139671745042304 tpu_estimator.py:590] Enqueue next (1000) batch(es) of data to infeed.\n",
      "I0819 17:31:10.390246 139671745042304 tpu_estimator.py:594] Dequeue next (1000) batch(es) of data from outfeed.\n",
      "I0819 17:31:36.463726 139670272870144 tpu_estimator.py:275] Outfeed finished for iteration (0, 0)\n",
      "I0819 17:32:36.710361 139670272870144 tpu_estimator.py:275] Outfeed finished for iteration (0, 207)\n",
      "I0819 17:33:36.958792 139670272870144 tpu_estimator.py:275] Outfeed finished for iteration (0, 414)\n",
      "I0819 17:34:37.207079 139670272870144 tpu_estimator.py:275] Outfeed finished for iteration (0, 621)\n",
      "I0819 17:35:37.455672 139670272870144 tpu_estimator.py:275] Outfeed finished for iteration (0, 828)\n",
      "I0819 17:36:27.896707 139671745042304 basic_session_run_hooks.py:606] Saving checkpoints for 44000 into gs://tputestingmnist/FUNIT/FUNIT_only_gen_11/model.ckpt.\n",
      "I0819 17:36:49.052719 139671745042304 basic_session_run_hooks.py:262] loss = 2.8958135, step = 44000\n",
      "I0819 17:36:51.135369 139671745042304 tpu_estimator.py:598] Stop infeed thread controller\n",
      "I0819 17:36:51.137207 139671745042304 tpu_estimator.py:430] Shutting down InfeedController thread.\n",
      "I0819 17:36:51.142446 139670281262848 tpu_estimator.py:425] InfeedController received shutdown signal, stopping.\n",
      "I0819 17:36:51.144352 139670281262848 tpu_estimator.py:530] Infeed thread finished, shutting down.\n",
      "I0819 17:36:51.146350 139671745042304 error_handling.py:96] infeed marked as finished\n",
      "I0819 17:36:51.150580 139671745042304 tpu_estimator.py:602] Stop output thread controller\n",
      "I0819 17:36:51.151669 139671745042304 tpu_estimator.py:430] Shutting down OutfeedController thread.\n",
      "I0819 17:36:51.153387 139670272870144 tpu_estimator.py:425] OutfeedController received shutdown signal, stopping.\n",
      "I0819 17:36:51.154430 139670272870144 tpu_estimator.py:541] Outfeed thread finished, shutting down.\n",
      "I0819 17:36:51.159955 139671745042304 error_handling.py:96] outfeed marked as finished\n",
      "I0819 17:36:51.161056 139671745042304 tpu_estimator.py:606] Shutdown TPU system.\n",
      "I0819 17:36:53.104674 139671745042304 estimator.py:368] Loss for final step: 2.8958135.\n",
      "I0819 17:36:53.106379 139671745042304 error_handling.py:96] training_loop marked as finished\n"
     ],
     "name": "stderr"
    },
    {
     "output_type": "stream",
     "text": [
      "Finished training step 44000\n"
     ],
     "name": "stdout"
    },
    {
     "output_type": "stream",
     "text": [
      "I0819 17:36:53.373759 139671745042304 estimator.py:1145] Calling model_fn.\n"
     ],
     "name": "stderr"
    },
    {
     "output_type": "stream",
     "text": [
      "(128, 1, 1, 2048)\n"
     ],
     "name": "stdout"
    },
    {
     "output_type": "stream",
     "text": [
      "I0819 17:36:57.840571 139671745042304 estimator.py:1147] Done calling model_fn.\n",
      "I0819 17:36:57.865829 139671745042304 evaluation.py:255] Starting evaluation at 2019-08-19T17:36:57Z\n",
      "I0819 17:36:57.866925 139671745042304 tpu_estimator.py:499] TPU job name tpu_worker\n",
      "I0819 17:36:58.209876 139671745042304 monitored_session.py:240] Graph was finalized.\n",
      "I0819 17:36:58.280145 139671745042304 saver.py:1280] Restoring parameters from gs://tputestingmnist/FUNIT/FUNIT_only_gen_11/model.ckpt-44000\n",
      "I0819 17:37:03.437579 139671745042304 session_manager.py:500] Running local_init_op.\n",
      "I0819 17:37:03.570206 139671745042304 session_manager.py:502] Done running local_init_op.\n",
      "I0819 17:37:03.827184 139671745042304 tpu_estimator.py:557] Init TPU system\n",
      "I0819 17:37:11.542033 139671745042304 tpu_estimator.py:566] Initialized TPU in 7 seconds\n",
      "I0819 17:37:11.543726 139670272870144 tpu_estimator.py:514] Starting infeed thread controller.\n",
      "I0819 17:37:11.544288 139670264477440 tpu_estimator.py:533] Starting outfeed thread controller.\n",
      "I0819 17:37:11.677677 139671745042304 util.py:98] Initialized dataset iterators in 0 seconds\n",
      "I0819 17:37:11.809858 139671745042304 tpu_estimator.py:590] Enqueue next (1) batch(es) of data to infeed.\n",
      "I0819 17:37:11.811280 139671745042304 tpu_estimator.py:594] Dequeue next (1) batch(es) of data from outfeed.\n",
      "I0819 17:37:21.672076 139670264477440 tpu_estimator.py:275] Outfeed finished for iteration (0, 0)\n",
      "I0819 17:37:21.673525 139671745042304 evaluation.py:167] Evaluation [1/1]\n",
      "I0819 17:37:21.675044 139671745042304 tpu_estimator.py:598] Stop infeed thread controller\n",
      "I0819 17:37:21.676164 139671745042304 tpu_estimator.py:430] Shutting down InfeedController thread.\n",
      "I0819 17:37:21.678738 139670272870144 tpu_estimator.py:425] InfeedController received shutdown signal, stopping.\n",
      "I0819 17:37:21.681760 139670272870144 tpu_estimator.py:530] Infeed thread finished, shutting down.\n",
      "I0819 17:37:21.685033 139671745042304 error_handling.py:96] infeed marked as finished\n",
      "I0819 17:37:21.686196 139671745042304 tpu_estimator.py:602] Stop output thread controller\n",
      "I0819 17:37:21.687510 139671745042304 tpu_estimator.py:430] Shutting down OutfeedController thread.\n",
      "I0819 17:37:21.693618 139670264477440 tpu_estimator.py:425] OutfeedController received shutdown signal, stopping.\n",
      "I0819 17:37:21.696528 139670264477440 tpu_estimator.py:541] Outfeed thread finished, shutting down.\n",
      "I0819 17:37:21.698004 139671745042304 error_handling.py:96] outfeed marked as finished\n",
      "I0819 17:37:21.699646 139671745042304 tpu_estimator.py:606] Shutdown TPU system.\n",
      "I0819 17:37:22.418885 139671745042304 evaluation.py:275] Finished evaluation at 2019-08-19-17:37:22\n",
      "I0819 17:37:22.420242 139671745042304 estimator.py:2039] Saving dict for global step 44000: discriminator_gen_accuracy = 0.81152344, discriminator_loss = 2.2672572, discriminator_real_accuracy = 0.26660156, generator_loss = 2.2571716, global_step = 44000, loss = 4.146204\n",
      "I0819 17:37:22.795502 139671745042304 estimator.py:2099] Saving 'checkpoint_path' summary for global step 44000: gs://tputestingmnist/FUNIT/FUNIT_only_gen_11/model.ckpt-44000\n",
      "I0819 17:37:23.130948 139671745042304 error_handling.py:96] evaluation_loop marked as finished\n",
      "I0819 17:37:23.307109 139671745042304 estimator.py:1145] Calling model_fn.\n",
      "I0819 17:37:23.308702 139671745042304 tpu_estimator.py:2965] Running infer on CPU\n"
     ],
     "name": "stderr"
    },
    {
     "output_type": "stream",
     "text": [
      "Finished evaluating\n",
      "{'discriminator_gen_accuracy': 0.81152344, 'discriminator_loss': 2.2672572, 'discriminator_real_accuracy': 0.26660156, 'generator_loss': 2.2571716, 'loss': 4.146204, 'global_step': 44000}\n",
      "(12, 1, 1, 2048)\n"
     ],
     "name": "stdout"
    },
    {
     "output_type": "stream",
     "text": [
      "I0819 17:37:23.960510 139671745042304 estimator.py:1147] Done calling model_fn.\n",
      "I0819 17:37:24.176115 139671745042304 monitored_session.py:240] Graph was finalized.\n",
      "I0819 17:37:24.283590 139671745042304 saver.py:1280] Restoring parameters from gs://tputestingmnist/FUNIT/FUNIT_only_gen_11/model.ckpt-44000\n",
      "I0819 17:37:24.686178 139671745042304 session_manager.py:500] Running local_init_op.\n",
      "I0819 17:37:24.708930 139671745042304 session_manager.py:502] Done running local_init_op.\n",
      "I0819 17:37:25.092315 139671745042304 error_handling.py:96] prediction_loop marked as finished\n",
      "I0819 17:37:25.094002 139671745042304 error_handling.py:96] prediction_loop marked as finished\n"
     ],
     "name": "stderr"
    },
    {
     "output_type": "stream",
     "text": [
      "Finished generating images\n"
     ],
     "name": "stdout"
    },
    {
     "output_type": "stream",
     "text": [
      "I0819 17:37:26.337226 139671745042304 estimator.py:1145] Calling model_fn.\n"
     ],
     "name": "stderr"
    },
    {
     "output_type": "stream",
     "text": [
      "(128, 1, 1, 2048)\n"
     ],
     "name": "stdout"
    },
    {
     "output_type": "stream",
     "text": [
      "I0819 17:37:34.659736 139671745042304 basic_session_run_hooks.py:541] Create CheckpointSaverHook.\n",
      "I0819 17:37:35.417965 139671745042304 estimator.py:1147] Done calling model_fn.\n",
      "I0819 17:37:35.419526 139671745042304 tpu_estimator.py:499] TPU job name tpu_worker\n",
      "I0819 17:37:36.185729 139671745042304 monitored_session.py:240] Graph was finalized.\n",
      "I0819 17:37:36.348364 139671745042304 saver.py:1280] Restoring parameters from gs://tputestingmnist/FUNIT/FUNIT_only_gen_11/model.ckpt-44000\n",
      "I0819 17:37:43.116905 139671745042304 session_manager.py:500] Running local_init_op.\n",
      "I0819 17:37:43.616982 139671745042304 session_manager.py:502] Done running local_init_op.\n",
      "I0819 17:37:48.895338 139671745042304 basic_session_run_hooks.py:606] Saving checkpoints for 44000 into gs://tputestingmnist/FUNIT/FUNIT_only_gen_11/model.ckpt.\n",
      "I0819 17:38:06.901936 139671745042304 util.py:98] Initialized dataset iterators in 0 seconds\n",
      "I0819 17:38:06.903470 139671745042304 session_support.py:332] Installing graceful shutdown hook.\n",
      "I0819 17:38:06.910331 139671745042304 session_support.py:82] Creating heartbeat manager for ['/job:tpu_worker/replica:0/task:0/device:CPU:0']\n",
      "I0819 17:38:06.914988 139671745042304 session_support.py:105] Configuring worker heartbeat: shutdown_mode: WAIT_FOR_COORDINATOR\n",
      "\n",
      "I0819 17:38:06.920316 139671745042304 tpu_estimator.py:557] Init TPU system\n",
      "I0819 17:38:17.091289 139671745042304 tpu_estimator.py:566] Initialized TPU in 10 seconds\n",
      "I0819 17:38:17.093508 139670272870144 tpu_estimator.py:514] Starting infeed thread controller.\n",
      "I0819 17:38:17.104166 139670264477440 tpu_estimator.py:533] Starting outfeed thread controller.\n",
      "I0819 17:38:17.592538 139671745042304 tpu_estimator.py:590] Enqueue next (1000) batch(es) of data to infeed.\n",
      "I0819 17:38:17.594027 139671745042304 tpu_estimator.py:594] Dequeue next (1000) batch(es) of data from outfeed.\n",
      "I0819 17:38:43.451582 139670264477440 tpu_estimator.py:275] Outfeed finished for iteration (0, 0)\n",
      "I0819 17:39:43.699145 139670264477440 tpu_estimator.py:275] Outfeed finished for iteration (0, 207)\n",
      "I0819 17:40:43.947381 139670264477440 tpu_estimator.py:275] Outfeed finished for iteration (0, 414)\n",
      "I0819 17:41:44.194643 139670264477440 tpu_estimator.py:275] Outfeed finished for iteration (0, 621)\n",
      "I0819 17:42:44.442684 139670264477440 tpu_estimator.py:275] Outfeed finished for iteration (0, 828)\n",
      "I0819 17:43:34.893515 139671745042304 basic_session_run_hooks.py:606] Saving checkpoints for 45000 into gs://tputestingmnist/FUNIT/FUNIT_only_gen_11/model.ckpt.\n",
      "I0819 17:43:56.435331 139671745042304 basic_session_run_hooks.py:262] loss = 1168.4329, step = 45000\n",
      "I0819 17:43:59.580863 139671745042304 tpu_estimator.py:598] Stop infeed thread controller\n",
      "I0819 17:43:59.582557 139671745042304 tpu_estimator.py:430] Shutting down InfeedController thread.\n",
      "I0819 17:43:59.590280 139670272870144 tpu_estimator.py:425] InfeedController received shutdown signal, stopping.\n",
      "I0819 17:43:59.591865 139670272870144 tpu_estimator.py:530] Infeed thread finished, shutting down.\n",
      "I0819 17:43:59.593293 139671745042304 error_handling.py:96] infeed marked as finished\n",
      "I0819 17:43:59.596881 139671745042304 tpu_estimator.py:602] Stop output thread controller\n",
      "I0819 17:43:59.598978 139671745042304 tpu_estimator.py:430] Shutting down OutfeedController thread.\n",
      "I0819 17:43:59.601656 139670264477440 tpu_estimator.py:425] OutfeedController received shutdown signal, stopping.\n",
      "I0819 17:43:59.602651 139670264477440 tpu_estimator.py:541] Outfeed thread finished, shutting down.\n",
      "I0819 17:43:59.604998 139671745042304 error_handling.py:96] outfeed marked as finished\n",
      "I0819 17:43:59.607843 139671745042304 tpu_estimator.py:606] Shutdown TPU system.\n",
      "I0819 17:44:01.535468 139671745042304 estimator.py:368] Loss for final step: 1168.4329.\n",
      "I0819 17:44:01.536829 139671745042304 error_handling.py:96] training_loop marked as finished\n"
     ],
     "name": "stderr"
    },
    {
     "output_type": "stream",
     "text": [
      "Finished training step 45000\n"
     ],
     "name": "stdout"
    },
    {
     "output_type": "stream",
     "text": [
      "I0819 17:44:01.787261 139671745042304 estimator.py:1145] Calling model_fn.\n"
     ],
     "name": "stderr"
    },
    {
     "output_type": "stream",
     "text": [
      "(128, 1, 1, 2048)\n"
     ],
     "name": "stdout"
    },
    {
     "output_type": "stream",
     "text": [
      "I0819 17:44:05.981472 139671745042304 estimator.py:1147] Done calling model_fn.\n",
      "I0819 17:44:06.007157 139671745042304 evaluation.py:255] Starting evaluation at 2019-08-19T17:44:06Z\n",
      "I0819 17:44:06.008400 139671745042304 tpu_estimator.py:499] TPU job name tpu_worker\n",
      "I0819 17:44:06.356293 139671745042304 monitored_session.py:240] Graph was finalized.\n",
      "I0819 17:44:06.428346 139671745042304 saver.py:1280] Restoring parameters from gs://tputestingmnist/FUNIT/FUNIT_only_gen_11/model.ckpt-45000\n",
      "I0819 17:44:11.396485 139671745042304 session_manager.py:500] Running local_init_op.\n",
      "I0819 17:44:11.518566 139671745042304 session_manager.py:502] Done running local_init_op.\n",
      "I0819 17:44:11.778016 139671745042304 tpu_estimator.py:557] Init TPU system\n",
      "I0819 17:44:19.712702 139671745042304 tpu_estimator.py:566] Initialized TPU in 7 seconds\n",
      "I0819 17:44:19.714559 139670272870144 tpu_estimator.py:514] Starting infeed thread controller.\n",
      "I0819 17:44:19.720025 139670264477440 tpu_estimator.py:533] Starting outfeed thread controller.\n",
      "I0819 17:44:19.851661 139671745042304 util.py:98] Initialized dataset iterators in 0 seconds\n",
      "I0819 17:44:19.955014 139671745042304 tpu_estimator.py:590] Enqueue next (1) batch(es) of data to infeed.\n",
      "I0819 17:44:19.956205 139671745042304 tpu_estimator.py:594] Dequeue next (1) batch(es) of data from outfeed.\n",
      "I0819 17:44:29.783093 139671745042304 evaluation.py:167] Evaluation [1/1]\n",
      "I0819 17:44:29.783437 139670264477440 tpu_estimator.py:275] Outfeed finished for iteration (0, 0)\n",
      "I0819 17:44:29.784569 139671745042304 tpu_estimator.py:598] Stop infeed thread controller\n",
      "I0819 17:44:29.786858 139671745042304 tpu_estimator.py:430] Shutting down InfeedController thread.\n",
      "I0819 17:44:29.788508 139670272870144 tpu_estimator.py:425] InfeedController received shutdown signal, stopping.\n",
      "I0819 17:44:29.790097 139670272870144 tpu_estimator.py:530] Infeed thread finished, shutting down.\n",
      "I0819 17:44:29.791805 139671745042304 error_handling.py:96] infeed marked as finished\n",
      "I0819 17:44:29.793190 139671745042304 tpu_estimator.py:602] Stop output thread controller\n",
      "I0819 17:44:29.794261 139671745042304 tpu_estimator.py:430] Shutting down OutfeedController thread.\n",
      "I0819 17:44:29.795952 139670264477440 tpu_estimator.py:425] OutfeedController received shutdown signal, stopping.\n",
      "I0819 17:44:29.797098 139670264477440 tpu_estimator.py:541] Outfeed thread finished, shutting down.\n",
      "I0819 17:44:29.798847 139671745042304 error_handling.py:96] outfeed marked as finished\n",
      "I0819 17:44:29.799804 139671745042304 tpu_estimator.py:606] Shutdown TPU system.\n",
      "I0819 17:44:30.470047 139671745042304 evaluation.py:275] Finished evaluation at 2019-08-19-17:44:30\n",
      "I0819 17:44:30.471424 139671745042304 estimator.py:2039] Saving dict for global step 45000: discriminator_gen_accuracy = 0.52734375, discriminator_loss = 483.93716, discriminator_real_accuracy = 0.4189453, generator_loss = 328.28714, global_step = 45000, loss = 829.5089\n",
      "I0819 17:44:30.757870 139671745042304 estimator.py:2099] Saving 'checkpoint_path' summary for global step 45000: gs://tputestingmnist/FUNIT/FUNIT_only_gen_11/model.ckpt-45000\n",
      "I0819 17:44:31.143950 139671745042304 error_handling.py:96] evaluation_loop marked as finished\n",
      "I0819 17:44:31.312839 139671745042304 estimator.py:1145] Calling model_fn.\n",
      "I0819 17:44:31.314527 139671745042304 tpu_estimator.py:2965] Running infer on CPU\n"
     ],
     "name": "stderr"
    },
    {
     "output_type": "stream",
     "text": [
      "Finished evaluating\n",
      "{'discriminator_gen_accuracy': 0.52734375, 'discriminator_loss': 483.93716, 'discriminator_real_accuracy': 0.4189453, 'generator_loss': 328.28714, 'loss': 829.5089, 'global_step': 45000}\n",
      "(12, 1, 1, 2048)\n"
     ],
     "name": "stdout"
    },
    {
     "output_type": "stream",
     "text": [
      "I0819 17:44:31.962138 139671745042304 estimator.py:1147] Done calling model_fn.\n",
      "I0819 17:44:32.169930 139671745042304 monitored_session.py:240] Graph was finalized.\n",
      "I0819 17:44:32.248317 139671745042304 saver.py:1280] Restoring parameters from gs://tputestingmnist/FUNIT/FUNIT_only_gen_11/model.ckpt-45000\n",
      "I0819 17:44:32.651648 139671745042304 session_manager.py:500] Running local_init_op.\n",
      "I0819 17:44:32.671379 139671745042304 session_manager.py:502] Done running local_init_op.\n",
      "I0819 17:44:33.036384 139671745042304 error_handling.py:96] prediction_loop marked as finished\n",
      "I0819 17:44:33.037891 139671745042304 error_handling.py:96] prediction_loop marked as finished\n"
     ],
     "name": "stderr"
    },
    {
     "output_type": "stream",
     "text": [
      "Finished generating images\n"
     ],
     "name": "stdout"
    },
    {
     "output_type": "stream",
     "text": [
      "I0819 17:44:34.068270 139671745042304 estimator.py:1145] Calling model_fn.\n"
     ],
     "name": "stderr"
    },
    {
     "output_type": "stream",
     "text": [
      "(128, 1, 1, 2048)\n"
     ],
     "name": "stdout"
    },
    {
     "output_type": "stream",
     "text": [
      "I0819 17:44:42.626773 139671745042304 basic_session_run_hooks.py:541] Create CheckpointSaverHook.\n",
      "I0819 17:44:42.853782 139671745042304 estimator.py:1147] Done calling model_fn.\n",
      "I0819 17:44:42.855147 139671745042304 tpu_estimator.py:499] TPU job name tpu_worker\n",
      "I0819 17:44:43.616821 139671745042304 monitored_session.py:240] Graph was finalized.\n",
      "I0819 17:44:43.876807 139671745042304 saver.py:1280] Restoring parameters from gs://tputestingmnist/FUNIT/FUNIT_only_gen_11/model.ckpt-45000\n",
      "I0819 17:44:50.288628 139671745042304 session_manager.py:500] Running local_init_op.\n",
      "I0819 17:44:50.734501 139671745042304 session_manager.py:502] Done running local_init_op.\n",
      "I0819 17:44:55.956459 139671745042304 basic_session_run_hooks.py:606] Saving checkpoints for 45000 into gs://tputestingmnist/FUNIT/FUNIT_only_gen_11/model.ckpt.\n",
      "I0819 17:45:16.285190 139671745042304 util.py:98] Initialized dataset iterators in 0 seconds\n",
      "I0819 17:45:16.286650 139671745042304 session_support.py:332] Installing graceful shutdown hook.\n",
      "I0819 17:45:16.293438 139671745042304 session_support.py:82] Creating heartbeat manager for ['/job:tpu_worker/replica:0/task:0/device:CPU:0']\n",
      "I0819 17:45:16.304436 139671745042304 session_support.py:105] Configuring worker heartbeat: shutdown_mode: WAIT_FOR_COORDINATOR\n",
      "\n",
      "I0819 17:45:16.310580 139671745042304 tpu_estimator.py:557] Init TPU system\n",
      "I0819 17:45:26.732861 139671745042304 tpu_estimator.py:566] Initialized TPU in 10 seconds\n",
      "I0819 17:45:26.734647 139670272870144 tpu_estimator.py:514] Starting infeed thread controller.\n",
      "I0819 17:45:26.735274 139670264477440 tpu_estimator.py:533] Starting outfeed thread controller.\n",
      "I0819 17:45:27.180681 139671745042304 tpu_estimator.py:590] Enqueue next (1000) batch(es) of data to infeed.\n",
      "I0819 17:45:27.181968 139671745042304 tpu_estimator.py:594] Dequeue next (1000) batch(es) of data from outfeed.\n",
      "I0819 17:45:53.129110 139670264477440 tpu_estimator.py:275] Outfeed finished for iteration (0, 0)\n",
      "I0819 17:46:53.377282 139670264477440 tpu_estimator.py:275] Outfeed finished for iteration (0, 207)\n",
      "I0819 17:47:53.626826 139670264477440 tpu_estimator.py:275] Outfeed finished for iteration (0, 414)\n",
      "I0819 17:48:53.875321 139670264477440 tpu_estimator.py:275] Outfeed finished for iteration (0, 621)\n",
      "I0819 17:49:54.124273 139670264477440 tpu_estimator.py:275] Outfeed finished for iteration (0, 828)\n",
      "I0819 17:50:44.569955 139671745042304 basic_session_run_hooks.py:606] Saving checkpoints for 46000 into gs://tputestingmnist/FUNIT/FUNIT_only_gen_11/model.ckpt.\n",
      "I0819 17:51:06.500670 139671745042304 basic_session_run_hooks.py:262] loss = 24.495262, step = 46000\n",
      "I0819 17:51:09.063117 139671745042304 tpu_estimator.py:598] Stop infeed thread controller\n",
      "I0819 17:51:09.064300 139671745042304 tpu_estimator.py:430] Shutting down InfeedController thread.\n",
      "I0819 17:51:09.065453 139670272870144 tpu_estimator.py:425] InfeedController received shutdown signal, stopping.\n",
      "I0819 17:51:09.066438 139670272870144 tpu_estimator.py:530] Infeed thread finished, shutting down.\n",
      "I0819 17:51:09.073676 139671745042304 error_handling.py:96] infeed marked as finished\n",
      "I0819 17:51:09.076359 139671745042304 tpu_estimator.py:602] Stop output thread controller\n",
      "I0819 17:51:09.086390 139671745042304 tpu_estimator.py:430] Shutting down OutfeedController thread.\n",
      "I0819 17:51:09.087334 139670264477440 tpu_estimator.py:425] OutfeedController received shutdown signal, stopping.\n",
      "I0819 17:51:09.088987 139670264477440 tpu_estimator.py:541] Outfeed thread finished, shutting down.\n",
      "I0819 17:51:09.091166 139671745042304 error_handling.py:96] outfeed marked as finished\n",
      "I0819 17:51:09.093178 139671745042304 tpu_estimator.py:606] Shutdown TPU system.\n",
      "I0819 17:51:11.186426 139671745042304 estimator.py:368] Loss for final step: 24.495262.\n",
      "I0819 17:51:11.187778 139671745042304 error_handling.py:96] training_loop marked as finished\n",
      "I0819 17:51:11.389217 139671745042304 estimator.py:1145] Calling model_fn.\n"
     ],
     "name": "stderr"
    },
    {
     "output_type": "stream",
     "text": [
      "Finished training step 46000\n",
      "(128, 1, 1, 2048)\n"
     ],
     "name": "stdout"
    },
    {
     "output_type": "stream",
     "text": [
      "I0819 17:51:15.552091 139671745042304 estimator.py:1147] Done calling model_fn.\n",
      "I0819 17:51:15.578221 139671745042304 evaluation.py:255] Starting evaluation at 2019-08-19T17:51:15Z\n",
      "I0819 17:51:15.579473 139671745042304 tpu_estimator.py:499] TPU job name tpu_worker\n",
      "I0819 17:51:15.920153 139671745042304 monitored_session.py:240] Graph was finalized.\n",
      "I0819 17:51:16.001543 139671745042304 saver.py:1280] Restoring parameters from gs://tputestingmnist/FUNIT/FUNIT_only_gen_11/model.ckpt-46000\n",
      "I0819 17:51:20.740139 139671745042304 session_manager.py:500] Running local_init_op.\n",
      "I0819 17:51:20.854745 139671745042304 session_manager.py:502] Done running local_init_op.\n",
      "I0819 17:51:21.151206 139671745042304 tpu_estimator.py:557] Init TPU system\n",
      "I0819 17:51:28.892107 139671745042304 tpu_estimator.py:566] Initialized TPU in 7 seconds\n",
      "I0819 17:51:28.898304 139670281262848 tpu_estimator.py:514] Starting infeed thread controller.\n",
      "I0819 17:51:28.899966 139670272870144 tpu_estimator.py:533] Starting outfeed thread controller.\n",
      "I0819 17:51:29.033723 139671745042304 util.py:98] Initialized dataset iterators in 0 seconds\n",
      "I0819 17:51:29.161084 139671745042304 tpu_estimator.py:590] Enqueue next (1) batch(es) of data to infeed.\n",
      "I0819 17:51:29.162401 139671745042304 tpu_estimator.py:594] Dequeue next (1) batch(es) of data from outfeed.\n",
      "I0819 17:51:39.154737 139670272870144 tpu_estimator.py:275] Outfeed finished for iteration (0, 0)\n",
      "I0819 17:51:39.156308 139671745042304 evaluation.py:167] Evaluation [1/1]\n",
      "I0819 17:51:39.157632 139671745042304 tpu_estimator.py:598] Stop infeed thread controller\n",
      "I0819 17:51:39.158699 139671745042304 tpu_estimator.py:430] Shutting down InfeedController thread.\n",
      "I0819 17:51:39.159861 139670281262848 tpu_estimator.py:425] InfeedController received shutdown signal, stopping.\n",
      "I0819 17:51:39.160903 139670281262848 tpu_estimator.py:530] Infeed thread finished, shutting down.\n",
      "I0819 17:51:39.162256 139671745042304 error_handling.py:96] infeed marked as finished\n",
      "I0819 17:51:39.165084 139671745042304 tpu_estimator.py:602] Stop output thread controller\n",
      "I0819 17:51:39.166730 139671745042304 tpu_estimator.py:430] Shutting down OutfeedController thread.\n",
      "I0819 17:51:39.169306 139670272870144 tpu_estimator.py:425] OutfeedController received shutdown signal, stopping.\n",
      "I0819 17:51:39.170686 139670272870144 tpu_estimator.py:541] Outfeed thread finished, shutting down.\n",
      "I0819 17:51:39.173479 139671745042304 error_handling.py:96] outfeed marked as finished\n",
      "I0819 17:51:39.174659 139671745042304 tpu_estimator.py:606] Shutdown TPU system.\n",
      "I0819 17:51:39.851713 139671745042304 evaluation.py:275] Finished evaluation at 2019-08-19-17:51:39\n",
      "I0819 17:51:39.853032 139671745042304 estimator.py:2039] Saving dict for global step 46000: discriminator_gen_accuracy = 0.7890625, discriminator_loss = 8.34083, discriminator_real_accuracy = 0.7675781, generator_loss = 15.706114, global_step = 46000, loss = 23.709732\n",
      "I0819 17:51:40.113835 139671745042304 estimator.py:2099] Saving 'checkpoint_path' summary for global step 46000: gs://tputestingmnist/FUNIT/FUNIT_only_gen_11/model.ckpt-46000\n",
      "I0819 17:51:40.513781 139671745042304 error_handling.py:96] evaluation_loop marked as finished\n",
      "I0819 17:51:40.691237 139671745042304 estimator.py:1145] Calling model_fn.\n",
      "I0819 17:51:40.692368 139671745042304 tpu_estimator.py:2965] Running infer on CPU\n"
     ],
     "name": "stderr"
    },
    {
     "output_type": "stream",
     "text": [
      "Finished evaluating\n",
      "{'discriminator_gen_accuracy': 0.7890625, 'discriminator_loss': 8.34083, 'discriminator_real_accuracy': 0.7675781, 'generator_loss': 15.706114, 'loss': 23.709732, 'global_step': 46000}\n",
      "(12, 1, 1, 2048)\n"
     ],
     "name": "stdout"
    },
    {
     "output_type": "stream",
     "text": [
      "I0819 17:51:41.948167 139671745042304 estimator.py:1147] Done calling model_fn.\n",
      "I0819 17:51:42.163778 139671745042304 monitored_session.py:240] Graph was finalized.\n",
      "I0819 17:51:42.231081 139671745042304 saver.py:1280] Restoring parameters from gs://tputestingmnist/FUNIT/FUNIT_only_gen_11/model.ckpt-46000\n",
      "I0819 17:51:42.612500 139671745042304 session_manager.py:500] Running local_init_op.\n",
      "I0819 17:51:42.631461 139671745042304 session_manager.py:502] Done running local_init_op.\n",
      "I0819 17:51:42.978545 139671745042304 error_handling.py:96] prediction_loop marked as finished\n",
      "I0819 17:51:42.979912 139671745042304 error_handling.py:96] prediction_loop marked as finished\n"
     ],
     "name": "stderr"
    },
    {
     "output_type": "stream",
     "text": [
      "Finished generating images\n"
     ],
     "name": "stdout"
    },
    {
     "output_type": "stream",
     "text": [
      "I0819 17:51:44.093520 139671745042304 estimator.py:1145] Calling model_fn.\n"
     ],
     "name": "stderr"
    },
    {
     "output_type": "stream",
     "text": [
      "(128, 1, 1, 2048)\n"
     ],
     "name": "stdout"
    },
    {
     "output_type": "stream",
     "text": [
      "I0819 17:51:52.271197 139671745042304 basic_session_run_hooks.py:541] Create CheckpointSaverHook.\n",
      "I0819 17:51:52.497646 139671745042304 estimator.py:1147] Done calling model_fn.\n",
      "I0819 17:51:52.499041 139671745042304 tpu_estimator.py:499] TPU job name tpu_worker\n",
      "I0819 17:51:53.259476 139671745042304 monitored_session.py:240] Graph was finalized.\n",
      "I0819 17:51:53.399475 139671745042304 saver.py:1280] Restoring parameters from gs://tputestingmnist/FUNIT/FUNIT_only_gen_11/model.ckpt-46000\n",
      "I0819 17:52:00.730435 139671745042304 session_manager.py:500] Running local_init_op.\n",
      "I0819 17:52:01.163588 139671745042304 session_manager.py:502] Done running local_init_op.\n",
      "I0819 17:52:06.180938 139671745042304 basic_session_run_hooks.py:606] Saving checkpoints for 46000 into gs://tputestingmnist/FUNIT/FUNIT_only_gen_11/model.ckpt.\n",
      "I0819 17:52:24.450242 139671745042304 util.py:98] Initialized dataset iterators in 0 seconds\n",
      "I0819 17:52:24.451820 139671745042304 session_support.py:332] Installing graceful shutdown hook.\n",
      "I0819 17:52:24.463778 139671745042304 session_support.py:82] Creating heartbeat manager for ['/job:tpu_worker/replica:0/task:0/device:CPU:0']\n",
      "I0819 17:52:24.467983 139671745042304 session_support.py:105] Configuring worker heartbeat: shutdown_mode: WAIT_FOR_COORDINATOR\n",
      "\n",
      "I0819 17:52:24.473579 139671745042304 tpu_estimator.py:557] Init TPU system\n",
      "I0819 17:52:34.790046 139671745042304 tpu_estimator.py:566] Initialized TPU in 10 seconds\n",
      "I0819 17:52:34.792021 139670272870144 tpu_estimator.py:514] Starting infeed thread controller.\n",
      "I0819 17:52:34.794046 139670264477440 tpu_estimator.py:533] Starting outfeed thread controller.\n",
      "I0819 17:52:35.233108 139671745042304 tpu_estimator.py:590] Enqueue next (1000) batch(es) of data to infeed.\n",
      "I0819 17:52:35.234512 139671745042304 tpu_estimator.py:594] Dequeue next (1000) batch(es) of data from outfeed.\n",
      "I0819 17:53:00.853125 139670264477440 tpu_estimator.py:275] Outfeed finished for iteration (0, 0)\n",
      "I0819 17:54:01.100354 139670264477440 tpu_estimator.py:275] Outfeed finished for iteration (0, 207)\n",
      "I0819 17:55:01.347269 139670264477440 tpu_estimator.py:275] Outfeed finished for iteration (0, 414)\n",
      "I0819 17:56:01.595660 139670264477440 tpu_estimator.py:275] Outfeed finished for iteration (0, 621)\n",
      "I0819 17:57:01.843024 139670264477440 tpu_estimator.py:275] Outfeed finished for iteration (0, 828)\n",
      "I0819 17:57:52.286517 139671745042304 basic_session_run_hooks.py:606] Saving checkpoints for 47000 into gs://tputestingmnist/FUNIT/FUNIT_only_gen_11/model.ckpt.\n",
      "I0819 17:58:13.536932 139671745042304 basic_session_run_hooks.py:262] loss = 21.225203, step = 47000\n",
      "I0819 17:58:15.475730 139671745042304 tpu_estimator.py:598] Stop infeed thread controller\n",
      "I0819 17:58:15.476934 139671745042304 tpu_estimator.py:430] Shutting down InfeedController thread.\n",
      "I0819 17:58:15.482075 139670272870144 tpu_estimator.py:425] InfeedController received shutdown signal, stopping.\n",
      "I0819 17:58:15.484769 139670272870144 tpu_estimator.py:530] Infeed thread finished, shutting down.\n",
      "I0819 17:58:15.486029 139671745042304 error_handling.py:96] infeed marked as finished\n",
      "I0819 17:58:15.491015 139671745042304 tpu_estimator.py:602] Stop output thread controller\n",
      "I0819 17:58:15.492861 139671745042304 tpu_estimator.py:430] Shutting down OutfeedController thread.\n",
      "I0819 17:58:15.495100 139670264477440 tpu_estimator.py:425] OutfeedController received shutdown signal, stopping.\n",
      "I0819 17:58:15.496831 139670264477440 tpu_estimator.py:541] Outfeed thread finished, shutting down.\n",
      "I0819 17:58:15.498552 139671745042304 error_handling.py:96] outfeed marked as finished\n",
      "I0819 17:58:15.499785 139671745042304 tpu_estimator.py:606] Shutdown TPU system.\n",
      "I0819 17:58:17.437980 139671745042304 estimator.py:368] Loss for final step: 21.225203.\n",
      "I0819 17:58:17.439350 139671745042304 error_handling.py:96] training_loop marked as finished\n",
      "I0819 17:58:17.636879 139671745042304 estimator.py:1145] Calling model_fn.\n"
     ],
     "name": "stderr"
    },
    {
     "output_type": "stream",
     "text": [
      "Finished training step 47000\n",
      "(128, 1, 1, 2048)\n"
     ],
     "name": "stdout"
    },
    {
     "output_type": "stream",
     "text": [
      "I0819 17:58:21.788252 139671745042304 estimator.py:1147] Done calling model_fn.\n",
      "I0819 17:58:21.815328 139671745042304 evaluation.py:255] Starting evaluation at 2019-08-19T17:58:21Z\n",
      "I0819 17:58:21.816402 139671745042304 tpu_estimator.py:499] TPU job name tpu_worker\n",
      "I0819 17:58:22.165692 139671745042304 monitored_session.py:240] Graph was finalized.\n",
      "I0819 17:58:22.250705 139671745042304 saver.py:1280] Restoring parameters from gs://tputestingmnist/FUNIT/FUNIT_only_gen_11/model.ckpt-47000\n",
      "I0819 17:58:26.951910 139671745042304 session_manager.py:500] Running local_init_op.\n",
      "I0819 17:58:27.064509 139671745042304 session_manager.py:502] Done running local_init_op.\n",
      "I0819 17:58:27.321822 139671745042304 tpu_estimator.py:557] Init TPU system\n",
      "I0819 17:58:35.238961 139671745042304 tpu_estimator.py:566] Initialized TPU in 7 seconds\n",
      "I0819 17:58:35.240842 139670272870144 tpu_estimator.py:514] Starting infeed thread controller.\n",
      "I0819 17:58:35.241501 139670264477440 tpu_estimator.py:533] Starting outfeed thread controller.\n",
      "I0819 17:58:35.376653 139671745042304 util.py:98] Initialized dataset iterators in 0 seconds\n",
      "I0819 17:58:35.488020 139671745042304 tpu_estimator.py:590] Enqueue next (1) batch(es) of data to infeed.\n",
      "I0819 17:58:35.489269 139671745042304 tpu_estimator.py:594] Dequeue next (1) batch(es) of data from outfeed.\n",
      "I0819 17:58:45.564015 139670264477440 tpu_estimator.py:275] Outfeed finished for iteration (0, 0)\n",
      "I0819 17:58:45.565339 139671745042304 evaluation.py:167] Evaluation [1/1]\n",
      "I0819 17:58:45.566674 139671745042304 tpu_estimator.py:598] Stop infeed thread controller\n",
      "I0819 17:58:45.567510 139671745042304 tpu_estimator.py:430] Shutting down InfeedController thread.\n",
      "I0819 17:58:45.570743 139670272870144 tpu_estimator.py:425] InfeedController received shutdown signal, stopping.\n",
      "I0819 17:58:45.572172 139670272870144 tpu_estimator.py:530] Infeed thread finished, shutting down.\n",
      "I0819 17:58:45.575032 139671745042304 error_handling.py:96] infeed marked as finished\n",
      "I0819 17:58:45.577648 139671745042304 tpu_estimator.py:602] Stop output thread controller\n",
      "I0819 17:58:45.578971 139671745042304 tpu_estimator.py:430] Shutting down OutfeedController thread.\n",
      "I0819 17:58:45.581063 139670264477440 tpu_estimator.py:425] OutfeedController received shutdown signal, stopping.\n",
      "I0819 17:58:45.582073 139670264477440 tpu_estimator.py:541] Outfeed thread finished, shutting down.\n",
      "I0819 17:58:45.583486 139671745042304 error_handling.py:96] outfeed marked as finished\n",
      "I0819 17:58:45.585428 139671745042304 tpu_estimator.py:606] Shutdown TPU system.\n",
      "I0819 17:58:46.262869 139671745042304 evaluation.py:275] Finished evaluation at 2019-08-19-17:58:46\n",
      "I0819 17:58:46.264060 139671745042304 estimator.py:2039] Saving dict for global step 47000: discriminator_gen_accuracy = 1.0, discriminator_loss = 2.0670538, discriminator_real_accuracy = 0.8847656, generator_loss = 18.367855, global_step = 47000, loss = 19.714357\n",
      "I0819 17:58:46.525457 139671745042304 estimator.py:2099] Saving 'checkpoint_path' summary for global step 47000: gs://tputestingmnist/FUNIT/FUNIT_only_gen_11/model.ckpt-47000\n",
      "I0819 17:58:46.815920 139671745042304 error_handling.py:96] evaluation_loop marked as finished\n",
      "I0819 17:58:47.007172 139671745042304 estimator.py:1145] Calling model_fn.\n",
      "I0819 17:58:47.008396 139671745042304 tpu_estimator.py:2965] Running infer on CPU\n"
     ],
     "name": "stderr"
    },
    {
     "output_type": "stream",
     "text": [
      "Finished evaluating\n",
      "{'discriminator_gen_accuracy': 1.0, 'discriminator_loss': 2.0670538, 'discriminator_real_accuracy': 0.8847656, 'generator_loss': 18.367855, 'loss': 19.714357, 'global_step': 47000}\n",
      "(12, 1, 1, 2048)\n"
     ],
     "name": "stdout"
    },
    {
     "output_type": "stream",
     "text": [
      "I0819 17:58:47.679443 139671745042304 estimator.py:1147] Done calling model_fn.\n",
      "I0819 17:58:47.892158 139671745042304 monitored_session.py:240] Graph was finalized.\n",
      "I0819 17:58:47.939489 139671745042304 saver.py:1280] Restoring parameters from gs://tputestingmnist/FUNIT/FUNIT_only_gen_11/model.ckpt-47000\n",
      "I0819 17:58:48.340764 139671745042304 session_manager.py:500] Running local_init_op.\n",
      "I0819 17:58:48.362183 139671745042304 session_manager.py:502] Done running local_init_op.\n",
      "I0819 17:58:48.734695 139671745042304 error_handling.py:96] prediction_loop marked as finished\n",
      "I0819 17:58:48.736178 139671745042304 error_handling.py:96] prediction_loop marked as finished\n"
     ],
     "name": "stderr"
    },
    {
     "output_type": "stream",
     "text": [
      "Finished generating images\n"
     ],
     "name": "stdout"
    },
    {
     "output_type": "stream",
     "text": [
      "I0819 17:58:50.018962 139671745042304 estimator.py:1145] Calling model_fn.\n"
     ],
     "name": "stderr"
    },
    {
     "output_type": "stream",
     "text": [
      "(128, 1, 1, 2048)\n"
     ],
     "name": "stdout"
    },
    {
     "output_type": "stream",
     "text": [
      "I0819 17:58:58.221470 139671745042304 basic_session_run_hooks.py:541] Create CheckpointSaverHook.\n",
      "I0819 17:58:58.443117 139671745042304 estimator.py:1147] Done calling model_fn.\n",
      "I0819 17:58:58.444517 139671745042304 tpu_estimator.py:499] TPU job name tpu_worker\n",
      "I0819 17:58:59.200584 139671745042304 monitored_session.py:240] Graph was finalized.\n",
      "I0819 17:58:59.365032 139671745042304 saver.py:1280] Restoring parameters from gs://tputestingmnist/FUNIT/FUNIT_only_gen_11/model.ckpt-47000\n",
      "I0819 17:59:05.534416 139671745042304 session_manager.py:500] Running local_init_op.\n",
      "I0819 17:59:05.988817 139671745042304 session_manager.py:502] Done running local_init_op.\n",
      "I0819 17:59:11.879301 139671745042304 basic_session_run_hooks.py:606] Saving checkpoints for 47000 into gs://tputestingmnist/FUNIT/FUNIT_only_gen_11/model.ckpt.\n",
      "I0819 17:59:33.242277 139671745042304 util.py:98] Initialized dataset iterators in 0 seconds\n",
      "I0819 17:59:33.243590 139671745042304 session_support.py:332] Installing graceful shutdown hook.\n",
      "I0819 17:59:33.250056 139671745042304 session_support.py:82] Creating heartbeat manager for ['/job:tpu_worker/replica:0/task:0/device:CPU:0']\n",
      "I0819 17:59:33.255891 139671745042304 session_support.py:105] Configuring worker heartbeat: shutdown_mode: WAIT_FOR_COORDINATOR\n",
      "\n",
      "I0819 17:59:33.261451 139671745042304 tpu_estimator.py:557] Init TPU system\n",
      "I0819 17:59:44.379473 139671745042304 tpu_estimator.py:566] Initialized TPU in 11 seconds\n",
      "I0819 17:59:44.381445 139670306969344 tpu_estimator.py:514] Starting infeed thread controller.\n",
      "I0819 17:59:44.382941 139670272870144 tpu_estimator.py:533] Starting outfeed thread controller.\n",
      "I0819 17:59:44.853818 139671745042304 tpu_estimator.py:590] Enqueue next (1000) batch(es) of data to infeed.\n",
      "I0819 17:59:44.855102 139671745042304 tpu_estimator.py:594] Dequeue next (1000) batch(es) of data from outfeed.\n",
      "I0819 18:00:11.061120 139670272870144 tpu_estimator.py:275] Outfeed finished for iteration (0, 0)\n",
      "I0819 18:01:11.307087 139670272870144 tpu_estimator.py:275] Outfeed finished for iteration (0, 207)\n",
      "I0819 18:02:11.554747 139670272870144 tpu_estimator.py:275] Outfeed finished for iteration (0, 414)\n"
     ],
     "name": "stderr"
    }
   ]
  }
 ]
}